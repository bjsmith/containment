{
 "cells": [
  {
   "cell_type": "markdown",
   "metadata": {},
   "source": [
    "## Where to get the sources\n",
    "\n",
    "the effective forecasting data is downloaded from the EF git repo. I'll need to work out how to pull that in.\n",
    "\n",
    "The ACAPS dataset is downloaded from their website. Download the latest excel file from here: https://data.humdata.org/dataset/acaps-covid19-government-measures-dataset . Open it in Google Sheets, and then save the \"Database\" tab as a CSV. Point to it."
   ]
  },
  {
   "cell_type": "code",
   "execution_count": null,
   "metadata": {
    "collapsed": true
   },
   "outputs": [],
   "source": []
  }
 ],
 "metadata": {
  "kernelspec": {
   "display_name": "Python 3",
   "language": "python",
   "name": "python3"
  },
  "language_info": {
   "codemirror_mode": {
    "name": "ipython",
    "version": 3
   },
   "file_extension": ".py",
   "mimetype": "text/x-python",
   "name": "python",
   "nbconvert_exporter": "python",
   "pygments_lexer": "ipython3",
   "version": "3.6.8"
  }
 },
 "nbformat": 4,
 "nbformat_minor": 2
}
