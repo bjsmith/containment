{
 "cells": [
  {
   "cell_type": "code",
   "execution_count": 18,
   "metadata": {},
   "outputs": [],
   "source": [
    "import numpy as np\n",
    "import pandas as pd\n",
    "\n",
    "DATE = '2020_04_03'"
   ]
  },
  {
   "cell_type": "code",
   "execution_count": 19,
   "metadata": {},
   "outputs": [],
   "source": [
    "data = pd.read_csv(f'countermeasures_features_{DATE}.csv').drop(columns='Unnamed: 0').fillna(0)\n"
   ]
  },
  {
   "cell_type": "code",
   "execution_count": 5,
   "metadata": {},
   "outputs": [],
   "source": [
    "\n",
    "\n",
    "\n",
    "\n",
    "REPORTCOLS = {'Widespread mask usage (over 75%)':('Mask wearing',lambda x: x>=75),\n",
    "              'Confirmed case isolation':('Symptomatic isolation - targeted',lambda x: x>=1),\n",
    "              'Contact isolation':('Asymptomatic isolation - targeted',lambda x: x>=1),\n",
    "              'Gatherings limited to 10 or less':('Gatherings banned',lambda x: (x>1) and (x<=10)),\n",
    "              'Gatherings limited to 100':('Gatherings banned',lambda x: (x>10) and (x<=100)),\n",
    "              'Gatherings limited to 500':('Gatherings banned',lambda x: (x>100) and (x<=500)),\n",
    "              'Some businesses suspended':('Activity cancellation',lambda x:(x>=1) and (x<=2)),\n",
    "              'Many businesses suspended':('Nonessential business suspension',lambda x: x>=1),\n",
    "              'Schools and universities closed':('School closure',lambda x: x>=1),\n",
    "              'Social distancing advised':('Public interaction reduction',lambda x: (x>=1) and (x<3)),\n",
    "              'Staying home advised':('Public interaction reduction',lambda x: x>=3),\n",
    "              '1 - 10 000 tests':('Testing',lambda x: (x>=1) and (x<=10000)),\n",
    "              '10 000 - 100 000 tests':('Testing',lambda x: (x>10000) and (x<=1e5)),\n",
    "              '100 000+ tests':('Testing',lambda x: x>1e5),\n",
    "              'General curfew':('Asymptomatic isolation - blanket',lambda x: (x>=1) and (x<2)),\n",
    "              'General strict isolation':('Asymptomatic isolation - blanket',lambda x: x>=2)}\n",
    "\n",
    "for rc, (vc, f) in REPORTCOLS.items():\n",
    "    data[rc] = data[vc].apply(f).astype(int)\n",
    "    \n",
    "outdata = data[list(REPORTCOLS.keys())+['Country','Date']]\n",
    "\n",
    "outdata.to_csv(f'interventions_visualisation_boolean_{DATE}.csv')\n",
    "\n"
   ]
  },
  {
   "cell_type": "code",
   "execution_count": 30,
   "metadata": {},
   "outputs": [],
   "source": [
    "def gatherings(n):\n",
    "    if n == np.nan:\n",
    "        return 0\n",
    "    return 1/(1+np.exp(3-np.log(n)))\n",
    "\n",
    "\n",
    "def curfew(n):\n",
    "    if n < 1:\n",
    "        return 0\n",
    "    elif n<2:\n",
    "        return 0.5\n",
    "    return 1\n",
    "\n",
    "def norm(maximum):\n",
    "    def f(n):\n",
    "        return n/maximum\n",
    "    return f\n",
    "    \n",
    "def nj2us(s):\n",
    "    if s=='US:New Jersey':\n",
    "        return 'United States'\n",
    "    return s\n",
    "\n",
    "REPORTCOLS1 = {'Gatherings limited to':('Gatherings banned',gatherings),\n",
    "              'Business suspended':('Nonessential business suspension',norm(1)),\n",
    "              'Schools and universities closed':('School closure',lambda x: x>=1),\n",
    "              'Social distancing advise':('Public interaction and hygiene',norm(8)),\n",
    "              'General curfew':('Asymptomatic isolation - blanket',curfew),\n",
    "              'Public information':('Public education and incentives',norm(4)),\n",
    "              'Healthcare specialisation':('Healthcare specialisation',norm(7)),\n",
    "              'Public hygiene':('Public interaction and hygiene',norm(12))}\n",
    "\n",
    "data0 = data.copy()\n",
    "\n",
    "US_STATES = data0['Country'][data0['Country'].str.startswith('US:')].unique()\n",
    "\n",
    "data0['Country'] = data0['Country'].apply(nj2us)\n",
    "data0.loc[data['Country']=='United States',\n",
    "                  data0.columns[:-1]] = data0.loc[data['Country'].isin(US_STATES),:].groupby('Date').mean()\n",
    "\n",
    "data0 = data0[~data0['Country'].str.startswith('US:')]\n",
    "\n",
    "for rc, (vc, f) in REPORTCOLS1.items():\n",
    "    data0[rc] = data0[vc].apply(f).astype(float)\n",
    "    \n",
    "outdata = data0[list(REPORTCOLS1.keys())+['Country','Date']]\n",
    "outdata.to_csv(f'interventions_model_zeroto1_{DATE}.csv')"
   ]
  },
  {
   "cell_type": "code",
   "execution_count": null,
   "metadata": {},
   "outputs": [],
   "source": []
  }
 ],
 "metadata": {
  "kernelspec": {
   "display_name": "Python 3",
   "language": "python",
   "name": "python3"
  },
  "language_info": {
   "codemirror_mode": {
    "name": "ipython",
    "version": 3
   },
   "file_extension": ".py",
   "mimetype": "text/x-python",
   "name": "python",
   "nbconvert_exporter": "python",
   "pygments_lexer": "ipython3",
   "version": "3.7.6"
  }
 },
 "nbformat": 4,
 "nbformat_minor": 4
}
