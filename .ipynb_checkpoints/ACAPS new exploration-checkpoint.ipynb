{
 "cells": [
  {
   "cell_type": "code",
   "execution_count": 2,
   "metadata": {},
   "outputs": [],
   "source": [
    "import pandas as pd\n",
    "import numpy as np\n",
    "import re\n",
    "import sys, os\n",
    "sys.path.append(os.path.abspath('../containment/'))\n",
    "#from containment.acaps_functions import *\n",
    "\n",
    "\n",
    "source_data = pd.read_csv(\"../../../data/epidemicforecasting/20200416-acaps-covid-19-goverment-measures-dataset-v8.xlsx - Database.csv\")"
   ]
  },
  {
   "cell_type": "code",
   "execution_count": 3,
   "metadata": {},
   "outputs": [],
   "source": [
    "from acaps_functions import *\n",
    "source_data=tidy_acaps_data(source_data)"
   ]
  },
  {
   "cell_type": "code",
   "execution_count": 4,
   "metadata": {},
   "outputs": [
    {
     "data": {
      "text/plain": [
       "'/Users/benjaminsmith/Google Drive/politics/coronavirus/code/epidemicforecasting/containment'"
      ]
     },
     "execution_count": 4,
     "metadata": {},
     "output_type": "execute_result"
    }
   ],
   "source": [
    "os.path.abspath('../containment')"
   ]
  },
  {
   "cell_type": "markdown",
   "metadata": {},
   "source": [
    "\n",
    " - Mask wearing (data is quite incomplete)\n",
    " - Asymptomatic contact isolation (data is quite incomplete)\n",
    " - Business shutdowns (data is reasonably complete)\n",
    " - School closures (data is reasonably complete)\n",
    " - Gathering size limits (data is reasonably complete)\n",
    " - General curfews (data is reasonably complete)\n",
    " - Healthcare specialisation (data is in-between)"
   ]
  },
  {
   "cell_type": "markdown",
   "metadata": {},
   "source": [
    "### ACAPS categories and measures"
   ]
  },
  {
   "cell_type": "code",
   "execution_count": 6,
   "metadata": {},
   "outputs": [
    {
     "name": "stdout",
     "output_type": "stream",
     "text": [
      "Public health measures\n",
      "['Health screenings in airports and border crossings'\n",
      " 'Introduction of isolation and quarantine policies' 'Awareness campaigns'\n",
      " 'Strengthening the public health system'\n",
      " 'Other public health measures enforced' 'General recommendations'\n",
      " 'Requirement to wear protective gear in public'\n",
      " 'Amendments to funeral and burial regulations' 'Testing policy'\n",
      " 'Psychological assistance and medical social work'\n",
      " 'Mass population testing' 'testing policy'\n",
      " 'strengthening the public health system']\n",
      "\n",
      "\n",
      "Governance and socio-economic measures\n",
      "['Emergency administrative structures activated or established'\n",
      " 'Limit product imports/exports' 'State of emergency declared'\n",
      " 'Economic measures' 'Military deployment']\n",
      "\n",
      "\n",
      "Social distancing\n",
      "['Limit public gatherings' 'Schools closure'\n",
      " 'Changes in prison-related policies' 'Public services closure'\n",
      " 'limit public gatherings']\n",
      "\n",
      "\n",
      "Movement restrictions\n",
      "['Border closure' 'Border checks' 'International flights suspension'\n",
      " 'Surveillance and monitoring' 'Domestic travel restrictions'\n",
      " 'Checkpoints within the country' 'Curfews' 'Visa restrictions'\n",
      " 'Additional health/documents requirements upon arrival'\n",
      " 'Complete border closure' 'curfews']\n",
      "\n",
      "\n",
      "Lockdown\n",
      "['Partial lockdown' 'Full lockdown'\n",
      " 'Lockdown of refugee/idp camps or other minorities']\n",
      "\n",
      "\n",
      "Humanitarian exemption\n",
      "['Humanitarian exemptions']\n",
      "\n",
      "\n"
     ]
    }
   ],
   "source": [
    "for c in source_data.CATEGORY.unique():\n",
    "    print(c)\n",
    "    print(source_data.loc[source_data.CATEGORY==c,'MEASURE'].unique())\n",
    "    print(\"\\n\")"
   ]
  },
  {
   "cell_type": "code",
   "execution_count": null,
   "metadata": {
    "collapsed": true
   },
   "outputs": [],
   "source": []
  },
  {
   "cell_type": "markdown",
   "metadata": {},
   "source": [
    "## Mask wearing"
   ]
  },
  {
   "cell_type": "code",
   "execution_count": 13,
   "metadata": {},
   "outputs": [
    {
     "name": "stdout",
     "output_type": "stream",
     "text": [
      "bus drivers and all passengers shall wear masks; government will provide 10,000 masks for drivers and passengers\n",
      "Obligatory to wear a facemask when in public.\n",
      "In grocery shops masks are mandatory (extended to all other shops to re-open by 14.04.2020)\n",
      "mandatory for everyone to wear a facemask in all public venues.\n",
      "Requirement to wear face masks at all times in public.\n",
      "Travellers must wear face mask in all public transports (avion, trains, buses, taxi, etc.).\n",
      "Students shall always wear protective masks in the classroom as schools start to reopen\n",
      "Citizens must wear face masks in public transports and public spaces (banks,  pharmacies, supermarkets, etc.). Those with respiratory symptoms and at risk groups (including those with pre-existing health conditions and adults over the age of 70) must always use masks in public. Cloth masks are acceptable.\n",
      "Requirement to wear face masks in the Greater Abidjan.  \n",
      "Face mask are compulsory.\n",
      "Requirement to wear face maks in public.\n",
      "Bukele said over the weekend that all people must wear a mask as of Monday. \n",
      "Guatemalan President Alejandro Giammattei announced the requirement that all individuals wear masks in public spaces, including in grocery stores and on the street, to prevent the further spread of the COVID-19 virus.\n",
      "All public workers in contact with the public must wear masks.\n",
      "Obligation to wear face mask when out in public.\n",
      "Customers should wear protective masks when visiting the establishments.\n",
      "As of Tuesday April 7, it is MANDATORY to wear protective mask outside of home and inside all establishments.\n",
      "Previously recommendation now mandatory to wear face mask; fines of up to 1000 EUR for individuals\n",
      "People must wear face masks in public.\n",
      "Everyone must wear a face mask (or scarf that covers one’s mouth and nose) while in the capital.\n",
      "On Wednesday, the government announced that the wearing of masks on transport and in crowds of people will become compulsory, measures aimed at preventing the spread of the new coronavirus in the country.\n",
      "It is mandatory to wear a face mask or other objects that cover the mouth and nose in Niamey in public places, markets, and urban transport.\n",
      "Mandatory to wear facemasks in public, including on public transport.\n",
      "All individuals should use facemasks when going outside.\n",
      "Single-use gloves mandatory during shopping\n",
      "Face coverings are mandatory when walking in public.\n",
      "Transportation staff to be provided personal protective equipment to disinfect transportation.\n",
      "Face masks are mandatory anywhere outside the home and minimum distance of 2m kept at all times\n",
      "Sri Lanka makes wearing face masks mandatory when stepping out\n",
      " individuals are required to wear masks and gloves and observe social distancing when in public. Infractions are punishable via legal action. \n"
     ]
    }
   ],
   "source": [
    "measure_rows = source_data.loc[source_data.MEASURE=='Requirement to wear protective gear in public',]\n",
    "\n",
    "for ir, row in measure_rows.iterrows():\n",
    "    print(row['COMMENTS'])\n"
   ]
  },
  {
   "cell_type": "code",
   "execution_count": 46,
   "metadata": {},
   "outputs": [
    {
     "data": {
      "text/markdown": [
       "#### Public health measures"
      ],
      "text/plain": [
       "<IPython.core.display.Markdown object>"
      ]
     },
     "metadata": {},
     "output_type": "display_data"
    },
    {
     "data": {
      "text/markdown": [
       "##### Requirement to wear protective gear in public"
      ],
      "text/plain": [
       "<IPython.core.display.Markdown object>"
      ]
     },
     "metadata": {},
     "output_type": "display_data"
    },
    {
     "data": {
      "text/markdown": [
       "bus drivers and all passengers shall wear masks; government will provide 10,000 masks for drivers and passengers"
      ],
      "text/plain": [
       "<IPython.core.display.Markdown object>"
      ]
     },
     "metadata": {},
     "output_type": "display_data"
    },
    {
     "data": {
      "text/markdown": [
       "Obligatory to wear a facemask when in public."
      ],
      "text/plain": [
       "<IPython.core.display.Markdown object>"
      ]
     },
     "metadata": {},
     "output_type": "display_data"
    },
    {
     "data": {
      "text/markdown": [
       "In grocery shops masks are mandatory (extended to all other shops to re-open by 14.04.2020)"
      ],
      "text/plain": [
       "<IPython.core.display.Markdown object>"
      ]
     },
     "metadata": {},
     "output_type": "display_data"
    },
    {
     "data": {
      "text/markdown": [
       "mandatory for everyone to wear a facemask in all public venues."
      ],
      "text/plain": [
       "<IPython.core.display.Markdown object>"
      ]
     },
     "metadata": {},
     "output_type": "display_data"
    },
    {
     "data": {
      "text/markdown": [
       "Requirement to wear face masks at all times in public."
      ],
      "text/plain": [
       "<IPython.core.display.Markdown object>"
      ]
     },
     "metadata": {},
     "output_type": "display_data"
    },
    {
     "data": {
      "text/markdown": [
       "Travellers must wear face mask in all public transports (avion, trains, buses, taxi, etc.)."
      ],
      "text/plain": [
       "<IPython.core.display.Markdown object>"
      ]
     },
     "metadata": {},
     "output_type": "display_data"
    },
    {
     "data": {
      "text/markdown": [
       "Students shall always wear protective masks in the classroom as schools start to reopen"
      ],
      "text/plain": [
       "<IPython.core.display.Markdown object>"
      ]
     },
     "metadata": {},
     "output_type": "display_data"
    },
    {
     "data": {
      "text/markdown": [
       "Citizens must wear face masks in public transports and public spaces (banks,  pharmacies, supermarkets, etc.). Those with respiratory symptoms and at risk groups (including those with pre-existing health conditions and adults over the age of 70) must always use masks in public. Cloth masks are acceptable."
      ],
      "text/plain": [
       "<IPython.core.display.Markdown object>"
      ]
     },
     "metadata": {},
     "output_type": "display_data"
    },
    {
     "data": {
      "text/markdown": [
       "Requirement to wear face masks in the Greater Abidjan.  "
      ],
      "text/plain": [
       "<IPython.core.display.Markdown object>"
      ]
     },
     "metadata": {},
     "output_type": "display_data"
    },
    {
     "data": {
      "text/markdown": [
       "Face mask are compulsory."
      ],
      "text/plain": [
       "<IPython.core.display.Markdown object>"
      ]
     },
     "metadata": {},
     "output_type": "display_data"
    },
    {
     "data": {
      "text/markdown": [
       "Bukele said over the weekend that all people must wear a mask as of Monday. "
      ],
      "text/plain": [
       "<IPython.core.display.Markdown object>"
      ]
     },
     "metadata": {},
     "output_type": "display_data"
    },
    {
     "data": {
      "text/markdown": [
       "Guatemalan President Alejandro Giammattei announced the requirement that all individuals wear masks in public spaces, including in grocery stores and on the street, to prevent the further spread of the COVID-19 virus."
      ],
      "text/plain": [
       "<IPython.core.display.Markdown object>"
      ]
     },
     "metadata": {},
     "output_type": "display_data"
    },
    {
     "data": {
      "text/markdown": [
       "All public workers in contact with the public must wear masks."
      ],
      "text/plain": [
       "<IPython.core.display.Markdown object>"
      ]
     },
     "metadata": {},
     "output_type": "display_data"
    },
    {
     "data": {
      "text/markdown": [
       "Obligation to wear face mask when out in public."
      ],
      "text/plain": [
       "<IPython.core.display.Markdown object>"
      ]
     },
     "metadata": {},
     "output_type": "display_data"
    },
    {
     "data": {
      "text/markdown": [
       "Customers should wear protective masks when visiting the establishments."
      ],
      "text/plain": [
       "<IPython.core.display.Markdown object>"
      ]
     },
     "metadata": {},
     "output_type": "display_data"
    },
    {
     "data": {
      "text/markdown": [
       "As of Tuesday April 7, it is MANDATORY to wear protective mask outside of home and inside all establishments."
      ],
      "text/plain": [
       "<IPython.core.display.Markdown object>"
      ]
     },
     "metadata": {},
     "output_type": "display_data"
    },
    {
     "data": {
      "text/markdown": [
       "Previously recommendation now mandatory to wear face mask; fines of up to 1000 EUR for individuals"
      ],
      "text/plain": [
       "<IPython.core.display.Markdown object>"
      ]
     },
     "metadata": {},
     "output_type": "display_data"
    },
    {
     "data": {
      "text/markdown": [
       "People must wear face masks in public."
      ],
      "text/plain": [
       "<IPython.core.display.Markdown object>"
      ]
     },
     "metadata": {},
     "output_type": "display_data"
    },
    {
     "data": {
      "text/markdown": [
       "Everyone must wear a face mask (or scarf that covers one’s mouth and nose) while in the capital."
      ],
      "text/plain": [
       "<IPython.core.display.Markdown object>"
      ]
     },
     "metadata": {},
     "output_type": "display_data"
    },
    {
     "data": {
      "text/markdown": [
       "On Wednesday, the government announced that the wearing of masks on transport and in crowds of people will become compulsory, measures aimed at preventing the spread of the new coronavirus in the country."
      ],
      "text/plain": [
       "<IPython.core.display.Markdown object>"
      ]
     },
     "metadata": {},
     "output_type": "display_data"
    },
    {
     "data": {
      "text/markdown": [
       "It is mandatory to wear a face mask or other objects that cover the mouth and nose in Niamey in public places, markets, and urban transport."
      ],
      "text/plain": [
       "<IPython.core.display.Markdown object>"
      ]
     },
     "metadata": {},
     "output_type": "display_data"
    },
    {
     "data": {
      "text/markdown": [
       "Mandatory to wear facemasks in public, including on public transport."
      ],
      "text/plain": [
       "<IPython.core.display.Markdown object>"
      ]
     },
     "metadata": {},
     "output_type": "display_data"
    },
    {
     "data": {
      "text/markdown": [
       "All individuals should use facemasks when going outside."
      ],
      "text/plain": [
       "<IPython.core.display.Markdown object>"
      ]
     },
     "metadata": {},
     "output_type": "display_data"
    },
    {
     "data": {
      "text/markdown": [
       "Face masks are mandatory anywhere outside the home and minimum distance of 2m kept at all times"
      ],
      "text/plain": [
       "<IPython.core.display.Markdown object>"
      ]
     },
     "metadata": {},
     "output_type": "display_data"
    },
    {
     "data": {
      "text/markdown": [
       "Sri Lanka makes wearing face masks mandatory when stepping out"
      ],
      "text/plain": [
       "<IPython.core.display.Markdown object>"
      ]
     },
     "metadata": {},
     "output_type": "display_data"
    },
    {
     "data": {
      "text/markdown": [
       " individuals are required to wear masks and gloves and observe social distancing when in public. Infractions are punishable via legal action. "
      ],
      "text/plain": [
       "<IPython.core.display.Markdown object>"
      ]
     },
     "metadata": {},
     "output_type": "display_data"
    },
    {
     "data": {
      "text/markdown": [
       "##### Strengthening the public health system"
      ],
      "text/plain": [
       "<IPython.core.display.Markdown object>"
      ]
     },
     "metadata": {},
     "output_type": "display_data"
    },
    {
     "data": {
      "text/markdown": [
       "Additional masks and funding"
      ],
      "text/plain": [
       "<IPython.core.display.Markdown object>"
      ]
     },
     "metadata": {},
     "output_type": "display_data"
    },
    {
     "data": {
      "text/markdown": [
       "Masks have been issued to members of the Royal Barbados Police Force, while the Barbados Defence Force will receive masks tomorrow"
      ],
      "text/plain": [
       "<IPython.core.display.Markdown object>"
      ]
     },
     "metadata": {},
     "output_type": "display_data"
    },
    {
     "data": {
      "text/markdown": [
       "Chinese embassies and consulates have distributed epidemic prevention materials including masks and \"health kits\" to overseas students in a timely manner"
      ],
      "text/plain": [
       "<IPython.core.display.Markdown object>"
      ]
     },
     "metadata": {},
     "output_type": "display_data"
    },
    {
     "data": {
      "text/markdown": [
       "Fund of 28 billion CFA francs will be allocated to buying medicine and protective gears (masks, thermometers, gloves, etc.)"
      ],
      "text/plain": [
       "<IPython.core.display.Markdown object>"
      ]
     },
     "metadata": {},
     "output_type": "display_data"
    },
    {
     "data": {
      "text/markdown": [
       " received a donation from the People's Republic of China to meet protective equipment needs and tackle the coronavirus pandemic. 1,320 protective medical uniforms were received whileand additional masks will be supplied to Cyprus. the special flight of Aegean Airlines and Hellenic Petroleum will deliver medical equipment and supplies, also donated from China."
      ],
      "text/plain": [
       "<IPython.core.display.Markdown object>"
      ]
     },
     "metadata": {},
     "output_type": "display_data"
    },
    {
     "data": {
      "text/markdown": [
       "Launch of campaign: There are supply problems with protective equipment such as face masks and visors and handprints in several places in the health sector. The Danish Medicines Agency is now launching the campaign \"Denmark helps Denmark\", where authorities, companies and others can report if they have equipment in surplus or ideas to get more."
      ],
      "text/plain": [
       "<IPython.core.display.Markdown object>"
      ]
     },
     "metadata": {},
     "output_type": "display_data"
    },
    {
     "data": {
      "text/markdown": [
       "The use of masks when moving around has been made obligatory."
      ],
      "text/plain": [
       "<IPython.core.display.Markdown object>"
      ]
     },
     "metadata": {},
     "output_type": "display_data"
    },
    {
     "data": {
      "text/markdown": [
       "A Chinese millionaire from the Alibaba foundation has sent a donation of consignments of material against the coronavirus to the Ministry for Health and Social Welfare. The donated materials include three different types of mask for doctors, nurses and personnel attending the sick, gowns, and protective equipment for the face and glasses. The shipment also contained 11,300 reagents, which will help with the analysis of the population"
      ],
      "text/plain": [
       "<IPython.core.display.Markdown object>"
      ]
     },
     "metadata": {},
     "output_type": "display_data"
    },
    {
     "data": {
      "text/markdown": [
       "New clinical material to combat Coronavirus arrives in Equatorial Guinea. The material consisted of 20,000 protection equipment units, 20,000 pairs of gloves, 20,000 disposable gowns and 100,000 face masks, which will be distributed in the Insular and Continental Regions."
      ],
      "text/plain": [
       "<IPython.core.display.Markdown object>"
      ]
     },
     "metadata": {},
     "output_type": "display_data"
    },
    {
     "data": {
      "text/markdown": [
       "Domestic production of face masks, head covers, surgical scrubs and gowns will commence."
      ],
      "text/plain": [
       "<IPython.core.display.Markdown object>"
      ]
     },
     "metadata": {},
     "output_type": "display_data"
    },
    {
     "data": {
      "text/markdown": [
       "Additional supplies of Personal Protective Equipment (PPE) are being purchased to ensure that persons on the frontline of the preventive effort are properly protected and their level of exposure is minimal. We have also obtained thousands of masks, some of which are being distributed to our students in China, and arrangements are being made to transport the remainder to Grenada."
      ],
      "text/plain": [
       "<IPython.core.display.Markdown object>"
      ]
     },
     "metadata": {},
     "output_type": "display_data"
    },
    {
     "data": {
      "text/markdown": [
       "Regarding protective face masks, the operative board decided that stocks of medical masks should be used to meet the needs of the general public, and 300,000 masks were delivered on Friday morning. A production line with capacity to make 25,000 masks was also re-started early this month in Debrecen."
      ],
      "text/plain": [
       "<IPython.core.display.Markdown object>"
      ]
     },
     "metadata": {},
     "output_type": "display_data"
    },
    {
     "data": {
      "text/markdown": [
       "New shipment of more than 3 million face masks, protective gear and 86 ventilators arrives in Hungary\n",
       "Almost 70 tons of medical and protective equipment arrived in Budapest this morning. The new shipment includes more than 3 million face masks and 86 ventilators."
      ],
      "text/plain": [
       "<IPython.core.display.Markdown object>"
      ]
     },
     "metadata": {},
     "output_type": "display_data"
    },
    {
     "data": {
      "text/markdown": [
       "Prioritize delivery of masks to the regions of Nakafurano and Kitami. Approximately 40 masks per household will be given priority distribution, but from the viewpoint of distributing the limited masks currently secured to as many residents as possible, One pack of 7 masks (for adults) will be distributed to households. The remaining 30 masks will be distributed in the second and subsequent distributions as soon as the masks are secured."
      ],
      "text/plain": [
       "<IPython.core.display.Markdown object>"
      ]
     },
     "metadata": {},
     "output_type": "display_data"
    },
    {
     "data": {
      "text/markdown": [
       "From today, the country has started the production of masks and personal protective equipment."
      ],
      "text/plain": [
       "<IPython.core.display.Markdown object>"
      ]
     },
     "metadata": {},
     "output_type": "display_data"
    },
    {
     "data": {
      "text/markdown": [
       "USAID and WHO donate 10,000 surgical masks; 10,000 gloves; 1,400 gowns; and 200 protective goggles, and  200 face masks type FFP2. "
      ],
      "text/plain": [
       "<IPython.core.display.Markdown object>"
      ]
     },
     "metadata": {},
     "output_type": "display_data"
    },
    {
     "data": {
      "text/markdown": [
       "Purchasing of additional 2mio respirators and 6mio masks from China"
      ],
      "text/plain": [
       "<IPython.core.display.Markdown object>"
      ]
     },
     "metadata": {},
     "output_type": "display_data"
    },
    {
     "data": {
      "text/markdown": [
       "Order of 20 million washable masks. "
      ],
      "text/plain": [
       "<IPython.core.display.Markdown object>"
      ]
     },
     "metadata": {},
     "output_type": "display_data"
    },
    {
     "data": {
      "text/markdown": [
       "Mongolia imported 68.7 thousand face masks in January, 202"
      ],
      "text/plain": [
       "<IPython.core.display.Markdown object>"
      ]
     },
     "metadata": {},
     "output_type": "display_data"
    },
    {
     "data": {
      "text/markdown": [
       "Social Democracy-Mongolian Women’s Association donated 30,000 face masks to the ministry of health. Over 100,000 members from the association joined for producing recyclable face masks for contributing in the fight against coronavirus."
      ],
      "text/plain": [
       "<IPython.core.display.Markdown object>"
      ]
     },
     "metadata": {},
     "output_type": "display_data"
    },
    {
     "data": {
      "text/markdown": [
       "Distribution of supplies and protective equipment: 5,400,000 gloves, 560,000 masks, 2,000 ICU protective suits, 86,000 protective gowns, 110,000 surgical caps, and 3,500 goggles. Installation of 941 beds with oxygen and 44 beds in Intensive Care Unit (ICU). "
      ],
      "text/plain": [
       "<IPython.core.display.Markdown object>"
      ]
     },
     "metadata": {},
     "output_type": "display_data"
    },
    {
     "data": {
      "text/markdown": [
       "The price of face masks is being regulated and frozen at 28 pesos nationally"
      ],
      "text/plain": [
       "<IPython.core.display.Markdown object>"
      ]
     },
     "metadata": {},
     "output_type": "display_data"
    },
    {
     "data": {
      "text/markdown": [
       "The first government plane will leave Portugal this weekend to collect medical supplies: masks, ventilators etc. confirms Secretary of State António Lacerda Sales. The plane, due to leave Beja tomorrow (Saturday) will be collecting 30 tons of supplies from China, writes TSF radio"
      ],
      "text/plain": [
       "<IPython.core.display.Markdown object>"
      ]
     },
     "metadata": {},
     "output_type": "display_data"
    },
    {
     "data": {
      "text/markdown": [
       "Portugal received the first airplane with thousands of personal protective equipment, namely masks, suits and boot covers, to combat the Covid outbreak. -19. In total, 4.6 million masks of the type 2.56 thousand suits and 20 thousand copper boots were received."
      ],
      "text/plain": [
       "<IPython.core.display.Markdown object>"
      ]
     },
     "metadata": {},
     "output_type": "display_data"
    },
    {
     "data": {
      "text/markdown": [
       "Extended SoE:Civil requisition - Any goods or services from legal persons under public or private law that may be necessary to combat the covid-19 pandemic may be requested, namely health equipment, respiratory protection masks or ventilators, which are in stock or which come to produced by decision of health authorities or civil protection authorities."
      ],
      "text/plain": [
       "<IPython.core.display.Markdown object>"
      ]
     },
     "metadata": {},
     "output_type": "display_data"
    },
    {
     "data": {
      "text/markdown": [
       "The second plane chartered by the Portuguese State to transport medical equipment from China arrived in Lisbon today, with 700,000 respiratory protection masks, visors and gloves, destined for the National Health System, announced the Portuguese embassy."
      ],
      "text/plain": [
       "<IPython.core.display.Markdown object>"
      ]
     },
     "metadata": {},
     "output_type": "display_data"
    },
    {
     "data": {
      "text/markdown": [
       "measures laid down by the law governing infectious diseases are being implemented with regard to the novel coronavirus;  the Government has decided to use 48,000 protective masks, 5,000 protective gowns, 500,000 gloves and disinfecting agents in the total amount of EUR 200,000 from national commodity reserves to help contain the coronavirus epidemic and protect medical and other personnel"
      ],
      "text/plain": [
       "<IPython.core.display.Markdown object>"
      ]
     },
     "metadata": {},
     "output_type": "display_data"
    },
    {
     "data": {
      "text/markdown": [
       "Minimum requirement specifics for hygiene face masks established"
      ],
      "text/plain": [
       "<IPython.core.display.Markdown object>"
      ]
     },
     "metadata": {},
     "output_type": "display_data"
    },
    {
     "data": {
      "text/markdown": [
       "China has pledged to donate 100,000 masks including 10,000 N95 masks and 20,000 test kits to Sri Lanka in the coming days. China’s Acting Ambassador Hu Wei has made this pledge when he met Sri Lanka’s Minister of Health Pavithra Wanniarachchi on Friday (March 20)."
      ],
      "text/plain": [
       "<IPython.core.display.Markdown object>"
      ]
     },
     "metadata": {},
     "output_type": "display_data"
    },
    {
     "data": {
      "text/markdown": [
       "China donations of masks, COVID-19 test kits handed over to Sri Lanka Ministry of Health"
      ],
      "text/plain": [
       "<IPython.core.display.Markdown object>"
      ]
     },
     "metadata": {},
     "output_type": "display_data"
    },
    {
     "data": {
      "text/markdown": [
       "Today, the Ministry of Public Health has provided to the public, three masks per individual in accordance with the policy of the Deputy Prime Minister and the Minister of Public Health to use in disease prevention."
      ],
      "text/plain": [
       "<IPython.core.display.Markdown object>"
      ]
     },
     "metadata": {},
     "output_type": "display_data"
    },
    {
     "data": {
      "text/markdown": [
       "The Defense Department will massively expand medical resources, making 5 million respirator masks and 2,000 ventilators available for use\n",
       "FEMA is now activated in every region of the country and at the highest level\n",
       "Navy hospital ships are being deployed to impacted areas"
      ],
      "text/plain": [
       "<IPython.core.display.Markdown object>"
      ]
     },
     "metadata": {},
     "output_type": "display_data"
    },
    {
     "data": {
      "text/markdown": [
       "$16 billion in funding for the purchase of personal protective equipment — you know about that — such as masks and respirators through the Strategic National Stockpile."
      ],
      "text/plain": [
       "<IPython.core.display.Markdown object>"
      ]
     },
     "metadata": {},
     "output_type": "display_data"
    },
    {
     "data": {
      "text/markdown": [
       "##### General recommendations"
      ],
      "text/plain": [
       "<IPython.core.display.Markdown object>"
      ]
     },
     "metadata": {},
     "output_type": "display_data"
    },
    {
     "data": {
      "text/markdown": [
       "Recommendation to wear face mask in public. "
      ],
      "text/plain": [
       "<IPython.core.display.Markdown object>"
      ]
     },
     "metadata": {},
     "output_type": "display_data"
    },
    {
     "data": {
      "text/markdown": [
       "Recommended to wear a mask in public spaces. Due to the lack of available masks, the government published an online tutorial for DIY masks. "
      ],
      "text/plain": [
       "<IPython.core.display.Markdown object>"
      ]
     },
     "metadata": {},
     "output_type": "display_data"
    },
    {
     "data": {
      "text/markdown": [
       "Wearing masks in the right way can prevent the infection of respiratory diseases such as COVID-19 and influenza "
      ],
      "text/plain": [
       "<IPython.core.display.Markdown object>"
      ]
     },
     "metadata": {},
     "output_type": "display_data"
    },
    {
     "data": {
      "text/markdown": [
       "Inhabitants should were masks anytime they leave their house."
      ],
      "text/plain": [
       "<IPython.core.display.Markdown object>"
      ]
     },
     "metadata": {},
     "output_type": "display_data"
    },
    {
     "data": {
      "text/markdown": [
       "Systematically wear face masks in public, avoid gatherings and maintain social distancing and hygiene measures."
      ],
      "text/plain": [
       "<IPython.core.display.Markdown object>"
      ]
     },
     "metadata": {},
     "output_type": "display_data"
    },
    {
     "data": {
      "text/markdown": [
       "Customers should wear protective masks when visiting the establishments."
      ],
      "text/plain": [
       "<IPython.core.display.Markdown object>"
      ]
     },
     "metadata": {},
     "output_type": "display_data"
    },
    {
     "data": {
      "text/markdown": [
       "All persons visiting public places such as supermarkets or on public transport should wear a face mask."
      ],
      "text/plain": [
       "<IPython.core.display.Markdown object>"
      ]
     },
     "metadata": {},
     "output_type": "display_data"
    },
    {
     "data": {
      "text/markdown": [
       "Owners of public transport vehicles to provide hand sanitizers and masks to all their clients/passengers and enforcement the laws on overloading strictly."
      ],
      "text/plain": [
       "<IPython.core.display.Markdown object>"
      ]
     },
     "metadata": {},
     "output_type": "display_data"
    },
    {
     "data": {
      "text/markdown": [
       "Shops, shopping mall and supermarkets to put measures in place to ensure and enhance hygiene at all time to protect all clients and customers, such as the provision of alcohol-based hand sanitizers, and face masks for employees."
      ],
      "text/plain": [
       "<IPython.core.display.Markdown object>"
      ]
     },
     "metadata": {},
     "output_type": "display_data"
    },
    {
     "data": {
      "text/markdown": [
       "“A medical mask is not required for members of the general public who do not have any respiratory symptoms. You wear a mask if you are coughing or sneezing of if you are taking care of somebody who has respiratory symptoms such as coughing or sneezing"
      ],
      "text/plain": [
       "<IPython.core.display.Markdown object>"
      ]
     },
     "metadata": {},
     "output_type": "display_data"
    },
    {
     "data": {
      "text/markdown": [
       "Citizens are strongly recommended to wear face masks in public and are advised to stay at home unless absolutely necessary."
      ],
      "text/plain": [
       "<IPython.core.display.Markdown object>"
      ]
     },
     "metadata": {},
     "output_type": "display_data"
    },
    {
     "data": {
      "text/markdown": [
       "Widespread use of masks is recommended. People are recommended to use cloth masks & that medical masks be used by healthcare professionals. "
      ],
      "text/plain": [
       "<IPython.core.display.Markdown object>"
      ]
     },
     "metadata": {},
     "output_type": "display_data"
    },
    {
     "data": {
      "text/markdown": [
       "Zambians encouraged to wear a mask when in public."
      ],
      "text/plain": [
       "<IPython.core.display.Markdown object>"
      ]
     },
     "metadata": {},
     "output_type": "display_data"
    },
    {
     "data": {
      "text/markdown": [
       "People should wear clean cloth hygienic masks when in crowded areas. The patients or people who have symptoms of coughing or sneezing should wear surgical masks to prevent the spread of infection. The staff who have close contact with the patients should wear an N95 mask."
      ],
      "text/plain": [
       "<IPython.core.display.Markdown object>"
      ]
     },
     "metadata": {},
     "output_type": "display_data"
    },
    {
     "data": {
      "text/markdown": [
       "##### Other public health measures enforced"
      ],
      "text/plain": [
       "<IPython.core.display.Markdown object>"
      ]
     },
     "metadata": {},
     "output_type": "display_data"
    },
    {
     "data": {
      "text/markdown": [
       "All Catering Premises must abide by the following restrictions from March 28th for a period of 14 days from the 28th march at 6pm: (a) number of customers at any premises on which food or drink is sold or supplied for consumption on site must not exceed 50% of the normal seating capacity of the premises at any one time; (b) tables available for use or being used by customers within any catering premises must be arranged in a way to ensure there is a distance of at least 1.5 metres or some form of partition which could serve as effective buffer between one table and another table at the premises; (c) no more than 4 persons may be seated together at one table within any catering premises; (d) a person must wear a mask at any time within any catering premises, except when the person is consuming food or drink on the premises; (e) body temperature screening on a person must be conducted before the person is allowed to enter the catering premises; and (f) hand sanitisers must be provided at any catering premises for any person at the premises."
      ],
      "text/plain": [
       "<IPython.core.display.Markdown object>"
      ]
     },
     "metadata": {},
     "output_type": "display_data"
    },
    {
     "data": {
      "text/markdown": [
       "MSC Shipmanagement Ltd donated 106,000 surgical masks and 100,000 gloves to the Cyprus Government, to assist in the fight against the coronavirus disease outbreak."
      ],
      "text/plain": [
       "<IPython.core.display.Markdown object>"
      ]
     },
     "metadata": {},
     "output_type": "display_data"
    },
    {
     "data": {
      "text/markdown": [
       "People must wear masks in public"
      ],
      "text/plain": [
       "<IPython.core.display.Markdown object>"
      ]
     },
     "metadata": {},
     "output_type": "display_data"
    },
    {
     "data": {
      "text/markdown": [
       "All Kenyans are required to wear a mask when in public areas"
      ],
      "text/plain": [
       "<IPython.core.display.Markdown object>"
      ]
     },
     "metadata": {},
     "output_type": "display_data"
    },
    {
     "data": {
      "text/markdown": [
       "Starting today, all salon and barbershop operators must wear masks when attending to clients and must have hand sanitizers"
      ],
      "text/plain": [
       "<IPython.core.display.Markdown object>"
      ]
     },
     "metadata": {},
     "output_type": "display_data"
    },
    {
     "data": {
      "text/markdown": [
       "Transport companies are being distributed masks and guidance on use"
      ],
      "text/plain": [
       "<IPython.core.display.Markdown object>"
      ]
     },
     "metadata": {},
     "output_type": "display_data"
    },
    {
     "data": {
      "text/markdown": [
       "Government distributes 10 million face masks to be handed out as of Monday around Spain to workers at main transport hubs"
      ],
      "text/plain": [
       "<IPython.core.display.Markdown object>"
      ]
     },
     "metadata": {},
     "output_type": "display_data"
    },
    {
     "data": {
      "text/markdown": [
       "##### Awareness campaigns"
      ],
      "text/plain": [
       "<IPython.core.display.Markdown object>"
      ]
     },
     "metadata": {},
     "output_type": "display_data"
    },
    {
     "data": {
      "text/markdown": [
       "All businesses authorized to open must take biosecurity measures: use of protective masks for employees, monitoring of body temperature, use of antibacterial gel or alcohol and customers must keep a 2 meter distance when standing in line."
      ],
      "text/plain": [
       "<IPython.core.display.Markdown object>"
      ]
     },
     "metadata": {},
     "output_type": "display_data"
    },
    {
     "data": {
      "text/markdown": [
       "Chief Medical Officers of Provincial Public Health Offices in the issues for the orders of the Emergency Operations Center on Medical and Public Health as follows: 1) Campaigning for the public to regularly wash hands and using cloth masks and clean surface areas that may be a source of infection, especially among the group of public transport operators and foreign tourist service providers "
      ],
      "text/plain": [
       "<IPython.core.display.Markdown object>"
      ]
     },
     "metadata": {},
     "output_type": "display_data"
    },
    {
     "data": {
      "text/markdown": [
       "The MOPH emphasized that there are still no restrictions for traveling to outbreak areas. If travel to outbreak areas is necessary, please take care of yourself by frequently washing hands with soap and alcohol gel, wearing a mask, and avoiding visits to crowded places."
      ],
      "text/plain": [
       "<IPython.core.display.Markdown object>"
      ]
     },
     "metadata": {},
     "output_type": "display_data"
    },
    {
     "data": {
      "text/markdown": [
       "Today, the Ministry of Public Health has organized a campaign to educate the public about COVID19, to provide knowledge on disease prevention. To strictly comply with the recommendations, “eat cooked food, use serving spoons, wash hands and wear hygienic masks\" have been taught to the people at [2 schools]. "
      ],
      "text/plain": [
       "<IPython.core.display.Markdown object>"
      ]
     },
     "metadata": {},
     "output_type": "display_data"
    },
    {
     "data": {
      "text/markdown": [
       "##### Health screenings in airports and border crossings"
      ],
      "text/plain": [
       "<IPython.core.display.Markdown object>"
      ]
     },
     "metadata": {},
     "output_type": "display_data"
    },
    {
     "data": {
      "text/markdown": [
       "search of all vehicles entering the province. Authorities will not allow the entry of travelers who cannot explain why they need to enter the province, travelers who are not wearing a mask, and travelers who do not cooperate with health officials. Anyone entering the province will need to provide their contact details and undergo a health screening.  "
      ],
      "text/plain": [
       "<IPython.core.display.Markdown object>"
      ]
     },
     "metadata": {},
     "output_type": "display_data"
    },
    {
     "data": {
      "text/markdown": [
       "#### Governance and socio-economic measures"
      ],
      "text/plain": [
       "<IPython.core.display.Markdown object>"
      ]
     },
     "metadata": {},
     "output_type": "display_data"
    },
    {
     "data": {
      "text/markdown": [
       "##### Emergency administrative structures activated or established"
      ],
      "text/plain": [
       "<IPython.core.display.Markdown object>"
      ]
     },
     "metadata": {},
     "output_type": "display_data"
    },
    {
     "data": {
      "text/markdown": [
       "Aust Defense Force (ADF) assistance will be provided under the Defence Assistance to the Civil Community arrangements. These new requirements will build on the existing support the Australian Defence Force is providing to the COVID-19 response, including:Assistance to the states and territories to support contact tracing efforts.Supporting industry with the production of surgical masks.Provision of planning and logistics support to Commonwealth, state and territory agencies.Provision of personnel to other agencies, including Services Australia.Supporting the NT Police with border control operations.Assisting states and territories to support the production of food hampers to supply to isolated civilians."
      ],
      "text/plain": [
       "<IPython.core.display.Markdown object>"
      ]
     },
     "metadata": {},
     "output_type": "display_data"
    },
    {
     "data": {
      "text/markdown": [
       "Manufacturers will be called on to adapt their manufacturing capacity to produce personal protective equipment (PPE), equipment, masks and other essential products for national market, including hand gels and other essential medicines and products by pharmacies"
      ],
      "text/plain": [
       "<IPython.core.display.Markdown object>"
      ]
     },
     "metadata": {},
     "output_type": "display_data"
    },
    {
     "data": {
      "text/markdown": [
       "##### Limit product imports/exports"
      ],
      "text/plain": [
       "<IPython.core.display.Markdown object>"
      ]
     },
     "metadata": {},
     "output_type": "display_data"
    },
    {
     "data": {
      "text/markdown": [
       "The importation of non-medical protective face masks will be prohibited, effective 8am Friday 10 April 2020,"
      ],
      "text/plain": [
       "<IPython.core.display.Markdown object>"
      ]
     },
     "metadata": {},
     "output_type": "display_data"
    },
    {
     "data": {
      "text/markdown": [
       "selected medical goods (not only those made in Belarus) are temporarily prohibited from being taken out of the country. Surgical coats, face masks, bandages, gauze, cotton wool, surgical gloves and other medical supplies and equipment are on the list"
      ],
      "text/plain": [
       "<IPython.core.display.Markdown object>"
      ]
     },
     "metadata": {},
     "output_type": "display_data"
    },
    {
     "data": {
      "text/markdown": [
       "export ban for medical protection gear such as masks and gloves"
      ],
      "text/plain": [
       "<IPython.core.display.Markdown object>"
      ]
     },
     "metadata": {},
     "output_type": "display_data"
    },
    {
     "data": {
      "text/markdown": [
       "Export to third countries of personal protective equipment, such as goggles, shields and masks, as well as protective clothing, disposable gloves will be prohibited because of the growing demand in the country."
      ],
      "text/plain": [
       "<IPython.core.display.Markdown object>"
      ]
     },
     "metadata": {},
     "output_type": "display_data"
    },
    {
     "data": {
      "text/markdown": [
       "##### Economic measures"
      ],
      "text/plain": [
       "<IPython.core.display.Markdown object>"
      ]
     },
     "metadata": {},
     "output_type": "display_data"
    },
    {
     "data": {
      "text/markdown": [
       "Price control on protection masks"
      ],
      "text/plain": [
       "<IPython.core.display.Markdown object>"
      ]
     },
     "metadata": {},
     "output_type": "display_data"
    },
    {
     "data": {
      "text/markdown": [
       "Price cap on masks."
      ],
      "text/plain": [
       "<IPython.core.display.Markdown object>"
      ]
     },
     "metadata": {},
     "output_type": "display_data"
    },
    {
     "data": {
      "text/markdown": [
       "Budget for masks, soap, and other crucial items"
      ],
      "text/plain": [
       "<IPython.core.display.Markdown object>"
      ]
     },
     "metadata": {},
     "output_type": "display_data"
    },
    {
     "data": {
      "text/markdown": [
       "#### Movement restrictions"
      ],
      "text/plain": [
       "<IPython.core.display.Markdown object>"
      ]
     },
     "metadata": {},
     "output_type": "display_data"
    },
    {
     "data": {
      "text/markdown": [
       "##### Surveillance and monitoring"
      ],
      "text/plain": [
       "<IPython.core.display.Markdown object>"
      ]
     },
     "metadata": {},
     "output_type": "display_data"
    },
    {
     "data": {
      "text/markdown": [
       "New non-compliance measures to be taken against foreigners not complying. The administration made the statement on its website over the weekend, saying foreigners in China should promptly register their accommodations and comply with the identification inspection by public security departments.The statement came after several recent incidents involving foreigners refusing to wear masks or cooperate with China's epidemic control measures sparked public outcry."
      ],
      "text/plain": [
       "<IPython.core.display.Markdown object>"
      ]
     },
     "metadata": {},
     "output_type": "display_data"
    },
    {
     "data": {
      "text/markdown": [
       "People not wearing face masks in public will be fined 20,000 Kenyan shillings ($190; £150) or face a six-month jail term, starting on Wednesday."
      ],
      "text/plain": [
       "<IPython.core.display.Markdown object>"
      ]
     },
     "metadata": {},
     "output_type": "display_data"
    },
    {
     "data": {
      "text/markdown": [
       "##### Curfews"
      ],
      "text/plain": [
       "<IPython.core.display.Markdown object>"
      ]
     },
     "metadata": {},
     "output_type": "display_data"
    },
    {
     "data": {
      "text/markdown": [
       "Members of the media are allowed to circulate without restriction as long as they can justify to the authorities  that they are on assignment, show their media’s ID or their press ID. They should also comply with biosecurity measures – wear protective masks, use anti-bacterial gel and other protective measures."
      ],
      "text/plain": [
       "<IPython.core.display.Markdown object>"
      ]
     },
     "metadata": {},
     "output_type": "display_data"
    },
    {
     "data": {
      "text/markdown": [
       "##### Domestic travel restrictions"
      ],
      "text/plain": [
       "<IPython.core.display.Markdown object>"
      ]
     },
     "metadata": {},
     "output_type": "display_data"
    },
    {
     "data": {
      "text/markdown": [
       "decree suspends the ban on taxi services by motorcycles and bicycles, after several protests from operators, mainly in the central and northern provinces of the country. Under the new measures, taxi services for motorcycles and bicycles can operate, but with the use of masks by the occupants."
      ],
      "text/plain": [
       "<IPython.core.display.Markdown object>"
      ]
     },
     "metadata": {},
     "output_type": "display_data"
    },
    {
     "data": {
      "text/markdown": [
       "##### Visa restrictions"
      ],
      "text/plain": [
       "<IPython.core.display.Markdown object>"
      ]
     },
     "metadata": {},
     "output_type": "display_data"
    },
    {
     "data": {
      "text/markdown": [
       "For foreign-passengers of the Westerdam Cruise (high-risk group): For foreigners, they will not be allowed to make a transit or change flights in Thailand. The MOPH has coordinated with airlines, immigration offices, the Ministry of Foreign Affairs and the airports of Thailand and emphasized that if foreigners have necessary to enter Thailand, they need to strictly comply with the disease prevention and control measures, i.e. wearing a mask, washing hands, informing information to the staff and being screened before getting on the plane. If anyone shows symptoms including fever and cough, they will be brought to the tracking system for Thailand’s disease surveillance immediately. The disease surveillance in passengers from the Westerdam Cruise has been implemented by Thailand after the first COVID-19 confirmed case was reported."
      ],
      "text/plain": [
       "<IPython.core.display.Markdown object>"
      ]
     },
     "metadata": {},
     "output_type": "display_data"
    },
    {
     "data": {
      "text/markdown": [
       "#### Social distancing"
      ],
      "text/plain": [
       "<IPython.core.display.Markdown object>"
      ]
     },
     "metadata": {},
     "output_type": "display_data"
    },
    {
     "data": {
      "text/markdown": [
       "##### Limit public gatherings"
      ],
      "text/plain": [
       "<IPython.core.display.Markdown object>"
      ]
     },
     "metadata": {},
     "output_type": "display_data"
    },
    {
     "data": {
      "text/markdown": [
       "Requirements on all catering business premises with food or drinks for consumption on site. From April 10-23Service area must not exceed 50% of normal seating capacity; Tables 1.5m apart or effectively partitioned; No more than 4 persons each table; Must wear mask except when eating/drinking; Screen body temperature; Provide hand sanitiser"
      ],
      "text/plain": [
       "<IPython.core.display.Markdown object>"
      ]
     },
     "metadata": {},
     "output_type": "display_data"
    },
    {
     "data": {
      "text/markdown": [
       "People are required to wear protective medical masks and keep a distance of 2m everywhere"
      ],
      "text/plain": [
       "<IPython.core.display.Markdown object>"
      ]
     },
     "metadata": {},
     "output_type": "display_data"
    },
    {
     "data": {
      "text/markdown": [
       "from 1 April SoE: Funeral ceremonies can have a maximum of 20 participants, who must wear masks regardless of the cause of death;"
      ],
      "text/plain": [
       "<IPython.core.display.Markdown object>"
      ]
     },
     "metadata": {},
     "output_type": "display_data"
    },
    {
     "data": {
      "text/markdown": [
       "Government lifts one-third limit on public transport, users must wear face masks – report"
      ],
      "text/plain": [
       "<IPython.core.display.Markdown object>"
      ]
     },
     "metadata": {},
     "output_type": "display_data"
    },
    {
     "data": {
      "text/markdown": [
       "#### Lockdown"
      ],
      "text/plain": [
       "<IPython.core.display.Markdown object>"
      ]
     },
     "metadata": {},
     "output_type": "display_data"
    },
    {
     "data": {
      "text/markdown": [
       "##### Full lockdown"
      ],
      "text/plain": [
       "<IPython.core.display.Markdown object>"
      ]
     },
     "metadata": {},
     "output_type": "display_data"
    },
    {
     "data": {
      "text/markdown": [
       "From April 6 – 12, all municipalities in the Dept of Cortes and the municipality of El Progreso, Yoro are under an absolute curfew. The only exemptions that will apply are for personnel involved in managing the emergency, high government officers, health care workers, first responders, national security and defense personnel, personnel with customs, migration, ports and airports and essential public services, including personnel that works with private power plants; hospitals, medical service centers and laboratories; the maquilas making protective masks and biomedical equipment/supplies needed for the emergency; the agricultural/food sector to guarantee production and distribution of food; gas stations to serve only the sectors authorized in this exemption; public transportation for health purposes and those contracted by businesses to mobilize their personnel; the telecommunications sector, including internet providers and the media – radio, television, newspapers and cable providers; the cargo industry – air, sea and land – for imports, exports, supplies and ports; and, private security service providers. "
      ],
      "text/plain": [
       "<IPython.core.display.Markdown object>"
      ]
     },
     "metadata": {},
     "output_type": "display_data"
    }
   ],
   "source": [
    "from IPython.display import display, Markdown, Latex\n",
    "\n",
    "def print_match_rows(match_str):\n",
    "    match_rows = source_data.loc[source_data.COMMENTS.str.contains(match_str, na=False),]\n",
    "\n",
    "    for c in match_rows.CATEGORY.unique():\n",
    "        display(Markdown(\"#### \" + c))\n",
    "        for m in match_rows[match_rows.CATEGORY==c].MEASURE.unique():\n",
    "            display(Markdown(\"##### \" + m))\n",
    "            for comment_i, comment_row in (\n",
    "                match_rows.loc[(match_rows.CATEGORY==c) & (match_rows.MEASURE==m),:]\n",
    "            ).iterrows():\n",
    "                display(Markdown(comment_row['COMMENTS']))\n",
    "        \n",
    "print_match_rows('mask')"
   ]
  },
  {
   "cell_type": "markdown",
   "metadata": {},
   "source": [
    "Good data on mask wearing policies but not mask wearing prevalence."
   ]
  },
  {
   "cell_type": "markdown",
   "metadata": {},
   "source": [
    "## Asymptomatic contact isolation"
   ]
  },
  {
   "cell_type": "code",
   "execution_count": 47,
   "metadata": {},
   "outputs": [
    {
     "name": "stdout",
     "output_type": "stream",
     "text": [
      "nan\n",
      "nan\n",
      "Established specific areas for quarantine in Kabul and in the provinces for the control of COVID-19\n",
      "strengthen the screened teams in the air, borders and port, creating a joint committee to review the risk of transmitting coronavirus through iimported items \n",
      "Sanitizing public spaces\n",
      "All people entering the country for 15 days\n",
      "Order of the Minister responsible for health no. 105: taking hygienic-sanitary measures to prevent the spread of respiratory infections including COVID 19 in preschool institutions kindergartens and educational institutions\n",
      "Quarantining known confirmed COVID-19 cases within its borders\n",
      "any nationality who presents with symptoms or who has traveled to China since the start of the outbreak\n",
      "the Angolan Ministry of Health announced that all travelers arriving from China will be placed under home quarantine\n",
      "In the framework of the SoE extension, people are not allowed to move out of their houses, remain on the street and the selling of non-essential products.\n",
      "all citizens, who move from one province to another, during the period of temporary lifting of the provincial health fence, are subject to mandatory home quarantine.\n",
      "no visitation to designated hospitals or geriatric centers\n",
      "From Europe, UK, USA, South Korea, Japan, China and Iran, for 14 days\n",
      "For those with symptoms\n",
      "Introduced strict quarantine measures to last for one week. \n",
      "On March 31 the strict quarantine measures were extended to last from April 1 through April 12, 2020. All people must carry their passports and self-declaration forms at all times. Violations of movement restrictions or quarantine may be punishable by law.\n",
      "Self-isolation is mandatory for all persons and leaving the place of isolation is only permitted when going to work, the nearest grocery store, pharmacy or health care facility.\n",
      "14 days self-quarantine, for nationals arriving from China, Italy, Iran or South Korea\n",
      "From 1 May 2020, you must have had your influenza vaccination to visit an aged care facility.\n",
      "All travellers to Australia are required to self-isolate for 14 days, either at home or in a hotel.\n",
      "Australians returning home will not be allowed to complete the mandatory 14-day self-isolation period at home, but will instead be taken straight to a state-run quarantine centre in whichever state their international flight arrives. \"Each person will also receive self-isolation care packages of food and other essentials.\"\n",
      "any non-essential travellers from mainland Tasmania who fly into King or Flinders Island must go into 14 days isolation\n",
      "NSW Police say the state's coronavirus isolation rules will last for at least 90 days.\n",
      "Tasmania closes two hospitals to 'stamp out' coronavirus outbreak in the north-west\n",
      "Introduction of quarantine policiesfor residents of Paznautal and St. Anton (Tirol State) for 14 days meaning nobody is permitted to enter or leave the areas under quarantine while local residents are still permitted to leave their homes\n",
      "Quarantine extended to Sölden and St.Christoph am Arlberg halting all travel from and to the areas\n",
      "Quarantine implemented for the Arlberg region halting all travel from and to the areas; at implementation time limited to 3rd April\n",
      "People previously in the Arlberg region need to follow a 14 day mandatory home quaratine\n",
      "Further exemptions added to cross-border workers beyond essential workers, with quarantine requirement relaxed\n",
      "Quarantine of Heiligenblut village has been lifted\n",
      "For municipalities of Bad Gastein, Bad Hofgastein, Dorfgastein, Großarl und Hüttschlag region\n",
      "Extension until 26th April: Paznauntal under quarantine with persons not allowed to leave the area\n",
      "international travelers with symptoms\n",
      "Residents who have returned from China, South Korea, Italy, Iran will be immediately quarantined for 14 days.\n",
      "residents returning to The Bahamas who have a history of travel to China within 20 days of commencing travel, quarantined on arrival in The Bahamas for up to fourteen (14) days.\n",
      "All Bahamian nationals and residents returning to The Bahamas through any point of entry from any of the restricted countries or an area where community infection and spread is present will be quarantined or be placed under self-isolation upon arrival and expected to follow the protocols of the Ministry of Health.\n",
      "mbulances are to access the hospital via the Maternity Entrance\n",
      "Patients and Visitors are asked to enter the hospital through the new Critical Care Block entrance where they will be directed appropriately. All Maternity patients including maternity day cases are asked to access the hospital via the Maternity Entrance.\n",
      "Only Dialysis patients will be permitted to use the Medical Block entrance. Dialysis patients are asked to present for service at their designated time.\n",
      "All staff are asked to access the hospital via the hospital Legacy entrance. Staff are required to wear their ID badge at all times.\n",
      "disinfecting exercise as a preventive measure to limit the spread of COVID-19. The exercise is being carried out by a team of 12 on rotation, between the hours of 8:30pm to 1am until March 31, 2020; and thereafter if necessary.\n",
      " food shopping schedule; Family Island communities exempted from shopping schedule\n",
      "NASSAU, The Bahamas – The Ministry of Education (MOE) in collaboration with its providers, Aliv and BTC, is designing a platform to allow internet-deprived students, or device-challenged students, to access internet capability, get devices, and alternatively view lessons on two dedicated Cable Channels that will be populated with the appropriate content for their use. T\n",
      "everyone who is travelling from China, Hong Kong, Iran, Malaysia, Singapore, Thailand, South Korea and Italy\n",
      "Enhanced previous measures (ie. screening all arrivals and questionaires) \n",
      " 3mo in jail AND 10,000 BHD fine\n",
      "14 days self-quarantine, foreign nationals arriving from China, Italy, Iran or South Korea\n",
      "Anyone who has been in Italy, South Korea, China, or Iran in the last 14 days will be made to quarantine \n",
      "As of Sunday, 22 March, all visitors arriving from the United States, United Kingdom, and Europe will be subject to a 14-day quarantine. Citizens and residents of Barbados will be subject to a home-quarantine. Failure to comply may result in the offender being placed in mandatory quarantine at a health facility. Disobeying can also result in a maximum fine of $5000.00, or imprisonment of up to 12 months or both. \n",
      "With immediate effect, all arriving passengers who have been in Iran, or Lombardy, Emilia-Romagna or Veneto in Italy in the previous 14 days will be required to report to Port Health at the points of entry.  These passengers will be interviewed by port health officers and sent to mandatory quarantine. The type of quarantine is determined by the level of risk of exposure.  Low-risk individuals, he explained, are sent to home quarantine while moderate to high-risk individuals are sent to mandatory quarantine. Quarantine measures already in place for passengers who have been in Hubei Province in China and South Korea during the previous 14 days.\n",
      "Barbados Government today expanded its quarantine protocol to apply to passengers arriving in Barbados from all of Italy.\n",
      "Persons arriving in Barbados from USA, UK and Europe will be placed in quarantine for 14 days. Quarantine at home if seem healthy or at facility if not. Iran, China, South Korea, and Italy already on list \n",
      " immediate suspension of visiting hours at the Queen Elizabeth Hospital (QEH). only exceptions for those on palliative/end-of-life; pregnant; others at nurses' dicsretion \n",
      "With immediate effect, public and private pharmacies are dispensing up to two months’ supply of pharmaceutical drugs to the public, subject to availability.\n",
      "The Ministry of Small Business, Entrepreneurship and Commerce has advised that a Covid-19 Critical Stock List was tabled by the Ministry last week and agreed upon by the Barbados Chamber of Commerce and Industry (BCCI) at a meeting at the Warrens Office Complex.\n",
      "businesses are being asked to give special consideration to clients of the Welfare Department.\n",
      "Government is asking banks, supermarkets and other commercial establishments to honour all Welfare Department cheques that are presented by its clients, even though they will be dated Friday, March 27, 2020.\n",
      "Special Shopping Hours For Healthcare Workers \n",
      " GSuite App will be administered across the public school system for onliuen schooling from April 14th\n",
      "Care Packages Distributed To Vulnerable Groups\n",
      "to insure adequate access to food supplies: no in-supermarket shopping.  Supermarkets and shops will be open on Wednesday, Thursday, and Saturday during this week.; Orders will be taken by the individual participating supermarkets via websites, telephone call-in, WhatsApp or email; Payment for these orders will be accepted through cash, debit or credit cards.; All persons ordering groceries in this manner will have the option of collecting their groceries in person, through curbside vehicle pickup, or home delivery.; Shoppers who choose to pick up their orders in person will be given specific collection times to reduce the risk of large gatherings that would contravene the requirement for physical distancing.\n",
      "Agricultural Produce To Be Sold By Order Only\n",
      "Shopping schedule for supermarkets, fish markets, hardware stores and banks during the COVID – 19 curfew\n",
      "Specially Designated shopping Days For Seniors & Disabled\n",
      " All nationals coming from an area with ongoing transmission who land in Belize and appear with cold or flu-like symptoms will be placed under self-isolation upon arrival and all cost related to that will be the responsibility of the traveler.\n",
      " All Belizean nationals and residents returning to Belize through any point of entry from any of the restricted countries or an area where community infection and spread is present will be placed under self-isolation upon arrival and expected to follow the protocols of the Ministry of Health.\n",
      "Belizean nationals or residents returning to Belize who have been abroad and believe that they may have been exposed to COVID-19 are asked to contact their local healthcare provider. Non-essential travel by Belizean nationals and residents to other countries is highly discouraged.\n",
      " that all foreigners arriving from the following countries be placed under quarantine at their own expense: China, France, Germany, Italy, Iran, Japan, South Korea, and Spain. Any national returning from these countries, and from cities in the United States that have documented community spread, will be placed under quarantine.\n",
      "All nationals of countries with cases should self quarantine\n",
      "Any traveller entering the country by plane will be quarantined for 2 weeks.\n",
      "People coming from France, Germany, Spain\n",
      "People returning from China, South Korea, Italy, Iran, Germany, France and Spain under 14 days quarantine\n",
      "Interdiction to visits to hospitals and old people retreats\n",
      "Returning citizens and foreign citizens with permanent residence must undergo self-quarantine for 14 days. These measures will involve direct medical surveillance as well as mandatory daily reporting.; people in self-isolation that do not comply may be identified and published online with their name and residency\n",
      "Systematic disinfection of the Federation of BiH begins, starts from Konjic\n",
      "Tents at border crossings established for temporary quarantine until decision on next steps\n",
      "All people (only botswana residents & citizens perimitted) entering the country will be subjected to madatory 14 days quarantine at a government facility. \n",
      "7 days quarantine for international travellers - 14 for people with syntoms\n",
      "Govt. implemented voluntary 7day quarantine \n",
      "Following the introduction of the first case of COVID-19 in Brunei, the MoH made a statement regarding national quarentine policies. This includes that anyone who came in contact with a confirmed case is required \"to undergo mandatory isolation and their health status monitored\".\n",
      "\"Amendments to the Infectious Disease Act (Chapter 204) and its Regulations i.e. Infectious Diseases (Amendment of Schedule) Notification, 2020 dan Infectious Diseases (Quarantine) (Amendment) Regulations, 2020 have gazetted. Under the Act, anyone who, or suspected to be, a case, carrier or contact of an infectious disease may be required to undergo medical examination or medical treatment either in hospital or any other place as determined by the Director-General Ministry of Health. Failure to comply to this provision is an offence under this Law and the person may be ordered to be transferred to a hospital or another place where he can be detained and, if necessary, isolated until examination or treatment has been undertaken...   As such, the person may be fined to up to $10,000 or imprisoned for a period of not more than 6 months or both (first offence). For a second offence, may be fined to up to $20,000 or imprisoned for a period of not more than one year or both.\"\n",
      "All visitors are required to do a 14-day self-isolation from the moment they arrive. \n",
      "Expanding upon rules regarding mandatory isolation that were set to start 20 March 2020, \"the arrival of visitors and foreign workers are not encouraged at the moment. Any foreign workers arriving in Brunei Darussalam is required to borne all isolation costs, including accommodation, meals and all other related costs.\" Additional costs of mandatory isolation facilities are outlined in this announcement.\n",
      "People who have travelled from Italy or China quarantined for 14 days\n",
      "3 years of imprisonment and a fine from 1,000 to 10,000 BGN for anyone who violates ordinances, rules and regulations or measures against the spread of infectious disease and quarantine.\n",
      "\n",
      "Should such an act be committed during an epidemic, pandemic or declared state of emergency is related to deaths from disease, the draft amendments provides for 5 years of imprisonment and a fine of 10,000 to 50,000 BGN.\n",
      "The city of Ouagadougou, Bobo-Dioulasso, Boromo, Houndé, Dédougou, Banfora, Manga et Zorgho are under quarantine for 2 weeks. Entry to these cities is forbidden, excepted for trade. Any other locality with positive Covid-19 cases will immediately be put in quarantine.\n",
      "Quarantine measures for China, France, Germany, Iran, Italy, Japan, South Korea and Spain. The travelers may be quarantined in a Government Hotel Facility in Bujumbura (Hotel Source du Nil) for 14 days.\n",
      "Quarantine for those arriving in the country that have been China, South Korea, Iran, Italy, Germany, France, Japan, Spain, and the rest of the European Union in the last 14 days.\n",
      "Quarantine for those arriving in the country that have been in Dubai in the last 14 days.\n",
      "Everyone with symptoms in isolation centers at Yaoundé Central Hospital, Laquintinie Hospital in Douala, Garoua Regional Hospital, and Kribi District Hospital \n",
      "14  day quarantine for those with symptoms or those returning from cruise ships. Elderly (those over 70) told to stay home\n",
      "New Order Makes Self-Isolation Mandatory for Individuals Entering Canada.  Failure to comply with this Order is an offense under the Quarantine Act. Maximum penalties include a fine of up to $750,000 and/or imprisonment for six months. Further, a person who causes a risk of imminent death or serious bodily harm to another person while wilfully or recklessly contravening this Act or the regulations could be liable for a fine of up to $1,000,000 or to imprisonment of up to three years, or to both. Spot checks will be conducted by the Government of Canada to verify compliance.\n",
      "anyone returning from Wuhan, China placed in isolation\n",
      "All travellers to Canada self-isolate for 14 days upon entry, with exceptions for workers who are essential to the movement of goods and people.\n",
      "14 day selfquarantine for any traveler entering CAR from a country with local COVID-19 transmissions\n",
      "Obligatory quarantine is exteended from 14 to 21 days. \n",
      "Any person suspected of infection must remain at home, excepted if a medical decision states otherwise.\n",
      "Visit to hospital are restricted. \n",
      "China, South Korea, Iran, Italy, and France this list is non exhaustive they may add nationalities with no warning\n",
      "Passengers from Spain or Italy\n",
      "Quarantine of 14 days for Easter Island.  \n",
      "Quarantine around the town of Puerto Williams, ‘sanitary cordon’ around the town of Chillan and San Pedro de la Paz, tightening of sanitary regulations for the whole of Chiloe Island and quarantine around Easter Island\n",
      "People aged 80+ should remain at home under quarantine.\n",
      "all arriving travelers have to quarantine for 14 days, arrivals from China, Macau and Taiwan are exempt from this\n",
      "All international arrivals in Beijing will be required to be isolated at designated facilities even if they do not have coronavirus symptoms, starting March 16. “The D-zone, in Terminal 3, will provide services such travelers need as well as the required procedures, including health examinations, identification checks and transfers.”\n",
      "Starting on March 16, all travelers entering Beijing from overseas were required to be quarantined at designated sites for 14 days. Only people with special circumstances that pass rigorous assessment can be granted self-quarantine at home. “People who are older than 70, minors and pregnant women can apply to do the quarantine at their own homes” < http://en.nhc.gov.cn/2020-03/17/c_77840.htm >\n",
      "Shanghai extends quarantine to inbound travelers from 16 countries: South Korea, Italy, Iran, Japan, France, Spain, Germany, the United States, the United Kingdom, Switzerland, Sweden, Belgium, Norway, the Netherlands, Denmark and Austria.\n",
      "People coming to Wuhan from outside the Chinese mainland will, starting from March 17, be quarantined for 14 days at designated places at their own expense.\n",
      "All people coming to Chongqing Municipality from overseas are subject to temperature screening and nucleic acid testing starting from March 17. People who have normal results but are from countries with severe epidemic situations will be quarantined at designated places for 14 days at their own expense while the rest are subject to a 14-day home quarantine.\n",
      "All people traveling to Shandong from abroad should be quarantined in designated places or at home for 14 days. The rule applies to all inbound travelers, regardless of their nationalities.\n",
      "Beijing municipality has required people arriving in the city from other countries to undergo a self-paid 14-day concentrated medical observation from on March 18\n",
      "From March 19, all travelers from overseas have to be put under quarantine in designated places for 14 days when they arrive in Beijing.\n",
      "Shanghai extends quarantine to inbound travelers from 8 new countries. The list includes South Korea, Italy, Iran, Japan, France, Spain, Germany, the US, the UK, Switzerland, Sweden, Belgium, Norway, the Netherlands, Denmark, Austria, Australia, Malaysia, Greece, Czech Republic, Finland, Qatar, Canada and Saudi Arabia.\n",
      "All travelers arriving at Shanghai airports from countries severely affected by the novel coronavirus pandemic must be escorted to homes or hotels for quarantine, after testing\n",
      "Those categorized as close contacts or with infection risks after epidemiological investigation will be taken to local sites for a 14-day quarantine.\n",
      "The plane will be completely disinfected at the airport before flying to the capital.\n",
      "Those who live in Beijing will be handed over to working groups from their home district stationed at the center and then be sent to designated sites for a 14-day quarantine.Those who do not live in Beijing will be handed over to working groups from their home provinces, autonomous regions or municipalities. The working groups will arrange group trips for them to go home on planes or trains. After arriving at their home destination, they will also be quarantined for 14 days.\n",
      "Beijing to ban hunting, eating wildlife. Penalties described as \"harsh\" \n",
      "Guangdong demands quarantine for all overseas arrivals\n",
      "Zhejiang will quarantine all from overseas\n",
      "Urging elderly care providers in low-risk areas to restore their services, the guideline noted that a 14-day quarantine will not be required among elderly people or staff within the area before their entrance\n",
      "All Catering Premises must abide by the following restrictions from March 28th for a period of 14 days from the 28th march at 6pm: (a) number of customers at any premises on which food or drink is sold or supplied for consumption on site must not exceed 50% of the normal seating capacity of the premises at any one time; (b) tables available for use or being used by customers within any catering premises must be arranged in a way to ensure there is a distance of at least 1.5 metres or some form of partition which could serve as effective buffer between one table and another table at the premises; (c) no more than 4 persons may be seated together at one table within any catering premises; (d) a person must wear a mask at any time within any catering premises, except when the person is consuming food or drink on the premises; (e) body temperature screening on a person must be conducted before the person is allowed to enter the catering premises; and (f) hand sanitisers must be provided at any catering premises for any person at the premises.\n",
      "All people having stayed in overseas countries and territories specified by a general notice in the Gazette for any period during the 14 days preceding arrival in Hong Kong, regardless of nationality and travel documents used, will be subject to compulsory quarantine for 14 days.\n",
      "Ban on sale of alcohol for on premises consumption. \n",
      "Quarantine for 14 days to travellers from Italy, France, Spain and China.\n",
      "all travelers arriving must self-quarantine for 14 days\n",
      "Until 30th of may, every person aged above 70 should self-isolate. \n",
      "International passengers with symptoms\n",
      "14day quarantine for high risk countries including mainland China, South Korea, Iran, Italy. Also for travelers with COVID-19 symptoms.\n",
      "14day quarantine for high risk countries including mainland China, South Korea, Iran, Italy. Also for travelers with COVID-19 symptoms.\n",
      "All travelers entering the DRC who have a fever will be tested, and any persons positive for COVID-19 will be hospitalized at DRC government expense. Both categories will be subject to a mandatory 14-day quarantine.  All persons traveling domestically from Kinshasa to other provinces will be subject to preventative screening.\n",
      "Anyone arriving in Costa Rica from another country must self-quarantine for 14 days.\n",
      "quarantine of 14 days for travelers from risk countries (China, South Korea, Iran, Italy)\n",
      "Forced government quarantine of 14 days for any traveller arriving from China (Hubei), Germany (Heinsburg, NRW), Iran, Italy, and South Korea (Chendong and Daegu). Health monitoring for other countries. \n",
      "Stricter reporting mandated for retirement homes and care institutions \n",
      "All travellers enterring the country should quarantine for 14 days. \n",
      "Tourists who did not leave on the scheduled commercial flights (last one on 1 April 2020) will have to stay in a designated hotel until the Government of Cuba reviews the measures.\n",
      "An area of Vedado in Havana will be quarantined. The area, known as El Carmelo, Plaza de la Revolucion, will be closed from Calle 6 to Calle 28 (east to west) and from the Malecon to Avenida (north to south) approximately. \n",
      "International passengers\n",
      "MSC Shipmanagement Ltd donated 106,000 surgical masks and 100,000 gloves to the Cyprus Government, to assist in the fight against the coronavirus disease outbreak.\n",
      "businesses with regard to their obligations to limit the spread of coronavirus, should organize and implement a disinfection procedure which shall be implemented after the end of every working day in all the premises that are visited by the public to receive services.\n",
      "If an infection is suspected authorities may be directed to a quarantine facility for testing and legally mandated quarantine. \n",
      "Stricter quarantine rules; instead of only applying people arriving from at risk countries and cross-border workers, it now applies for all coming from abroad with some critical exemptions\n",
      "Limitation of visits to hospitals, nursing homes, housing, etc.; relatives are only able to visit a dying or critically ill person; provisionally until 30th March\n",
      "Immigration Service, in consultation with the Red Cross, decided that all newly arrived asylum seekers should stay in Center Sandholm for 14 days after entry \n",
      "Bans on visits for various public and private facilities with vulnerable population groups\n",
      "All individuals identified during contact tracing will be tested and placed under quarantine\n",
      "14 days quarantine for all visitors who have been or transited through Spain, France, Italy and China during the previous two weeks\n",
      "Spreading of disinfectant in public spaces, starting with  San Francisco de Macorís, the national district and the province  of Santo Domingo.\n",
      "Self quarantine for 14 days from people from China, Spain, France, Iran, Germany, South Korea, Italy. / Quarantine in the city of arrival.\n",
      "14-day quarantine in all cases\n",
      "Reutning citizens: must sign an acknowledgement agreeing to go through mandatory quarantine before allowed to board flights home. They will be quarantined in hotels at their own costs for 28 days but don’t need to pay for medical charges.\n",
      "Egyptian authorities closed several hospitals on Sunday, March 29, to disinfect facilities after staff became infected with COVID-19. The affected hospitals include al-Salam hospital, the Alexandria University Hospital (north), and al-Shorouk Hospital in Cairo. \n",
      "several villages across a variety of governorates have been placed under quarantine as of Saturday, March 28, in Upper Egypt due to the amount of local transmissions.\n",
      "ALL travellers from abroad. Quarantine for 30 days.\n",
      "Salvadorian citizens and accredited diplomats will be allowed to enter El Salvador but will be subject to a 30-day quarantine period\n",
      "President of El Salvador has ordered private companies to send employees who are older than 60, who are pregnant or who have underlying conditions, home on paid time off for 30 days. \n",
      "the U.S. government will continue deporting people who attempted to cross illegally, with migrants subject to a medical exam 12 hours before the flight to screen for coronavirus. A U.S. embassy spokeswoman said in a statement that the embassy is working with partners in the region to conduct another medical exam for deported migrants upon their return to El Salvador before they are taken to a “quarantine shelter.”\n",
      "On April 6 , the Government of El Salvador extended the nationwide home quarantine for an additional 15 days\n",
      "All travellers from affected countries, whether showing symptoms or not, must self isolate for 14 days upon arrival\n",
      "Strengthening of quarantine measures: All nationals and foreigners who entered national territory after day one of the current measures who was not placed in quarantine is obliged to go to the Health Authorities so that they may take the necessary steps in order to safeguard the health of others.\n",
      "Under 30 day Health State of Alarm: All travellers coming from affected countries, both national and expatriate, whether or not they are showing symptoms on arrival, must remain in quarantine for a period of FOURTEEN (14) DAYS, during which they may not leave the place of quarantine except via authorisation issued by the competent health personnel.\n",
      "Anyone who enters the country 14 days quarantine.\n",
      "More stringent rules for care homes during the emergency situation, restricting people receiving care from leaving the care home\n",
      "All returning residents will be subject to a mandatory 14-day quarantine in a designated location.\n",
      "14 day quarantine for those have been in Hubei province in the last 14 days. \n",
      "All passengers arriving in Ethiopia will be quarantined for 14 days in designated hotels, at their own cost.\n",
      "foreigners who arrive in ehtiopia and cannot afford to be quarantined at various hotels will be sent to AST University for 15 days mandatory quarantining.\n",
      "People must wear masks in public\n",
      "Fiji’s borders will be closed to all foreign nationals who have been present in mainland China, South Korea, Italy, Iran or Spain within 14 days of their intended travel to Fiji. \n",
      "ravel ban extended to people from the United States and Europe, including the UK. All travellers are required to self-isolate for 14 days upon arrival.\n",
      "Govt instructions issued for people under home based quarantine\n",
      "Strict new procedures in place at Fiji ports for cargo and trucks\n",
      "Recommended for those who have been abroad. 14 days lenght.\n",
      "People arriving from Norway or Sweden under 14 days quarantine (with exemptions, e.g. health workers)\n",
      "those returning from evacuation flights.\n",
      "135 EUR fine for not complying with the movement restrictions, additional police force deployed\n",
      "14 days quarantine for travellers coming from unspecified \"risk zones\"\n",
      "Quarantine of greater Libreville.\n",
      "All travellers from hotspot countries will be isolated for fourteen (14) days upon arrival in The Gambia. \n",
      "People having travelled in France, Germany, Austria, Spain, China, Iran, South Korea and Italy for 14 days\n",
      "14 day home quarantine for anyone returning from highrisk areas in past 2 weeks - anyone with symptoms/postivie: hospital quarantine \n",
      "imposing fines and/or detention for violations of self-isolation and quarantine, and other provisions. \n",
      "travelers arriving from Austria, Italy and Switzerland are asked to self-quarantine for 14 days\n",
      "Mandatory quarantine for 14 days for all persons arriving in Germany to their residency (exemptions for cross-border workers and short-term business travelers, etc.)\n",
      "People coming from abroad\n",
      "Mandatory self quarantine for people who are allowed enter the country. People deemed unable to satisfactorily self-quarantine will be quarantined by the state.\n",
      "mandatory 14 day self-quarantine on all international arrivals.\n",
      "You will be quarantined for a period of 14 days upon arrival into Grenada, if you are a Grenadian National or Resident.\n",
      "Diplomats and residents coming from those countries are put in 7 days home quarantine\n",
      "Guatemala's government said Wednesday it will resume receiving deportation flights from the United States next week. It had suspended the flights during Holy Week after three deported Guatemalans later tested positive for COVID-19.Guatemala's Foreign Affairs ministry also said the Central American country was preparing temporary reception centers for migrants deported by the U.S. on an air force base so they could be monitored in line with health protocols. The government had said Tuesday that in spite of its suspension of deportation flights, it had allowed a flight carrying 20 unaccompanied minors to land because it did not want them to be detained for an extended period in the U.S.\n",
      "All travellers who have been in countries with active transmission will be required to surrender their passports and report their temperature to Ministry of Health officials twice a day for 14 days.\n",
      "Quarantine restrictions of 14 days have been introduced for travellers from affected countries.\n",
      "From above places self isolation for 14 days\n",
      "Individuals with symptoms consistent with COVID-19, who within the last 14 days have been in contact with a confirmed case of COVID-19, or traveled to a country with confirmed cases, may be isolated in a medical center for monitoring by the Ministry of Health for up to 14 days.\n",
      "Those who may have been infected are being quarantined for 2 weeks.\n",
      "Lakatos said any foreign patients who refuse to cooperate with the authorities risk being expelled from Hungary\n",
      "A sign from the authorities (“red card”) must be posted on the door which serves as a warning to everyone that there is a person inside who is under disease control observation. By violating the rules of quarantine, the person under observation commits a crime. People selected for compulsory home quarantine are required to dispose of household rubbish sealed in double bags and then discarded in the bin. They are allowed to take delivery of any mail or other delivery at the door as these instances do not qualify as close physical contact. Proceeding in the same manner, they are also allowed to receive food brought for them by relatives. Those in quarantine who are unable to arrange for their supplies can request assistance from the local government.\n",
      "People displaying mild symptoms must remain in stay-at-home quarantine.\n",
      " People with severe symptoms, those who fall into any of the high-risk groups and those who require hospital care will naturally be hospitalized.\n",
      "14 day self-quarantine for all those arriving from high risk places. \n",
      "All people arriving to Island are mandated to self-quaratine for 14 days, irrespective of place of departure and nationality\n",
      "Incoming travelers (including Indians) have visited China, Italy, Iran, Republic of Korea, France, Spain and Germany after 15th February, 2020 quarantine 14 days\n",
      "Introduction of quarantine policiesfor travelers expanded to those coming or transiting from UAE, Qatar, Oman, Kuwait starting 18 March until 31 March\n",
      "Indian citizens are advised to refrain from travel to China. People travelling to China henceforth will be quarantined on return. Indian citizens are advised to refrain from non-essential travel to Singapore, Republic of Korea, Iran, and Italy. \n",
      "People coming from Republic of Korea, Iran and Italy or those having history of travel to these countries may be quarantined for 14 days on arrival to India.\n",
      "all passengers having travel history to China, Hong Kong, Republic of Korea, Japan, Italy, Thailand, Singapore, Iran, Malaysia, France, Spain and Germany are advised to undergo self-imposed quarantine for a period of 14 days from the date of their arrival. \n",
      "Incoming travelers, including Indian nationals, are advised to avoid non-essential travel and are informed that they can be quarantined for a minimum of 14 days on their arrival in India. Indian nationals are further strongly advised to refrain from travelling to China, Italy, Iran, Republic of Korea, France, Spain and Germany. \n",
      "All asymptomatic individuals who have undertaken international travel in the last 14 days should stay in home quarantine for 14 days, be tested only if symptomatic, and all family members living with a confirmed case should be quarantined. \n",
      "nan\n",
      "If the additional screening shows initial symptoms of Covid-19, a 14-day observation in a government facility will be applied\n",
      "Controlling drivers temperature on selected roads\n",
      "all people returning to Israel have to self-quarantine for 14 days\n",
      "All people with a temperature of 38 Celsius or more and respiratory symptoms (cough or shortness of breath) must stay home for two days after the fever has dropped, even if they did not arrive from abroad, or did not have contact with a confirmed patient.\n",
      " People who return to Israel from anywhere in the world must be placed under home isolation for 14 days counting from their date of return. If you had returned to Israel in the last 14 days from anywhere in the world, or if you are under home isolation and have fever 38C (100.4F) or higher, cough, trouble breathing, or other respiratory symptom, immediately enter home isolation, immediately call the 101 MDA Emergency Services Hotline for medical advice, and do not go to an HMO clinic or emergency ward. You must complete 14 day period, even if you were tested negative for COVID-19.\n",
      "\n",
      "This requirement replaces the home isolation required of travelers from Austria, Italy, Andorra, Germany, Hong Kong, Japan, Egypt, Macau, mainland China, Singapore, San Marino, Spain, France, South Korea, Switzerland or Thailand that was effective until March 9 2020.\n",
      " home quarantine is required of travelers from China only – that is, any person who has arrived from China, and China alone, less than 14 days ago.   \n",
      "expansion of home quarantine order to those returning from Thailand, Hong Kong, Singapore, Macau\n",
      " violation of the quarantine order may result in criminal charges, with a penalty of up to 7 years imprisonment if the violation was intentional, and up to 3 years imprisonment if it was negligence\n",
      "Any individual who had close contact with the (South Korea) pilgrim group must stay in a 14-day home quarantine counting from the latest date of contact with the group.\n",
      "Additionally, any individual who visited South Korea or Japan in the last 14 days must remain in a 14-day home quarantine counting from the latest date he/she left these places, in addition to travelers from China, Hong Kong, Macau, Singapore, and Thailand.\n",
      " all travelers from Italy in the last 14 days must be placed under a 14-day home quarantine.\n",
      " Any person who visited these places and had close contact - being less than 2 meters for 15 minutes or more - of the confirmed case from Italy - must be placed under 14-day home quarantine and send a questionnaire to the Ministry of Health or the Health Ministry Hotline *5400.\n",
      "a *decree* will be published, obliging Israeli residents who have stayed in China over the last 14 days to remain in home quarantine until 14 days since the date of departure from China have passed.  Also, anyone who visited the same places at same time as Greek tourist group with confirmed cases must immediately enter 14 day quarantine (itinerary of group provided) \n",
      "The temperature of all travelers returning home will be checked \n",
      "All people coming from China or other risk areas have to give notice to the officials and a 14 days fiduciary self-isolation applies\n",
      "Research on COVID-19 spread in residental and social structures initiated\n",
      "Additional trials for drug testing authorized\n",
      "Post and Carabinieri to support delivery of pensions to elderly to avoid their increased exposure during collection\n",
      "Citizens, non-Jamaicans with permanent residency, and those with marriage exemptions who have travelled to China, Iran, Italy, South Korea, and Singapore in the past 14 days will be subject to health assessments and quarantines.\n",
      "Airline crew will be given special permission to enter the country but are expected to remain in specified locations with restricted movement. \n",
      "All travelers from countries w/ transmission of the COVID-19 are required to self-quarantine for 14 days. Those with symptoms are placed in govt. isolation/quarantine facilities\n",
      "targeted to those returning from Wuhan and medical/quarantine procedures for all confirmed-cases. \n",
      "Passengers on the Diamond Princess ship over 80 years of age are no longer allowed to open or close their windows. \n",
      "If passengers on the Diamond Princess ship test negative for COVID-19 and wish to disembark, they are required to disembark and wait in isolation for incubation period. (Ship completely disembarked on March 1, as confirmed here: < https://www.mhlw.go.jp/stf/newpage_09889.html >)\n",
      "Anyone who has boarded an airplane or ships arriving from China or Republic of Korea at or after 0:00 on March 9 (JST) and not be isolated or stopped is required to stay 14days at a location designated by the quarantine station chief and not to use public transportation in Japan.\n",
      "Anyone who has boarded an airplane or ships from European countries, or Egypt at or after 0:00 on March 21 (JST) and not be isolated or stopped is required to stay 14days at a location designated by the quarantine station chief and not to use public transportation in Japan. \n",
      "Anyone who has boarded an airplane or ships from United States of America at or after 0:00 on March 26 (JST) and not be isolated or stopped is required to stay 14days at a location designated by the quarantine station chief and not to use public transportation in Japan.\n",
      "nationals arriving from the subject countries (Note) to wait 14 days at a location designated by the quarantine station chief and to refrain from using public transportation will be introduced.\n",
      "Anyone who has boarded an airplane or ships from Indonesia, Singapore, Thailand, Philippines, Brunei Darussalam, Viet Nam, Malaysia, Israel, Qatar, Democratic Republic of the Congo or Bahrain at or after 0:00 on March 28 (JST) and not be isolated or stopped is required to stay 14days at a location designated by the quarantine station chief and not to use public transportation in Japan. \n",
      "From 0:00 am, April 3rd, 2020 (JST), the measures to call upon all nationals to stand by for 14 days at a location designated by a quarantine station chief and to refrain from using public transportation will be introduced.\n",
      "passengers arriving with symptoms have to quarantine for 14 days in a hospital in Amman\n",
      "all nationals returning have to undergo 14 day quarantine\n",
      "Self-quarantine for all those who have entered the country over the last 14 days and for those who do arrive after the stricter measures to quarantine as well. \n",
      "All passengers arriving in Kenya from now until the flight suspension on the 25th must undergo mandatory quarantine at government facility at their own expense.\n",
      "All Kenyans are required to wear a mask when in public areas\n",
      "Starting today, all salon and barbershop operators must wear masks when attending to clients and must have hand sanitizers\n",
      "All passengers who have been in a country with confirmed cases of COVID-19 must have stayed in a country with no confirmed cases for at least 14 days and provide medical clearance to confirm that they are free of the virus prior to entry.\n",
      "All passengers traveling from Kiritimati to Nadi on the Honolulu-Xmas-Nadi flight need to be quarantined in Fiji for 14 days before traveling back to Kiribati. Medical clearance can be obtained in Nadi from Zens clinic in Namaka town and in Suva from Tebana’s surgery. MHMS Kiribati will add more clinics in due course\n",
      "Quarantining exports and imports. Installing disinfection equipment.\n",
      "nan\n",
      "KCDC designated Italy and Iran as the quarantine inspection required areas. Therefore, anyone with suspected symptoms should submit a health questionnaire at the point of entry, pass the special entry procedure, and install self-diagnosis application on their cell phone. They could be quarantined at the quarantine station and get tested for COVID-19 when necessary.\n",
      "stronger entry procedures will be implemented from 22 March for persons traveling from Europe. All persons arriving from Europe will be required to answer a questionnaire on their health condition, get checked for fever, and get tested after being escorted to an appropriate facility — quarantine facility for persons with symptoms and designated temporary living facilities for those without symptoms. Those whose test comes out positive will either be moved a hospital or a Life Treatment Center based on the severity level assessed for each case. In principle, Korean citizens or resident aliens who test negative go into self-quarantine at their place of residence. Those without a place of residence in Korea will be quarantined at a facility. Foreigners who are temporarily staying in Korea for a short time will subject to active monitoring during their stay in Korea.\n",
      "Anyone having respiratory symptoms at the point of entry or epidemiological links with confirmed cases will be quarantines for testing at quarantine station. The inbound travelers with no symptoms will stay at temporary support facilities by getting the result of test.\n",
      "Arrivals from any risk country are put in mandatory institutional quaratine\n",
      "Kuwaiti citizen and people entering from any country will be put under 14 days quarantine\n",
      "Kuwait Health Ministry urges COVID-19 recovered persons to donate blood\n",
      "People transited in category 2 and 3 countries need to isolate for 14 days\n",
      "14 days for everyone coming from country at COVID risk\n",
      "returning citizens and non-citizens with residence permits are permitted to enter until 16 March but have to quarantine for 14 days\n",
      "travellers with symptoms have to self-isolate for 14 days\n",
      "Travellers from China and other COVID-19 affected areas are requested to self-quarantine for 14 days.\n",
      "All new arrivals in the country will be quarantined for 14 days.\n",
      "Lesotho has prohibited the sale and purchase of alcohol during 24-day nationwide lockdown.\n",
      "For people coming from countris with more than 200 cases. For 14 days. For people coming from Italy, Iran, China, South Korea, France, Germany, Japan, Spain, quarantine in dedicated structures.\n",
      "People returning from abroad should home-quaratine for 14 days, exception of drivers and alike\n",
      "All people arriving at airport to be mandatory quaratined, some foreigners (e.g. transit) may be exempted; fines implemented and increased on 01.04.2020 to max 6000 EUR \n",
      "Disease transmission study in 1500 persons \n",
      "International passengers with symptoms\n",
      "Every person coming from Europe before 19.03 is quarantined.\n",
      "All travellers entering the country must self quarantine in Tananarive. If they do not have a place to stay there, they will have to quarantine in a dedicated public building.\n",
      "If history of travel in the previous 14 days in China and other risk countries and with symptoms, home isolation for 14 days. Plus daily chekups\n",
      "Travelers from the following countries will be required to undergo a 14 days Self-Quarantine due to the COVI-19 pandemic: China, Italy, Islamic Republic of Iran, Republic of Korea, Germany, France, Spain, USA, Switzerland, Denmark, Sweden, UK, Nederland, Norway, Belgium, Austria, Japan, Finland and Greece.\n",
      "Returning residents and nationals from Coronavirus affected countries will be subjected to self or institutional quarantine.\n",
      "All childcare institutions (orphanages), in collaboration with District Social Welfare Officers should immediately assess and recommend for reintegration of children that may be reintegrated without posing risk for their safety, health, nutrition and general wellbeing. Children should be provided mental health and psychosocial support to support the transition to the new environment.\n",
      "Principals of reformatory centres should quickly assess and recommend for release children who committed minor offences or those that have shown good behavior. The list of assessed children should be submitted to the Chairperson of the Child Case Review Board for possible release as one way of decongesting reformatory centres.\n",
      "the Districts Social Welfare Officers in collaboration with relevant stakeholders should remove all street connected children and immediately reintegrate them with their families and provide shelter, food and other essential needs to children who may not be immediately reintegrated while assessments are underway.\n",
      "From 18 -31 March 2020, all Sabahans including their spouses and children who hold long-term social visit passes can return to the State, subject to a recommended 14-day self-quarantine.\n",
      "\n",
      "Malaysians who have returned from overseas have to go for a health check-up and undergo self-quarantine for 14 days,\n",
      "All Malaysians (inc non-citizens) who return to the country from April 3 will be immediately quarantined for 14 days. This applies those entering the country through all entry points. People will immediately sent to government quarantine centres as soon as they arrive..\n",
      "From 3 April, there is a 14-day mandatory quarantine for passengers, including Malaysians, foreigners holding long-term pass, diplomats and other diplomatic and consular staff, arriving into the country.\n",
      "From April 3 Travellers with onward domestic connections must undergo the mandatory 14-day quarantine before being allowed to proceed to their domestic destinations.\n",
      "From April 3, passengers with connections to Sabah and Sarawak (both East Malaysia) are allowed to undergo quarantine upon arrival in their respective states. These travellers are not allowed to leave the airport building and must have a transit time of less than 24 hours.\n",
      "travelers with minor symptoms from countries with more than 500 cases of COVID-19 have to self-isolate for 14 days; travelers with major symptoms from severly affected countries have to remain at an isolation site for testing an quarantine\n",
      "all travellers arriving in Malta from Spain, Germany, France, Switzerland have to undergo 14 days quarantine\n",
      "mandatory quarantine upon arrival for travellers from Italy, China, Singapoure, Japan, Iran, South Korea starting 27 February\n",
      "as of 13 March, all travellers arriving in Malta have to quarantine regardless of country of departure; the same is true for people co-living with them; enforcable with 3000 EUR max fines\n",
      "Vulnerable people (e.g. elderly, people with chronic conditions) are not allowed to leave their residency\n",
      "Supply ships must wait at sea 14 days before being permitted to berth\n",
      "Fishing vessels that are based in the Marshall Islands are allowed to return to homeport but must spend 14 days at sea prior to entry. Earlier, Majuro-based fishing vessels were allowed in earlier than 14 days, with the requirement that all crew stay on board until they met a 14-day quarantine period. This was changed, however, after earlier this week several Marshallese fisherman aboard a locally-based purse seiner that arrived after 11 days from its last port of call went straight to shore to their families' homes.\n",
      "Container ships and fuel tankers also must meet a 14-day quarantine period at sea before arriving in ports in the Marshall Islands.\n",
      "all travellers have to quarantine for 14 days upon arrival if they arrive from China, France, Iran, Italy, South Koea, Spain; starting 17 March quarantine applies to all travellers arriving in Mauritania\n",
      "quarantine for all travellers arriving from China\n",
      "Persons who traveled through France or Germany in the past 14 days will be placed in quarantine only if that person presents symptoms of fever, cough, or difficulty breathing. \n",
      "Mauritian nationals, residents, their spouse and children coming from china or having travelled through china within the last 14 days will be allowed entry in the republic of Mauritius and will be placed in quarantine.\n",
      "Mauritians from South Korea, the 3 provinces in Italy with COVID-19—Lombardy, Veneto, and Emilia Romagna—will automatically be placed in quarantine. Passengers from Japan and Singapore who present symptoms, especially fever and cough, will be placed in quarantine. \n",
      "Mauritian citizens and residency who traveled through Italy (no longer limited to the 3 provinces) and Iran will be placed in automatic quarantine. \n",
      "Maurician citizens and residents will not be included in the travel ban, but will be placed into quarantine upon arrival. “Les passagers mauriciens et résidents mauriciens sortant des régions mentionnées ne seront pas concernés par l’interdiction d’entrée sur le territoire mauricien. Ils seront toutefois automatiquement placés en quarantaine dès leur arrivée à Maurice.”\n",
      "Fishing vessels licensed in the FSM and arriving into the nation's borders are still subject to their requirements, including 14-day quarantines.\n",
      "The FSM has now waived the 14-day quarantine period for cargo and tanker vessels \"to ensure the continued supply of essential goods and services,\"\n",
      "National Emergency Commission decided yesterday (26 March) to extend the quarantine period of suspected people to 21 days from 14 days.\n",
      "compulsory 14 day self-isolation period for all those coming from abroad\n",
      "fined and/or arrested, and sentenced to up to a year in prison. army ensures quarantine and self-isolation measures are respected.\n",
      "Travellers from COVID countrues for 14 days at home. Checked by authorities\n",
      "Mozambique will subject all travellers , Mozambicans or foreigners, entering the country to a mandatory 14-day home quarantine\n",
      "The Mozambican Government has mandated a 14-day self-quarantine for all arrivals, regardless of citizenship or prior travel.\n",
      "from 1 April SoE: A 14-day quarantine period is imposed on anyone who has been in contact with people known to be infected with COVID-19.\n",
      "Cargo carriers to / from Mozambique cannot leave the cabin, otherwise they must comply with quarantine\n",
      "Chimoio municipality last week launched a spraying campaign at the main entrances to the city, covering all vehicles, including motorcycles and bicycles, and obliging all public transport users, workers and passengers alike, to perform the mandatory hand washing.\n",
      "All Myanmar nationals who have been to high-risk areas (such as Hubei in China & Daegu and Gyeongbuk in Korea) in the past 14 days shall be subjected to 14-day facility quarantine upon arrival. Facility quarantine is defined as “public buildings or/and hospitals”. All incoming travelers who have been to the Republic of Korea outside high-risk areas in the past 14 days shall be subjected to 14-day home quarantine upon arrival. All incoming travelers from Italy, Iran, France, Spain ad Germany subject to 14-day facility quarantine. \n",
      "All passengers, including incoming Myanmar nationals, will be subject to a 14-day facility quarantine upon arrival. Diplomats will be subject to home quarantine for 14-days upon arrival. \n",
      "All incoming travellers including Myanmar nationals arriving from or having visited USA, Switzerland, UK, the Netherlands, Austria, Belgium, Norway, Sweden and Denmark in the past 14 days shall be subject to 14-day facility quarantine on their arrival in Myanmar. The earlier precautionary measures issued on 15 March 2020 shall also remain in force until further notice. \n",
      "Myanmar nationals who were working in Thailand are advised to stay at home or a designated place in a responsible manner for home or facility quarantine for 14 days to prevent the spread of the disease.\n",
      "All returning Namibians and permanent residents arriving from countries at high risk or from affected other countries will be subject to supervised self- quarantine from 14 days\n",
      "Stringent quarantine and border protection measures are in place, requiring all travellers to spend 14 days in approved transition accommodation, before being allowed into the community.\n",
      "Travellers denied entry to Nauru who have had direct contact with a confirmed case in the previous 21 days, or have travelled from or transited through Mainland China, Hong Kong, Macao, Korea, Iran, Europe, USA or Asia (except Taiwan) within the previous 21 days\n",
      "All ships must spend 14 days at sea without contact with other vessels before entering Nauru's port.\n",
      "transit station -> observation station -> treatment station levels of quarantine/treatment established\n",
      "no photography, livestreaming, twitter or social media permitted in designated residences for quarantine\n",
      "Issuance of rules of residence for designated treatment houses. National Emergency for the Management and Minimisation of the Impacts of Coronavirus (COVID-19) Regulations 2020\n",
      "Foreigners arriving in Nepal with valid business, study, work or offical visa (14 days)\n",
      "All arrivals into Nepal 14 day self-quarantine\n",
      "The Coronavirus Control High-level Task Force has also warned that the Home Ministry will enforce a law to imprison those who return from abroad not staying in quarantine for 14 days. The penalty for non-compliance is up to six months in jail.\n",
      "residents with symptoms requested to self-quarantine for 14 days\n",
      "All new arrivals from other countries must self-quarantine for 14 days (except for those arriving from selected Pacific countries).\n",
      "All returning residents and citizens must isolate themselves for 14 days upon arrival inc NZ citizens from Tokelau, Cook Islands and Niue travelling to New Zealand\n",
      "everyone arriving into NZ would be screened, and those without self-isolation plans taken to approved facilities around the country. The MoH said campervans set up and on stand by at the ASB showgrounds in Greenlane were part of our precautionary approach to ensuring travellers returning to New Zealand could isolate. Campervans and hotels will be used in Auckland, Wellington and Christchurch as accommodation for people potentially returning to New Zealand from overseas during the Alert Level 4.\n",
      "Managed isolation of new arrivals to New Zealand. All travellers entering NZ from 10 April 2020 are required to either go into 14 days of “managed isolation” in a government-provided facility (hotel), or if symptomatic to go intoIt is no longer possible to self-isolate at home, or to take a regional flight before the 14 day period is completed. a quarantine facility (separate hotel).  \n",
      "Visitors and Nigerien nationals arriving from countries affected by the COVID-19 pandemic must self-isolate for 14 day\n",
      "The city of Niamey is subject to a health confinement for a period of two weeks\n",
      "For people who are suspected to have contracted the virus\n",
      "All travelers returning from these countries prior to the restriction will be supervised in self-isolation\n",
      "citizens entering from high or medium risk countries are ordered to self-isolate for 14 days\n",
      "The government of North Macedonia has implemented mandatory quarantine for Debar and Centar Zhupa Municipalities in western North Macedonia.\n",
      "all arriving travelers (exept from Sweden or Finland) are requested to self-quarantine for 14 days upon entering Norway, including those who have arrived since 27 February\n",
      "All people arriving in Norway are required to go into quaratine (also people from Finland and Sweden)\n",
      "People with close contact to a confirmed case need to self-quarantine; also rules around self-isolation were updated\n",
      "travelers from China, South Korea, Italy, and Iran for 14 days. travelers from Egypt who entered Oman after February 22 home quarantine and call the Ministry of Health for additional quarantine guidance.  Home or institutional quarantine will also apply to individuals who have had close contact with a confirmed case of COVID-19 or individuals with a severe acute respiratory infection.\n",
      "either home or institutional quarantine for all travlers entering Oman (14days)\n",
      "14 days quarantine for travellers from Cina, South Korea, Italy and Iran\n",
      "All incoming travelers are subject to a mandatory 14-day in-home quarantine. Transiting travelers who do not leave the airport are being permitted to continue their journeys. \n",
      "people who break health regulations and quarantines could be fined​ between $50,000 to $100,000.\n",
      "Canadian miner First Quantum Minerals has placed its Cobre Panama operation into care and maintenance, after the Healthy Ministry of Panama (Minsa) this week ordered the temporary suspension of labour activities at the site.\n",
      "14-day quarantine and medical clearances for all incoming travellers from countries affected by coronavirus.\n",
      "Illegal border crossers arrested and quarantined in PNG\n",
      "Calls for evacuation of Australian refugees from Nauru, PNG. The Refugee Council of Australia agreed that health systems in PNG and Nauru could not withstand full-blown outbreaks.\n",
      "Covid-19 Rapid Response Team flew from Port Moresby to the province late Tuesday with supplies and test kits. A team of medical workers with the WHO and UNICEF also flew in to work on contact tracing.\n",
      "Any non-PNG citizen or non-permanent resident returning to PNG by aircraft to be quarantined at a designated hotel in Port Moresby at the individual's cost\n",
      "Any traveller entering the country by air or land should self-quarantine for 14 days.\n",
      "People who have tested positive for COVID-19 and do not need to be admitted to hospital, will stay in specialised shelters. This includes the those who would like to do so voluntarily; those in vulnerable situations whose accommodation is not suitable for self-isolation; those who have broken self-isolation; and those who have come from abroad and tested positive during their quarantine period.\n",
      "Self quarantine for people who transited France, Italy, Spain and China\n",
      "Metropolitan Manila (with school closure included)\n",
      "Mandatory 14 day quaratine for Filipino repatriats\n",
      "Polish citizens and foreigners with permission to work and reside in Poland who return from abroad will be required to quarantine for 14 days after returning; fines increased on 23.03.2020 to 30.000 PLN due to non-compliance issues\n",
      "Extension until 26th April: mandatory quarantine for arriving persons (with exemptions)\n",
      "People who have to undergo 14 day quarantine after arriving in Poland, if covered by sickness insurance, are entitled to benefits\n",
      "travelers arriving from France, Germany, Spain and Italy have to quarantine for 14 days \n",
      "All returning travellers - mandatory 2week quarantine \n",
      "Quarantine for those asymptomatic individuals arriving in Romania through land or air points of entry and originating from or transiting within the previous 14 days any country with at least 500 confirmed cases of COVID-19, must self-isolate at home for 14 days.\n",
      "14 day self-isoation \n",
      "\"Failure to comply with the emergency measures provided for in art. 1-7 attracts disciplinary, civil, contraventional or criminal liability\"\n",
      "People over 65 are only allowed to leave home between 1100 and 1300 for activities are restricted to shopping, caring for a minor or elder and individual walks, and between 2000 and 2100 to walk pets near their residence. *exception medical assistance \n",
      "Employees will need to show declaration with basic details and reason for travel* Exception are the cargo transports, humanitarian, technical, and mail transports.\n",
      "Citizens abroad: return of Romanian citizens abroad temporarily and who were affected by the measures to restrict air transport adopted in the context of the management of the COVID-19 pandemic\n",
      "14-day self Quarantines in place for those arriving from China and . Country specific Quarantines are also in effect in Moscow (see below)\n",
      "Visitors should self-isolate for 14 days if they are arriving from China, South Korea, Italy, Iran, France, Germany, and Spain. \n",
      "March 26 – April 14, individuals who are 65 and older in Moscow must self-quarantine.\n",
      "Moscow: From 30 March, all people (regardless of age) in the capital Moscow and the rest of the Moscow Oblast should self-isolate at home until further notice. All non-essential movement in the city will be banned although entering and exiting Moscow will still be possible, and walking pets at a distance may not exceed 100 meters from one’s residence\n",
      "The Moscow healthcare department confirmed the newly introduced mandatory self-quarantine restrictions are applicable to all travellers arriving in the country. Short-term passengers will be quarantined for the period of their trip if less than 14-days; there are no restrictions on them taking their outbound flights. It is still unclear how this will be controlled and what the penalty will be for non-compliance.\n",
      "Individuals within Moscow found to be infected with COVID-19 but who display only mild symptoms are to be treated under the supervision of doctors at home and will receive antiviral drugs.\n",
      "Sobyanin signed a law imposing fines on Muscovites found to be violating the city's self-isolation orders. Individuals will be fined up to 4,000 rubles ($50) for first-time offenses and up to 5,000 rubles ($63) for repeat offenses. Businesses will be fined up to 40,000 rubles ($500) for violating the order. Legal entities will be fined up to 300,000 rubles ($3,800) for first-time offenses and up to 500,000 rubles ($6,300) for repeat offenses.\n",
      "Several regions of Russia have enacted region-wide stay-at-home orders for residents, following suit with Moscow's quarantine:\n",
      "No cases at this time, but Rwanda introduced strict quarantine procedures. \n",
      "All travelers presenting one of the COVID-19 symptoms and coming from endemic countries will be taken for isolation at nearest hospital. \n",
      "Mandatory 14-day quarantine, including self-isolation for travelers who arrived within the past 14 days. \n",
      "nan\n",
      "travelers from Hong Kong, Republic of Korea, Japan, Italy, and Singapore to be quarantined for 14 days \n",
      "extension of the quarantine requirement to include all regions of Italy in view of the COVID-19 outbreak in that country.\n",
      "Cabinet granted approval for persons with a travel history which includes Iran to be quarantined for fourteen (14) days.\n",
      "Approval was granted to continue quarantine requirements for persons with a travel history that includes the following countries, for 14 days: China, South Korea and Italy.\n",
      "Approval was granted to discontinue quarantine requirements for persons travelling from the following countries: Singapore, Hong Kong and Japan.\n",
      "Approval was granted to implement active surveillance of persons with a travel history that includes countries  with community transmission.\n",
      "Quarantine of non-residents will be at the cost of the traveler.`\n",
      " addition to persons arriving from mainland China, persons arriving from Japan, Hong Kong, Singapore, Macau and South Korea will also be quarantined for 14 days. \n",
      " a group of students, teachers and chaperones who recently returned from Guadeloupe are on mandatory quarantine for 14 days. Household members of these persons have been advised to voluntary quarantine themselves.\n",
      "HEOC/COVID-19 Task Force Advisory: Quarantine Requirement For Travellers From Canada\n",
      "Individuals entering St. Vincent and Grenadines from the above listed countries will be subject to a mandatory quarantine for 14 days after leaving their port of departure. The quarantine will be actively monitored by Public Health Officials and members of the Royal St. Vincent and the Grenadines Police Force and Coast Guard, and will remain in effect whether the individual travels to or from the Grenadines.\n",
      "The Ministry of Health, Wellness and the Environment will not hesitate to seek court orders to enforce this quarantine requirement as evidenced by the court orders secured and served on the entire group of passengers who arrived on AA 1427 on Saturday, March 28, 2020.\n",
      "Additionally, effective March 28, 2020, all arriving passengers who meet the quarantine requirement will be required to sign an Undertaking to Quarantine form issued by the Ministry of National Security, Air and Seaport Development. Any breach of this undertaking will result in appropriate action under the Laws of St. Vincent and the Grenadines.\n",
      "All persons previously instructed to be under quarantine are reminded that the instruction is mandatory and any breach may result in imprisonment and or a fine.\n",
      "Six hotels in Samoa's capital Apia are accommodating 190 travellers during their 14 day quarantine period under the State of Emergency implemented because of the global Covid-19 pandemic. The addition of hotels to government quarantine facilities was given the green light by the Ministry of Health.\n",
      "For people with syntoms (temperature 37,5plus and flu like)\n",
      "Strict limitations to access health facilities in non-visit hours.\n",
      "Disinfect each transport vehicle (inside and outside) at least once daily. Staff is provided PPE. Legal penalties for non compliance. \n",
      "as of 15 March, also Serbian citizens entering have to undergo self-isolation for 14 days\n",
      "Introduction of new quarantine policies. 2 Seychellois students in Wuhan were transferred to France, where they will stay for 14 days, per health requirements. This is the first logged announcement of the 14-day quarantine policy that was released by the Seychellois government. \n",
      "“All returning residents who have been to China, including the SAR of China and any other countries where there has been significant local transmission will be put under obligatory quarantine at the Military Academy in Perseverance for 14 days upon arrival.”\n",
      "Returning Seychellois citizens from China, South Korea, Italy, and Iran will be put under obligatory quarantine for 14 days upon arrival. \n",
      "Expanding obligatory quarantine for 14 days upon arrival to include travelers from Spain. \n",
      "Expanding obligatory quarantine for 14 days upon arrival to include travelers from ANY country in Europe including the United Kingdom, Switzerland and the French Departments of Reunion and Mayotte.\n",
      "All Seychellois residents returning from overseas are to be quarantined at home with appropriate follow up from surveillance team and the support of law enforcement.\n",
      "Expanding obligatory quarantine for 14 days upon arrival to include travelers from the United States and Australia. All arrivals may be subject to quarantine. \n",
      "Mandatory quarantine measures applying to British nationals arriving in Sierra Leone from Monday 16 March 2020 from the UK and other countries with more than 50 confirmed cases of coronavirus (COVID-19). If travel history to China the quarantine is in one of the designated hospitals.\n",
      "If you have traveled to or transited through, within the last 14 days before arriving in Sierra Leone, any country with 50 or more confirmed cases of coronavirus, you will be required to enter facility quarantine for up to 14 days.\n",
      "If you have traveled to or transited through, within the last 14 days before arriving in Sierra Leone, any country with less than 50 confirmed cases of coronavirus, you will be required to home quarantine for up to 14 days.\n",
      "For all people coming from abroad 14 days.\n",
      "All persons traveling to Slovakia, which means both Slovak and foreign nationals, obliged to be isolated in state quarantine centres for 14 days (exemptions on state centre isolation for vulnerable persons, including pregnant women and elderly)\n",
      "All persons returning from abroad need to inform a general health practicioner about it\n",
      "All international travellers to Solomon Islands are required to undergo 14 days of self-quarantine.\n",
      "All citizens not working and living in Honiara are encouraged to return or relocate to provinces immediately. All citizens in the provinces are advised to NOT undertake any non-essential travel to Honiara with immediate effect.\n",
      "All cargo ships, including all logging, mineral ore and fishing vessels must serve the 14 days quarantine period at sea and can only be cleared at Noro and Honiara Ports.\n",
      "Those arriving in Somalia, who travelled through affected countries, will be quarantined for and will undergo mandatory two weeks coronavirus screening to stem the spread of the coronavirus.\n",
      "Individuals who travelled from high risk countries since 9th of march will be expected to self quarantine for 14 days.\n",
      "travelers from coronavirus affected countries are required to self-quarantine, including appointed ministers and deputy ministers\n",
      "Transport companies are being distributed masks and guidance on use\n",
      "Government distributes 10 million face masks to be handed out as of Monday around Spain to workers at main transport hubs\n",
      "self-quarantine for citizens and other foreign nationals returning from countries with local transmission (China, South Korea) as of 24 Feb, as of 29 Feb this also applies to those returning from Italy \n",
      "Legal action will be taken against three coronavirus-infected people who were found yesterday evading quarantine and spreading the disease, DIG Rohana said.\n",
      "People who arrived in the country from overseas from March 16 onwards are required to register themselves with the nearest police station before 12 noon on April 1 to continue with their self-quarantine process.\n",
      "All people returning from aborad will now be shifted to government quarantine facilities \n",
      "Regulations on hygiene measures for grocery stores\n",
      "At the end of 14 day quarantine a health check-up conducted to decide on next steps for person\n",
      "Ban on visiting retirement homes\n",
      "plane passengers arriving from Iraq have to quarantine\n",
      "Voluntary isolation \n",
      "returning syrians from high risk areas should go under 14-day self quarantine and are subject to medical examinations.\n",
      "All travellers whether foreigners or returning residents arriving from COVID-19 most affected countries, will be subjected to mandatory isolation for 14 days at their own cost at designated facilities identified by the Government. After 14 days quarantine, passengers who have not developed symptoms of COVID-19 may leave the facilities and will be required to register personal information for future possible tracking purpose.\n",
      "travellers from so-called infected zones (China incl. Hong Kong and Macau, Italy, Iran, South Korea) and passengers who have been to these countries in the past 14 days have to self-quarantine for 14 days\n",
      "Introduction of isolation/quarentine procedures AMONG EXISTING PATIENTS. \n",
      "For Thai-passengers of the Westerdam Cruise (high-risk group): For Thai passengers returning home, they will be followed up for 14 days in accordance with the disease prevention and control standards. If anyone would like to continue to travel, they will be screened. If the results identify a fever, they will not be allowed to get on a plane and will be brought to the tracking system for disease surveillance.\n",
      "the MoPH recommended passengers returning from outbreak areas to implement a self-quarantine for 14 days to ensure the safety of themselves, their family and community.\n",
      "These policies define 3 different groups that should undergo different types of surveillance measures and recommendations. See link for more details. \n",
      "Bringing the travelers to the quarantine facilities and determination of the quarantine areas or places or designated areas is to proceed with the necessary actions in accordance with the guidelines and procedures of the Ministry of Public Health together with the Ministry of Transport and related departments.\n",
      "The Ministry of Public Health (MOPH) is implemented strict quarantine for the Thai workers who returned from South Korea at Sattahip Military Base and the workers’ hometown provinces for 14 days.\n",
      "Those who are not included in the 'at-risk' groups and have no respiratory symptoms are requested to implement self-monitoring at their homes/residence and strictly comply with the Ministry of Public Health recommendations including social distancing in order to allow health officers to conduct laboratory tests in high-risk patients who will be given priority for testing. Importantly, asymptomatic people have a lower chance of confirming infection with SARS-CoV-2 (virus causing COVID-19). This may cause people who have been prematurely diagnosed to misunderstand their infection status and go out for social activities which can lead to further spread and can disrupt the prevention and control surveillance system.\n",
      "Returning travelers from Bangkok and its suburbs self-quarantine and observe fever and respiratory symptoms every day. Those travelers should avoid being close to other people in their residence until the completion of 14 days from the date of arrival in their residence.\n",
      "Passengers will be subject to 14-day quarantine upon arrival\n",
      "local authorities will quarantine all foreigners who enter Chiang Mai province at their residence or in a location provided by the Department of Disease Control.  People who violate the quarantine may be fined 100,000 baht, sentenced to one year in prison, or both. \n",
      "14-day quarantine for anyone entering Togo from unspecified 'risk countries'\n",
      "People from Cina, Iraly, Iran and Daegu and Cheongdo in South Korea, need to spen 14 days of quarantine in a corona-free country\n",
      "Tongan nationals must be quarantined for 14-days upon arrival.\n",
      "quarantine for passengers arriving from risk countries (China, Italy, Iran, Egypt, South Korea, France, Spain, Germany, USA, Japan, Switzerland, Netherlands, UK, Sweden, Norway, Belgium, Denmark, Austria, Singapor, Malysia, Austrialia, Bahrain)\n",
      "Turkish citizens have to quarantine for 14 days if the are returning fom Austria, Azerbaijan, Belgium, China, Denmark, France, Germany, Iran, Iraq, Italy, the Netherlands, Norway, Spain, Sweden and South Korea\n",
      "Any traveller to Tuvalu must spend 14-days of isolation in Fiji, Kiribati, Samoa, Tonga, Vanuatu or Solomon Islands before embarking for the country\n",
      "Asymptomatic travelers and in-hospital isolation requirements for all symptomatic travelers arriving in Uganda after recent stays (within 14 days of arrival) in several countries most seriously impacted\n",
      "Any traveller, Ugandan or otherwise, coming from affected countries (16 listed) will be subject to self-quarantine or institutional quarantine for 14 days at their own cost, regardless of symptoms.\n",
      "nan\n",
      "The law establishes administrative responsibility for unauthorized leaving of the observation location - a fine of 1,000 to 2,000 non-taxable minimum incomes, as well as 2,000 to 10,000 non-taxable minimum incomes for government officials.\n",
      "forced isolation and self-isolation and liability for non-compliance with quarantine rules\n",
      "Introduction of quarantine policiesfor guests in several hotels after detection of a coronavirus infection\n",
      "14 day Quarantine for all enetering \n",
      "persecuted and subject to imprisonment.\n",
      "On 5 and 6 April, Etihad and Emirates respectively will commence a limited number of flights to a restricted number of destinations, operating to repatriate UAE nationals and fly foreign nationals back to their home countries. Etihad is offering flights to Amsterdam (Netherlands), Jakarta (Indonesia), Manila (Philippines), Melbourne (Australia), Seoul (South Korea) and Singapore, while Emirates is flying to Brussels (Belgium), Frankfurt (Germany), London (UK), Paris (France) and Zurich (Switzerland).\n",
      "Any citizen/resident benefiting from repatriation flight will observe a compulsory 14-day home quarantine.\n",
      "People from France, Spain, Italy, Germany, Singappor, South Korea, Iran, China\n",
      "Anybody in contact with infected patient, or with symptoms, should quarantine for 14 days.\n",
      "People travelling from China, Hong Kong, Macau, Taiwan, South Korea, Japan, Singapore, Iran, Italy in a thord country at least 14 days before entering Vanuatu\n",
      "Permanent residents, diplomats  and citizens of Vanuatu can return to the country but are subject to 14 days quarantine upon arrival before they can go back to their families and communities\n",
      "All business houses must have handwashing facilities\n",
      "Mass disinfection of public spaces\n",
      "quarantine may be applied for passengers arriving\n",
      "Mandatory screening and quarantine of international travelers including air travel passengers, truckers, bus operators, and passengers at 2 points of entry, bus stations and other check points from high-risk areas for a minimum period of 14 days shall be issued. \n",
      "Returning  employees  in  the  Public  Service  from  the  affected  countries shall be quarantined for a period of not less than fourteen (14) days;\n",
      "All our returning residents will be subjected to strict screening procedures including rigorous enforcement of the 21-day self-quarantine\n",
      "Zimbabwe reversed a ban on the sale of alcohol from supermarkets, but liquor stores and bars remain shut.\n"
     ]
    }
   ],
   "source": [
    "measure_rows = source_data.loc[\n",
    "    source_data.MEASURE.isin([\n",
    "        'Introduction of isolation and quarantine policies',\n",
    "        'Other public health measures enforced' ]),]\n",
    "\n",
    "for ir, row in measure_rows.iterrows():\n",
    "    print(row['COMMENTS'])\n"
   ]
  },
  {
   "cell_type": "code",
   "execution_count": 51,
   "metadata": {},
   "outputs": [
    {
     "data": {
      "text/markdown": [
       "#### Public health measures"
      ],
      "text/plain": [
       "<IPython.core.display.Markdown object>"
      ]
     },
     "metadata": {},
     "output_type": "display_data"
    },
    {
     "data": {
      "text/markdown": [
       "##### General recommendations"
      ],
      "text/plain": [
       "<IPython.core.display.Markdown object>"
      ]
     },
     "metadata": {},
     "output_type": "display_data"
    },
    {
     "data": {
      "text/markdown": [
       "MoPH asks people not to come to health center for testing because it wastes resources and risks contracting the virus from an actual sick person at the facility. They ask those people who may have been in contact with this virus who have not seen symptoms to self-isolate for 14 days & contact provincial health teams if they have fever, cough, or problems breathing. "
      ],
      "text/plain": [
       "<IPython.core.display.Markdown object>"
      ]
     },
     "metadata": {},
     "output_type": "display_data"
    },
    {
     "data": {
      "text/markdown": [
       "All travellers arriving in Botswana from high risk countries will be isolated for care if they have symptoms of COVID-19, while those without symptoms will be quarantined for 14 days."
      ],
      "text/plain": [
       "<IPython.core.display.Markdown object>"
      ]
     },
     "metadata": {},
     "output_type": "display_data"
    },
    {
     "data": {
      "text/markdown": [
       "If you have light symptoms stay home and self-isolate. "
      ],
      "text/plain": [
       "<IPython.core.display.Markdown object>"
      ]
     },
     "metadata": {},
     "output_type": "display_data"
    },
    {
     "data": {
      "text/markdown": [
       "Government recommendations on self-isolation and individual and collective hygiene"
      ],
      "text/plain": [
       "<IPython.core.display.Markdown object>"
      ]
     },
     "metadata": {},
     "output_type": "display_data"
    },
    {
     "data": {
      "text/markdown": [
       "Social isolation recommendations for mental health from the Government"
      ],
      "text/plain": [
       "<IPython.core.display.Markdown object>"
      ]
     },
     "metadata": {},
     "output_type": "display_data"
    },
    {
     "data": {
      "text/markdown": [
       "Anyone living in a household with somebody who has either a persistent cough or fever must now also isolate themselves for 14 days."
      ],
      "text/plain": [
       "<IPython.core.display.Markdown object>"
      ]
     },
     "metadata": {},
     "output_type": "display_data"
    },
    {
     "data": {
      "text/markdown": [
       "##### Strengthening the public health system"
      ],
      "text/plain": [
       "<IPython.core.display.Markdown object>"
      ]
     },
     "metadata": {},
     "output_type": "display_data"
    },
    {
     "data": {
      "text/markdown": [
       "isolation centers and designated hospitals est."
      ],
      "text/plain": [
       "<IPython.core.display.Markdown object>"
      ]
     },
     "metadata": {},
     "output_type": "display_data"
    },
    {
     "data": {
      "text/markdown": [
       "isolation facility established at Queen Elizabeth Hospital. plans for bolstering laboratory capacity within coming weeks "
      ],
      "text/plain": [
       "<IPython.core.display.Markdown object>"
      ]
     },
     "metadata": {},
     "output_type": "display_data"
    },
    {
     "data": {
      "text/markdown": [
       "creation of new isolation facility "
      ],
      "text/plain": [
       "<IPython.core.display.Markdown object>"
      ]
     },
     "metadata": {},
     "output_type": "display_data"
    },
    {
     "data": {
      "text/markdown": [
       "Health Regions have been advised to identify and prepare isolation areas within health facilities"
      ],
      "text/plain": [
       "<IPython.core.display.Markdown object>"
      ]
     },
     "metadata": {},
     "output_type": "display_data"
    },
    {
     "data": {
      "text/markdown": [
       "over 134 facilities have been idenitified for quarantine, isolation and treatment."
      ],
      "text/plain": [
       "<IPython.core.display.Markdown object>"
      ]
     },
     "metadata": {},
     "output_type": "display_data"
    },
    {
     "data": {
      "text/markdown": [
       "Creation of 7 community Isolation Facilities (CIFs). The Facilities will be activated when divisional and sub-divisional isolation facilities have reached their capacity. COVID-19 positive individuals who are classified “stable” can be transferred to these community facilities for continued\n",
       "monitoring and medical care. The Fijian MoH and Medical Services will provide meals for the patients. There are protocols in place for staff who will provide meals and cleaning services, including physical distancing between patients and staff. No visitors are allowed at these facilities."
      ],
      "text/plain": [
       "<IPython.core.display.Markdown object>"
      ]
     },
     "metadata": {},
     "output_type": "display_data"
    },
    {
     "data": {
      "text/markdown": [
       "Preparation of further isolation sites"
      ],
      "text/plain": [
       "<IPython.core.display.Markdown object>"
      ]
     },
     "metadata": {},
     "output_type": "display_data"
    },
    {
     "data": {
      "text/markdown": [
       "The RMI government announced on February 15, 2020 the construction of a new eight-bed isolation unit to be built and ready within the next 30 days"
      ],
      "text/plain": [
       "<IPython.core.display.Markdown object>"
      ]
     },
     "metadata": {},
     "output_type": "display_data"
    },
    {
     "data": {
      "text/markdown": [
       "Two Covid-19 isolation centres set up in Inhambane province"
      ],
      "text/plain": [
       "<IPython.core.display.Markdown object>"
      ]
     },
     "metadata": {},
     "output_type": "display_data"
    },
    {
     "data": {
      "text/markdown": [
       "Nepal government has arranged 100 isolation beds in several hospitals in Kathmandu and instructed provincial hospitals to make arrangements for isolation wards."
      ],
      "text/plain": [
       "<IPython.core.display.Markdown object>"
      ]
     },
     "metadata": {},
     "output_type": "display_data"
    },
    {
     "data": {
      "text/markdown": [
       "An isolation ward of 8 beds is ready at the Port Moresby General Hospital (PMGH). Nurses and doctors involved in the response have received training and have personal protective equipment (PPE) in stock."
      ],
      "text/plain": [
       "<IPython.core.display.Markdown object>"
      ]
     },
     "metadata": {},
     "output_type": "display_data"
    },
    {
     "data": {
      "text/markdown": [
       "PhilHealth will cover the payments for the quarantine and isolation for people under suspicion or confirmed cases"
      ],
      "text/plain": [
       "<IPython.core.display.Markdown object>"
      ]
     },
     "metadata": {},
     "output_type": "display_data"
    },
    {
     "data": {
      "text/markdown": [
       "CDC Grows SARS-CoV-2, the virus that causes COVID-19, in Cell Culture; Virus isolates will be used for research by the scientific and medical community"
      ],
      "text/plain": [
       "<IPython.core.display.Markdown object>"
      ]
     },
     "metadata": {},
     "output_type": "display_data"
    },
    {
     "data": {
      "text/markdown": [
       "##### Introduction of isolation and quarantine policies"
      ],
      "text/plain": [
       "<IPython.core.display.Markdown object>"
      ]
     },
     "metadata": {},
     "output_type": "display_data"
    },
    {
     "data": {
      "text/markdown": [
       "Self-isolation is mandatory for all persons and leaving the place of isolation is only permitted when going to work, the nearest grocery store, pharmacy or health care facility."
      ],
      "text/plain": [
       "<IPython.core.display.Markdown object>"
      ]
     },
     "metadata": {},
     "output_type": "display_data"
    },
    {
     "data": {
      "text/markdown": [
       "All travellers to Australia are required to self-isolate for 14 days, either at home or in a hotel."
      ],
      "text/plain": [
       "<IPython.core.display.Markdown object>"
      ]
     },
     "metadata": {},
     "output_type": "display_data"
    },
    {
     "data": {
      "text/markdown": [
       "Australians returning home will not be allowed to complete the mandatory 14-day self-isolation period at home, but will instead be taken straight to a state-run quarantine centre in whichever state their international flight arrives. \"Each person will also receive self-isolation care packages of food and other essentials.\""
      ],
      "text/plain": [
       "<IPython.core.display.Markdown object>"
      ]
     },
     "metadata": {},
     "output_type": "display_data"
    },
    {
     "data": {
      "text/markdown": [
       "any non-essential travellers from mainland Tasmania who fly into King or Flinders Island must go into 14 days isolation"
      ],
      "text/plain": [
       "<IPython.core.display.Markdown object>"
      ]
     },
     "metadata": {},
     "output_type": "display_data"
    },
    {
     "data": {
      "text/markdown": [
       "NSW Police say the state's coronavirus isolation rules will last for at least 90 days."
      ],
      "text/plain": [
       "<IPython.core.display.Markdown object>"
      ]
     },
     "metadata": {},
     "output_type": "display_data"
    },
    {
     "data": {
      "text/markdown": [
       "All Bahamian nationals and residents returning to The Bahamas through any point of entry from any of the restricted countries or an area where community infection and spread is present will be quarantined or be placed under self-isolation upon arrival and expected to follow the protocols of the Ministry of Health."
      ],
      "text/plain": [
       "<IPython.core.display.Markdown object>"
      ]
     },
     "metadata": {},
     "output_type": "display_data"
    },
    {
     "data": {
      "text/markdown": [
       " All nationals coming from an area with ongoing transmission who land in Belize and appear with cold or flu-like symptoms will be placed under self-isolation upon arrival and all cost related to that will be the responsibility of the traveler."
      ],
      "text/plain": [
       "<IPython.core.display.Markdown object>"
      ]
     },
     "metadata": {},
     "output_type": "display_data"
    },
    {
     "data": {
      "text/markdown": [
       " All Belizean nationals and residents returning to Belize through any point of entry from any of the restricted countries or an area where community infection and spread is present will be placed under self-isolation upon arrival and expected to follow the protocols of the Ministry of Health."
      ],
      "text/plain": [
       "<IPython.core.display.Markdown object>"
      ]
     },
     "metadata": {},
     "output_type": "display_data"
    },
    {
     "data": {
      "text/markdown": [
       "Returning citizens and foreign citizens with permanent residence must undergo self-quarantine for 14 days. These measures will involve direct medical surveillance as well as mandatory daily reporting.; people in self-isolation that do not comply may be identified and published online with their name and residency"
      ],
      "text/plain": [
       "<IPython.core.display.Markdown object>"
      ]
     },
     "metadata": {},
     "output_type": "display_data"
    },
    {
     "data": {
      "text/markdown": [
       "Following the introduction of the first case of COVID-19 in Brunei, the MoH made a statement regarding national quarentine policies. This includes that anyone who came in contact with a confirmed case is required \"to undergo mandatory isolation and their health status monitored\"."
      ],
      "text/plain": [
       "<IPython.core.display.Markdown object>"
      ]
     },
     "metadata": {},
     "output_type": "display_data"
    },
    {
     "data": {
      "text/markdown": [
       "\"Amendments to the Infectious Disease Act (Chapter 204) and its Regulations i.e. Infectious Diseases (Amendment of Schedule) Notification, 2020 dan Infectious Diseases (Quarantine) (Amendment) Regulations, 2020 have gazetted. Under the Act, anyone who, or suspected to be, a case, carrier or contact of an infectious disease may be required to undergo medical examination or medical treatment either in hospital or any other place as determined by the Director-General Ministry of Health. Failure to comply to this provision is an offence under this Law and the person may be ordered to be transferred to a hospital or another place where he can be detained and, if necessary, isolated until examination or treatment has been undertaken...   As such, the person may be fined to up to $10,000 or imprisoned for a period of not more than 6 months or both (first offence). For a second offence, may be fined to up to $20,000 or imprisoned for a period of not more than one year or both.\""
      ],
      "text/plain": [
       "<IPython.core.display.Markdown object>"
      ]
     },
     "metadata": {},
     "output_type": "display_data"
    },
    {
     "data": {
      "text/markdown": [
       "All visitors are required to do a 14-day self-isolation from the moment they arrive. "
      ],
      "text/plain": [
       "<IPython.core.display.Markdown object>"
      ]
     },
     "metadata": {},
     "output_type": "display_data"
    },
    {
     "data": {
      "text/markdown": [
       "Expanding upon rules regarding mandatory isolation that were set to start 20 March 2020, \"the arrival of visitors and foreign workers are not encouraged at the moment. Any foreign workers arriving in Brunei Darussalam is required to borne all isolation costs, including accommodation, meals and all other related costs.\" Additional costs of mandatory isolation facilities are outlined in this announcement."
      ],
      "text/plain": [
       "<IPython.core.display.Markdown object>"
      ]
     },
     "metadata": {},
     "output_type": "display_data"
    },
    {
     "data": {
      "text/markdown": [
       "Everyone with symptoms in isolation centers at Yaoundé Central Hospital, Laquintinie Hospital in Douala, Garoua Regional Hospital, and Kribi District Hospital "
      ],
      "text/plain": [
       "<IPython.core.display.Markdown object>"
      ]
     },
     "metadata": {},
     "output_type": "display_data"
    },
    {
     "data": {
      "text/markdown": [
       "anyone returning from Wuhan, China placed in isolation"
      ],
      "text/plain": [
       "<IPython.core.display.Markdown object>"
      ]
     },
     "metadata": {},
     "output_type": "display_data"
    },
    {
     "data": {
      "text/markdown": [
       "All travellers to Canada self-isolate for 14 days upon entry, with exceptions for workers who are essential to the movement of goods and people."
      ],
      "text/plain": [
       "<IPython.core.display.Markdown object>"
      ]
     },
     "metadata": {},
     "output_type": "display_data"
    },
    {
     "data": {
      "text/markdown": [
       "All international arrivals in Beijing will be required to be isolated at designated facilities even if they do not have coronavirus symptoms, starting March 16. “The D-zone, in Terminal 3, will provide services such travelers need as well as the required procedures, including health examinations, identification checks and transfers.”"
      ],
      "text/plain": [
       "<IPython.core.display.Markdown object>"
      ]
     },
     "metadata": {},
     "output_type": "display_data"
    },
    {
     "data": {
      "text/markdown": [
       "Until 30th of may, every person aged above 70 should self-isolate. "
      ],
      "text/plain": [
       "<IPython.core.display.Markdown object>"
      ]
     },
     "metadata": {},
     "output_type": "display_data"
    },
    {
     "data": {
      "text/markdown": [
       "All travellers from affected countries, whether showing symptoms or not, must self isolate for 14 days upon arrival"
      ],
      "text/plain": [
       "<IPython.core.display.Markdown object>"
      ]
     },
     "metadata": {},
     "output_type": "display_data"
    },
    {
     "data": {
      "text/markdown": [
       "ravel ban extended to people from the United States and Europe, including the UK. All travellers are required to self-isolate for 14 days upon arrival."
      ],
      "text/plain": [
       "<IPython.core.display.Markdown object>"
      ]
     },
     "metadata": {},
     "output_type": "display_data"
    },
    {
     "data": {
      "text/markdown": [
       "All travellers from hotspot countries will be isolated for fourteen (14) days upon arrival in The Gambia. "
      ],
      "text/plain": [
       "<IPython.core.display.Markdown object>"
      ]
     },
     "metadata": {},
     "output_type": "display_data"
    },
    {
     "data": {
      "text/markdown": [
       "imposing fines and/or detention for violations of self-isolation and quarantine, and other provisions. "
      ],
      "text/plain": [
       "<IPython.core.display.Markdown object>"
      ]
     },
     "metadata": {},
     "output_type": "display_data"
    },
    {
     "data": {
      "text/markdown": [
       "From above places self isolation for 14 days"
      ],
      "text/plain": [
       "<IPython.core.display.Markdown object>"
      ]
     },
     "metadata": {},
     "output_type": "display_data"
    },
    {
     "data": {
      "text/markdown": [
       "Individuals with symptoms consistent with COVID-19, who within the last 14 days have been in contact with a confirmed case of COVID-19, or traveled to a country with confirmed cases, may be isolated in a medical center for monitoring by the Ministry of Health for up to 14 days."
      ],
      "text/plain": [
       "<IPython.core.display.Markdown object>"
      ]
     },
     "metadata": {},
     "output_type": "display_data"
    },
    {
     "data": {
      "text/markdown": [
       " People who return to Israel from anywhere in the world must be placed under home isolation for 14 days counting from their date of return. If you had returned to Israel in the last 14 days from anywhere in the world, or if you are under home isolation and have fever 38C (100.4F) or higher, cough, trouble breathing, or other respiratory symptom, immediately enter home isolation, immediately call the 101 MDA Emergency Services Hotline for medical advice, and do not go to an HMO clinic or emergency ward. You must complete 14 day period, even if you were tested negative for COVID-19.\n",
       "\n",
       "This requirement replaces the home isolation required of travelers from Austria, Italy, Andorra, Germany, Hong Kong, Japan, Egypt, Macau, mainland China, Singapore, San Marino, Spain, France, South Korea, Switzerland or Thailand that was effective until March 9 2020."
      ],
      "text/plain": [
       "<IPython.core.display.Markdown object>"
      ]
     },
     "metadata": {},
     "output_type": "display_data"
    },
    {
     "data": {
      "text/markdown": [
       "All people coming from China or other risk areas have to give notice to the officials and a 14 days fiduciary self-isolation applies"
      ],
      "text/plain": [
       "<IPython.core.display.Markdown object>"
      ]
     },
     "metadata": {},
     "output_type": "display_data"
    },
    {
     "data": {
      "text/markdown": [
       "All travelers from countries w/ transmission of the COVID-19 are required to self-quarantine for 14 days. Those with symptoms are placed in govt. isolation/quarantine facilities"
      ],
      "text/plain": [
       "<IPython.core.display.Markdown object>"
      ]
     },
     "metadata": {},
     "output_type": "display_data"
    },
    {
     "data": {
      "text/markdown": [
       "If passengers on the Diamond Princess ship test negative for COVID-19 and wish to disembark, they are required to disembark and wait in isolation for incubation period. (Ship completely disembarked on March 1, as confirmed here: < https://www.mhlw.go.jp/stf/newpage_09889.html >)"
      ],
      "text/plain": [
       "<IPython.core.display.Markdown object>"
      ]
     },
     "metadata": {},
     "output_type": "display_data"
    },
    {
     "data": {
      "text/markdown": [
       "Anyone who has boarded an airplane or ships arriving from China or Republic of Korea at or after 0:00 on March 9 (JST) and not be isolated or stopped is required to stay 14days at a location designated by the quarantine station chief and not to use public transportation in Japan."
      ],
      "text/plain": [
       "<IPython.core.display.Markdown object>"
      ]
     },
     "metadata": {},
     "output_type": "display_data"
    },
    {
     "data": {
      "text/markdown": [
       "Anyone who has boarded an airplane or ships from European countries, or Egypt at or after 0:00 on March 21 (JST) and not be isolated or stopped is required to stay 14days at a location designated by the quarantine station chief and not to use public transportation in Japan. "
      ],
      "text/plain": [
       "<IPython.core.display.Markdown object>"
      ]
     },
     "metadata": {},
     "output_type": "display_data"
    },
    {
     "data": {
      "text/markdown": [
       "Anyone who has boarded an airplane or ships from United States of America at or after 0:00 on March 26 (JST) and not be isolated or stopped is required to stay 14days at a location designated by the quarantine station chief and not to use public transportation in Japan."
      ],
      "text/plain": [
       "<IPython.core.display.Markdown object>"
      ]
     },
     "metadata": {},
     "output_type": "display_data"
    },
    {
     "data": {
      "text/markdown": [
       "Anyone who has boarded an airplane or ships from Indonesia, Singapore, Thailand, Philippines, Brunei Darussalam, Viet Nam, Malaysia, Israel, Qatar, Democratic Republic of the Congo or Bahrain at or after 0:00 on March 28 (JST) and not be isolated or stopped is required to stay 14days at a location designated by the quarantine station chief and not to use public transportation in Japan. "
      ],
      "text/plain": [
       "<IPython.core.display.Markdown object>"
      ]
     },
     "metadata": {},
     "output_type": "display_data"
    },
    {
     "data": {
      "text/markdown": [
       "People transited in category 2 and 3 countries need to isolate for 14 days"
      ],
      "text/plain": [
       "<IPython.core.display.Markdown object>"
      ]
     },
     "metadata": {},
     "output_type": "display_data"
    },
    {
     "data": {
      "text/markdown": [
       "travellers with symptoms have to self-isolate for 14 days"
      ],
      "text/plain": [
       "<IPython.core.display.Markdown object>"
      ]
     },
     "metadata": {},
     "output_type": "display_data"
    },
    {
     "data": {
      "text/markdown": [
       "If history of travel in the previous 14 days in China and other risk countries and with symptoms, home isolation for 14 days. Plus daily chekups"
      ],
      "text/plain": [
       "<IPython.core.display.Markdown object>"
      ]
     },
     "metadata": {},
     "output_type": "display_data"
    },
    {
     "data": {
      "text/markdown": [
       "travelers with minor symptoms from countries with more than 500 cases of COVID-19 have to self-isolate for 14 days; travelers with major symptoms from severly affected countries have to remain at an isolation site for testing an quarantine"
      ],
      "text/plain": [
       "<IPython.core.display.Markdown object>"
      ]
     },
     "metadata": {},
     "output_type": "display_data"
    },
    {
     "data": {
      "text/markdown": [
       "compulsory 14 day self-isolation period for all those coming from abroad"
      ],
      "text/plain": [
       "<IPython.core.display.Markdown object>"
      ]
     },
     "metadata": {},
     "output_type": "display_data"
    },
    {
     "data": {
      "text/markdown": [
       "fined and/or arrested, and sentenced to up to a year in prison. army ensures quarantine and self-isolation measures are respected."
      ],
      "text/plain": [
       "<IPython.core.display.Markdown object>"
      ]
     },
     "metadata": {},
     "output_type": "display_data"
    },
    {
     "data": {
      "text/markdown": [
       "All returning residents and citizens must isolate themselves for 14 days upon arrival inc NZ citizens from Tokelau, Cook Islands and Niue travelling to New Zealand"
      ],
      "text/plain": [
       "<IPython.core.display.Markdown object>"
      ]
     },
     "metadata": {},
     "output_type": "display_data"
    },
    {
     "data": {
      "text/markdown": [
       "everyone arriving into NZ would be screened, and those without self-isolation plans taken to approved facilities around the country. The MoH said campervans set up and on stand by at the ASB showgrounds in Greenlane were part of our precautionary approach to ensuring travellers returning to New Zealand could isolate. Campervans and hotels will be used in Auckland, Wellington and Christchurch as accommodation for people potentially returning to New Zealand from overseas during the Alert Level 4."
      ],
      "text/plain": [
       "<IPython.core.display.Markdown object>"
      ]
     },
     "metadata": {},
     "output_type": "display_data"
    },
    {
     "data": {
      "text/markdown": [
       "Managed isolation of new arrivals to New Zealand. All travellers entering NZ from 10 April 2020 are required to either go into 14 days of “managed isolation” in a government-provided facility (hotel), or if symptomatic to go intoIt is no longer possible to self-isolate at home, or to take a regional flight before the 14 day period is completed. a quarantine facility (separate hotel).  "
      ],
      "text/plain": [
       "<IPython.core.display.Markdown object>"
      ]
     },
     "metadata": {},
     "output_type": "display_data"
    },
    {
     "data": {
      "text/markdown": [
       "Visitors and Nigerien nationals arriving from countries affected by the COVID-19 pandemic must self-isolate for 14 day"
      ],
      "text/plain": [
       "<IPython.core.display.Markdown object>"
      ]
     },
     "metadata": {},
     "output_type": "display_data"
    },
    {
     "data": {
      "text/markdown": [
       "All travelers returning from these countries prior to the restriction will be supervised in self-isolation"
      ],
      "text/plain": [
       "<IPython.core.display.Markdown object>"
      ]
     },
     "metadata": {},
     "output_type": "display_data"
    },
    {
     "data": {
      "text/markdown": [
       "citizens entering from high or medium risk countries are ordered to self-isolate for 14 days"
      ],
      "text/plain": [
       "<IPython.core.display.Markdown object>"
      ]
     },
     "metadata": {},
     "output_type": "display_data"
    },
    {
     "data": {
      "text/markdown": [
       "People with close contact to a confirmed case need to self-quarantine; also rules around self-isolation were updated"
      ],
      "text/plain": [
       "<IPython.core.display.Markdown object>"
      ]
     },
     "metadata": {},
     "output_type": "display_data"
    },
    {
     "data": {
      "text/markdown": [
       "People who have tested positive for COVID-19 and do not need to be admitted to hospital, will stay in specialised shelters. This includes the those who would like to do so voluntarily; those in vulnerable situations whose accommodation is not suitable for self-isolation; those who have broken self-isolation; and those who have come from abroad and tested positive during their quarantine period."
      ],
      "text/plain": [
       "<IPython.core.display.Markdown object>"
      ]
     },
     "metadata": {},
     "output_type": "display_data"
    },
    {
     "data": {
      "text/markdown": [
       "Quarantine for those asymptomatic individuals arriving in Romania through land or air points of entry and originating from or transiting within the previous 14 days any country with at least 500 confirmed cases of COVID-19, must self-isolate at home for 14 days."
      ],
      "text/plain": [
       "<IPython.core.display.Markdown object>"
      ]
     },
     "metadata": {},
     "output_type": "display_data"
    },
    {
     "data": {
      "text/markdown": [
       "Visitors should self-isolate for 14 days if they are arriving from China, South Korea, Italy, Iran, France, Germany, and Spain. "
      ],
      "text/plain": [
       "<IPython.core.display.Markdown object>"
      ]
     },
     "metadata": {},
     "output_type": "display_data"
    },
    {
     "data": {
      "text/markdown": [
       "Moscow: From 30 March, all people (regardless of age) in the capital Moscow and the rest of the Moscow Oblast should self-isolate at home until further notice. All non-essential movement in the city will be banned although entering and exiting Moscow will still be possible, and walking pets at a distance may not exceed 100 meters from one’s residence"
      ],
      "text/plain": [
       "<IPython.core.display.Markdown object>"
      ]
     },
     "metadata": {},
     "output_type": "display_data"
    },
    {
     "data": {
      "text/markdown": [
       "Sobyanin signed a law imposing fines on Muscovites found to be violating the city's self-isolation orders. Individuals will be fined up to 4,000 rubles ($50) for first-time offenses and up to 5,000 rubles ($63) for repeat offenses. Businesses will be fined up to 40,000 rubles ($500) for violating the order. Legal entities will be fined up to 300,000 rubles ($3,800) for first-time offenses and up to 500,000 rubles ($6,300) for repeat offenses."
      ],
      "text/plain": [
       "<IPython.core.display.Markdown object>"
      ]
     },
     "metadata": {},
     "output_type": "display_data"
    },
    {
     "data": {
      "text/markdown": [
       "All travelers presenting one of the COVID-19 symptoms and coming from endemic countries will be taken for isolation at nearest hospital. "
      ],
      "text/plain": [
       "<IPython.core.display.Markdown object>"
      ]
     },
     "metadata": {},
     "output_type": "display_data"
    },
    {
     "data": {
      "text/markdown": [
       "Mandatory 14-day quarantine, including self-isolation for travelers who arrived within the past 14 days. "
      ],
      "text/plain": [
       "<IPython.core.display.Markdown object>"
      ]
     },
     "metadata": {},
     "output_type": "display_data"
    },
    {
     "data": {
      "text/markdown": [
       "as of 15 March, also Serbian citizens entering have to undergo self-isolation for 14 days"
      ],
      "text/plain": [
       "<IPython.core.display.Markdown object>"
      ]
     },
     "metadata": {},
     "output_type": "display_data"
    },
    {
     "data": {
      "text/markdown": [
       "All persons traveling to Slovakia, which means both Slovak and foreign nationals, obliged to be isolated in state quarantine centres for 14 days (exemptions on state centre isolation for vulnerable persons, including pregnant women and elderly)"
      ],
      "text/plain": [
       "<IPython.core.display.Markdown object>"
      ]
     },
     "metadata": {},
     "output_type": "display_data"
    },
    {
     "data": {
      "text/markdown": [
       "Voluntary isolation "
      ],
      "text/plain": [
       "<IPython.core.display.Markdown object>"
      ]
     },
     "metadata": {},
     "output_type": "display_data"
    },
    {
     "data": {
      "text/markdown": [
       "All travellers whether foreigners or returning residents arriving from COVID-19 most affected countries, will be subjected to mandatory isolation for 14 days at their own cost at designated facilities identified by the Government. After 14 days quarantine, passengers who have not developed symptoms of COVID-19 may leave the facilities and will be required to register personal information for future possible tracking purpose."
      ],
      "text/plain": [
       "<IPython.core.display.Markdown object>"
      ]
     },
     "metadata": {},
     "output_type": "display_data"
    },
    {
     "data": {
      "text/markdown": [
       "Introduction of isolation/quarentine procedures AMONG EXISTING PATIENTS. "
      ],
      "text/plain": [
       "<IPython.core.display.Markdown object>"
      ]
     },
     "metadata": {},
     "output_type": "display_data"
    },
    {
     "data": {
      "text/markdown": [
       "Any traveller to Tuvalu must spend 14-days of isolation in Fiji, Kiribati, Samoa, Tonga, Vanuatu or Solomon Islands before embarking for the country"
      ],
      "text/plain": [
       "<IPython.core.display.Markdown object>"
      ]
     },
     "metadata": {},
     "output_type": "display_data"
    },
    {
     "data": {
      "text/markdown": [
       "Asymptomatic travelers and in-hospital isolation requirements for all symptomatic travelers arriving in Uganda after recent stays (within 14 days of arrival) in several countries most seriously impacted"
      ],
      "text/plain": [
       "<IPython.core.display.Markdown object>"
      ]
     },
     "metadata": {},
     "output_type": "display_data"
    },
    {
     "data": {
      "text/markdown": [
       "forced isolation and self-isolation and liability for non-compliance with quarantine rules"
      ],
      "text/plain": [
       "<IPython.core.display.Markdown object>"
      ]
     },
     "metadata": {},
     "output_type": "display_data"
    },
    {
     "data": {
      "text/markdown": [
       "##### Psychological assistance and medical social work"
      ],
      "text/plain": [
       "<IPython.core.display.Markdown object>"
      ]
     },
     "metadata": {},
     "output_type": "display_data"
    },
    {
     "data": {
      "text/markdown": [
       "For patients and practitioners who are self-isolating or at high risk of COVID-19, Telehealth services are being offered. ‘Telehealth’ lets practitioners offer their services via different technologies such as Skype, phone calls, Zoom video conferencing and more."
      ],
      "text/plain": [
       "<IPython.core.display.Markdown object>"
      ]
     },
     "metadata": {},
     "output_type": "display_data"
    },
    {
     "data": {
      "text/markdown": [
       "##### Health screenings in airports and border crossings"
      ],
      "text/plain": [
       "<IPython.core.display.Markdown object>"
      ]
     },
     "metadata": {},
     "output_type": "display_data"
    },
    {
     "data": {
      "text/markdown": [
       "All passengers arriving in Brunei Darussalam through the Brunei International Airport  are required to do a 14-day isolation AT APPOINTED MONITORING CENTERS. The difference between this government measure and the previous one is that there are now government-mandated locations where self-isolation must occur. In the 20 March Statement by Brunei Darussalam Ministry of Health, more announcements were made regarding the price for citizens and non-citizens, etc."
      ],
      "text/plain": [
       "<IPython.core.display.Markdown object>"
      ]
     },
     "metadata": {},
     "output_type": "display_data"
    },
    {
     "data": {
      "text/markdown": [
       "Residents/Citizens returning from high risk countries will be subjected to intensive screening and are required to self isolate for a mandatory 14 days."
      ],
      "text/plain": [
       "<IPython.core.display.Markdown object>"
      ]
     },
     "metadata": {},
     "output_type": "display_data"
    },
    {
     "data": {
      "text/markdown": [
       "before disembarking, every passenger is required to complete a declaration form on his/her health status. You are also required to check in daily with the Ministry of Health, regardless of your point of origin. Additionally, you will be quarantined or isolated, if you become symptomatic during your stay."
      ],
      "text/plain": [
       "<IPython.core.display.Markdown object>"
      ]
     },
     "metadata": {},
     "output_type": "display_data"
    },
    {
     "data": {
      "text/markdown": [
       "National Ambulance Service (OMSZ) are checking travelers entering Hungary for coronavirus at six major border crossings across the country. Their temperature is being taken and those with a fever will be isolated"
      ],
      "text/plain": [
       "<IPython.core.display.Markdown object>"
      ]
     },
     "metadata": {},
     "output_type": "display_data"
    },
    {
     "data": {
      "text/markdown": [
       "All travelers entering the island with recent travel to China, France, Germany, Iran, Italy, Singapore, South Korea, Spain, and the United Kingdom may be denied entry or will be subject to immediate quarantine or isolation if symptomatic."
      ],
      "text/plain": [
       "<IPython.core.display.Markdown object>"
      ]
     },
     "metadata": {},
     "output_type": "display_data"
    },
    {
     "data": {
      "text/markdown": [
       "##### Testing policy"
      ],
      "text/plain": [
       "<IPython.core.display.Markdown object>"
      ]
     },
     "metadata": {},
     "output_type": "display_data"
    },
    {
     "data": {
      "text/markdown": [
       "5-shield system: checkpoints, medical observation and isolation at designated venues, community screening, fever clinics and treatment at hospitals,"
      ],
      "text/plain": [
       "<IPython.core.display.Markdown object>"
      ]
     },
     "metadata": {},
     "output_type": "display_data"
    },
    {
     "data": {
      "text/markdown": [
       "specimen will be taken from patient under the criteria for the COVID-19 patient under observation for laboratory test and the patient will be treated in an isolation room. The Specimen will be sent to the National Institute for Health Research and Development (Balitbangkes). The first test result will be completed within 24 hours after the specimen is received."
      ],
      "text/plain": [
       "<IPython.core.display.Markdown object>"
      ]
     },
     "metadata": {},
     "output_type": "display_data"
    },
    {
     "data": {
      "text/markdown": [
       "Updating of testing policy; those with symptoms and no other diagnosis, symptom and close contact with confirmed case, symptoms and hospitalisation, patient in home isolation with sustained high fever or age >65"
      ],
      "text/plain": [
       "<IPython.core.display.Markdown object>"
      ]
     },
     "metadata": {},
     "output_type": "display_data"
    },
    {
     "data": {
      "text/markdown": [
       "#### Social distancing"
      ],
      "text/plain": [
       "<IPython.core.display.Markdown object>"
      ]
     },
     "metadata": {},
     "output_type": "display_data"
    },
    {
     "data": {
      "text/markdown": [
       "##### Changes in prison-related policies"
      ],
      "text/plain": [
       "<IPython.core.display.Markdown object>"
      ]
     },
     "metadata": {},
     "output_type": "display_data"
    },
    {
     "data": {
      "text/markdown": [
       "Cacanda prison creates isolation rooms. the institution has already restricted all visits and meals from the inmates' relatives as preventive measures "
      ],
      "text/plain": [
       "<IPython.core.display.Markdown object>"
      ]
     },
     "metadata": {},
     "output_type": "display_data"
    },
    {
     "data": {
      "text/markdown": [
       "##### Public services closure"
      ],
      "text/plain": [
       "<IPython.core.display.Markdown object>"
      ]
     },
     "metadata": {},
     "output_type": "display_data"
    },
    {
     "data": {
      "text/markdown": [
       "Measures have been imposed until 12 April, including the banning of public events and closure of non-essential private businesses. Exceptions include restaurants operating on a delivery-only basis and stores selling food, medicines and essential items; foreigners who originate from ‘at-risk’ countries are required to register with authorities and self-isolate."
      ],
      "text/plain": [
       "<IPython.core.display.Markdown object>"
      ]
     },
     "metadata": {},
     "output_type": "display_data"
    },
    {
     "data": {
      "text/markdown": [
       "##### Limit public gatherings"
      ],
      "text/plain": [
       "<IPython.core.display.Markdown object>"
      ]
     },
     "metadata": {},
     "output_type": "display_data"
    },
    {
     "data": {
      "text/markdown": [
       "All persons shall be required to isolate at home unless for the purpose of purchasing or supplying essential consumer goods, obtaining medical supplies or seeking medical assistance, access to banking and financial services."
      ],
      "text/plain": [
       "<IPython.core.display.Markdown object>"
      ]
     },
     "metadata": {},
     "output_type": "display_data"
    },
    {
     "data": {
      "text/markdown": [
       "#### Movement restrictions"
      ],
      "text/plain": [
       "<IPython.core.display.Markdown object>"
      ]
     },
     "metadata": {},
     "output_type": "display_data"
    },
    {
     "data": {
      "text/markdown": [
       "##### Border closure"
      ],
      "text/plain": [
       "<IPython.core.display.Markdown object>"
      ]
     },
     "metadata": {},
     "output_type": "display_data"
    },
    {
     "data": {
      "text/markdown": [
       "From 9pm AEDT 20 March 2020, our borders are closed except for Australian citizens, residents and immediate family members. Arrivals must self isolate for 14 days"
      ],
      "text/plain": [
       "<IPython.core.display.Markdown object>"
      ]
     },
     "metadata": {},
     "output_type": "display_data"
    },
    {
     "data": {
      "text/markdown": [
       "##### Domestic travel restrictions"
      ],
      "text/plain": [
       "<IPython.core.display.Markdown object>"
      ]
     },
     "metadata": {},
     "output_type": "display_data"
    },
    {
     "data": {
      "text/markdown": [
       "South Australia and Western Australia will effectively close their borders on March 24 at 4pm anyone entering the state would be subject to a mandatory 14-day isolation period. Essential services, including the supply of food would not be affected. Tasmania and the Northern Territory already have such restrictions in place."
      ],
      "text/plain": [
       "<IPython.core.display.Markdown object>"
      ]
     },
     "metadata": {},
     "output_type": "display_data"
    },
    {
     "data": {
      "text/markdown": [
       "Anyone entering Queensland from the air or by road will be forced to isolate themselves for 14 days from Wednesday night 25 March "
      ],
      "text/plain": [
       "<IPython.core.display.Markdown object>"
      ]
     },
     "metadata": {},
     "output_type": "display_data"
    },
    {
     "data": {
      "text/markdown": [
       "the MOPH requested to identify people and patients living in the Bangkok Metropolitan Region and surrounding areas who visited risk areas i.e. boxing stadiums and entertainment spots (staff, officers, visitors and the audience) to refrain from traveling back to their hometowns and self-isolate."
      ],
      "text/plain": [
       "<IPython.core.display.Markdown object>"
      ]
     },
     "metadata": {},
     "output_type": "display_data"
    },
    {
     "data": {
      "text/markdown": [
       "##### Surveillance and monitoring"
      ],
      "text/plain": [
       "<IPython.core.display.Markdown object>"
      ]
     },
     "metadata": {},
     "output_type": "display_data"
    },
    {
     "data": {
      "text/markdown": [
       "ADF personnel will bolster local police efforts in visiting the homes and residences of Australians who are in mandatory isolation as directed by state and territory governments and will report to the local police whether the identified individual was at the residence."
      ],
      "text/plain": [
       "<IPython.core.display.Markdown object>"
      ]
     },
     "metadata": {},
     "output_type": "display_data"
    },
    {
     "data": {
      "text/markdown": [
       "Persons in self-isolation will be electronically monitored"
      ],
      "text/plain": [
       "<IPython.core.display.Markdown object>"
      ]
     },
     "metadata": {},
     "output_type": "display_data"
    },
    {
     "data": {
      "text/markdown": [
       "The Danish agency for patient safety has been given the right to test any person suspected of COVID-19; to demand them to go to a hospital or to isolate  them in a suitable facility; if necessary these can be implemented through police support"
      ],
      "text/plain": [
       "<IPython.core.display.Markdown object>"
      ]
     },
     "metadata": {},
     "output_type": "display_data"
    },
    {
     "data": {
      "text/markdown": [
       "Guatemala Ministry of Health has the authority to move any individuals, including foreigners, into quarantine or isolation if deemed medically necessary."
      ],
      "text/plain": [
       "<IPython.core.display.Markdown object>"
      ]
     },
     "metadata": {},
     "output_type": "display_data"
    },
    {
     "data": {
      "text/markdown": [
       "Police may receive access to a register of persons with COVID-19 to ensure strict self-isolation through health ministery"
      ],
      "text/plain": [
       "<IPython.core.display.Markdown object>"
      ]
     },
     "metadata": {},
     "output_type": "display_data"
    },
    {
     "data": {
      "text/markdown": [
       "App launched to monitor self-isolation and check symptoms + give advice"
      ],
      "text/plain": [
       "<IPython.core.display.Markdown object>"
      ]
     },
     "metadata": {},
     "output_type": "display_data"
    },
    {
     "data": {
      "text/markdown": [
       "Enforcement of self-isolation orders for people recently returned from aboard and their family members."
      ],
      "text/plain": [
       "<IPython.core.display.Markdown object>"
      ]
     },
     "metadata": {},
     "output_type": "display_data"
    },
    {
     "data": {
      "text/markdown": [
       "Monitoring / surveillance in travelers from Disease Infected Zones. Government officials have the power to take legal action immediately such as bringing suspected cases to be examined, isolated or quarantined at the designated locations. The officers can take action against those refusing to notify or not notifying within the time specified by law when finding suspected cases or suspected events."
      ],
      "text/plain": [
       "<IPython.core.display.Markdown object>"
      ]
     },
     "metadata": {},
     "output_type": "display_data"
    },
    {
     "data": {
      "text/markdown": [
       "##### Checkpoints within the country"
      ],
      "text/plain": [
       "<IPython.core.display.Markdown object>"
      ]
     },
     "metadata": {},
     "output_type": "display_data"
    },
    {
     "data": {
      "text/markdown": [
       "Authorities ban all entry into Greater Abidjan to isolate the economic capital.  Includes the District of Abidjan, Dabou, Azaguie, Bingerville, Grand-Bassam, Bonoua, Assinie and up to PK30 on the Abidjan-Yamoussoukro motorway. The decree provides an exemption for people transporting food supplies, medical and pharmaceutical products, medical evacuations, gas and fuel deliveries, as well as water, electricity, telephony and emergency services."
      ],
      "text/plain": [
       "<IPython.core.display.Markdown object>"
      ]
     },
     "metadata": {},
     "output_type": "display_data"
    },
    {
     "data": {
      "text/markdown": [
       "Checkpoints are used to monitor the movement of people. The checkpoints are at Khartoum Airport, Port Sudan Airport, and Port Sudan Port. In addition to four checkpoints in the Northern State and two isolation centers in Khartoum."
      ],
      "text/plain": [
       "<IPython.core.display.Markdown object>"
      ]
     },
     "metadata": {},
     "output_type": "display_data"
    },
    {
     "data": {
      "text/markdown": [
       "##### Visa restrictions"
      ],
      "text/plain": [
       "<IPython.core.display.Markdown object>"
      ]
     },
     "metadata": {},
     "output_type": "display_data"
    },
    {
     "data": {
      "text/markdown": [
       "Non-Sarawakian from Peninsular Malaysia, Sabah or foreign citizens are not allowed to enter Sarawak from 18 - 31 March 2020, unless they are employed in the essential services sector - they can enter but are subject to the 14 days self isolation rule"
      ],
      "text/plain": [
       "<IPython.core.display.Markdown object>"
      ]
     },
     "metadata": {},
     "output_type": "display_data"
    },
    {
     "data": {
      "text/markdown": [
       "##### Curfews"
      ],
      "text/plain": [
       "<IPython.core.display.Markdown object>"
      ]
     },
     "metadata": {},
     "output_type": "display_data"
    },
    {
     "data": {
      "text/markdown": [
       "On March 24, Panama's President announced that the public will need to quarantine and self-isolate themselves starting from 05:01 (local time) on Wednesday, March 25, to limit the spread of the coronavirus (COVID-19). Authorities did not specify how long the curfew measures will remain in place. Decree 504 established that people who break health regulations and quarantines could be fined​ between $50,000 to $100,000."
      ],
      "text/plain": [
       "<IPython.core.display.Markdown object>"
      ]
     },
     "metadata": {},
     "output_type": "display_data"
    },
    {
     "data": {
      "text/markdown": [
       "No ad-hoc decisions at regional level regarding curfew and isolating areas, President Instructs"
      ],
      "text/plain": [
       "<IPython.core.display.Markdown object>"
      ]
     },
     "metadata": {},
     "output_type": "display_data"
    },
    {
     "data": {
      "text/markdown": [
       "##### International flights suspension"
      ],
      "text/plain": [
       "<IPython.core.display.Markdown object>"
      ]
     },
     "metadata": {},
     "output_type": "display_data"
    },
    {
     "data": {
      "text/markdown": [
       "TC Harold response COVID-19 guidelines established: intl border restrictions remain.“People from countries with local transmission of COVID-19 are not allowed to enter the country. If they still want to come, they will have to go through isolation before entry,” he said.“ People from countries with no COVID-19 cases are allowed but only if a request is made through NDMO. The govt will only accept cargo or relief that is requested and facilitated by NDMO but not unsolicited donations. People and agencies with presence in the country to support the government respond to the COVID-19 crisis and other disasters like the category 5 cyclone that is battering the country."
      ],
      "text/plain": [
       "<IPython.core.display.Markdown object>"
      ]
     },
     "metadata": {},
     "output_type": "display_data"
    },
    {
     "data": {
      "text/markdown": [
       "#### Governance and socio-economic measures"
      ],
      "text/plain": [
       "<IPython.core.display.Markdown object>"
      ]
     },
     "metadata": {},
     "output_type": "display_data"
    },
    {
     "data": {
      "text/markdown": [
       "##### Emergency administrative structures activated or established"
      ],
      "text/plain": [
       "<IPython.core.display.Markdown object>"
      ]
     },
     "metadata": {},
     "output_type": "display_data"
    },
    {
     "data": {
      "text/markdown": [
       "Aust Defense Force (ADF) assistance will be provided under the Defence Assistance to the Civil Community arrangements. These new requirements will build on the existing support the Australian Defence Force is providing to the COVID-19 response, including:Assistance to the states and territories to support contact tracing efforts.Supporting industry with the production of surgical masks.Provision of planning and logistics support to Commonwealth, state and territory agencies.Provision of personnel to other agencies, including Services Australia.Supporting the NT Police with border control operations.Assisting states and territories to support the production of food hampers to supply to isolated civilians."
      ],
      "text/plain": [
       "<IPython.core.display.Markdown object>"
      ]
     },
     "metadata": {},
     "output_type": "display_data"
    },
    {
     "data": {
      "text/markdown": [
       "The Emergency Powers (COVID-19) Regulations, 2020 will put in place the legal powers for the Government to respond quickly and decisively to the COVID-19 crisis. Empowers the state in areas of health, social distancing, self-isolation, curfews, requisition of property and essential services, and procurement of goods and services.The emergency regulations also address the dissemination of false news. A provision exists in the regulations by which the Governor General may authorize international or regional military or police forces as may be requested by the Government to serve as peace officers and assist in: the storage, safe keeping or distribution of relief supplies; the provision of any essential services, and;the maintenance of public order. "
      ],
      "text/plain": [
       "<IPython.core.display.Markdown object>"
      ]
     },
     "metadata": {},
     "output_type": "display_data"
    },
    {
     "data": {
      "text/markdown": [
       "The Hospital Authority today announced that it will set up COVID-19 triage and test centres in some of its accident and emergency (A&E) departments in hospitals from this week to alleviate pressure on public hospitals’ in-patient isolation facilities."
      ],
      "text/plain": [
       "<IPython.core.display.Markdown object>"
      ]
     },
     "metadata": {},
     "output_type": "display_data"
    },
    {
     "data": {
      "text/markdown": [
       "Temporary shelters that meet the necessary hygiene standards will be identified for homeless people. Sites are also being identified for quarantine and self-isolation for people who cannot self-isolate at home."
      ],
      "text/plain": [
       "<IPython.core.display.Markdown object>"
      ]
     },
     "metadata": {},
     "output_type": "display_data"
    },
    {
     "data": {
      "text/markdown": [
       "Taliai Army Camp near Fua’amotu airport had been readied as an isolation centre for people who cannot be isolated at home"
      ],
      "text/plain": [
       "<IPython.core.display.Markdown object>"
      ]
     },
     "metadata": {},
     "output_type": "display_data"
    },
    {
     "data": {
      "text/markdown": [
       "##### Economic measures"
      ],
      "text/plain": [
       "<IPython.core.display.Markdown object>"
      ]
     },
     "metadata": {},
     "output_type": "display_data"
    },
    {
     "data": {
      "text/markdown": [
       " Ministry of Finance undertook to model assumptions on the likely impact of the Coronavirus over the next four-month period to mid-July 2020. Ran three scenarios – low, medium and high impact – based on assumptions of varying degrees of losses for tourist arrivals over a four-month period.Government has adopted a package of policy measures to deal with the tremendous economic impact of COVID-19 that is already starting to be felt as hotel occupancies have fallen, as cruise ship arrivals are on a 30-day hiatus, and as hotel workers are being asked to take unpaid or vacation leave. (Government Package of Policy Measures to Deal with Economic Impact of COVID-19).  $5 million government has already earmarked for healthcare response, and allocating up to an additional $11 million to cover detection, isolation, treatment and other COVID-19 mitigation activities. Government is allocating $10 million to provide for a temporary unemployment benefit, administered through the National Insurance Board, for self-employed persons working in the tourism industry. Government is making a special accommodation for those self-employed individuals in the tourism industry, given the unprecedented COVID-19 impact and will offer a sponsored unemployment assistance of $200 per week, for up to eight weeks. Individuals who are temporarily laid off because of the economic impacts of COVID-19 will be eligible for unemployment benefits, up to the regular 13-week period, if necessary"
      ],
      "text/plain": [
       "<IPython.core.display.Markdown object>"
      ]
     },
     "metadata": {},
     "output_type": "display_data"
    },
    {
     "data": {
      "text/markdown": [
       "NZ$12.1 billion package announced to support New Zealanders from the impact of COVID-19 comprising a wage subsidy scheme, leave and self-isolation support & business cash flow and tax measures. "
      ],
      "text/plain": [
       "<IPython.core.display.Markdown object>"
      ]
     },
     "metadata": {},
     "output_type": "display_data"
    },
    {
     "data": {
      "text/markdown": [
       "PhilHealth will cover all COVID 19 tests and cover the quarantine and isolation costs; additional funds were released to finance PhilHealth's response"
      ],
      "text/plain": [
       "<IPython.core.display.Markdown object>"
      ]
     },
     "metadata": {},
     "output_type": "display_data"
    },
    {
     "data": {
      "text/markdown": [
       "#### Lockdown"
      ],
      "text/plain": [
       "<IPython.core.display.Markdown object>"
      ]
     },
     "metadata": {},
     "output_type": "display_data"
    },
    {
     "data": {
      "text/markdown": [
       "##### Partial lockdown"
      ],
      "text/plain": [
       "<IPython.core.display.Markdown object>"
      ]
     },
     "metadata": {},
     "output_type": "display_data"
    },
    {
     "data": {
      "text/markdown": [
       "Towns of Cotonou, Abomey-Calavi, Allada, Ouidah, Sèmè-Podji, Porto-Novo, Akpro-Missérété and Adjarra are under lockdown and isolated from the rest of the country by checkpoints."
      ],
      "text/plain": [
       "<IPython.core.display.Markdown object>"
      ]
     },
     "metadata": {},
     "output_type": "display_data"
    },
    {
     "data": {
      "text/markdown": [
       "Extended SoE:The rules already enacted in the first period of state of emergency remain, including the duty of home isolation, leaving only for strictly necessary situations."
      ],
      "text/plain": [
       "<IPython.core.display.Markdown object>"
      ]
     },
     "metadata": {},
     "output_type": "display_data"
    },
    {
     "data": {
      "text/markdown": [
       "Tonga's Prime Minister Pohiva Tu'i'onetoa has declared a national lockdown for one week starting this Sunday 29 March at 1am and ending Sunday 5 April. The lock-down requires everyone to stay at home. The exception to the isolation order includes purchasing or supplying essential consumer goods, obtaining medical supplies or seeking medical assistance, access to banking and other financial services and attending work as a member of an essential service provider."
      ],
      "text/plain": [
       "<IPython.core.display.Markdown object>"
      ]
     },
     "metadata": {},
     "output_type": "display_data"
    },
    {
     "data": {
      "text/markdown": [
       "extension: self isolation regime extended until late april "
      ],
      "text/plain": [
       "<IPython.core.display.Markdown object>"
      ]
     },
     "metadata": {},
     "output_type": "display_data"
    },
    {
     "data": {
      "text/markdown": [
       "##### Lockdown of refugee/idp camps or other minorities"
      ],
      "text/plain": [
       "<IPython.core.display.Markdown object>"
      ]
     },
     "metadata": {},
     "output_type": "display_data"
    },
    {
     "data": {
      "text/markdown": [
       "One refugee camp with confirmed corona cases locked down and isolation ensured through police and partial military presence"
      ],
      "text/plain": [
       "<IPython.core.display.Markdown object>"
      ]
     },
     "metadata": {},
     "output_type": "display_data"
    },
    {
     "data": {
      "text/markdown": [
       "##### Full lockdown"
      ],
      "text/plain": [
       "<IPython.core.display.Markdown object>"
      ]
     },
     "metadata": {},
     "output_type": "display_data"
    },
    {
     "data": {
      "text/markdown": [
       "Continued: The areas in Colombo, Kalutara and Kandy which have been demarcated as isolated areas will remain in that status until further notice and no one is permitted to enter or leave these isolated villages until further notice."
      ],
      "text/plain": [
       "<IPython.core.display.Markdown object>"
      ]
     },
     "metadata": {},
     "output_type": "display_data"
    },
    {
     "data": {
      "text/markdown": [
       "the Atalogama village in Bandaragama in Kalutara district, which had been isolated since March 29 after finding coronavirus infected, has been re-opened after completing the isolation period."
      ],
      "text/plain": [
       "<IPython.core.display.Markdown object>"
      ]
     },
     "metadata": {},
     "output_type": "display_data"
    }
   ],
   "source": [
    "print_match_rows('isolat')"
   ]
  },
  {
   "cell_type": "markdown",
   "metadata": {},
   "source": [
    "No good data on asymptomatic case isolation."
   ]
  },
  {
   "cell_type": "markdown",
   "metadata": {},
   "source": [
    "## Business shutdowns"
   ]
  },
  {
   "cell_type": "code",
   "execution_count": 55,
   "metadata": {},
   "outputs": [
    {
     "name": "stderr",
     "output_type": "stream",
     "text": [
      "/Users/benjaminsmith/anaconda/lib/python3.6/site-packages/ipykernel_launcher.py:4: UserWarning: This pattern has match groups. To actually get the groups, use str.extract.\n",
      "  after removing the cwd from sys.path.\n"
     ]
    },
    {
     "data": {
      "text/markdown": [
       "#### Public health measures"
      ],
      "text/plain": [
       "<IPython.core.display.Markdown object>"
      ]
     },
     "metadata": {},
     "output_type": "display_data"
    },
    {
     "data": {
      "text/markdown": [
       "##### General recommendations"
      ],
      "text/plain": [
       "<IPython.core.display.Markdown object>"
      ]
     },
     "metadata": {},
     "output_type": "display_data"
    },
    {
     "data": {
      "text/markdown": [
       "Prime Minister Scott Morrison has urged Australians to stay home except for essential trips, ordering more businesses to close to stop people gathering. On Tuesday, Mr Morrison told Australians to only leave the house when \"it is absolutely necessary you go out\". He said Australians should continue working but it was \"strongly encouraged to work from home\"."
      ],
      "text/plain": [
       "<IPython.core.display.Markdown object>"
      ]
     },
     "metadata": {},
     "output_type": "display_data"
    },
    {
     "data": {
      "text/markdown": [
       "#### Social distancing"
      ],
      "text/plain": [
       "<IPython.core.display.Markdown object>"
      ]
     },
     "metadata": {},
     "output_type": "display_data"
    },
    {
     "data": {
      "text/markdown": [
       "##### Public services closure"
      ],
      "text/plain": [
       "<IPython.core.display.Markdown object>"
      ]
     },
     "metadata": {},
     "output_type": "display_data"
    },
    {
     "data": {
      "text/markdown": [
       "All businesses and activities not deemed essential should be closed during the lockdown"
      ],
      "text/plain": [
       "<IPython.core.display.Markdown object>"
      ]
     },
     "metadata": {},
     "output_type": "display_data"
    },
    {
     "data": {
      "text/markdown": [
       "extended until at least 17/4/2020: Private sector businesses except those which provide basic needs such as groceries, bakeries, gas stations, pharmacies, etc., will be closed."
      ],
      "text/plain": [
       "<IPython.core.display.Markdown object>"
      ]
     },
     "metadata": {},
     "output_type": "display_data"
    },
    {
     "data": {
      "text/markdown": [
       "Non-essential businesses in Suva closed under 2 week lockdown"
      ],
      "text/plain": [
       "<IPython.core.display.Markdown object>"
      ]
     },
     "metadata": {},
     "output_type": "display_data"
    },
    {
     "data": {
      "text/markdown": [
       "all non-essential businesses were also ordered closed, except for supermarkets, pharmacies, gas stations, hotels, banks, hospitals, and restaurants with drive-through or delivery services."
      ],
      "text/plain": [
       "<IPython.core.display.Markdown object>"
      ]
     },
     "metadata": {},
     "output_type": "display_data"
    },
    {
     "data": {
      "text/markdown": [
       "Prohibition of gatherings 10+ people, Public transportation is suspended, All institutions and business in the public and private sectors will be closed except for those deemed critical by the Government of Jordan."
      ],
      "text/plain": [
       "<IPython.core.display.Markdown object>"
      ]
     },
     "metadata": {},
     "output_type": "display_data"
    },
    {
     "data": {
      "text/markdown": [
       "All businesses will reportedly be closed except for supermarkets, pharmacies, banks, petrol stations, as well as healthcare centers. "
      ],
      "text/plain": [
       "<IPython.core.display.Markdown object>"
      ]
     },
     "metadata": {},
     "output_type": "display_data"
    },
    {
     "data": {
      "text/markdown": [
       "Under lockdown (Mar 24 - April 3), all government offices, businesses and shops closed "
      ],
      "text/plain": [
       "<IPython.core.display.Markdown object>"
      ]
     },
     "metadata": {},
     "output_type": "display_data"
    },
    {
     "data": {
      "text/markdown": [
       "Non-essential businesses must now close. All bars, restaurants, cafes, gyms, cinemas, pools, museums, libraries, playgrounds and any other place where the public congregate must close their face to face function."
      ],
      "text/plain": [
       "<IPython.core.display.Markdown object>"
      ]
     },
     "metadata": {},
     "output_type": "display_data"
    },
    {
     "data": {
      "text/markdown": [
       "From March 22, for at least 15 days, all non-essential businesses will be closed to customers, although restaurants will be allowed to provide takeaway services. Supermarkets, pharmacies, bakeries, petrol stations and banks will remain open but must implement capacity restrictions."
      ],
      "text/plain": [
       "<IPython.core.display.Markdown object>"
      ]
     },
     "metadata": {},
     "output_type": "display_data"
    },
    {
     "data": {
      "text/markdown": [
       "All commercial businesses and non-essential shops remain closed "
      ],
      "text/plain": [
       "<IPython.core.display.Markdown object>"
      ]
     },
     "metadata": {},
     "output_type": "display_data"
    },
    {
     "data": {
      "text/markdown": [
       "Restaurants are back in business but must close at 9.30pm while cinemas and night clubs are still closed."
      ],
      "text/plain": [
       "<IPython.core.display.Markdown object>"
      ]
     },
     "metadata": {},
     "output_type": "display_data"
    },
    {
     "data": {
      "text/markdown": [
       "All non-essential businesses will be closed. "
      ],
      "text/plain": [
       "<IPython.core.display.Markdown object>"
      ]
     },
     "metadata": {},
     "output_type": "display_data"
    },
    {
     "data": {
      "text/markdown": [
       "The following businesses are to remain closed until further notice: Public houses, Cinemas, Theatres, Nightclubs, Bingo halls, Concert halls, Museums and galleries, Casinos, Betting shops, Spas, Massage parlours, Indoor skating rinks, Indoor fitness studios, gyms, swimming pools or other indoor leisure centres"
      ],
      "text/plain": [
       "<IPython.core.display.Markdown object>"
      ]
     },
     "metadata": {},
     "output_type": "display_data"
    },
    {
     "data": {
      "text/markdown": [
       "#### Movement restrictions"
      ],
      "text/plain": [
       "<IPython.core.display.Markdown object>"
      ]
     },
     "metadata": {},
     "output_type": "display_data"
    },
    {
     "data": {
      "text/markdown": [
       "##### Curfews"
      ],
      "text/plain": [
       "<IPython.core.display.Markdown object>"
      ]
     },
     "metadata": {},
     "output_type": "display_data"
    },
    {
     "data": {
      "text/markdown": [
       "partial curfew will be in place for 14 days.  Individuals may only leave their residences to seek goods and services from essential personnel and businesses.  All public sector employees except for the police force, fire department, health, civil aviation, finance and similar services will be under administrative leave until March 27, 2020.  Private sector businesses except those which provide basic needs such as groceries, bakeries, gas stations, pharmacies, etc., will also be closed until at least March 27.  All business hours are restricted from 07:00 to 18:00."
      ],
      "text/plain": [
       "<IPython.core.display.Markdown object>"
      ]
     },
     "metadata": {},
     "output_type": "display_data"
    },
    {
     "data": {
      "text/markdown": [
       "#### Lockdown"
      ],
      "text/plain": [
       "<IPython.core.display.Markdown object>"
      ]
     },
     "metadata": {},
     "output_type": "display_data"
    },
    {
     "data": {
      "text/markdown": [
       "##### Partial lockdown"
      ],
      "text/plain": [
       "<IPython.core.display.Markdown object>"
      ]
     },
     "metadata": {},
     "output_type": "display_data"
    },
    {
     "data": {
      "text/markdown": [
       "All schools and non-essential businesses in the greater Lautoka area have been ordered closed, and the government has asked all who live in the area to stay in the area."
      ],
      "text/plain": [
       "<IPython.core.display.Markdown object>"
      ]
     },
     "metadata": {},
     "output_type": "display_data"
    },
    {
     "data": {
      "text/markdown": [
       "Movement Control Order (MCO) in place from March 18-31 in place under the Prevention and Control of Infectious Diseases Act 1988 and the Police Act 1967. Government and private offices apart from those providing essential services are closed. All shops other than businesses dealing with daily essentials – such as food and pharmaceutical stores are closed. The Chief Minister of Sarawak has announced that people will only be allowed to leave their homes in order to buy daily necessities, essential goods and services."
      ],
      "text/plain": [
       "<IPython.core.display.Markdown object>"
      ]
     },
     "metadata": {},
     "output_type": "display_data"
    },
    {
     "data": {
      "text/markdown": [
       "All people are told to remain at home and all but essential businessed are closed for a period of 14 days."
      ],
      "text/plain": [
       "<IPython.core.display.Markdown object>"
      ]
     },
     "metadata": {},
     "output_type": "display_data"
    },
    {
     "data": {
      "text/markdown": [
       "All people are told to remain at home and all but essential businessed are closed for a period of 14 days."
      ],
      "text/plain": [
       "<IPython.core.display.Markdown object>"
      ]
     },
     "metadata": {},
     "output_type": "display_data"
    },
    {
     "data": {
      "text/markdown": [
       "All people are told to remain at home and all but essential businessed are closed for a period of 14 days."
      ],
      "text/plain": [
       "<IPython.core.display.Markdown object>"
      ]
     },
     "metadata": {},
     "output_type": "display_data"
    },
    {
     "data": {
      "text/markdown": [
       "From March 28 – April 30, the Government of the Russian Federation has declared a \"holiday\" for all Russians in order to slow the spread of COVID-19. In Moscow, and many other cities, all businesses except for grocery stores and pharmacies will be temporarily closed.  Restaurants may provide delivery services only.  All individuals are strongly encouraged to stay home, except to obtain food, medication or emergency medical services."
      ],
      "text/plain": [
       "<IPython.core.display.Markdown object>"
      ]
     },
     "metadata": {},
     "output_type": "display_data"
    },
    {
     "data": {
      "text/markdown": [
       "The Ordinance sets out the business hours for grocery stores, which will begin no later than at 8:00 and end no earlier than at 20:00 every day. From 8:00 to 10:00, all vulnerable groups, which include disabled persons, retired persons and pregnant women, will be given priority in making purchases as well as entering a shop. All shops will be closed on Sundays and work-free days except petrol stations and pharmacies, which may operat"
      ],
      "text/plain": [
       "<IPython.core.display.Markdown object>"
      ]
     },
     "metadata": {},
     "output_type": "display_data"
    },
    {
     "data": {
      "text/markdown": [
       "#### Governance and socio-economic measures"
      ],
      "text/plain": [
       "<IPython.core.display.Markdown object>"
      ]
     },
     "metadata": {},
     "output_type": "display_data"
    },
    {
     "data": {
      "text/markdown": [
       "##### Economic measures"
      ],
      "text/plain": [
       "<IPython.core.display.Markdown object>"
      ]
     },
     "metadata": {},
     "output_type": "display_data"
    },
    {
     "data": {
      "text/markdown": [
       "Bbusinesses had no valid reason to increase their prices and profit unnessarily from shortages, an increase in demand due to disasters or unforeseen circumstances such as pandemic preparations. The Ministry said it would be keeping a close eye on businesses across Tonga, including the Niuas, ensuring no price gouging was occuring. Businesses risk potentially having their licence revoked, according to the Ministry."
      ],
      "text/plain": [
       "<IPython.core.display.Markdown object>"
      ]
     },
     "metadata": {},
     "output_type": "display_data"
    }
   ],
   "source": [
    "print_match_rows('((business|workplace).*close)')"
   ]
  },
  {
   "cell_type": "markdown",
   "metadata": {},
   "source": [
    "Some data on business closing."
   ]
  },
  {
   "cell_type": "markdown",
   "metadata": {},
   "source": [
    "## School closures"
   ]
  },
  {
   "cell_type": "code",
   "execution_count": null,
   "metadata": {
    "collapsed": true
   },
   "outputs": [],
   "source": []
  }
 ],
 "metadata": {
  "kernelspec": {
   "display_name": "Python 3",
   "language": "python",
   "name": "python3"
  },
  "language_info": {
   "codemirror_mode": {
    "name": "ipython",
    "version": 3
   },
   "file_extension": ".py",
   "mimetype": "text/x-python",
   "name": "python",
   "nbconvert_exporter": "python",
   "pygments_lexer": "ipython3",
   "version": "3.6.8"
  }
 },
 "nbformat": 4,
 "nbformat_minor": 2
}
