{
 "cells": [
  {
   "cell_type": "code",
   "execution_count": 2,
   "metadata": {
    "collapsed": true
   },
   "outputs": [],
   "source": [
    "import pandas as pd\n",
    "import numpy as np\n",
    "import re\n",
    "import sys, os\n",
    "sys.path.append(os.path.abspath('../containment/'))\n",
    "#from containment.acaps_functions import *\n",
    "\n",
    "\n",
    "source_data = pd.read_csv(\"../../../data/epidemicforecasting/20200416-acaps-covid-19-goverment-measures-dataset-v8.xlsx - Database.csv\")"
   ]
  },
  {
   "cell_type": "code",
   "execution_count": 3,
   "metadata": {
    "collapsed": true
   },
   "outputs": [],
   "source": [
    "from acaps_functions import *\n",
    "source_data=tidy_acaps_data(source_data)"
   ]
  },
  {
   "cell_type": "code",
   "execution_count": 4,
   "metadata": {},
   "outputs": [
    {
     "data": {
      "text/plain": [
       "'/Users/benjaminsmith/Google Drive/politics/coronavirus/code/epidemicforecasting/containment'"
      ]
     },
     "execution_count": 4,
     "metadata": {},
     "output_type": "execute_result"
    }
   ],
   "source": [
    "os.path.abspath('../containment')"
   ]
  },
  {
   "cell_type": "markdown",
   "metadata": {},
   "source": [
    "\n",
    " - Mask wearing (data is quite incomplete)\n",
    " - Asymptomatic contact isolation (data is quite incomplete)\n",
    " - Business shutdowns (data is reasonably complete)\n",
    " - School closures (data is reasonably complete)\n",
    " - Gathering size limits (data is reasonably complete)\n",
    " - General curfews (data is reasonably complete)\n",
    " - Healthcare specialisation (data is in-between)"
   ]
  },
  {
   "cell_type": "markdown",
   "metadata": {},
   "source": [
    "### ACAPS categories and measures"
   ]
  },
  {
   "cell_type": "code",
   "execution_count": 5,
   "metadata": {},
   "outputs": [
    {
     "name": "stdout",
     "output_type": "stream",
     "text": [
      "Public health measures\n",
      "Strengthening the public health system                488\n",
      "Introduction of isolation and quarantine policies     394\n",
      "Awareness campaigns                                   218\n",
      "General recommendations                               217\n",
      "Health screenings in airports and border crossings    171\n",
      "Testing policy                                         60\n",
      "Other public health measures enforced                  58\n",
      "Psychological assistance and medical social work       32\n",
      "Requirement to wear protective gear in public          30\n",
      "Amendments to funeral and burial regulations           14\n",
      "Mass population testing                                 8\n",
      "strengthening the public health system                  7\n",
      "testing policy                                          1\n",
      "Name: MEASURE, dtype: int64\n",
      "\n",
      "\n",
      "Governance and socio-economic measures\n",
      "Economic measures                                               640\n",
      "Emergency administrative structures activated or established    176\n",
      "State of emergency declared                                     136\n",
      "Military deployment                                              44\n",
      "Limit product imports/exports                                    22\n",
      "Name: MEASURE, dtype: int64\n",
      "\n",
      "\n",
      "Social distancing\n",
      "Limit public gatherings               471\n",
      "Public services closure               288\n",
      "Schools closure                       202\n",
      "Changes in prison-related policies     49\n",
      "limit public gatherings                 5\n",
      "Name: MEASURE, dtype: int64\n",
      "\n",
      "\n",
      "Movement restrictions\n",
      "International flights suspension                         263\n",
      "Border closure                                           261\n",
      "Visa restrictions                                        243\n",
      "Domestic travel restrictions                             206\n",
      "Curfews                                                  170\n",
      "Surveillance and monitoring                              113\n",
      "Additional health/documents requirements upon arrival     49\n",
      "Border checks                                             42\n",
      "Checkpoints within the country                            15\n",
      "Complete border closure                                    2\n",
      "curfews                                                    1\n",
      "Name: MEASURE, dtype: int64\n",
      "\n",
      "\n",
      "Lockdown\n",
      "Partial lockdown                                     173\n",
      "Full lockdown                                         49\n",
      "Lockdown of refugee/idp camps or other minorities     10\n",
      "Name: MEASURE, dtype: int64\n",
      "\n",
      "\n",
      "Humanitarian exemption\n",
      "Humanitarian exemptions    2\n",
      "Name: MEASURE, dtype: int64\n",
      "\n",
      "\n"
     ]
    }
   ],
   "source": [
    "for c in source_data.CATEGORY.unique():\n",
    "    print(c)\n",
    "    print(source_data.loc[source_data.CATEGORY==c,'MEASURE'].value_counts())\n",
    "    print(\"\\n\")"
   ]
  },
  {
   "cell_type": "code",
   "execution_count": null,
   "metadata": {
    "collapsed": true
   },
   "outputs": [],
   "source": []
  },
  {
   "cell_type": "markdown",
   "metadata": {},
   "source": [
    "## Mask wearing"
   ]
  },
  {
   "cell_type": "code",
   "execution_count": 79,
   "metadata": {},
   "outputs": [
    {
     "name": "stdout",
     "output_type": "stream",
     "text": [
      "bus drivers and all passengers shall wear masks; government will provide 10,000 masks for drivers and passengers\n",
      "Obligatory to wear a facemask when in public.\n",
      "In grocery shops masks are mandatory (extended to all other shops to re-open by 14.04.2020)\n",
      "mandatory for everyone to wear a facemask in all public venues.\n",
      "Requirement to wear face masks at all times in public.\n",
      "Travellers must wear face mask in all public transports (avion, trains, buses, taxi, etc.).\n",
      "Students shall always wear protective masks in the classroom as schools start to reopen\n",
      "Citizens must wear face masks in public transports and public spaces (banks,  pharmacies, supermarkets, etc.). Those with respiratory symptoms and at risk groups (including those with pre-existing health conditions and adults over the age of 70) must always use masks in public. Cloth masks are acceptable.\n",
      "Requirement to wear face masks in the Greater Abidjan.  \n",
      "Face mask are compulsory.\n",
      "Requirement to wear face maks in public.\n",
      "Bukele said over the weekend that all people must wear a mask as of Monday. \n",
      "Guatemalan President Alejandro Giammattei announced the requirement that all individuals wear masks in public spaces, including in grocery stores and on the street, to prevent the further spread of the COVID-19 virus.\n",
      "All public workers in contact with the public must wear masks.\n",
      "Obligation to wear face mask when out in public.\n",
      "Customers should wear protective masks when visiting the establishments.\n",
      "As of Tuesday April 7, it is MANDATORY to wear protective mask outside of home and inside all establishments.\n",
      "Previously recommendation now mandatory to wear face mask; fines of up to 1000 EUR for individuals\n",
      "People must wear face masks in public.\n",
      "Everyone must wear a face mask (or scarf that covers one’s mouth and nose) while in the capital.\n",
      "On Wednesday, the government announced that the wearing of masks on transport and in crowds of people will become compulsory, measures aimed at preventing the spread of the new coronavirus in the country.\n",
      "It is mandatory to wear a face mask or other objects that cover the mouth and nose in Niamey in public places, markets, and urban transport.\n",
      "Mandatory to wear facemasks in public, including on public transport.\n",
      "All individuals should use facemasks when going outside.\n",
      "Single-use gloves mandatory during shopping\n",
      "Face coverings are mandatory when walking in public.\n",
      "Transportation staff to be provided personal protective equipment to disinfect transportation.\n",
      "Face masks are mandatory anywhere outside the home and minimum distance of 2m kept at all times\n",
      "Sri Lanka makes wearing face masks mandatory when stepping out\n",
      " individuals are required to wear masks and gloves and observe social distancing when in public. Infractions are punishable via legal action. \n"
     ]
    }
   ],
   "source": [
    "measure_rows = source_data.loc[source_data.MEASURE=='Requirement to wear protective gear in public',]\n",
    "\n",
    "for ir, row in measure_rows.iterrows():\n",
    "    print(row['COMMENTS'])\n"
   ]
  },
  {
   "cell_type": "code",
   "execution_count": 81,
   "metadata": {},
   "outputs": [
    {
     "data": {
      "text/plain": [
       "27"
      ]
     },
     "execution_count": 81,
     "metadata": {},
     "output_type": "execute_result"
    }
   ],
   "source": []
  },
  {
   "cell_type": "code",
   "execution_count": null,
   "metadata": {
    "collapsed": true
   },
   "outputs": [],
   "source": []
  },
  {
   "cell_type": "code",
   "execution_count": null,
   "metadata": {
    "collapsed": true
   },
   "outputs": [],
   "source": []
  },
  {
   "cell_type": "code",
   "execution_count": 60,
   "metadata": {},
   "outputs": [
    {
     "data": {
      "text/markdown": [
       "#### Public health measures"
      ],
      "text/plain": [
       "<IPython.core.display.Markdown object>"
      ]
     },
     "metadata": {},
     "output_type": "display_data"
    },
    {
     "data": {
      "text/markdown": [
       "##### Requirement to wear protective gear in public"
      ],
      "text/plain": [
       "<IPython.core.display.Markdown object>"
      ]
     },
     "metadata": {},
     "output_type": "display_data"
    },
    {
     "data": {
      "text/markdown": [
       "bus drivers and all passengers shall wear masks; government will provide 10,000 masks for drivers and passengers"
      ],
      "text/plain": [
       "<IPython.core.display.Markdown object>"
      ]
     },
     "metadata": {},
     "output_type": "display_data"
    },
    {
     "data": {
      "text/markdown": [
       "Obligatory to wear a facemask when in public."
      ],
      "text/plain": [
       "<IPython.core.display.Markdown object>"
      ]
     },
     "metadata": {},
     "output_type": "display_data"
    },
    {
     "data": {
      "text/markdown": [
       "In grocery shops masks are mandatory (extended to all other shops to re-open by 14.04.2020)"
      ],
      "text/plain": [
       "<IPython.core.display.Markdown object>"
      ]
     },
     "metadata": {},
     "output_type": "display_data"
    },
    {
     "data": {
      "text/markdown": [
       "mandatory for everyone to wear a facemask in all public venues."
      ],
      "text/plain": [
       "<IPython.core.display.Markdown object>"
      ]
     },
     "metadata": {},
     "output_type": "display_data"
    },
    {
     "data": {
      "text/markdown": [
       "Requirement to wear face masks at all times in public."
      ],
      "text/plain": [
       "<IPython.core.display.Markdown object>"
      ]
     },
     "metadata": {},
     "output_type": "display_data"
    },
    {
     "data": {
      "text/markdown": [
       "Travellers must wear face mask in all public transports (avion, trains, buses, taxi, etc.)."
      ],
      "text/plain": [
       "<IPython.core.display.Markdown object>"
      ]
     },
     "metadata": {},
     "output_type": "display_data"
    },
    {
     "data": {
      "text/markdown": [
       "Students shall always wear protective masks in the classroom as schools start to reopen"
      ],
      "text/plain": [
       "<IPython.core.display.Markdown object>"
      ]
     },
     "metadata": {},
     "output_type": "display_data"
    },
    {
     "data": {
      "text/markdown": [
       "Citizens must wear face masks in public transports and public spaces (banks,  pharmacies, supermarkets, etc.). Those with respiratory symptoms and at risk groups (including those with pre-existing health conditions and adults over the age of 70) must always use masks in public. Cloth masks are acceptable."
      ],
      "text/plain": [
       "<IPython.core.display.Markdown object>"
      ]
     },
     "metadata": {},
     "output_type": "display_data"
    },
    {
     "data": {
      "text/markdown": [
       "Requirement to wear face masks in the Greater Abidjan.  "
      ],
      "text/plain": [
       "<IPython.core.display.Markdown object>"
      ]
     },
     "metadata": {},
     "output_type": "display_data"
    },
    {
     "data": {
      "text/markdown": [
       "Face mask are compulsory."
      ],
      "text/plain": [
       "<IPython.core.display.Markdown object>"
      ]
     },
     "metadata": {},
     "output_type": "display_data"
    },
    {
     "data": {
      "text/markdown": [
       "Bukele said over the weekend that all people must wear a mask as of Monday. "
      ],
      "text/plain": [
       "<IPython.core.display.Markdown object>"
      ]
     },
     "metadata": {},
     "output_type": "display_data"
    },
    {
     "data": {
      "text/markdown": [
       "Guatemalan President Alejandro Giammattei announced the requirement that all individuals wear masks in public spaces, including in grocery stores and on the street, to prevent the further spread of the COVID-19 virus."
      ],
      "text/plain": [
       "<IPython.core.display.Markdown object>"
      ]
     },
     "metadata": {},
     "output_type": "display_data"
    },
    {
     "data": {
      "text/markdown": [
       "All public workers in contact with the public must wear masks."
      ],
      "text/plain": [
       "<IPython.core.display.Markdown object>"
      ]
     },
     "metadata": {},
     "output_type": "display_data"
    },
    {
     "data": {
      "text/markdown": [
       "Obligation to wear face mask when out in public."
      ],
      "text/plain": [
       "<IPython.core.display.Markdown object>"
      ]
     },
     "metadata": {},
     "output_type": "display_data"
    },
    {
     "data": {
      "text/markdown": [
       "Customers should wear protective masks when visiting the establishments."
      ],
      "text/plain": [
       "<IPython.core.display.Markdown object>"
      ]
     },
     "metadata": {},
     "output_type": "display_data"
    },
    {
     "data": {
      "text/markdown": [
       "As of Tuesday April 7, it is MANDATORY to wear protective mask outside of home and inside all establishments."
      ],
      "text/plain": [
       "<IPython.core.display.Markdown object>"
      ]
     },
     "metadata": {},
     "output_type": "display_data"
    },
    {
     "data": {
      "text/markdown": [
       "Previously recommendation now mandatory to wear face mask; fines of up to 1000 EUR for individuals"
      ],
      "text/plain": [
       "<IPython.core.display.Markdown object>"
      ]
     },
     "metadata": {},
     "output_type": "display_data"
    },
    {
     "data": {
      "text/markdown": [
       "People must wear face masks in public."
      ],
      "text/plain": [
       "<IPython.core.display.Markdown object>"
      ]
     },
     "metadata": {},
     "output_type": "display_data"
    },
    {
     "data": {
      "text/markdown": [
       "Everyone must wear a face mask (or scarf that covers one’s mouth and nose) while in the capital."
      ],
      "text/plain": [
       "<IPython.core.display.Markdown object>"
      ]
     },
     "metadata": {},
     "output_type": "display_data"
    },
    {
     "data": {
      "text/markdown": [
       "On Wednesday, the government announced that the wearing of masks on transport and in crowds of people will become compulsory, measures aimed at preventing the spread of the new coronavirus in the country."
      ],
      "text/plain": [
       "<IPython.core.display.Markdown object>"
      ]
     },
     "metadata": {},
     "output_type": "display_data"
    },
    {
     "data": {
      "text/markdown": [
       "It is mandatory to wear a face mask or other objects that cover the mouth and nose in Niamey in public places, markets, and urban transport."
      ],
      "text/plain": [
       "<IPython.core.display.Markdown object>"
      ]
     },
     "metadata": {},
     "output_type": "display_data"
    },
    {
     "data": {
      "text/markdown": [
       "Mandatory to wear facemasks in public, including on public transport."
      ],
      "text/plain": [
       "<IPython.core.display.Markdown object>"
      ]
     },
     "metadata": {},
     "output_type": "display_data"
    },
    {
     "data": {
      "text/markdown": [
       "All individuals should use facemasks when going outside."
      ],
      "text/plain": [
       "<IPython.core.display.Markdown object>"
      ]
     },
     "metadata": {},
     "output_type": "display_data"
    },
    {
     "data": {
      "text/markdown": [
       "Face masks are mandatory anywhere outside the home and minimum distance of 2m kept at all times"
      ],
      "text/plain": [
       "<IPython.core.display.Markdown object>"
      ]
     },
     "metadata": {},
     "output_type": "display_data"
    },
    {
     "data": {
      "text/markdown": [
       "Sri Lanka makes wearing face masks mandatory when stepping out"
      ],
      "text/plain": [
       "<IPython.core.display.Markdown object>"
      ]
     },
     "metadata": {},
     "output_type": "display_data"
    },
    {
     "data": {
      "text/markdown": [
       " individuals are required to wear masks and gloves and observe social distancing when in public. Infractions are punishable via legal action. "
      ],
      "text/plain": [
       "<IPython.core.display.Markdown object>"
      ]
     },
     "metadata": {},
     "output_type": "display_data"
    },
    {
     "data": {
      "text/markdown": [
       "##### Strengthening the public health system"
      ],
      "text/plain": [
       "<IPython.core.display.Markdown object>"
      ]
     },
     "metadata": {},
     "output_type": "display_data"
    },
    {
     "data": {
      "text/markdown": [
       "Additional masks and funding"
      ],
      "text/plain": [
       "<IPython.core.display.Markdown object>"
      ]
     },
     "metadata": {},
     "output_type": "display_data"
    },
    {
     "data": {
      "text/markdown": [
       "Masks have been issued to members of the Royal Barbados Police Force, while the Barbados Defence Force will receive masks tomorrow"
      ],
      "text/plain": [
       "<IPython.core.display.Markdown object>"
      ]
     },
     "metadata": {},
     "output_type": "display_data"
    },
    {
     "data": {
      "text/markdown": [
       "Chinese embassies and consulates have distributed epidemic prevention materials including masks and \"health kits\" to overseas students in a timely manner"
      ],
      "text/plain": [
       "<IPython.core.display.Markdown object>"
      ]
     },
     "metadata": {},
     "output_type": "display_data"
    },
    {
     "data": {
      "text/markdown": [
       "Fund of 28 billion CFA francs will be allocated to buying medicine and protective gears (masks, thermometers, gloves, etc.)"
      ],
      "text/plain": [
       "<IPython.core.display.Markdown object>"
      ]
     },
     "metadata": {},
     "output_type": "display_data"
    },
    {
     "data": {
      "text/markdown": [
       " received a donation from the People's Republic of China to meet protective equipment needs and tackle the coronavirus pandemic. 1,320 protective medical uniforms were received whileand additional masks will be supplied to Cyprus. the special flight of Aegean Airlines and Hellenic Petroleum will deliver medical equipment and supplies, also donated from China."
      ],
      "text/plain": [
       "<IPython.core.display.Markdown object>"
      ]
     },
     "metadata": {},
     "output_type": "display_data"
    },
    {
     "data": {
      "text/markdown": [
       "Launch of campaign: There are supply problems with protective equipment such as face masks and visors and handprints in several places in the health sector. The Danish Medicines Agency is now launching the campaign \"Denmark helps Denmark\", where authorities, companies and others can report if they have equipment in surplus or ideas to get more."
      ],
      "text/plain": [
       "<IPython.core.display.Markdown object>"
      ]
     },
     "metadata": {},
     "output_type": "display_data"
    },
    {
     "data": {
      "text/markdown": [
       "The use of masks when moving around has been made obligatory."
      ],
      "text/plain": [
       "<IPython.core.display.Markdown object>"
      ]
     },
     "metadata": {},
     "output_type": "display_data"
    },
    {
     "data": {
      "text/markdown": [
       "A Chinese millionaire from the Alibaba foundation has sent a donation of consignments of material against the coronavirus to the Ministry for Health and Social Welfare. The donated materials include three different types of mask for doctors, nurses and personnel attending the sick, gowns, and protective equipment for the face and glasses. The shipment also contained 11,300 reagents, which will help with the analysis of the population"
      ],
      "text/plain": [
       "<IPython.core.display.Markdown object>"
      ]
     },
     "metadata": {},
     "output_type": "display_data"
    },
    {
     "data": {
      "text/markdown": [
       "New clinical material to combat Coronavirus arrives in Equatorial Guinea. The material consisted of 20,000 protection equipment units, 20,000 pairs of gloves, 20,000 disposable gowns and 100,000 face masks, which will be distributed in the Insular and Continental Regions."
      ],
      "text/plain": [
       "<IPython.core.display.Markdown object>"
      ]
     },
     "metadata": {},
     "output_type": "display_data"
    },
    {
     "data": {
      "text/markdown": [
       "Domestic production of face masks, head covers, surgical scrubs and gowns will commence."
      ],
      "text/plain": [
       "<IPython.core.display.Markdown object>"
      ]
     },
     "metadata": {},
     "output_type": "display_data"
    },
    {
     "data": {
      "text/markdown": [
       "Additional supplies of Personal Protective Equipment (PPE) are being purchased to ensure that persons on the frontline of the preventive effort are properly protected and their level of exposure is minimal. We have also obtained thousands of masks, some of which are being distributed to our students in China, and arrangements are being made to transport the remainder to Grenada."
      ],
      "text/plain": [
       "<IPython.core.display.Markdown object>"
      ]
     },
     "metadata": {},
     "output_type": "display_data"
    },
    {
     "data": {
      "text/markdown": [
       "Regarding protective face masks, the operative board decided that stocks of medical masks should be used to meet the needs of the general public, and 300,000 masks were delivered on Friday morning. A production line with capacity to make 25,000 masks was also re-started early this month in Debrecen."
      ],
      "text/plain": [
       "<IPython.core.display.Markdown object>"
      ]
     },
     "metadata": {},
     "output_type": "display_data"
    },
    {
     "data": {
      "text/markdown": [
       "New shipment of more than 3 million face masks, protective gear and 86 ventilators arrives in Hungary\n",
       "Almost 70 tons of medical and protective equipment arrived in Budapest this morning. The new shipment includes more than 3 million face masks and 86 ventilators."
      ],
      "text/plain": [
       "<IPython.core.display.Markdown object>"
      ]
     },
     "metadata": {},
     "output_type": "display_data"
    },
    {
     "data": {
      "text/markdown": [
       "Prioritize delivery of masks to the regions of Nakafurano and Kitami. Approximately 40 masks per household will be given priority distribution, but from the viewpoint of distributing the limited masks currently secured to as many residents as possible, One pack of 7 masks (for adults) will be distributed to households. The remaining 30 masks will be distributed in the second and subsequent distributions as soon as the masks are secured."
      ],
      "text/plain": [
       "<IPython.core.display.Markdown object>"
      ]
     },
     "metadata": {},
     "output_type": "display_data"
    },
    {
     "data": {
      "text/markdown": [
       "From today, the country has started the production of masks and personal protective equipment."
      ],
      "text/plain": [
       "<IPython.core.display.Markdown object>"
      ]
     },
     "metadata": {},
     "output_type": "display_data"
    },
    {
     "data": {
      "text/markdown": [
       "USAID and WHO donate 10,000 surgical masks; 10,000 gloves; 1,400 gowns; and 200 protective goggles, and  200 face masks type FFP2. "
      ],
      "text/plain": [
       "<IPython.core.display.Markdown object>"
      ]
     },
     "metadata": {},
     "output_type": "display_data"
    },
    {
     "data": {
      "text/markdown": [
       "Purchasing of additional 2mio respirators and 6mio masks from China"
      ],
      "text/plain": [
       "<IPython.core.display.Markdown object>"
      ]
     },
     "metadata": {},
     "output_type": "display_data"
    },
    {
     "data": {
      "text/markdown": [
       "Order of 20 million washable masks. "
      ],
      "text/plain": [
       "<IPython.core.display.Markdown object>"
      ]
     },
     "metadata": {},
     "output_type": "display_data"
    },
    {
     "data": {
      "text/markdown": [
       "Mongolia imported 68.7 thousand face masks in January, 202"
      ],
      "text/plain": [
       "<IPython.core.display.Markdown object>"
      ]
     },
     "metadata": {},
     "output_type": "display_data"
    },
    {
     "data": {
      "text/markdown": [
       "Social Democracy-Mongolian Women’s Association donated 30,000 face masks to the ministry of health. Over 100,000 members from the association joined for producing recyclable face masks for contributing in the fight against coronavirus."
      ],
      "text/plain": [
       "<IPython.core.display.Markdown object>"
      ]
     },
     "metadata": {},
     "output_type": "display_data"
    },
    {
     "data": {
      "text/markdown": [
       "Distribution of supplies and protective equipment: 5,400,000 gloves, 560,000 masks, 2,000 ICU protective suits, 86,000 protective gowns, 110,000 surgical caps, and 3,500 goggles. Installation of 941 beds with oxygen and 44 beds in Intensive Care Unit (ICU). "
      ],
      "text/plain": [
       "<IPython.core.display.Markdown object>"
      ]
     },
     "metadata": {},
     "output_type": "display_data"
    },
    {
     "data": {
      "text/markdown": [
       "The price of face masks is being regulated and frozen at 28 pesos nationally"
      ],
      "text/plain": [
       "<IPython.core.display.Markdown object>"
      ]
     },
     "metadata": {},
     "output_type": "display_data"
    },
    {
     "data": {
      "text/markdown": [
       "The first government plane will leave Portugal this weekend to collect medical supplies: masks, ventilators etc. confirms Secretary of State António Lacerda Sales. The plane, due to leave Beja tomorrow (Saturday) will be collecting 30 tons of supplies from China, writes TSF radio"
      ],
      "text/plain": [
       "<IPython.core.display.Markdown object>"
      ]
     },
     "metadata": {},
     "output_type": "display_data"
    },
    {
     "data": {
      "text/markdown": [
       "Portugal received the first airplane with thousands of personal protective equipment, namely masks, suits and boot covers, to combat the Covid outbreak. -19. In total, 4.6 million masks of the type 2.56 thousand suits and 20 thousand copper boots were received."
      ],
      "text/plain": [
       "<IPython.core.display.Markdown object>"
      ]
     },
     "metadata": {},
     "output_type": "display_data"
    },
    {
     "data": {
      "text/markdown": [
       "Extended SoE:Civil requisition - Any goods or services from legal persons under public or private law that may be necessary to combat the covid-19 pandemic may be requested, namely health equipment, respiratory protection masks or ventilators, which are in stock or which come to produced by decision of health authorities or civil protection authorities."
      ],
      "text/plain": [
       "<IPython.core.display.Markdown object>"
      ]
     },
     "metadata": {},
     "output_type": "display_data"
    },
    {
     "data": {
      "text/markdown": [
       "The second plane chartered by the Portuguese State to transport medical equipment from China arrived in Lisbon today, with 700,000 respiratory protection masks, visors and gloves, destined for the National Health System, announced the Portuguese embassy."
      ],
      "text/plain": [
       "<IPython.core.display.Markdown object>"
      ]
     },
     "metadata": {},
     "output_type": "display_data"
    },
    {
     "data": {
      "text/markdown": [
       "measures laid down by the law governing infectious diseases are being implemented with regard to the novel coronavirus;  the Government has decided to use 48,000 protective masks, 5,000 protective gowns, 500,000 gloves and disinfecting agents in the total amount of EUR 200,000 from national commodity reserves to help contain the coronavirus epidemic and protect medical and other personnel"
      ],
      "text/plain": [
       "<IPython.core.display.Markdown object>"
      ]
     },
     "metadata": {},
     "output_type": "display_data"
    },
    {
     "data": {
      "text/markdown": [
       "Minimum requirement specifics for hygiene face masks established"
      ],
      "text/plain": [
       "<IPython.core.display.Markdown object>"
      ]
     },
     "metadata": {},
     "output_type": "display_data"
    },
    {
     "data": {
      "text/markdown": [
       "China has pledged to donate 100,000 masks including 10,000 N95 masks and 20,000 test kits to Sri Lanka in the coming days. China’s Acting Ambassador Hu Wei has made this pledge when he met Sri Lanka’s Minister of Health Pavithra Wanniarachchi on Friday (March 20)."
      ],
      "text/plain": [
       "<IPython.core.display.Markdown object>"
      ]
     },
     "metadata": {},
     "output_type": "display_data"
    },
    {
     "data": {
      "text/markdown": [
       "China donations of masks, COVID-19 test kits handed over to Sri Lanka Ministry of Health"
      ],
      "text/plain": [
       "<IPython.core.display.Markdown object>"
      ]
     },
     "metadata": {},
     "output_type": "display_data"
    },
    {
     "data": {
      "text/markdown": [
       "Today, the Ministry of Public Health has provided to the public, three masks per individual in accordance with the policy of the Deputy Prime Minister and the Minister of Public Health to use in disease prevention."
      ],
      "text/plain": [
       "<IPython.core.display.Markdown object>"
      ]
     },
     "metadata": {},
     "output_type": "display_data"
    },
    {
     "data": {
      "text/markdown": [
       "The Defense Department will massively expand medical resources, making 5 million respirator masks and 2,000 ventilators available for use\n",
       "FEMA is now activated in every region of the country and at the highest level\n",
       "Navy hospital ships are being deployed to impacted areas"
      ],
      "text/plain": [
       "<IPython.core.display.Markdown object>"
      ]
     },
     "metadata": {},
     "output_type": "display_data"
    },
    {
     "data": {
      "text/markdown": [
       "$16 billion in funding for the purchase of personal protective equipment — you know about that — such as masks and respirators through the Strategic National Stockpile."
      ],
      "text/plain": [
       "<IPython.core.display.Markdown object>"
      ]
     },
     "metadata": {},
     "output_type": "display_data"
    },
    {
     "data": {
      "text/markdown": [
       "##### General recommendations"
      ],
      "text/plain": [
       "<IPython.core.display.Markdown object>"
      ]
     },
     "metadata": {},
     "output_type": "display_data"
    },
    {
     "data": {
      "text/markdown": [
       "Recommendation to wear face mask in public. "
      ],
      "text/plain": [
       "<IPython.core.display.Markdown object>"
      ]
     },
     "metadata": {},
     "output_type": "display_data"
    },
    {
     "data": {
      "text/markdown": [
       "Recommended to wear a mask in public spaces. Due to the lack of available masks, the government published an online tutorial for DIY masks. "
      ],
      "text/plain": [
       "<IPython.core.display.Markdown object>"
      ]
     },
     "metadata": {},
     "output_type": "display_data"
    },
    {
     "data": {
      "text/markdown": [
       "Wearing masks in the right way can prevent the infection of respiratory diseases such as COVID-19 and influenza "
      ],
      "text/plain": [
       "<IPython.core.display.Markdown object>"
      ]
     },
     "metadata": {},
     "output_type": "display_data"
    },
    {
     "data": {
      "text/markdown": [
       "Inhabitants should were masks anytime they leave their house."
      ],
      "text/plain": [
       "<IPython.core.display.Markdown object>"
      ]
     },
     "metadata": {},
     "output_type": "display_data"
    },
    {
     "data": {
      "text/markdown": [
       "Systematically wear face masks in public, avoid gatherings and maintain social distancing and hygiene measures."
      ],
      "text/plain": [
       "<IPython.core.display.Markdown object>"
      ]
     },
     "metadata": {},
     "output_type": "display_data"
    },
    {
     "data": {
      "text/markdown": [
       "Customers should wear protective masks when visiting the establishments."
      ],
      "text/plain": [
       "<IPython.core.display.Markdown object>"
      ]
     },
     "metadata": {},
     "output_type": "display_data"
    },
    {
     "data": {
      "text/markdown": [
       "All persons visiting public places such as supermarkets or on public transport should wear a face mask."
      ],
      "text/plain": [
       "<IPython.core.display.Markdown object>"
      ]
     },
     "metadata": {},
     "output_type": "display_data"
    },
    {
     "data": {
      "text/markdown": [
       "Owners of public transport vehicles to provide hand sanitizers and masks to all their clients/passengers and enforcement the laws on overloading strictly."
      ],
      "text/plain": [
       "<IPython.core.display.Markdown object>"
      ]
     },
     "metadata": {},
     "output_type": "display_data"
    },
    {
     "data": {
      "text/markdown": [
       "Shops, shopping mall and supermarkets to put measures in place to ensure and enhance hygiene at all time to protect all clients and customers, such as the provision of alcohol-based hand sanitizers, and face masks for employees."
      ],
      "text/plain": [
       "<IPython.core.display.Markdown object>"
      ]
     },
     "metadata": {},
     "output_type": "display_data"
    },
    {
     "data": {
      "text/markdown": [
       "“A medical mask is not required for members of the general public who do not have any respiratory symptoms. You wear a mask if you are coughing or sneezing of if you are taking care of somebody who has respiratory symptoms such as coughing or sneezing"
      ],
      "text/plain": [
       "<IPython.core.display.Markdown object>"
      ]
     },
     "metadata": {},
     "output_type": "display_data"
    },
    {
     "data": {
      "text/markdown": [
       "Citizens are strongly recommended to wear face masks in public and are advised to stay at home unless absolutely necessary."
      ],
      "text/plain": [
       "<IPython.core.display.Markdown object>"
      ]
     },
     "metadata": {},
     "output_type": "display_data"
    },
    {
     "data": {
      "text/markdown": [
       "Widespread use of masks is recommended. People are recommended to use cloth masks & that medical masks be used by healthcare professionals. "
      ],
      "text/plain": [
       "<IPython.core.display.Markdown object>"
      ]
     },
     "metadata": {},
     "output_type": "display_data"
    },
    {
     "data": {
      "text/markdown": [
       "Zambians encouraged to wear a mask when in public."
      ],
      "text/plain": [
       "<IPython.core.display.Markdown object>"
      ]
     },
     "metadata": {},
     "output_type": "display_data"
    },
    {
     "data": {
      "text/markdown": [
       "People should wear clean cloth hygienic masks when in crowded areas. The patients or people who have symptoms of coughing or sneezing should wear surgical masks to prevent the spread of infection. The staff who have close contact with the patients should wear an N95 mask."
      ],
      "text/plain": [
       "<IPython.core.display.Markdown object>"
      ]
     },
     "metadata": {},
     "output_type": "display_data"
    },
    {
     "data": {
      "text/markdown": [
       "##### Other public health measures enforced"
      ],
      "text/plain": [
       "<IPython.core.display.Markdown object>"
      ]
     },
     "metadata": {},
     "output_type": "display_data"
    },
    {
     "data": {
      "text/markdown": [
       "All Catering Premises must abide by the following restrictions from March 28th for a period of 14 days from the 28th march at 6pm: (a) number of customers at any premises on which food or drink is sold or supplied for consumption on site must not exceed 50% of the normal seating capacity of the premises at any one time; (b) tables available for use or being used by customers within any catering premises must be arranged in a way to ensure there is a distance of at least 1.5 metres or some form of partition which could serve as effective buffer between one table and another table at the premises; (c) no more than 4 persons may be seated together at one table within any catering premises; (d) a person must wear a mask at any time within any catering premises, except when the person is consuming food or drink on the premises; (e) body temperature screening on a person must be conducted before the person is allowed to enter the catering premises; and (f) hand sanitisers must be provided at any catering premises for any person at the premises."
      ],
      "text/plain": [
       "<IPython.core.display.Markdown object>"
      ]
     },
     "metadata": {},
     "output_type": "display_data"
    },
    {
     "data": {
      "text/markdown": [
       "MSC Shipmanagement Ltd donated 106,000 surgical masks and 100,000 gloves to the Cyprus Government, to assist in the fight against the coronavirus disease outbreak."
      ],
      "text/plain": [
       "<IPython.core.display.Markdown object>"
      ]
     },
     "metadata": {},
     "output_type": "display_data"
    },
    {
     "data": {
      "text/markdown": [
       "People must wear masks in public"
      ],
      "text/plain": [
       "<IPython.core.display.Markdown object>"
      ]
     },
     "metadata": {},
     "output_type": "display_data"
    },
    {
     "data": {
      "text/markdown": [
       "All Kenyans are required to wear a mask when in public areas"
      ],
      "text/plain": [
       "<IPython.core.display.Markdown object>"
      ]
     },
     "metadata": {},
     "output_type": "display_data"
    },
    {
     "data": {
      "text/markdown": [
       "Starting today, all salon and barbershop operators must wear masks when attending to clients and must have hand sanitizers"
      ],
      "text/plain": [
       "<IPython.core.display.Markdown object>"
      ]
     },
     "metadata": {},
     "output_type": "display_data"
    },
    {
     "data": {
      "text/markdown": [
       "Transport companies are being distributed masks and guidance on use"
      ],
      "text/plain": [
       "<IPython.core.display.Markdown object>"
      ]
     },
     "metadata": {},
     "output_type": "display_data"
    },
    {
     "data": {
      "text/markdown": [
       "Government distributes 10 million face masks to be handed out as of Monday around Spain to workers at main transport hubs"
      ],
      "text/plain": [
       "<IPython.core.display.Markdown object>"
      ]
     },
     "metadata": {},
     "output_type": "display_data"
    },
    {
     "data": {
      "text/markdown": [
       "##### Awareness campaigns"
      ],
      "text/plain": [
       "<IPython.core.display.Markdown object>"
      ]
     },
     "metadata": {},
     "output_type": "display_data"
    },
    {
     "data": {
      "text/markdown": [
       "All businesses authorized to open must take biosecurity measures: use of protective masks for employees, monitoring of body temperature, use of antibacterial gel or alcohol and customers must keep a 2 meter distance when standing in line."
      ],
      "text/plain": [
       "<IPython.core.display.Markdown object>"
      ]
     },
     "metadata": {},
     "output_type": "display_data"
    },
    {
     "data": {
      "text/markdown": [
       "Chief Medical Officers of Provincial Public Health Offices in the issues for the orders of the Emergency Operations Center on Medical and Public Health as follows: 1) Campaigning for the public to regularly wash hands and using cloth masks and clean surface areas that may be a source of infection, especially among the group of public transport operators and foreign tourist service providers "
      ],
      "text/plain": [
       "<IPython.core.display.Markdown object>"
      ]
     },
     "metadata": {},
     "output_type": "display_data"
    },
    {
     "data": {
      "text/markdown": [
       "The MOPH emphasized that there are still no restrictions for traveling to outbreak areas. If travel to outbreak areas is necessary, please take care of yourself by frequently washing hands with soap and alcohol gel, wearing a mask, and avoiding visits to crowded places."
      ],
      "text/plain": [
       "<IPython.core.display.Markdown object>"
      ]
     },
     "metadata": {},
     "output_type": "display_data"
    },
    {
     "data": {
      "text/markdown": [
       "Today, the Ministry of Public Health has organized a campaign to educate the public about COVID19, to provide knowledge on disease prevention. To strictly comply with the recommendations, “eat cooked food, use serving spoons, wash hands and wear hygienic masks\" have been taught to the people at [2 schools]. "
      ],
      "text/plain": [
       "<IPython.core.display.Markdown object>"
      ]
     },
     "metadata": {},
     "output_type": "display_data"
    },
    {
     "data": {
      "text/markdown": [
       "##### Health screenings in airports and border crossings"
      ],
      "text/plain": [
       "<IPython.core.display.Markdown object>"
      ]
     },
     "metadata": {},
     "output_type": "display_data"
    },
    {
     "data": {
      "text/markdown": [
       "search of all vehicles entering the province. Authorities will not allow the entry of travelers who cannot explain why they need to enter the province, travelers who are not wearing a mask, and travelers who do not cooperate with health officials. Anyone entering the province will need to provide their contact details and undergo a health screening.  "
      ],
      "text/plain": [
       "<IPython.core.display.Markdown object>"
      ]
     },
     "metadata": {},
     "output_type": "display_data"
    },
    {
     "data": {
      "text/markdown": [
       "#### Governance and socio-economic measures"
      ],
      "text/plain": [
       "<IPython.core.display.Markdown object>"
      ]
     },
     "metadata": {},
     "output_type": "display_data"
    },
    {
     "data": {
      "text/markdown": [
       "##### Emergency administrative structures activated or established"
      ],
      "text/plain": [
       "<IPython.core.display.Markdown object>"
      ]
     },
     "metadata": {},
     "output_type": "display_data"
    },
    {
     "data": {
      "text/markdown": [
       "Aust Defense Force (ADF) assistance will be provided under the Defence Assistance to the Civil Community arrangements. These new requirements will build on the existing support the Australian Defence Force is providing to the COVID-19 response, including:Assistance to the states and territories to support contact tracing efforts.Supporting industry with the production of surgical masks.Provision of planning and logistics support to Commonwealth, state and territory agencies.Provision of personnel to other agencies, including Services Australia.Supporting the NT Police with border control operations.Assisting states and territories to support the production of food hampers to supply to isolated civilians."
      ],
      "text/plain": [
       "<IPython.core.display.Markdown object>"
      ]
     },
     "metadata": {},
     "output_type": "display_data"
    },
    {
     "data": {
      "text/markdown": [
       "Manufacturers will be called on to adapt their manufacturing capacity to produce personal protective equipment (PPE), equipment, masks and other essential products for national market, including hand gels and other essential medicines and products by pharmacies"
      ],
      "text/plain": [
       "<IPython.core.display.Markdown object>"
      ]
     },
     "metadata": {},
     "output_type": "display_data"
    },
    {
     "data": {
      "text/markdown": [
       "##### Limit product imports/exports"
      ],
      "text/plain": [
       "<IPython.core.display.Markdown object>"
      ]
     },
     "metadata": {},
     "output_type": "display_data"
    },
    {
     "data": {
      "text/markdown": [
       "The importation of non-medical protective face masks will be prohibited, effective 8am Friday 10 April 2020,"
      ],
      "text/plain": [
       "<IPython.core.display.Markdown object>"
      ]
     },
     "metadata": {},
     "output_type": "display_data"
    },
    {
     "data": {
      "text/markdown": [
       "selected medical goods (not only those made in Belarus) are temporarily prohibited from being taken out of the country. Surgical coats, face masks, bandages, gauze, cotton wool, surgical gloves and other medical supplies and equipment are on the list"
      ],
      "text/plain": [
       "<IPython.core.display.Markdown object>"
      ]
     },
     "metadata": {},
     "output_type": "display_data"
    },
    {
     "data": {
      "text/markdown": [
       "export ban for medical protection gear such as masks and gloves"
      ],
      "text/plain": [
       "<IPython.core.display.Markdown object>"
      ]
     },
     "metadata": {},
     "output_type": "display_data"
    },
    {
     "data": {
      "text/markdown": [
       "Export to third countries of personal protective equipment, such as goggles, shields and masks, as well as protective clothing, disposable gloves will be prohibited because of the growing demand in the country."
      ],
      "text/plain": [
       "<IPython.core.display.Markdown object>"
      ]
     },
     "metadata": {},
     "output_type": "display_data"
    },
    {
     "data": {
      "text/markdown": [
       "##### Economic measures"
      ],
      "text/plain": [
       "<IPython.core.display.Markdown object>"
      ]
     },
     "metadata": {},
     "output_type": "display_data"
    },
    {
     "data": {
      "text/markdown": [
       "Price control on protection masks"
      ],
      "text/plain": [
       "<IPython.core.display.Markdown object>"
      ]
     },
     "metadata": {},
     "output_type": "display_data"
    },
    {
     "data": {
      "text/markdown": [
       "Price cap on masks."
      ],
      "text/plain": [
       "<IPython.core.display.Markdown object>"
      ]
     },
     "metadata": {},
     "output_type": "display_data"
    },
    {
     "data": {
      "text/markdown": [
       "Budget for masks, soap, and other crucial items"
      ],
      "text/plain": [
       "<IPython.core.display.Markdown object>"
      ]
     },
     "metadata": {},
     "output_type": "display_data"
    },
    {
     "data": {
      "text/markdown": [
       "#### Movement restrictions"
      ],
      "text/plain": [
       "<IPython.core.display.Markdown object>"
      ]
     },
     "metadata": {},
     "output_type": "display_data"
    },
    {
     "data": {
      "text/markdown": [
       "##### Surveillance and monitoring"
      ],
      "text/plain": [
       "<IPython.core.display.Markdown object>"
      ]
     },
     "metadata": {},
     "output_type": "display_data"
    },
    {
     "data": {
      "text/markdown": [
       "New non-compliance measures to be taken against foreigners not complying. The administration made the statement on its website over the weekend, saying foreigners in China should promptly register their accommodations and comply with the identification inspection by public security departments.The statement came after several recent incidents involving foreigners refusing to wear masks or cooperate with China's epidemic control measures sparked public outcry."
      ],
      "text/plain": [
       "<IPython.core.display.Markdown object>"
      ]
     },
     "metadata": {},
     "output_type": "display_data"
    },
    {
     "data": {
      "text/markdown": [
       "People not wearing face masks in public will be fined 20,000 Kenyan shillings ($190; £150) or face a six-month jail term, starting on Wednesday."
      ],
      "text/plain": [
       "<IPython.core.display.Markdown object>"
      ]
     },
     "metadata": {},
     "output_type": "display_data"
    },
    {
     "data": {
      "text/markdown": [
       "##### Curfews"
      ],
      "text/plain": [
       "<IPython.core.display.Markdown object>"
      ]
     },
     "metadata": {},
     "output_type": "display_data"
    },
    {
     "data": {
      "text/markdown": [
       "Members of the media are allowed to circulate without restriction as long as they can justify to the authorities  that they are on assignment, show their media’s ID or their press ID. They should also comply with biosecurity measures – wear protective masks, use anti-bacterial gel and other protective measures."
      ],
      "text/plain": [
       "<IPython.core.display.Markdown object>"
      ]
     },
     "metadata": {},
     "output_type": "display_data"
    },
    {
     "data": {
      "text/markdown": [
       "##### Domestic travel restrictions"
      ],
      "text/plain": [
       "<IPython.core.display.Markdown object>"
      ]
     },
     "metadata": {},
     "output_type": "display_data"
    },
    {
     "data": {
      "text/markdown": [
       "decree suspends the ban on taxi services by motorcycles and bicycles, after several protests from operators, mainly in the central and northern provinces of the country. Under the new measures, taxi services for motorcycles and bicycles can operate, but with the use of masks by the occupants."
      ],
      "text/plain": [
       "<IPython.core.display.Markdown object>"
      ]
     },
     "metadata": {},
     "output_type": "display_data"
    },
    {
     "data": {
      "text/markdown": [
       "##### Visa restrictions"
      ],
      "text/plain": [
       "<IPython.core.display.Markdown object>"
      ]
     },
     "metadata": {},
     "output_type": "display_data"
    },
    {
     "data": {
      "text/markdown": [
       "For foreign-passengers of the Westerdam Cruise (high-risk group): For foreigners, they will not be allowed to make a transit or change flights in Thailand. The MOPH has coordinated with airlines, immigration offices, the Ministry of Foreign Affairs and the airports of Thailand and emphasized that if foreigners have necessary to enter Thailand, they need to strictly comply with the disease prevention and control measures, i.e. wearing a mask, washing hands, informing information to the staff and being screened before getting on the plane. If anyone shows symptoms including fever and cough, they will be brought to the tracking system for Thailand’s disease surveillance immediately. The disease surveillance in passengers from the Westerdam Cruise has been implemented by Thailand after the first COVID-19 confirmed case was reported."
      ],
      "text/plain": [
       "<IPython.core.display.Markdown object>"
      ]
     },
     "metadata": {},
     "output_type": "display_data"
    },
    {
     "data": {
      "text/markdown": [
       "#### Social distancing"
      ],
      "text/plain": [
       "<IPython.core.display.Markdown object>"
      ]
     },
     "metadata": {},
     "output_type": "display_data"
    },
    {
     "data": {
      "text/markdown": [
       "##### Limit public gatherings"
      ],
      "text/plain": [
       "<IPython.core.display.Markdown object>"
      ]
     },
     "metadata": {},
     "output_type": "display_data"
    },
    {
     "data": {
      "text/markdown": [
       "Requirements on all catering business premises with food or drinks for consumption on site. From April 10-23Service area must not exceed 50% of normal seating capacity; Tables 1.5m apart or effectively partitioned; No more than 4 persons each table; Must wear mask except when eating/drinking; Screen body temperature; Provide hand sanitiser"
      ],
      "text/plain": [
       "<IPython.core.display.Markdown object>"
      ]
     },
     "metadata": {},
     "output_type": "display_data"
    },
    {
     "data": {
      "text/markdown": [
       "People are required to wear protective medical masks and keep a distance of 2m everywhere"
      ],
      "text/plain": [
       "<IPython.core.display.Markdown object>"
      ]
     },
     "metadata": {},
     "output_type": "display_data"
    },
    {
     "data": {
      "text/markdown": [
       "from 1 April SoE: Funeral ceremonies can have a maximum of 20 participants, who must wear masks regardless of the cause of death;"
      ],
      "text/plain": [
       "<IPython.core.display.Markdown object>"
      ]
     },
     "metadata": {},
     "output_type": "display_data"
    },
    {
     "data": {
      "text/markdown": [
       "Government lifts one-third limit on public transport, users must wear face masks – report"
      ],
      "text/plain": [
       "<IPython.core.display.Markdown object>"
      ]
     },
     "metadata": {},
     "output_type": "display_data"
    },
    {
     "data": {
      "text/markdown": [
       "#### Lockdown"
      ],
      "text/plain": [
       "<IPython.core.display.Markdown object>"
      ]
     },
     "metadata": {},
     "output_type": "display_data"
    },
    {
     "data": {
      "text/markdown": [
       "##### Full lockdown"
      ],
      "text/plain": [
       "<IPython.core.display.Markdown object>"
      ]
     },
     "metadata": {},
     "output_type": "display_data"
    },
    {
     "data": {
      "text/markdown": [
       "From April 6 – 12, all municipalities in the Dept of Cortes and the municipality of El Progreso, Yoro are under an absolute curfew. The only exemptions that will apply are for personnel involved in managing the emergency, high government officers, health care workers, first responders, national security and defense personnel, personnel with customs, migration, ports and airports and essential public services, including personnel that works with private power plants; hospitals, medical service centers and laboratories; the maquilas making protective masks and biomedical equipment/supplies needed for the emergency; the agricultural/food sector to guarantee production and distribution of food; gas stations to serve only the sectors authorized in this exemption; public transportation for health purposes and those contracted by businesses to mobilize their personnel; the telecommunications sector, including internet providers and the media – radio, television, newspapers and cable providers; the cargo industry – air, sea and land – for imports, exports, supplies and ports; and, private security service providers. "
      ],
      "text/plain": [
       "<IPython.core.display.Markdown object>"
      ]
     },
     "metadata": {},
     "output_type": "display_data"
    }
   ],
   "source": [
    "from IPython.display import display, Markdown, Latex\n",
    "\n",
    "\n",
    "    \n",
    "def print_match_rows_for_dataset(match_str, source_data):\n",
    "    match_rows = source_data.loc[source_data.COMMENTS.str.contains(match_str, na=False),]\n",
    "\n",
    "    for c in match_rows.CATEGORY.unique():\n",
    "        display(Markdown(\"#### \" + c))\n",
    "        for m in match_rows[match_rows.CATEGORY==c].MEASURE.unique():\n",
    "            display(Markdown(\"##### \" + m))\n",
    "            for comment_i, comment_row in (\n",
    "                match_rows.loc[(match_rows.CATEGORY==c) & (match_rows.MEASURE==m),:]\n",
    "            ).iterrows():\n",
    "                display(Markdown(comment_row['COMMENTS']))\n",
    "                \n",
    "def print_match_rows(match_str):\n",
    "    print_match_rows_for_dataset(match_str,source_data)\n",
    "        \n",
    "print_match_rows('mask')"
   ]
  },
  {
   "cell_type": "markdown",
   "metadata": {},
   "source": [
    "Good data on mask wearing policies but not mask wearing prevalence."
   ]
  },
  {
   "cell_type": "code",
   "execution_count": 82,
   "metadata": {},
   "outputs": [
    {
     "data": {
      "text/plain": [
       "34"
      ]
     },
     "execution_count": 82,
     "metadata": {},
     "output_type": "execute_result"
    }
   ],
   "source": [
    "\n",
    "set_data = source_data.loc[source_data.MEASURE=='General recommendations',]\n",
    "match_rows = set_data.loc[set_data.COMMENTS.str.contains('mask', na=False),]\n",
    "\n",
    "\n",
    "len(pd.concat([match_rows,measure_rows]).COUNTRY.unique())"
   ]
  },
  {
   "cell_type": "markdown",
   "metadata": {},
   "source": [
    "## Asymptomatic contact isolation"
   ]
  },
  {
   "cell_type": "code",
   "execution_count": 47,
   "metadata": {},
   "outputs": [
    {
     "name": "stdout",
     "output_type": "stream",
     "text": [
      "nan\n",
      "nan\n",
      "Established specific areas for quarantine in Kabul and in the provinces for the control of COVID-19\n",
      "strengthen the screened teams in the air, borders and port, creating a joint committee to review the risk of transmitting coronavirus through iimported items \n",
      "Sanitizing public spaces\n",
      "All people entering the country for 15 days\n",
      "Order of the Minister responsible for health no. 105: taking hygienic-sanitary measures to prevent the spread of respiratory infections including COVID 19 in preschool institutions kindergartens and educational institutions\n",
      "Quarantining known confirmed COVID-19 cases within its borders\n",
      "any nationality who presents with symptoms or who has traveled to China since the start of the outbreak\n",
      "the Angolan Ministry of Health announced that all travelers arriving from China will be placed under home quarantine\n",
      "In the framework of the SoE extension, people are not allowed to move out of their houses, remain on the street and the selling of non-essential products.\n",
      "all citizens, who move from one province to another, during the period of temporary lifting of the provincial health fence, are subject to mandatory home quarantine.\n",
      "no visitation to designated hospitals or geriatric centers\n",
      "From Europe, UK, USA, South Korea, Japan, China and Iran, for 14 days\n",
      "For those with symptoms\n",
      "Introduced strict quarantine measures to last for one week. \n",
      "On March 31 the strict quarantine measures were extended to last from April 1 through April 12, 2020. All people must carry their passports and self-declaration forms at all times. Violations of movement restrictions or quarantine may be punishable by law.\n",
      "Self-isolation is mandatory for all persons and leaving the place of isolation is only permitted when going to work, the nearest grocery store, pharmacy or health care facility.\n",
      "14 days self-quarantine, for nationals arriving from China, Italy, Iran or South Korea\n",
      "From 1 May 2020, you must have had your influenza vaccination to visit an aged care facility.\n",
      "All travellers to Australia are required to self-isolate for 14 days, either at home or in a hotel.\n",
      "Australians returning home will not be allowed to complete the mandatory 14-day self-isolation period at home, but will instead be taken straight to a state-run quarantine centre in whichever state their international flight arrives. \"Each person will also receive self-isolation care packages of food and other essentials.\"\n",
      "any non-essential travellers from mainland Tasmania who fly into King or Flinders Island must go into 14 days isolation\n",
      "NSW Police say the state's coronavirus isolation rules will last for at least 90 days.\n",
      "Tasmania closes two hospitals to 'stamp out' coronavirus outbreak in the north-west\n",
      "Introduction of quarantine policiesfor residents of Paznautal and St. Anton (Tirol State) for 14 days meaning nobody is permitted to enter or leave the areas under quarantine while local residents are still permitted to leave their homes\n",
      "Quarantine extended to Sölden and St.Christoph am Arlberg halting all travel from and to the areas\n",
      "Quarantine implemented for the Arlberg region halting all travel from and to the areas; at implementation time limited to 3rd April\n",
      "People previously in the Arlberg region need to follow a 14 day mandatory home quaratine\n",
      "Further exemptions added to cross-border workers beyond essential workers, with quarantine requirement relaxed\n",
      "Quarantine of Heiligenblut village has been lifted\n",
      "For municipalities of Bad Gastein, Bad Hofgastein, Dorfgastein, Großarl und Hüttschlag region\n",
      "Extension until 26th April: Paznauntal under quarantine with persons not allowed to leave the area\n",
      "international travelers with symptoms\n",
      "Residents who have returned from China, South Korea, Italy, Iran will be immediately quarantined for 14 days.\n",
      "residents returning to The Bahamas who have a history of travel to China within 20 days of commencing travel, quarantined on arrival in The Bahamas for up to fourteen (14) days.\n",
      "All Bahamian nationals and residents returning to The Bahamas through any point of entry from any of the restricted countries or an area where community infection and spread is present will be quarantined or be placed under self-isolation upon arrival and expected to follow the protocols of the Ministry of Health.\n",
      "mbulances are to access the hospital via the Maternity Entrance\n",
      "Patients and Visitors are asked to enter the hospital through the new Critical Care Block entrance where they will be directed appropriately. All Maternity patients including maternity day cases are asked to access the hospital via the Maternity Entrance.\n",
      "Only Dialysis patients will be permitted to use the Medical Block entrance. Dialysis patients are asked to present for service at their designated time.\n",
      "All staff are asked to access the hospital via the hospital Legacy entrance. Staff are required to wear their ID badge at all times.\n",
      "disinfecting exercise as a preventive measure to limit the spread of COVID-19. The exercise is being carried out by a team of 12 on rotation, between the hours of 8:30pm to 1am until March 31, 2020; and thereafter if necessary.\n",
      " food shopping schedule; Family Island communities exempted from shopping schedule\n",
      "NASSAU, The Bahamas – The Ministry of Education (MOE) in collaboration with its providers, Aliv and BTC, is designing a platform to allow internet-deprived students, or device-challenged students, to access internet capability, get devices, and alternatively view lessons on two dedicated Cable Channels that will be populated with the appropriate content for their use. T\n",
      "everyone who is travelling from China, Hong Kong, Iran, Malaysia, Singapore, Thailand, South Korea and Italy\n",
      "Enhanced previous measures (ie. screening all arrivals and questionaires) \n",
      " 3mo in jail AND 10,000 BHD fine\n",
      "14 days self-quarantine, foreign nationals arriving from China, Italy, Iran or South Korea\n",
      "Anyone who has been in Italy, South Korea, China, or Iran in the last 14 days will be made to quarantine \n",
      "As of Sunday, 22 March, all visitors arriving from the United States, United Kingdom, and Europe will be subject to a 14-day quarantine. Citizens and residents of Barbados will be subject to a home-quarantine. Failure to comply may result in the offender being placed in mandatory quarantine at a health facility. Disobeying can also result in a maximum fine of $5000.00, or imprisonment of up to 12 months or both. \n",
      "With immediate effect, all arriving passengers who have been in Iran, or Lombardy, Emilia-Romagna or Veneto in Italy in the previous 14 days will be required to report to Port Health at the points of entry.  These passengers will be interviewed by port health officers and sent to mandatory quarantine. The type of quarantine is determined by the level of risk of exposure.  Low-risk individuals, he explained, are sent to home quarantine while moderate to high-risk individuals are sent to mandatory quarantine. Quarantine measures already in place for passengers who have been in Hubei Province in China and South Korea during the previous 14 days.\n",
      "Barbados Government today expanded its quarantine protocol to apply to passengers arriving in Barbados from all of Italy.\n",
      "Persons arriving in Barbados from USA, UK and Europe will be placed in quarantine for 14 days. Quarantine at home if seem healthy or at facility if not. Iran, China, South Korea, and Italy already on list \n",
      " immediate suspension of visiting hours at the Queen Elizabeth Hospital (QEH). only exceptions for those on palliative/end-of-life; pregnant; others at nurses' dicsretion \n",
      "With immediate effect, public and private pharmacies are dispensing up to two months’ supply of pharmaceutical drugs to the public, subject to availability.\n",
      "The Ministry of Small Business, Entrepreneurship and Commerce has advised that a Covid-19 Critical Stock List was tabled by the Ministry last week and agreed upon by the Barbados Chamber of Commerce and Industry (BCCI) at a meeting at the Warrens Office Complex.\n",
      "businesses are being asked to give special consideration to clients of the Welfare Department.\n",
      "Government is asking banks, supermarkets and other commercial establishments to honour all Welfare Department cheques that are presented by its clients, even though they will be dated Friday, March 27, 2020.\n",
      "Special Shopping Hours For Healthcare Workers \n",
      " GSuite App will be administered across the public school system for onliuen schooling from April 14th\n",
      "Care Packages Distributed To Vulnerable Groups\n",
      "to insure adequate access to food supplies: no in-supermarket shopping.  Supermarkets and shops will be open on Wednesday, Thursday, and Saturday during this week.; Orders will be taken by the individual participating supermarkets via websites, telephone call-in, WhatsApp or email; Payment for these orders will be accepted through cash, debit or credit cards.; All persons ordering groceries in this manner will have the option of collecting their groceries in person, through curbside vehicle pickup, or home delivery.; Shoppers who choose to pick up their orders in person will be given specific collection times to reduce the risk of large gatherings that would contravene the requirement for physical distancing.\n",
      "Agricultural Produce To Be Sold By Order Only\n",
      "Shopping schedule for supermarkets, fish markets, hardware stores and banks during the COVID – 19 curfew\n",
      "Specially Designated shopping Days For Seniors & Disabled\n",
      " All nationals coming from an area with ongoing transmission who land in Belize and appear with cold or flu-like symptoms will be placed under self-isolation upon arrival and all cost related to that will be the responsibility of the traveler.\n",
      " All Belizean nationals and residents returning to Belize through any point of entry from any of the restricted countries or an area where community infection and spread is present will be placed under self-isolation upon arrival and expected to follow the protocols of the Ministry of Health.\n",
      "Belizean nationals or residents returning to Belize who have been abroad and believe that they may have been exposed to COVID-19 are asked to contact their local healthcare provider. Non-essential travel by Belizean nationals and residents to other countries is highly discouraged.\n",
      " that all foreigners arriving from the following countries be placed under quarantine at their own expense: China, France, Germany, Italy, Iran, Japan, South Korea, and Spain. Any national returning from these countries, and from cities in the United States that have documented community spread, will be placed under quarantine.\n",
      "All nationals of countries with cases should self quarantine\n",
      "Any traveller entering the country by plane will be quarantined for 2 weeks.\n",
      "People coming from France, Germany, Spain\n",
      "People returning from China, South Korea, Italy, Iran, Germany, France and Spain under 14 days quarantine\n",
      "Interdiction to visits to hospitals and old people retreats\n",
      "Returning citizens and foreign citizens with permanent residence must undergo self-quarantine for 14 days. These measures will involve direct medical surveillance as well as mandatory daily reporting.; people in self-isolation that do not comply may be identified and published online with their name and residency\n",
      "Systematic disinfection of the Federation of BiH begins, starts from Konjic\n",
      "Tents at border crossings established for temporary quarantine until decision on next steps\n",
      "All people (only botswana residents & citizens perimitted) entering the country will be subjected to madatory 14 days quarantine at a government facility. \n",
      "7 days quarantine for international travellers - 14 for people with syntoms\n",
      "Govt. implemented voluntary 7day quarantine \n",
      "Following the introduction of the first case of COVID-19 in Brunei, the MoH made a statement regarding national quarentine policies. This includes that anyone who came in contact with a confirmed case is required \"to undergo mandatory isolation and their health status monitored\".\n",
      "\"Amendments to the Infectious Disease Act (Chapter 204) and its Regulations i.e. Infectious Diseases (Amendment of Schedule) Notification, 2020 dan Infectious Diseases (Quarantine) (Amendment) Regulations, 2020 have gazetted. Under the Act, anyone who, or suspected to be, a case, carrier or contact of an infectious disease may be required to undergo medical examination or medical treatment either in hospital or any other place as determined by the Director-General Ministry of Health. Failure to comply to this provision is an offence under this Law and the person may be ordered to be transferred to a hospital or another place where he can be detained and, if necessary, isolated until examination or treatment has been undertaken...   As such, the person may be fined to up to $10,000 or imprisoned for a period of not more than 6 months or both (first offence). For a second offence, may be fined to up to $20,000 or imprisoned for a period of not more than one year or both.\"\n",
      "All visitors are required to do a 14-day self-isolation from the moment they arrive. \n",
      "Expanding upon rules regarding mandatory isolation that were set to start 20 March 2020, \"the arrival of visitors and foreign workers are not encouraged at the moment. Any foreign workers arriving in Brunei Darussalam is required to borne all isolation costs, including accommodation, meals and all other related costs.\" Additional costs of mandatory isolation facilities are outlined in this announcement.\n",
      "People who have travelled from Italy or China quarantined for 14 days\n",
      "3 years of imprisonment and a fine from 1,000 to 10,000 BGN for anyone who violates ordinances, rules and regulations or measures against the spread of infectious disease and quarantine.\n",
      "\n",
      "Should such an act be committed during an epidemic, pandemic or declared state of emergency is related to deaths from disease, the draft amendments provides for 5 years of imprisonment and a fine of 10,000 to 50,000 BGN.\n",
      "The city of Ouagadougou, Bobo-Dioulasso, Boromo, Houndé, Dédougou, Banfora, Manga et Zorgho are under quarantine for 2 weeks. Entry to these cities is forbidden, excepted for trade. Any other locality with positive Covid-19 cases will immediately be put in quarantine.\n",
      "Quarantine measures for China, France, Germany, Iran, Italy, Japan, South Korea and Spain. The travelers may be quarantined in a Government Hotel Facility in Bujumbura (Hotel Source du Nil) for 14 days.\n",
      "Quarantine for those arriving in the country that have been China, South Korea, Iran, Italy, Germany, France, Japan, Spain, and the rest of the European Union in the last 14 days.\n",
      "Quarantine for those arriving in the country that have been in Dubai in the last 14 days.\n",
      "Everyone with symptoms in isolation centers at Yaoundé Central Hospital, Laquintinie Hospital in Douala, Garoua Regional Hospital, and Kribi District Hospital \n",
      "14  day quarantine for those with symptoms or those returning from cruise ships. Elderly (those over 70) told to stay home\n",
      "New Order Makes Self-Isolation Mandatory for Individuals Entering Canada.  Failure to comply with this Order is an offense under the Quarantine Act. Maximum penalties include a fine of up to $750,000 and/or imprisonment for six months. Further, a person who causes a risk of imminent death or serious bodily harm to another person while wilfully or recklessly contravening this Act or the regulations could be liable for a fine of up to $1,000,000 or to imprisonment of up to three years, or to both. Spot checks will be conducted by the Government of Canada to verify compliance.\n",
      "anyone returning from Wuhan, China placed in isolation\n",
      "All travellers to Canada self-isolate for 14 days upon entry, with exceptions for workers who are essential to the movement of goods and people.\n",
      "14 day selfquarantine for any traveler entering CAR from a country with local COVID-19 transmissions\n",
      "Obligatory quarantine is exteended from 14 to 21 days. \n",
      "Any person suspected of infection must remain at home, excepted if a medical decision states otherwise.\n",
      "Visit to hospital are restricted. \n",
      "China, South Korea, Iran, Italy, and France this list is non exhaustive they may add nationalities with no warning\n",
      "Passengers from Spain or Italy\n",
      "Quarantine of 14 days for Easter Island.  \n",
      "Quarantine around the town of Puerto Williams, ‘sanitary cordon’ around the town of Chillan and San Pedro de la Paz, tightening of sanitary regulations for the whole of Chiloe Island and quarantine around Easter Island\n",
      "People aged 80+ should remain at home under quarantine.\n",
      "all arriving travelers have to quarantine for 14 days, arrivals from China, Macau and Taiwan are exempt from this\n",
      "All international arrivals in Beijing will be required to be isolated at designated facilities even if they do not have coronavirus symptoms, starting March 16. “The D-zone, in Terminal 3, will provide services such travelers need as well as the required procedures, including health examinations, identification checks and transfers.”\n",
      "Starting on March 16, all travelers entering Beijing from overseas were required to be quarantined at designated sites for 14 days. Only people with special circumstances that pass rigorous assessment can be granted self-quarantine at home. “People who are older than 70, minors and pregnant women can apply to do the quarantine at their own homes” < http://en.nhc.gov.cn/2020-03/17/c_77840.htm >\n",
      "Shanghai extends quarantine to inbound travelers from 16 countries: South Korea, Italy, Iran, Japan, France, Spain, Germany, the United States, the United Kingdom, Switzerland, Sweden, Belgium, Norway, the Netherlands, Denmark and Austria.\n",
      "People coming to Wuhan from outside the Chinese mainland will, starting from March 17, be quarantined for 14 days at designated places at their own expense.\n",
      "All people coming to Chongqing Municipality from overseas are subject to temperature screening and nucleic acid testing starting from March 17. People who have normal results but are from countries with severe epidemic situations will be quarantined at designated places for 14 days at their own expense while the rest are subject to a 14-day home quarantine.\n",
      "All people traveling to Shandong from abroad should be quarantined in designated places or at home for 14 days. The rule applies to all inbound travelers, regardless of their nationalities.\n",
      "Beijing municipality has required people arriving in the city from other countries to undergo a self-paid 14-day concentrated medical observation from on March 18\n",
      "From March 19, all travelers from overseas have to be put under quarantine in designated places for 14 days when they arrive in Beijing.\n",
      "Shanghai extends quarantine to inbound travelers from 8 new countries. The list includes South Korea, Italy, Iran, Japan, France, Spain, Germany, the US, the UK, Switzerland, Sweden, Belgium, Norway, the Netherlands, Denmark, Austria, Australia, Malaysia, Greece, Czech Republic, Finland, Qatar, Canada and Saudi Arabia.\n",
      "All travelers arriving at Shanghai airports from countries severely affected by the novel coronavirus pandemic must be escorted to homes or hotels for quarantine, after testing\n",
      "Those categorized as close contacts or with infection risks after epidemiological investigation will be taken to local sites for a 14-day quarantine.\n",
      "The plane will be completely disinfected at the airport before flying to the capital.\n",
      "Those who live in Beijing will be handed over to working groups from their home district stationed at the center and then be sent to designated sites for a 14-day quarantine.Those who do not live in Beijing will be handed over to working groups from their home provinces, autonomous regions or municipalities. The working groups will arrange group trips for them to go home on planes or trains. After arriving at their home destination, they will also be quarantined for 14 days.\n",
      "Beijing to ban hunting, eating wildlife. Penalties described as \"harsh\" \n",
      "Guangdong demands quarantine for all overseas arrivals\n",
      "Zhejiang will quarantine all from overseas\n",
      "Urging elderly care providers in low-risk areas to restore their services, the guideline noted that a 14-day quarantine will not be required among elderly people or staff within the area before their entrance\n",
      "All Catering Premises must abide by the following restrictions from March 28th for a period of 14 days from the 28th march at 6pm: (a) number of customers at any premises on which food or drink is sold or supplied for consumption on site must not exceed 50% of the normal seating capacity of the premises at any one time; (b) tables available for use or being used by customers within any catering premises must be arranged in a way to ensure there is a distance of at least 1.5 metres or some form of partition which could serve as effective buffer between one table and another table at the premises; (c) no more than 4 persons may be seated together at one table within any catering premises; (d) a person must wear a mask at any time within any catering premises, except when the person is consuming food or drink on the premises; (e) body temperature screening on a person must be conducted before the person is allowed to enter the catering premises; and (f) hand sanitisers must be provided at any catering premises for any person at the premises.\n",
      "All people having stayed in overseas countries and territories specified by a general notice in the Gazette for any period during the 14 days preceding arrival in Hong Kong, regardless of nationality and travel documents used, will be subject to compulsory quarantine for 14 days.\n",
      "Ban on sale of alcohol for on premises consumption. \n",
      "Quarantine for 14 days to travellers from Italy, France, Spain and China.\n",
      "all travelers arriving must self-quarantine for 14 days\n",
      "Until 30th of may, every person aged above 70 should self-isolate. \n",
      "International passengers with symptoms\n",
      "14day quarantine for high risk countries including mainland China, South Korea, Iran, Italy. Also for travelers with COVID-19 symptoms.\n",
      "14day quarantine for high risk countries including mainland China, South Korea, Iran, Italy. Also for travelers with COVID-19 symptoms.\n",
      "All travelers entering the DRC who have a fever will be tested, and any persons positive for COVID-19 will be hospitalized at DRC government expense. Both categories will be subject to a mandatory 14-day quarantine.  All persons traveling domestically from Kinshasa to other provinces will be subject to preventative screening.\n",
      "Anyone arriving in Costa Rica from another country must self-quarantine for 14 days.\n",
      "quarantine of 14 days for travelers from risk countries (China, South Korea, Iran, Italy)\n",
      "Forced government quarantine of 14 days for any traveller arriving from China (Hubei), Germany (Heinsburg, NRW), Iran, Italy, and South Korea (Chendong and Daegu). Health monitoring for other countries. \n",
      "Stricter reporting mandated for retirement homes and care institutions \n",
      "All travellers enterring the country should quarantine for 14 days. \n",
      "Tourists who did not leave on the scheduled commercial flights (last one on 1 April 2020) will have to stay in a designated hotel until the Government of Cuba reviews the measures.\n",
      "An area of Vedado in Havana will be quarantined. The area, known as El Carmelo, Plaza de la Revolucion, will be closed from Calle 6 to Calle 28 (east to west) and from the Malecon to Avenida (north to south) approximately. \n",
      "International passengers\n",
      "MSC Shipmanagement Ltd donated 106,000 surgical masks and 100,000 gloves to the Cyprus Government, to assist in the fight against the coronavirus disease outbreak.\n",
      "businesses with regard to their obligations to limit the spread of coronavirus, should organize and implement a disinfection procedure which shall be implemented after the end of every working day in all the premises that are visited by the public to receive services.\n",
      "If an infection is suspected authorities may be directed to a quarantine facility for testing and legally mandated quarantine. \n",
      "Stricter quarantine rules; instead of only applying people arriving from at risk countries and cross-border workers, it now applies for all coming from abroad with some critical exemptions\n",
      "Limitation of visits to hospitals, nursing homes, housing, etc.; relatives are only able to visit a dying or critically ill person; provisionally until 30th March\n",
      "Immigration Service, in consultation with the Red Cross, decided that all newly arrived asylum seekers should stay in Center Sandholm for 14 days after entry \n",
      "Bans on visits for various public and private facilities with vulnerable population groups\n",
      "All individuals identified during contact tracing will be tested and placed under quarantine\n",
      "14 days quarantine for all visitors who have been or transited through Spain, France, Italy and China during the previous two weeks\n",
      "Spreading of disinfectant in public spaces, starting with  San Francisco de Macorís, the national district and the province  of Santo Domingo.\n",
      "Self quarantine for 14 days from people from China, Spain, France, Iran, Germany, South Korea, Italy. / Quarantine in the city of arrival.\n",
      "14-day quarantine in all cases\n",
      "Reutning citizens: must sign an acknowledgement agreeing to go through mandatory quarantine before allowed to board flights home. They will be quarantined in hotels at their own costs for 28 days but don’t need to pay for medical charges.\n",
      "Egyptian authorities closed several hospitals on Sunday, March 29, to disinfect facilities after staff became infected with COVID-19. The affected hospitals include al-Salam hospital, the Alexandria University Hospital (north), and al-Shorouk Hospital in Cairo. \n",
      "several villages across a variety of governorates have been placed under quarantine as of Saturday, March 28, in Upper Egypt due to the amount of local transmissions.\n",
      "ALL travellers from abroad. Quarantine for 30 days.\n",
      "Salvadorian citizens and accredited diplomats will be allowed to enter El Salvador but will be subject to a 30-day quarantine period\n",
      "President of El Salvador has ordered private companies to send employees who are older than 60, who are pregnant or who have underlying conditions, home on paid time off for 30 days. \n",
      "the U.S. government will continue deporting people who attempted to cross illegally, with migrants subject to a medical exam 12 hours before the flight to screen for coronavirus. A U.S. embassy spokeswoman said in a statement that the embassy is working with partners in the region to conduct another medical exam for deported migrants upon their return to El Salvador before they are taken to a “quarantine shelter.”\n",
      "On April 6 , the Government of El Salvador extended the nationwide home quarantine for an additional 15 days\n",
      "All travellers from affected countries, whether showing symptoms or not, must self isolate for 14 days upon arrival\n",
      "Strengthening of quarantine measures: All nationals and foreigners who entered national territory after day one of the current measures who was not placed in quarantine is obliged to go to the Health Authorities so that they may take the necessary steps in order to safeguard the health of others.\n",
      "Under 30 day Health State of Alarm: All travellers coming from affected countries, both national and expatriate, whether or not they are showing symptoms on arrival, must remain in quarantine for a period of FOURTEEN (14) DAYS, during which they may not leave the place of quarantine except via authorisation issued by the competent health personnel.\n",
      "Anyone who enters the country 14 days quarantine.\n",
      "More stringent rules for care homes during the emergency situation, restricting people receiving care from leaving the care home\n",
      "All returning residents will be subject to a mandatory 14-day quarantine in a designated location.\n",
      "14 day quarantine for those have been in Hubei province in the last 14 days. \n",
      "All passengers arriving in Ethiopia will be quarantined for 14 days in designated hotels, at their own cost.\n",
      "foreigners who arrive in ehtiopia and cannot afford to be quarantined at various hotels will be sent to AST University for 15 days mandatory quarantining.\n",
      "People must wear masks in public\n",
      "Fiji’s borders will be closed to all foreign nationals who have been present in mainland China, South Korea, Italy, Iran or Spain within 14 days of their intended travel to Fiji. \n",
      "ravel ban extended to people from the United States and Europe, including the UK. All travellers are required to self-isolate for 14 days upon arrival.\n",
      "Govt instructions issued for people under home based quarantine\n",
      "Strict new procedures in place at Fiji ports for cargo and trucks\n",
      "Recommended for those who have been abroad. 14 days lenght.\n",
      "People arriving from Norway or Sweden under 14 days quarantine (with exemptions, e.g. health workers)\n",
      "those returning from evacuation flights.\n",
      "135 EUR fine for not complying with the movement restrictions, additional police force deployed\n",
      "14 days quarantine for travellers coming from unspecified \"risk zones\"\n",
      "Quarantine of greater Libreville.\n",
      "All travellers from hotspot countries will be isolated for fourteen (14) days upon arrival in The Gambia. \n",
      "People having travelled in France, Germany, Austria, Spain, China, Iran, South Korea and Italy for 14 days\n",
      "14 day home quarantine for anyone returning from highrisk areas in past 2 weeks - anyone with symptoms/postivie: hospital quarantine \n",
      "imposing fines and/or detention for violations of self-isolation and quarantine, and other provisions. \n",
      "travelers arriving from Austria, Italy and Switzerland are asked to self-quarantine for 14 days\n",
      "Mandatory quarantine for 14 days for all persons arriving in Germany to their residency (exemptions for cross-border workers and short-term business travelers, etc.)\n",
      "People coming from abroad\n",
      "Mandatory self quarantine for people who are allowed enter the country. People deemed unable to satisfactorily self-quarantine will be quarantined by the state.\n",
      "mandatory 14 day self-quarantine on all international arrivals.\n",
      "You will be quarantined for a period of 14 days upon arrival into Grenada, if you are a Grenadian National or Resident.\n",
      "Diplomats and residents coming from those countries are put in 7 days home quarantine\n",
      "Guatemala's government said Wednesday it will resume receiving deportation flights from the United States next week. It had suspended the flights during Holy Week after three deported Guatemalans later tested positive for COVID-19.Guatemala's Foreign Affairs ministry also said the Central American country was preparing temporary reception centers for migrants deported by the U.S. on an air force base so they could be monitored in line with health protocols. The government had said Tuesday that in spite of its suspension of deportation flights, it had allowed a flight carrying 20 unaccompanied minors to land because it did not want them to be detained for an extended period in the U.S.\n",
      "All travellers who have been in countries with active transmission will be required to surrender their passports and report their temperature to Ministry of Health officials twice a day for 14 days.\n",
      "Quarantine restrictions of 14 days have been introduced for travellers from affected countries.\n",
      "From above places self isolation for 14 days\n",
      "Individuals with symptoms consistent with COVID-19, who within the last 14 days have been in contact with a confirmed case of COVID-19, or traveled to a country with confirmed cases, may be isolated in a medical center for monitoring by the Ministry of Health for up to 14 days.\n",
      "Those who may have been infected are being quarantined for 2 weeks.\n",
      "Lakatos said any foreign patients who refuse to cooperate with the authorities risk being expelled from Hungary\n",
      "A sign from the authorities (“red card”) must be posted on the door which serves as a warning to everyone that there is a person inside who is under disease control observation. By violating the rules of quarantine, the person under observation commits a crime. People selected for compulsory home quarantine are required to dispose of household rubbish sealed in double bags and then discarded in the bin. They are allowed to take delivery of any mail or other delivery at the door as these instances do not qualify as close physical contact. Proceeding in the same manner, they are also allowed to receive food brought for them by relatives. Those in quarantine who are unable to arrange for their supplies can request assistance from the local government.\n",
      "People displaying mild symptoms must remain in stay-at-home quarantine.\n",
      " People with severe symptoms, those who fall into any of the high-risk groups and those who require hospital care will naturally be hospitalized.\n",
      "14 day self-quarantine for all those arriving from high risk places. \n",
      "All people arriving to Island are mandated to self-quaratine for 14 days, irrespective of place of departure and nationality\n",
      "Incoming travelers (including Indians) have visited China, Italy, Iran, Republic of Korea, France, Spain and Germany after 15th February, 2020 quarantine 14 days\n",
      "Introduction of quarantine policiesfor travelers expanded to those coming or transiting from UAE, Qatar, Oman, Kuwait starting 18 March until 31 March\n",
      "Indian citizens are advised to refrain from travel to China. People travelling to China henceforth will be quarantined on return. Indian citizens are advised to refrain from non-essential travel to Singapore, Republic of Korea, Iran, and Italy. \n",
      "People coming from Republic of Korea, Iran and Italy or those having history of travel to these countries may be quarantined for 14 days on arrival to India.\n",
      "all passengers having travel history to China, Hong Kong, Republic of Korea, Japan, Italy, Thailand, Singapore, Iran, Malaysia, France, Spain and Germany are advised to undergo self-imposed quarantine for a period of 14 days from the date of their arrival. \n",
      "Incoming travelers, including Indian nationals, are advised to avoid non-essential travel and are informed that they can be quarantined for a minimum of 14 days on their arrival in India. Indian nationals are further strongly advised to refrain from travelling to China, Italy, Iran, Republic of Korea, France, Spain and Germany. \n",
      "All asymptomatic individuals who have undertaken international travel in the last 14 days should stay in home quarantine for 14 days, be tested only if symptomatic, and all family members living with a confirmed case should be quarantined. \n",
      "nan\n",
      "If the additional screening shows initial symptoms of Covid-19, a 14-day observation in a government facility will be applied\n",
      "Controlling drivers temperature on selected roads\n",
      "all people returning to Israel have to self-quarantine for 14 days\n",
      "All people with a temperature of 38 Celsius or more and respiratory symptoms (cough or shortness of breath) must stay home for two days after the fever has dropped, even if they did not arrive from abroad, or did not have contact with a confirmed patient.\n",
      " People who return to Israel from anywhere in the world must be placed under home isolation for 14 days counting from their date of return. If you had returned to Israel in the last 14 days from anywhere in the world, or if you are under home isolation and have fever 38C (100.4F) or higher, cough, trouble breathing, or other respiratory symptom, immediately enter home isolation, immediately call the 101 MDA Emergency Services Hotline for medical advice, and do not go to an HMO clinic or emergency ward. You must complete 14 day period, even if you were tested negative for COVID-19.\n",
      "\n",
      "This requirement replaces the home isolation required of travelers from Austria, Italy, Andorra, Germany, Hong Kong, Japan, Egypt, Macau, mainland China, Singapore, San Marino, Spain, France, South Korea, Switzerland or Thailand that was effective until March 9 2020.\n",
      " home quarantine is required of travelers from China only – that is, any person who has arrived from China, and China alone, less than 14 days ago.   \n",
      "expansion of home quarantine order to those returning from Thailand, Hong Kong, Singapore, Macau\n",
      " violation of the quarantine order may result in criminal charges, with a penalty of up to 7 years imprisonment if the violation was intentional, and up to 3 years imprisonment if it was negligence\n",
      "Any individual who had close contact with the (South Korea) pilgrim group must stay in a 14-day home quarantine counting from the latest date of contact with the group.\n",
      "Additionally, any individual who visited South Korea or Japan in the last 14 days must remain in a 14-day home quarantine counting from the latest date he/she left these places, in addition to travelers from China, Hong Kong, Macau, Singapore, and Thailand.\n",
      " all travelers from Italy in the last 14 days must be placed under a 14-day home quarantine.\n",
      " Any person who visited these places and had close contact - being less than 2 meters for 15 minutes or more - of the confirmed case from Italy - must be placed under 14-day home quarantine and send a questionnaire to the Ministry of Health or the Health Ministry Hotline *5400.\n",
      "a *decree* will be published, obliging Israeli residents who have stayed in China over the last 14 days to remain in home quarantine until 14 days since the date of departure from China have passed.  Also, anyone who visited the same places at same time as Greek tourist group with confirmed cases must immediately enter 14 day quarantine (itinerary of group provided) \n",
      "The temperature of all travelers returning home will be checked \n",
      "All people coming from China or other risk areas have to give notice to the officials and a 14 days fiduciary self-isolation applies\n",
      "Research on COVID-19 spread in residental and social structures initiated\n",
      "Additional trials for drug testing authorized\n",
      "Post and Carabinieri to support delivery of pensions to elderly to avoid their increased exposure during collection\n",
      "Citizens, non-Jamaicans with permanent residency, and those with marriage exemptions who have travelled to China, Iran, Italy, South Korea, and Singapore in the past 14 days will be subject to health assessments and quarantines.\n",
      "Airline crew will be given special permission to enter the country but are expected to remain in specified locations with restricted movement. \n",
      "All travelers from countries w/ transmission of the COVID-19 are required to self-quarantine for 14 days. Those with symptoms are placed in govt. isolation/quarantine facilities\n",
      "targeted to those returning from Wuhan and medical/quarantine procedures for all confirmed-cases. \n",
      "Passengers on the Diamond Princess ship over 80 years of age are no longer allowed to open or close their windows. \n",
      "If passengers on the Diamond Princess ship test negative for COVID-19 and wish to disembark, they are required to disembark and wait in isolation for incubation period. (Ship completely disembarked on March 1, as confirmed here: < https://www.mhlw.go.jp/stf/newpage_09889.html >)\n",
      "Anyone who has boarded an airplane or ships arriving from China or Republic of Korea at or after 0:00 on March 9 (JST) and not be isolated or stopped is required to stay 14days at a location designated by the quarantine station chief and not to use public transportation in Japan.\n",
      "Anyone who has boarded an airplane or ships from European countries, or Egypt at or after 0:00 on March 21 (JST) and not be isolated or stopped is required to stay 14days at a location designated by the quarantine station chief and not to use public transportation in Japan. \n",
      "Anyone who has boarded an airplane or ships from United States of America at or after 0:00 on March 26 (JST) and not be isolated or stopped is required to stay 14days at a location designated by the quarantine station chief and not to use public transportation in Japan.\n",
      "nationals arriving from the subject countries (Note) to wait 14 days at a location designated by the quarantine station chief and to refrain from using public transportation will be introduced.\n",
      "Anyone who has boarded an airplane or ships from Indonesia, Singapore, Thailand, Philippines, Brunei Darussalam, Viet Nam, Malaysia, Israel, Qatar, Democratic Republic of the Congo or Bahrain at or after 0:00 on March 28 (JST) and not be isolated or stopped is required to stay 14days at a location designated by the quarantine station chief and not to use public transportation in Japan. \n",
      "From 0:00 am, April 3rd, 2020 (JST), the measures to call upon all nationals to stand by for 14 days at a location designated by a quarantine station chief and to refrain from using public transportation will be introduced.\n",
      "passengers arriving with symptoms have to quarantine for 14 days in a hospital in Amman\n",
      "all nationals returning have to undergo 14 day quarantine\n",
      "Self-quarantine for all those who have entered the country over the last 14 days and for those who do arrive after the stricter measures to quarantine as well. \n",
      "All passengers arriving in Kenya from now until the flight suspension on the 25th must undergo mandatory quarantine at government facility at their own expense.\n",
      "All Kenyans are required to wear a mask when in public areas\n",
      "Starting today, all salon and barbershop operators must wear masks when attending to clients and must have hand sanitizers\n",
      "All passengers who have been in a country with confirmed cases of COVID-19 must have stayed in a country with no confirmed cases for at least 14 days and provide medical clearance to confirm that they are free of the virus prior to entry.\n",
      "All passengers traveling from Kiritimati to Nadi on the Honolulu-Xmas-Nadi flight need to be quarantined in Fiji for 14 days before traveling back to Kiribati. Medical clearance can be obtained in Nadi from Zens clinic in Namaka town and in Suva from Tebana’s surgery. MHMS Kiribati will add more clinics in due course\n",
      "Quarantining exports and imports. Installing disinfection equipment.\n",
      "nan\n",
      "KCDC designated Italy and Iran as the quarantine inspection required areas. Therefore, anyone with suspected symptoms should submit a health questionnaire at the point of entry, pass the special entry procedure, and install self-diagnosis application on their cell phone. They could be quarantined at the quarantine station and get tested for COVID-19 when necessary.\n",
      "stronger entry procedures will be implemented from 22 March for persons traveling from Europe. All persons arriving from Europe will be required to answer a questionnaire on their health condition, get checked for fever, and get tested after being escorted to an appropriate facility — quarantine facility for persons with symptoms and designated temporary living facilities for those without symptoms. Those whose test comes out positive will either be moved a hospital or a Life Treatment Center based on the severity level assessed for each case. In principle, Korean citizens or resident aliens who test negative go into self-quarantine at their place of residence. Those without a place of residence in Korea will be quarantined at a facility. Foreigners who are temporarily staying in Korea for a short time will subject to active monitoring during their stay in Korea.\n",
      "Anyone having respiratory symptoms at the point of entry or epidemiological links with confirmed cases will be quarantines for testing at quarantine station. The inbound travelers with no symptoms will stay at temporary support facilities by getting the result of test.\n",
      "Arrivals from any risk country are put in mandatory institutional quaratine\n",
      "Kuwaiti citizen and people entering from any country will be put under 14 days quarantine\n",
      "Kuwait Health Ministry urges COVID-19 recovered persons to donate blood\n",
      "People transited in category 2 and 3 countries need to isolate for 14 days\n",
      "14 days for everyone coming from country at COVID risk\n",
      "returning citizens and non-citizens with residence permits are permitted to enter until 16 March but have to quarantine for 14 days\n",
      "travellers with symptoms have to self-isolate for 14 days\n",
      "Travellers from China and other COVID-19 affected areas are requested to self-quarantine for 14 days.\n",
      "All new arrivals in the country will be quarantined for 14 days.\n",
      "Lesotho has prohibited the sale and purchase of alcohol during 24-day nationwide lockdown.\n",
      "For people coming from countris with more than 200 cases. For 14 days. For people coming from Italy, Iran, China, South Korea, France, Germany, Japan, Spain, quarantine in dedicated structures.\n",
      "People returning from abroad should home-quaratine for 14 days, exception of drivers and alike\n",
      "All people arriving at airport to be mandatory quaratined, some foreigners (e.g. transit) may be exempted; fines implemented and increased on 01.04.2020 to max 6000 EUR \n",
      "Disease transmission study in 1500 persons \n",
      "International passengers with symptoms\n",
      "Every person coming from Europe before 19.03 is quarantined.\n",
      "All travellers entering the country must self quarantine in Tananarive. If they do not have a place to stay there, they will have to quarantine in a dedicated public building.\n",
      "If history of travel in the previous 14 days in China and other risk countries and with symptoms, home isolation for 14 days. Plus daily chekups\n",
      "Travelers from the following countries will be required to undergo a 14 days Self-Quarantine due to the COVI-19 pandemic: China, Italy, Islamic Republic of Iran, Republic of Korea, Germany, France, Spain, USA, Switzerland, Denmark, Sweden, UK, Nederland, Norway, Belgium, Austria, Japan, Finland and Greece.\n",
      "Returning residents and nationals from Coronavirus affected countries will be subjected to self or institutional quarantine.\n",
      "All childcare institutions (orphanages), in collaboration with District Social Welfare Officers should immediately assess and recommend for reintegration of children that may be reintegrated without posing risk for their safety, health, nutrition and general wellbeing. Children should be provided mental health and psychosocial support to support the transition to the new environment.\n",
      "Principals of reformatory centres should quickly assess and recommend for release children who committed minor offences or those that have shown good behavior. The list of assessed children should be submitted to the Chairperson of the Child Case Review Board for possible release as one way of decongesting reformatory centres.\n",
      "the Districts Social Welfare Officers in collaboration with relevant stakeholders should remove all street connected children and immediately reintegrate them with their families and provide shelter, food and other essential needs to children who may not be immediately reintegrated while assessments are underway.\n",
      "From 18 -31 March 2020, all Sabahans including their spouses and children who hold long-term social visit passes can return to the State, subject to a recommended 14-day self-quarantine.\n",
      "\n",
      "Malaysians who have returned from overseas have to go for a health check-up and undergo self-quarantine for 14 days,\n",
      "All Malaysians (inc non-citizens) who return to the country from April 3 will be immediately quarantined for 14 days. This applies those entering the country through all entry points. People will immediately sent to government quarantine centres as soon as they arrive..\n",
      "From 3 April, there is a 14-day mandatory quarantine for passengers, including Malaysians, foreigners holding long-term pass, diplomats and other diplomatic and consular staff, arriving into the country.\n",
      "From April 3 Travellers with onward domestic connections must undergo the mandatory 14-day quarantine before being allowed to proceed to their domestic destinations.\n",
      "From April 3, passengers with connections to Sabah and Sarawak (both East Malaysia) are allowed to undergo quarantine upon arrival in their respective states. These travellers are not allowed to leave the airport building and must have a transit time of less than 24 hours.\n",
      "travelers with minor symptoms from countries with more than 500 cases of COVID-19 have to self-isolate for 14 days; travelers with major symptoms from severly affected countries have to remain at an isolation site for testing an quarantine\n",
      "all travellers arriving in Malta from Spain, Germany, France, Switzerland have to undergo 14 days quarantine\n",
      "mandatory quarantine upon arrival for travellers from Italy, China, Singapoure, Japan, Iran, South Korea starting 27 February\n",
      "as of 13 March, all travellers arriving in Malta have to quarantine regardless of country of departure; the same is true for people co-living with them; enforcable with 3000 EUR max fines\n",
      "Vulnerable people (e.g. elderly, people with chronic conditions) are not allowed to leave their residency\n",
      "Supply ships must wait at sea 14 days before being permitted to berth\n",
      "Fishing vessels that are based in the Marshall Islands are allowed to return to homeport but must spend 14 days at sea prior to entry. Earlier, Majuro-based fishing vessels were allowed in earlier than 14 days, with the requirement that all crew stay on board until they met a 14-day quarantine period. This was changed, however, after earlier this week several Marshallese fisherman aboard a locally-based purse seiner that arrived after 11 days from its last port of call went straight to shore to their families' homes.\n",
      "Container ships and fuel tankers also must meet a 14-day quarantine period at sea before arriving in ports in the Marshall Islands.\n",
      "all travellers have to quarantine for 14 days upon arrival if they arrive from China, France, Iran, Italy, South Koea, Spain; starting 17 March quarantine applies to all travellers arriving in Mauritania\n",
      "quarantine for all travellers arriving from China\n",
      "Persons who traveled through France or Germany in the past 14 days will be placed in quarantine only if that person presents symptoms of fever, cough, or difficulty breathing. \n",
      "Mauritian nationals, residents, their spouse and children coming from china or having travelled through china within the last 14 days will be allowed entry in the republic of Mauritius and will be placed in quarantine.\n",
      "Mauritians from South Korea, the 3 provinces in Italy with COVID-19—Lombardy, Veneto, and Emilia Romagna—will automatically be placed in quarantine. Passengers from Japan and Singapore who present symptoms, especially fever and cough, will be placed in quarantine. \n",
      "Mauritian citizens and residency who traveled through Italy (no longer limited to the 3 provinces) and Iran will be placed in automatic quarantine. \n",
      "Maurician citizens and residents will not be included in the travel ban, but will be placed into quarantine upon arrival. “Les passagers mauriciens et résidents mauriciens sortant des régions mentionnées ne seront pas concernés par l’interdiction d’entrée sur le territoire mauricien. Ils seront toutefois automatiquement placés en quarantaine dès leur arrivée à Maurice.”\n",
      "Fishing vessels licensed in the FSM and arriving into the nation's borders are still subject to their requirements, including 14-day quarantines.\n",
      "The FSM has now waived the 14-day quarantine period for cargo and tanker vessels \"to ensure the continued supply of essential goods and services,\"\n",
      "National Emergency Commission decided yesterday (26 March) to extend the quarantine period of suspected people to 21 days from 14 days.\n",
      "compulsory 14 day self-isolation period for all those coming from abroad\n",
      "fined and/or arrested, and sentenced to up to a year in prison. army ensures quarantine and self-isolation measures are respected.\n",
      "Travellers from COVID countrues for 14 days at home. Checked by authorities\n",
      "Mozambique will subject all travellers , Mozambicans or foreigners, entering the country to a mandatory 14-day home quarantine\n",
      "The Mozambican Government has mandated a 14-day self-quarantine for all arrivals, regardless of citizenship or prior travel.\n",
      "from 1 April SoE: A 14-day quarantine period is imposed on anyone who has been in contact with people known to be infected with COVID-19.\n",
      "Cargo carriers to / from Mozambique cannot leave the cabin, otherwise they must comply with quarantine\n",
      "Chimoio municipality last week launched a spraying campaign at the main entrances to the city, covering all vehicles, including motorcycles and bicycles, and obliging all public transport users, workers and passengers alike, to perform the mandatory hand washing.\n",
      "All Myanmar nationals who have been to high-risk areas (such as Hubei in China & Daegu and Gyeongbuk in Korea) in the past 14 days shall be subjected to 14-day facility quarantine upon arrival. Facility quarantine is defined as “public buildings or/and hospitals”. All incoming travelers who have been to the Republic of Korea outside high-risk areas in the past 14 days shall be subjected to 14-day home quarantine upon arrival. All incoming travelers from Italy, Iran, France, Spain ad Germany subject to 14-day facility quarantine. \n",
      "All passengers, including incoming Myanmar nationals, will be subject to a 14-day facility quarantine upon arrival. Diplomats will be subject to home quarantine for 14-days upon arrival. \n",
      "All incoming travellers including Myanmar nationals arriving from or having visited USA, Switzerland, UK, the Netherlands, Austria, Belgium, Norway, Sweden and Denmark in the past 14 days shall be subject to 14-day facility quarantine on their arrival in Myanmar. The earlier precautionary measures issued on 15 March 2020 shall also remain in force until further notice. \n",
      "Myanmar nationals who were working in Thailand are advised to stay at home or a designated place in a responsible manner for home or facility quarantine for 14 days to prevent the spread of the disease.\n",
      "All returning Namibians and permanent residents arriving from countries at high risk or from affected other countries will be subject to supervised self- quarantine from 14 days\n",
      "Stringent quarantine and border protection measures are in place, requiring all travellers to spend 14 days in approved transition accommodation, before being allowed into the community.\n",
      "Travellers denied entry to Nauru who have had direct contact with a confirmed case in the previous 21 days, or have travelled from or transited through Mainland China, Hong Kong, Macao, Korea, Iran, Europe, USA or Asia (except Taiwan) within the previous 21 days\n",
      "All ships must spend 14 days at sea without contact with other vessels before entering Nauru's port.\n",
      "transit station -> observation station -> treatment station levels of quarantine/treatment established\n",
      "no photography, livestreaming, twitter or social media permitted in designated residences for quarantine\n",
      "Issuance of rules of residence for designated treatment houses. National Emergency for the Management and Minimisation of the Impacts of Coronavirus (COVID-19) Regulations 2020\n",
      "Foreigners arriving in Nepal with valid business, study, work or offical visa (14 days)\n",
      "All arrivals into Nepal 14 day self-quarantine\n",
      "The Coronavirus Control High-level Task Force has also warned that the Home Ministry will enforce a law to imprison those who return from abroad not staying in quarantine for 14 days. The penalty for non-compliance is up to six months in jail.\n",
      "residents with symptoms requested to self-quarantine for 14 days\n",
      "All new arrivals from other countries must self-quarantine for 14 days (except for those arriving from selected Pacific countries).\n",
      "All returning residents and citizens must isolate themselves for 14 days upon arrival inc NZ citizens from Tokelau, Cook Islands and Niue travelling to New Zealand\n",
      "everyone arriving into NZ would be screened, and those without self-isolation plans taken to approved facilities around the country. The MoH said campervans set up and on stand by at the ASB showgrounds in Greenlane were part of our precautionary approach to ensuring travellers returning to New Zealand could isolate. Campervans and hotels will be used in Auckland, Wellington and Christchurch as accommodation for people potentially returning to New Zealand from overseas during the Alert Level 4.\n",
      "Managed isolation of new arrivals to New Zealand. All travellers entering NZ from 10 April 2020 are required to either go into 14 days of “managed isolation” in a government-provided facility (hotel), or if symptomatic to go intoIt is no longer possible to self-isolate at home, or to take a regional flight before the 14 day period is completed. a quarantine facility (separate hotel).  \n",
      "Visitors and Nigerien nationals arriving from countries affected by the COVID-19 pandemic must self-isolate for 14 day\n",
      "The city of Niamey is subject to a health confinement for a period of two weeks\n",
      "For people who are suspected to have contracted the virus\n",
      "All travelers returning from these countries prior to the restriction will be supervised in self-isolation\n",
      "citizens entering from high or medium risk countries are ordered to self-isolate for 14 days\n",
      "The government of North Macedonia has implemented mandatory quarantine for Debar and Centar Zhupa Municipalities in western North Macedonia.\n",
      "all arriving travelers (exept from Sweden or Finland) are requested to self-quarantine for 14 days upon entering Norway, including those who have arrived since 27 February\n",
      "All people arriving in Norway are required to go into quaratine (also people from Finland and Sweden)\n",
      "People with close contact to a confirmed case need to self-quarantine; also rules around self-isolation were updated\n",
      "travelers from China, South Korea, Italy, and Iran for 14 days. travelers from Egypt who entered Oman after February 22 home quarantine and call the Ministry of Health for additional quarantine guidance.  Home or institutional quarantine will also apply to individuals who have had close contact with a confirmed case of COVID-19 or individuals with a severe acute respiratory infection.\n",
      "either home or institutional quarantine for all travlers entering Oman (14days)\n",
      "14 days quarantine for travellers from Cina, South Korea, Italy and Iran\n",
      "All incoming travelers are subject to a mandatory 14-day in-home quarantine. Transiting travelers who do not leave the airport are being permitted to continue their journeys. \n",
      "people who break health regulations and quarantines could be fined​ between $50,000 to $100,000.\n",
      "Canadian miner First Quantum Minerals has placed its Cobre Panama operation into care and maintenance, after the Healthy Ministry of Panama (Minsa) this week ordered the temporary suspension of labour activities at the site.\n",
      "14-day quarantine and medical clearances for all incoming travellers from countries affected by coronavirus.\n",
      "Illegal border crossers arrested and quarantined in PNG\n",
      "Calls for evacuation of Australian refugees from Nauru, PNG. The Refugee Council of Australia agreed that health systems in PNG and Nauru could not withstand full-blown outbreaks.\n",
      "Covid-19 Rapid Response Team flew from Port Moresby to the province late Tuesday with supplies and test kits. A team of medical workers with the WHO and UNICEF also flew in to work on contact tracing.\n",
      "Any non-PNG citizen or non-permanent resident returning to PNG by aircraft to be quarantined at a designated hotel in Port Moresby at the individual's cost\n",
      "Any traveller entering the country by air or land should self-quarantine for 14 days.\n",
      "People who have tested positive for COVID-19 and do not need to be admitted to hospital, will stay in specialised shelters. This includes the those who would like to do so voluntarily; those in vulnerable situations whose accommodation is not suitable for self-isolation; those who have broken self-isolation; and those who have come from abroad and tested positive during their quarantine period.\n",
      "Self quarantine for people who transited France, Italy, Spain and China\n",
      "Metropolitan Manila (with school closure included)\n",
      "Mandatory 14 day quaratine for Filipino repatriats\n",
      "Polish citizens and foreigners with permission to work and reside in Poland who return from abroad will be required to quarantine for 14 days after returning; fines increased on 23.03.2020 to 30.000 PLN due to non-compliance issues\n",
      "Extension until 26th April: mandatory quarantine for arriving persons (with exemptions)\n",
      "People who have to undergo 14 day quarantine after arriving in Poland, if covered by sickness insurance, are entitled to benefits\n",
      "travelers arriving from France, Germany, Spain and Italy have to quarantine for 14 days \n",
      "All returning travellers - mandatory 2week quarantine \n",
      "Quarantine for those asymptomatic individuals arriving in Romania through land or air points of entry and originating from or transiting within the previous 14 days any country with at least 500 confirmed cases of COVID-19, must self-isolate at home for 14 days.\n",
      "14 day self-isoation \n",
      "\"Failure to comply with the emergency measures provided for in art. 1-7 attracts disciplinary, civil, contraventional or criminal liability\"\n",
      "People over 65 are only allowed to leave home between 1100 and 1300 for activities are restricted to shopping, caring for a minor or elder and individual walks, and between 2000 and 2100 to walk pets near their residence. *exception medical assistance \n",
      "Employees will need to show declaration with basic details and reason for travel* Exception are the cargo transports, humanitarian, technical, and mail transports.\n",
      "Citizens abroad: return of Romanian citizens abroad temporarily and who were affected by the measures to restrict air transport adopted in the context of the management of the COVID-19 pandemic\n",
      "14-day self Quarantines in place for those arriving from China and . Country specific Quarantines are also in effect in Moscow (see below)\n",
      "Visitors should self-isolate for 14 days if they are arriving from China, South Korea, Italy, Iran, France, Germany, and Spain. \n",
      "March 26 – April 14, individuals who are 65 and older in Moscow must self-quarantine.\n",
      "Moscow: From 30 March, all people (regardless of age) in the capital Moscow and the rest of the Moscow Oblast should self-isolate at home until further notice. All non-essential movement in the city will be banned although entering and exiting Moscow will still be possible, and walking pets at a distance may not exceed 100 meters from one’s residence\n",
      "The Moscow healthcare department confirmed the newly introduced mandatory self-quarantine restrictions are applicable to all travellers arriving in the country. Short-term passengers will be quarantined for the period of their trip if less than 14-days; there are no restrictions on them taking their outbound flights. It is still unclear how this will be controlled and what the penalty will be for non-compliance.\n",
      "Individuals within Moscow found to be infected with COVID-19 but who display only mild symptoms are to be treated under the supervision of doctors at home and will receive antiviral drugs.\n",
      "Sobyanin signed a law imposing fines on Muscovites found to be violating the city's self-isolation orders. Individuals will be fined up to 4,000 rubles ($50) for first-time offenses and up to 5,000 rubles ($63) for repeat offenses. Businesses will be fined up to 40,000 rubles ($500) for violating the order. Legal entities will be fined up to 300,000 rubles ($3,800) for first-time offenses and up to 500,000 rubles ($6,300) for repeat offenses.\n",
      "Several regions of Russia have enacted region-wide stay-at-home orders for residents, following suit with Moscow's quarantine:\n",
      "No cases at this time, but Rwanda introduced strict quarantine procedures. \n",
      "All travelers presenting one of the COVID-19 symptoms and coming from endemic countries will be taken for isolation at nearest hospital. \n",
      "Mandatory 14-day quarantine, including self-isolation for travelers who arrived within the past 14 days. \n",
      "nan\n",
      "travelers from Hong Kong, Republic of Korea, Japan, Italy, and Singapore to be quarantined for 14 days \n",
      "extension of the quarantine requirement to include all regions of Italy in view of the COVID-19 outbreak in that country.\n",
      "Cabinet granted approval for persons with a travel history which includes Iran to be quarantined for fourteen (14) days.\n",
      "Approval was granted to continue quarantine requirements for persons with a travel history that includes the following countries, for 14 days: China, South Korea and Italy.\n",
      "Approval was granted to discontinue quarantine requirements for persons travelling from the following countries: Singapore, Hong Kong and Japan.\n",
      "Approval was granted to implement active surveillance of persons with a travel history that includes countries  with community transmission.\n",
      "Quarantine of non-residents will be at the cost of the traveler.`\n",
      " addition to persons arriving from mainland China, persons arriving from Japan, Hong Kong, Singapore, Macau and South Korea will also be quarantined for 14 days. \n",
      " a group of students, teachers and chaperones who recently returned from Guadeloupe are on mandatory quarantine for 14 days. Household members of these persons have been advised to voluntary quarantine themselves.\n",
      "HEOC/COVID-19 Task Force Advisory: Quarantine Requirement For Travellers From Canada\n",
      "Individuals entering St. Vincent and Grenadines from the above listed countries will be subject to a mandatory quarantine for 14 days after leaving their port of departure. The quarantine will be actively monitored by Public Health Officials and members of the Royal St. Vincent and the Grenadines Police Force and Coast Guard, and will remain in effect whether the individual travels to or from the Grenadines.\n",
      "The Ministry of Health, Wellness and the Environment will not hesitate to seek court orders to enforce this quarantine requirement as evidenced by the court orders secured and served on the entire group of passengers who arrived on AA 1427 on Saturday, March 28, 2020.\n",
      "Additionally, effective March 28, 2020, all arriving passengers who meet the quarantine requirement will be required to sign an Undertaking to Quarantine form issued by the Ministry of National Security, Air and Seaport Development. Any breach of this undertaking will result in appropriate action under the Laws of St. Vincent and the Grenadines.\n",
      "All persons previously instructed to be under quarantine are reminded that the instruction is mandatory and any breach may result in imprisonment and or a fine.\n",
      "Six hotels in Samoa's capital Apia are accommodating 190 travellers during their 14 day quarantine period under the State of Emergency implemented because of the global Covid-19 pandemic. The addition of hotels to government quarantine facilities was given the green light by the Ministry of Health.\n",
      "For people with syntoms (temperature 37,5plus and flu like)\n",
      "Strict limitations to access health facilities in non-visit hours.\n",
      "Disinfect each transport vehicle (inside and outside) at least once daily. Staff is provided PPE. Legal penalties for non compliance. \n",
      "as of 15 March, also Serbian citizens entering have to undergo self-isolation for 14 days\n",
      "Introduction of new quarantine policies. 2 Seychellois students in Wuhan were transferred to France, where they will stay for 14 days, per health requirements. This is the first logged announcement of the 14-day quarantine policy that was released by the Seychellois government. \n",
      "“All returning residents who have been to China, including the SAR of China and any other countries where there has been significant local transmission will be put under obligatory quarantine at the Military Academy in Perseverance for 14 days upon arrival.”\n",
      "Returning Seychellois citizens from China, South Korea, Italy, and Iran will be put under obligatory quarantine for 14 days upon arrival. \n",
      "Expanding obligatory quarantine for 14 days upon arrival to include travelers from Spain. \n",
      "Expanding obligatory quarantine for 14 days upon arrival to include travelers from ANY country in Europe including the United Kingdom, Switzerland and the French Departments of Reunion and Mayotte.\n",
      "All Seychellois residents returning from overseas are to be quarantined at home with appropriate follow up from surveillance team and the support of law enforcement.\n",
      "Expanding obligatory quarantine for 14 days upon arrival to include travelers from the United States and Australia. All arrivals may be subject to quarantine. \n",
      "Mandatory quarantine measures applying to British nationals arriving in Sierra Leone from Monday 16 March 2020 from the UK and other countries with more than 50 confirmed cases of coronavirus (COVID-19). If travel history to China the quarantine is in one of the designated hospitals.\n",
      "If you have traveled to or transited through, within the last 14 days before arriving in Sierra Leone, any country with 50 or more confirmed cases of coronavirus, you will be required to enter facility quarantine for up to 14 days.\n",
      "If you have traveled to or transited through, within the last 14 days before arriving in Sierra Leone, any country with less than 50 confirmed cases of coronavirus, you will be required to home quarantine for up to 14 days.\n",
      "For all people coming from abroad 14 days.\n",
      "All persons traveling to Slovakia, which means both Slovak and foreign nationals, obliged to be isolated in state quarantine centres for 14 days (exemptions on state centre isolation for vulnerable persons, including pregnant women and elderly)\n",
      "All persons returning from abroad need to inform a general health practicioner about it\n",
      "All international travellers to Solomon Islands are required to undergo 14 days of self-quarantine.\n",
      "All citizens not working and living in Honiara are encouraged to return or relocate to provinces immediately. All citizens in the provinces are advised to NOT undertake any non-essential travel to Honiara with immediate effect.\n",
      "All cargo ships, including all logging, mineral ore and fishing vessels must serve the 14 days quarantine period at sea and can only be cleared at Noro and Honiara Ports.\n",
      "Those arriving in Somalia, who travelled through affected countries, will be quarantined for and will undergo mandatory two weeks coronavirus screening to stem the spread of the coronavirus.\n",
      "Individuals who travelled from high risk countries since 9th of march will be expected to self quarantine for 14 days.\n",
      "travelers from coronavirus affected countries are required to self-quarantine, including appointed ministers and deputy ministers\n",
      "Transport companies are being distributed masks and guidance on use\n",
      "Government distributes 10 million face masks to be handed out as of Monday around Spain to workers at main transport hubs\n",
      "self-quarantine for citizens and other foreign nationals returning from countries with local transmission (China, South Korea) as of 24 Feb, as of 29 Feb this also applies to those returning from Italy \n",
      "Legal action will be taken against three coronavirus-infected people who were found yesterday evading quarantine and spreading the disease, DIG Rohana said.\n",
      "People who arrived in the country from overseas from March 16 onwards are required to register themselves with the nearest police station before 12 noon on April 1 to continue with their self-quarantine process.\n",
      "All people returning from aborad will now be shifted to government quarantine facilities \n",
      "Regulations on hygiene measures for grocery stores\n",
      "At the end of 14 day quarantine a health check-up conducted to decide on next steps for person\n",
      "Ban on visiting retirement homes\n",
      "plane passengers arriving from Iraq have to quarantine\n",
      "Voluntary isolation \n",
      "returning syrians from high risk areas should go under 14-day self quarantine and are subject to medical examinations.\n",
      "All travellers whether foreigners or returning residents arriving from COVID-19 most affected countries, will be subjected to mandatory isolation for 14 days at their own cost at designated facilities identified by the Government. After 14 days quarantine, passengers who have not developed symptoms of COVID-19 may leave the facilities and will be required to register personal information for future possible tracking purpose.\n",
      "travellers from so-called infected zones (China incl. Hong Kong and Macau, Italy, Iran, South Korea) and passengers who have been to these countries in the past 14 days have to self-quarantine for 14 days\n",
      "Introduction of isolation/quarentine procedures AMONG EXISTING PATIENTS. \n",
      "For Thai-passengers of the Westerdam Cruise (high-risk group): For Thai passengers returning home, they will be followed up for 14 days in accordance with the disease prevention and control standards. If anyone would like to continue to travel, they will be screened. If the results identify a fever, they will not be allowed to get on a plane and will be brought to the tracking system for disease surveillance.\n",
      "the MoPH recommended passengers returning from outbreak areas to implement a self-quarantine for 14 days to ensure the safety of themselves, their family and community.\n",
      "These policies define 3 different groups that should undergo different types of surveillance measures and recommendations. See link for more details. \n",
      "Bringing the travelers to the quarantine facilities and determination of the quarantine areas or places or designated areas is to proceed with the necessary actions in accordance with the guidelines and procedures of the Ministry of Public Health together with the Ministry of Transport and related departments.\n",
      "The Ministry of Public Health (MOPH) is implemented strict quarantine for the Thai workers who returned from South Korea at Sattahip Military Base and the workers’ hometown provinces for 14 days.\n",
      "Those who are not included in the 'at-risk' groups and have no respiratory symptoms are requested to implement self-monitoring at their homes/residence and strictly comply with the Ministry of Public Health recommendations including social distancing in order to allow health officers to conduct laboratory tests in high-risk patients who will be given priority for testing. Importantly, asymptomatic people have a lower chance of confirming infection with SARS-CoV-2 (virus causing COVID-19). This may cause people who have been prematurely diagnosed to misunderstand their infection status and go out for social activities which can lead to further spread and can disrupt the prevention and control surveillance system.\n",
      "Returning travelers from Bangkok and its suburbs self-quarantine and observe fever and respiratory symptoms every day. Those travelers should avoid being close to other people in their residence until the completion of 14 days from the date of arrival in their residence.\n",
      "Passengers will be subject to 14-day quarantine upon arrival\n",
      "local authorities will quarantine all foreigners who enter Chiang Mai province at their residence or in a location provided by the Department of Disease Control.  People who violate the quarantine may be fined 100,000 baht, sentenced to one year in prison, or both. \n",
      "14-day quarantine for anyone entering Togo from unspecified 'risk countries'\n",
      "People from Cina, Iraly, Iran and Daegu and Cheongdo in South Korea, need to spen 14 days of quarantine in a corona-free country\n",
      "Tongan nationals must be quarantined for 14-days upon arrival.\n",
      "quarantine for passengers arriving from risk countries (China, Italy, Iran, Egypt, South Korea, France, Spain, Germany, USA, Japan, Switzerland, Netherlands, UK, Sweden, Norway, Belgium, Denmark, Austria, Singapor, Malysia, Austrialia, Bahrain)\n",
      "Turkish citizens have to quarantine for 14 days if the are returning fom Austria, Azerbaijan, Belgium, China, Denmark, France, Germany, Iran, Iraq, Italy, the Netherlands, Norway, Spain, Sweden and South Korea\n",
      "Any traveller to Tuvalu must spend 14-days of isolation in Fiji, Kiribati, Samoa, Tonga, Vanuatu or Solomon Islands before embarking for the country\n",
      "Asymptomatic travelers and in-hospital isolation requirements for all symptomatic travelers arriving in Uganda after recent stays (within 14 days of arrival) in several countries most seriously impacted\n",
      "Any traveller, Ugandan or otherwise, coming from affected countries (16 listed) will be subject to self-quarantine or institutional quarantine for 14 days at their own cost, regardless of symptoms.\n",
      "nan\n",
      "The law establishes administrative responsibility for unauthorized leaving of the observation location - a fine of 1,000 to 2,000 non-taxable minimum incomes, as well as 2,000 to 10,000 non-taxable minimum incomes for government officials.\n",
      "forced isolation and self-isolation and liability for non-compliance with quarantine rules\n",
      "Introduction of quarantine policiesfor guests in several hotels after detection of a coronavirus infection\n",
      "14 day Quarantine for all enetering \n",
      "persecuted and subject to imprisonment.\n",
      "On 5 and 6 April, Etihad and Emirates respectively will commence a limited number of flights to a restricted number of destinations, operating to repatriate UAE nationals and fly foreign nationals back to their home countries. Etihad is offering flights to Amsterdam (Netherlands), Jakarta (Indonesia), Manila (Philippines), Melbourne (Australia), Seoul (South Korea) and Singapore, while Emirates is flying to Brussels (Belgium), Frankfurt (Germany), London (UK), Paris (France) and Zurich (Switzerland).\n",
      "Any citizen/resident benefiting from repatriation flight will observe a compulsory 14-day home quarantine.\n",
      "People from France, Spain, Italy, Germany, Singappor, South Korea, Iran, China\n",
      "Anybody in contact with infected patient, or with symptoms, should quarantine for 14 days.\n",
      "People travelling from China, Hong Kong, Macau, Taiwan, South Korea, Japan, Singapore, Iran, Italy in a thord country at least 14 days before entering Vanuatu\n",
      "Permanent residents, diplomats  and citizens of Vanuatu can return to the country but are subject to 14 days quarantine upon arrival before they can go back to their families and communities\n",
      "All business houses must have handwashing facilities\n",
      "Mass disinfection of public spaces\n",
      "quarantine may be applied for passengers arriving\n",
      "Mandatory screening and quarantine of international travelers including air travel passengers, truckers, bus operators, and passengers at 2 points of entry, bus stations and other check points from high-risk areas for a minimum period of 14 days shall be issued. \n",
      "Returning  employees  in  the  Public  Service  from  the  affected  countries shall be quarantined for a period of not less than fourteen (14) days;\n",
      "All our returning residents will be subjected to strict screening procedures including rigorous enforcement of the 21-day self-quarantine\n",
      "Zimbabwe reversed a ban on the sale of alcohol from supermarkets, but liquor stores and bars remain shut.\n"
     ]
    }
   ],
   "source": [
    "measure_rows = source_data.loc[\n",
    "    source_data.MEASURE.isin([\n",
    "        'Introduction of isolation and quarantine policies',\n",
    "        'Other public health measures enforced' ]),]\n",
    "\n",
    "for ir, row in measure_rows.iterrows():\n",
    "    print(row['COMMENTS'])\n"
   ]
  },
  {
   "cell_type": "code",
   "execution_count": 51,
   "metadata": {},
   "outputs": [
    {
     "data": {
      "text/markdown": [
       "#### Public health measures"
      ],
      "text/plain": [
       "<IPython.core.display.Markdown object>"
      ]
     },
     "metadata": {},
     "output_type": "display_data"
    },
    {
     "data": {
      "text/markdown": [
       "##### General recommendations"
      ],
      "text/plain": [
       "<IPython.core.display.Markdown object>"
      ]
     },
     "metadata": {},
     "output_type": "display_data"
    },
    {
     "data": {
      "text/markdown": [
       "MoPH asks people not to come to health center for testing because it wastes resources and risks contracting the virus from an actual sick person at the facility. They ask those people who may have been in contact with this virus who have not seen symptoms to self-isolate for 14 days & contact provincial health teams if they have fever, cough, or problems breathing. "
      ],
      "text/plain": [
       "<IPython.core.display.Markdown object>"
      ]
     },
     "metadata": {},
     "output_type": "display_data"
    },
    {
     "data": {
      "text/markdown": [
       "All travellers arriving in Botswana from high risk countries will be isolated for care if they have symptoms of COVID-19, while those without symptoms will be quarantined for 14 days."
      ],
      "text/plain": [
       "<IPython.core.display.Markdown object>"
      ]
     },
     "metadata": {},
     "output_type": "display_data"
    },
    {
     "data": {
      "text/markdown": [
       "If you have light symptoms stay home and self-isolate. "
      ],
      "text/plain": [
       "<IPython.core.display.Markdown object>"
      ]
     },
     "metadata": {},
     "output_type": "display_data"
    },
    {
     "data": {
      "text/markdown": [
       "Government recommendations on self-isolation and individual and collective hygiene"
      ],
      "text/plain": [
       "<IPython.core.display.Markdown object>"
      ]
     },
     "metadata": {},
     "output_type": "display_data"
    },
    {
     "data": {
      "text/markdown": [
       "Social isolation recommendations for mental health from the Government"
      ],
      "text/plain": [
       "<IPython.core.display.Markdown object>"
      ]
     },
     "metadata": {},
     "output_type": "display_data"
    },
    {
     "data": {
      "text/markdown": [
       "Anyone living in a household with somebody who has either a persistent cough or fever must now also isolate themselves for 14 days."
      ],
      "text/plain": [
       "<IPython.core.display.Markdown object>"
      ]
     },
     "metadata": {},
     "output_type": "display_data"
    },
    {
     "data": {
      "text/markdown": [
       "##### Strengthening the public health system"
      ],
      "text/plain": [
       "<IPython.core.display.Markdown object>"
      ]
     },
     "metadata": {},
     "output_type": "display_data"
    },
    {
     "data": {
      "text/markdown": [
       "isolation centers and designated hospitals est."
      ],
      "text/plain": [
       "<IPython.core.display.Markdown object>"
      ]
     },
     "metadata": {},
     "output_type": "display_data"
    },
    {
     "data": {
      "text/markdown": [
       "isolation facility established at Queen Elizabeth Hospital. plans for bolstering laboratory capacity within coming weeks "
      ],
      "text/plain": [
       "<IPython.core.display.Markdown object>"
      ]
     },
     "metadata": {},
     "output_type": "display_data"
    },
    {
     "data": {
      "text/markdown": [
       "creation of new isolation facility "
      ],
      "text/plain": [
       "<IPython.core.display.Markdown object>"
      ]
     },
     "metadata": {},
     "output_type": "display_data"
    },
    {
     "data": {
      "text/markdown": [
       "Health Regions have been advised to identify and prepare isolation areas within health facilities"
      ],
      "text/plain": [
       "<IPython.core.display.Markdown object>"
      ]
     },
     "metadata": {},
     "output_type": "display_data"
    },
    {
     "data": {
      "text/markdown": [
       "over 134 facilities have been idenitified for quarantine, isolation and treatment."
      ],
      "text/plain": [
       "<IPython.core.display.Markdown object>"
      ]
     },
     "metadata": {},
     "output_type": "display_data"
    },
    {
     "data": {
      "text/markdown": [
       "Creation of 7 community Isolation Facilities (CIFs). The Facilities will be activated when divisional and sub-divisional isolation facilities have reached their capacity. COVID-19 positive individuals who are classified “stable” can be transferred to these community facilities for continued\n",
       "monitoring and medical care. The Fijian MoH and Medical Services will provide meals for the patients. There are protocols in place for staff who will provide meals and cleaning services, including physical distancing between patients and staff. No visitors are allowed at these facilities."
      ],
      "text/plain": [
       "<IPython.core.display.Markdown object>"
      ]
     },
     "metadata": {},
     "output_type": "display_data"
    },
    {
     "data": {
      "text/markdown": [
       "Preparation of further isolation sites"
      ],
      "text/plain": [
       "<IPython.core.display.Markdown object>"
      ]
     },
     "metadata": {},
     "output_type": "display_data"
    },
    {
     "data": {
      "text/markdown": [
       "The RMI government announced on February 15, 2020 the construction of a new eight-bed isolation unit to be built and ready within the next 30 days"
      ],
      "text/plain": [
       "<IPython.core.display.Markdown object>"
      ]
     },
     "metadata": {},
     "output_type": "display_data"
    },
    {
     "data": {
      "text/markdown": [
       "Two Covid-19 isolation centres set up in Inhambane province"
      ],
      "text/plain": [
       "<IPython.core.display.Markdown object>"
      ]
     },
     "metadata": {},
     "output_type": "display_data"
    },
    {
     "data": {
      "text/markdown": [
       "Nepal government has arranged 100 isolation beds in several hospitals in Kathmandu and instructed provincial hospitals to make arrangements for isolation wards."
      ],
      "text/plain": [
       "<IPython.core.display.Markdown object>"
      ]
     },
     "metadata": {},
     "output_type": "display_data"
    },
    {
     "data": {
      "text/markdown": [
       "An isolation ward of 8 beds is ready at the Port Moresby General Hospital (PMGH). Nurses and doctors involved in the response have received training and have personal protective equipment (PPE) in stock."
      ],
      "text/plain": [
       "<IPython.core.display.Markdown object>"
      ]
     },
     "metadata": {},
     "output_type": "display_data"
    },
    {
     "data": {
      "text/markdown": [
       "PhilHealth will cover the payments for the quarantine and isolation for people under suspicion or confirmed cases"
      ],
      "text/plain": [
       "<IPython.core.display.Markdown object>"
      ]
     },
     "metadata": {},
     "output_type": "display_data"
    },
    {
     "data": {
      "text/markdown": [
       "CDC Grows SARS-CoV-2, the virus that causes COVID-19, in Cell Culture; Virus isolates will be used for research by the scientific and medical community"
      ],
      "text/plain": [
       "<IPython.core.display.Markdown object>"
      ]
     },
     "metadata": {},
     "output_type": "display_data"
    },
    {
     "data": {
      "text/markdown": [
       "##### Introduction of isolation and quarantine policies"
      ],
      "text/plain": [
       "<IPython.core.display.Markdown object>"
      ]
     },
     "metadata": {},
     "output_type": "display_data"
    },
    {
     "data": {
      "text/markdown": [
       "Self-isolation is mandatory for all persons and leaving the place of isolation is only permitted when going to work, the nearest grocery store, pharmacy or health care facility."
      ],
      "text/plain": [
       "<IPython.core.display.Markdown object>"
      ]
     },
     "metadata": {},
     "output_type": "display_data"
    },
    {
     "data": {
      "text/markdown": [
       "All travellers to Australia are required to self-isolate for 14 days, either at home or in a hotel."
      ],
      "text/plain": [
       "<IPython.core.display.Markdown object>"
      ]
     },
     "metadata": {},
     "output_type": "display_data"
    },
    {
     "data": {
      "text/markdown": [
       "Australians returning home will not be allowed to complete the mandatory 14-day self-isolation period at home, but will instead be taken straight to a state-run quarantine centre in whichever state their international flight arrives. \"Each person will also receive self-isolation care packages of food and other essentials.\""
      ],
      "text/plain": [
       "<IPython.core.display.Markdown object>"
      ]
     },
     "metadata": {},
     "output_type": "display_data"
    },
    {
     "data": {
      "text/markdown": [
       "any non-essential travellers from mainland Tasmania who fly into King or Flinders Island must go into 14 days isolation"
      ],
      "text/plain": [
       "<IPython.core.display.Markdown object>"
      ]
     },
     "metadata": {},
     "output_type": "display_data"
    },
    {
     "data": {
      "text/markdown": [
       "NSW Police say the state's coronavirus isolation rules will last for at least 90 days."
      ],
      "text/plain": [
       "<IPython.core.display.Markdown object>"
      ]
     },
     "metadata": {},
     "output_type": "display_data"
    },
    {
     "data": {
      "text/markdown": [
       "All Bahamian nationals and residents returning to The Bahamas through any point of entry from any of the restricted countries or an area where community infection and spread is present will be quarantined or be placed under self-isolation upon arrival and expected to follow the protocols of the Ministry of Health."
      ],
      "text/plain": [
       "<IPython.core.display.Markdown object>"
      ]
     },
     "metadata": {},
     "output_type": "display_data"
    },
    {
     "data": {
      "text/markdown": [
       " All nationals coming from an area with ongoing transmission who land in Belize and appear with cold or flu-like symptoms will be placed under self-isolation upon arrival and all cost related to that will be the responsibility of the traveler."
      ],
      "text/plain": [
       "<IPython.core.display.Markdown object>"
      ]
     },
     "metadata": {},
     "output_type": "display_data"
    },
    {
     "data": {
      "text/markdown": [
       " All Belizean nationals and residents returning to Belize through any point of entry from any of the restricted countries or an area where community infection and spread is present will be placed under self-isolation upon arrival and expected to follow the protocols of the Ministry of Health."
      ],
      "text/plain": [
       "<IPython.core.display.Markdown object>"
      ]
     },
     "metadata": {},
     "output_type": "display_data"
    },
    {
     "data": {
      "text/markdown": [
       "Returning citizens and foreign citizens with permanent residence must undergo self-quarantine for 14 days. These measures will involve direct medical surveillance as well as mandatory daily reporting.; people in self-isolation that do not comply may be identified and published online with their name and residency"
      ],
      "text/plain": [
       "<IPython.core.display.Markdown object>"
      ]
     },
     "metadata": {},
     "output_type": "display_data"
    },
    {
     "data": {
      "text/markdown": [
       "Following the introduction of the first case of COVID-19 in Brunei, the MoH made a statement regarding national quarentine policies. This includes that anyone who came in contact with a confirmed case is required \"to undergo mandatory isolation and their health status monitored\"."
      ],
      "text/plain": [
       "<IPython.core.display.Markdown object>"
      ]
     },
     "metadata": {},
     "output_type": "display_data"
    },
    {
     "data": {
      "text/markdown": [
       "\"Amendments to the Infectious Disease Act (Chapter 204) and its Regulations i.e. Infectious Diseases (Amendment of Schedule) Notification, 2020 dan Infectious Diseases (Quarantine) (Amendment) Regulations, 2020 have gazetted. Under the Act, anyone who, or suspected to be, a case, carrier or contact of an infectious disease may be required to undergo medical examination or medical treatment either in hospital or any other place as determined by the Director-General Ministry of Health. Failure to comply to this provision is an offence under this Law and the person may be ordered to be transferred to a hospital or another place where he can be detained and, if necessary, isolated until examination or treatment has been undertaken...   As such, the person may be fined to up to $10,000 or imprisoned for a period of not more than 6 months or both (first offence). For a second offence, may be fined to up to $20,000 or imprisoned for a period of not more than one year or both.\""
      ],
      "text/plain": [
       "<IPython.core.display.Markdown object>"
      ]
     },
     "metadata": {},
     "output_type": "display_data"
    },
    {
     "data": {
      "text/markdown": [
       "All visitors are required to do a 14-day self-isolation from the moment they arrive. "
      ],
      "text/plain": [
       "<IPython.core.display.Markdown object>"
      ]
     },
     "metadata": {},
     "output_type": "display_data"
    },
    {
     "data": {
      "text/markdown": [
       "Expanding upon rules regarding mandatory isolation that were set to start 20 March 2020, \"the arrival of visitors and foreign workers are not encouraged at the moment. Any foreign workers arriving in Brunei Darussalam is required to borne all isolation costs, including accommodation, meals and all other related costs.\" Additional costs of mandatory isolation facilities are outlined in this announcement."
      ],
      "text/plain": [
       "<IPython.core.display.Markdown object>"
      ]
     },
     "metadata": {},
     "output_type": "display_data"
    },
    {
     "data": {
      "text/markdown": [
       "Everyone with symptoms in isolation centers at Yaoundé Central Hospital, Laquintinie Hospital in Douala, Garoua Regional Hospital, and Kribi District Hospital "
      ],
      "text/plain": [
       "<IPython.core.display.Markdown object>"
      ]
     },
     "metadata": {},
     "output_type": "display_data"
    },
    {
     "data": {
      "text/markdown": [
       "anyone returning from Wuhan, China placed in isolation"
      ],
      "text/plain": [
       "<IPython.core.display.Markdown object>"
      ]
     },
     "metadata": {},
     "output_type": "display_data"
    },
    {
     "data": {
      "text/markdown": [
       "All travellers to Canada self-isolate for 14 days upon entry, with exceptions for workers who are essential to the movement of goods and people."
      ],
      "text/plain": [
       "<IPython.core.display.Markdown object>"
      ]
     },
     "metadata": {},
     "output_type": "display_data"
    },
    {
     "data": {
      "text/markdown": [
       "All international arrivals in Beijing will be required to be isolated at designated facilities even if they do not have coronavirus symptoms, starting March 16. “The D-zone, in Terminal 3, will provide services such travelers need as well as the required procedures, including health examinations, identification checks and transfers.”"
      ],
      "text/plain": [
       "<IPython.core.display.Markdown object>"
      ]
     },
     "metadata": {},
     "output_type": "display_data"
    },
    {
     "data": {
      "text/markdown": [
       "Until 30th of may, every person aged above 70 should self-isolate. "
      ],
      "text/plain": [
       "<IPython.core.display.Markdown object>"
      ]
     },
     "metadata": {},
     "output_type": "display_data"
    },
    {
     "data": {
      "text/markdown": [
       "All travellers from affected countries, whether showing symptoms or not, must self isolate for 14 days upon arrival"
      ],
      "text/plain": [
       "<IPython.core.display.Markdown object>"
      ]
     },
     "metadata": {},
     "output_type": "display_data"
    },
    {
     "data": {
      "text/markdown": [
       "ravel ban extended to people from the United States and Europe, including the UK. All travellers are required to self-isolate for 14 days upon arrival."
      ],
      "text/plain": [
       "<IPython.core.display.Markdown object>"
      ]
     },
     "metadata": {},
     "output_type": "display_data"
    },
    {
     "data": {
      "text/markdown": [
       "All travellers from hotspot countries will be isolated for fourteen (14) days upon arrival in The Gambia. "
      ],
      "text/plain": [
       "<IPython.core.display.Markdown object>"
      ]
     },
     "metadata": {},
     "output_type": "display_data"
    },
    {
     "data": {
      "text/markdown": [
       "imposing fines and/or detention for violations of self-isolation and quarantine, and other provisions. "
      ],
      "text/plain": [
       "<IPython.core.display.Markdown object>"
      ]
     },
     "metadata": {},
     "output_type": "display_data"
    },
    {
     "data": {
      "text/markdown": [
       "From above places self isolation for 14 days"
      ],
      "text/plain": [
       "<IPython.core.display.Markdown object>"
      ]
     },
     "metadata": {},
     "output_type": "display_data"
    },
    {
     "data": {
      "text/markdown": [
       "Individuals with symptoms consistent with COVID-19, who within the last 14 days have been in contact with a confirmed case of COVID-19, or traveled to a country with confirmed cases, may be isolated in a medical center for monitoring by the Ministry of Health for up to 14 days."
      ],
      "text/plain": [
       "<IPython.core.display.Markdown object>"
      ]
     },
     "metadata": {},
     "output_type": "display_data"
    },
    {
     "data": {
      "text/markdown": [
       " People who return to Israel from anywhere in the world must be placed under home isolation for 14 days counting from their date of return. If you had returned to Israel in the last 14 days from anywhere in the world, or if you are under home isolation and have fever 38C (100.4F) or higher, cough, trouble breathing, or other respiratory symptom, immediately enter home isolation, immediately call the 101 MDA Emergency Services Hotline for medical advice, and do not go to an HMO clinic or emergency ward. You must complete 14 day period, even if you were tested negative for COVID-19.\n",
       "\n",
       "This requirement replaces the home isolation required of travelers from Austria, Italy, Andorra, Germany, Hong Kong, Japan, Egypt, Macau, mainland China, Singapore, San Marino, Spain, France, South Korea, Switzerland or Thailand that was effective until March 9 2020."
      ],
      "text/plain": [
       "<IPython.core.display.Markdown object>"
      ]
     },
     "metadata": {},
     "output_type": "display_data"
    },
    {
     "data": {
      "text/markdown": [
       "All people coming from China or other risk areas have to give notice to the officials and a 14 days fiduciary self-isolation applies"
      ],
      "text/plain": [
       "<IPython.core.display.Markdown object>"
      ]
     },
     "metadata": {},
     "output_type": "display_data"
    },
    {
     "data": {
      "text/markdown": [
       "All travelers from countries w/ transmission of the COVID-19 are required to self-quarantine for 14 days. Those with symptoms are placed in govt. isolation/quarantine facilities"
      ],
      "text/plain": [
       "<IPython.core.display.Markdown object>"
      ]
     },
     "metadata": {},
     "output_type": "display_data"
    },
    {
     "data": {
      "text/markdown": [
       "If passengers on the Diamond Princess ship test negative for COVID-19 and wish to disembark, they are required to disembark and wait in isolation for incubation period. (Ship completely disembarked on March 1, as confirmed here: < https://www.mhlw.go.jp/stf/newpage_09889.html >)"
      ],
      "text/plain": [
       "<IPython.core.display.Markdown object>"
      ]
     },
     "metadata": {},
     "output_type": "display_data"
    },
    {
     "data": {
      "text/markdown": [
       "Anyone who has boarded an airplane or ships arriving from China or Republic of Korea at or after 0:00 on March 9 (JST) and not be isolated or stopped is required to stay 14days at a location designated by the quarantine station chief and not to use public transportation in Japan."
      ],
      "text/plain": [
       "<IPython.core.display.Markdown object>"
      ]
     },
     "metadata": {},
     "output_type": "display_data"
    },
    {
     "data": {
      "text/markdown": [
       "Anyone who has boarded an airplane or ships from European countries, or Egypt at or after 0:00 on March 21 (JST) and not be isolated or stopped is required to stay 14days at a location designated by the quarantine station chief and not to use public transportation in Japan. "
      ],
      "text/plain": [
       "<IPython.core.display.Markdown object>"
      ]
     },
     "metadata": {},
     "output_type": "display_data"
    },
    {
     "data": {
      "text/markdown": [
       "Anyone who has boarded an airplane or ships from United States of America at or after 0:00 on March 26 (JST) and not be isolated or stopped is required to stay 14days at a location designated by the quarantine station chief and not to use public transportation in Japan."
      ],
      "text/plain": [
       "<IPython.core.display.Markdown object>"
      ]
     },
     "metadata": {},
     "output_type": "display_data"
    },
    {
     "data": {
      "text/markdown": [
       "Anyone who has boarded an airplane or ships from Indonesia, Singapore, Thailand, Philippines, Brunei Darussalam, Viet Nam, Malaysia, Israel, Qatar, Democratic Republic of the Congo or Bahrain at or after 0:00 on March 28 (JST) and not be isolated or stopped is required to stay 14days at a location designated by the quarantine station chief and not to use public transportation in Japan. "
      ],
      "text/plain": [
       "<IPython.core.display.Markdown object>"
      ]
     },
     "metadata": {},
     "output_type": "display_data"
    },
    {
     "data": {
      "text/markdown": [
       "People transited in category 2 and 3 countries need to isolate for 14 days"
      ],
      "text/plain": [
       "<IPython.core.display.Markdown object>"
      ]
     },
     "metadata": {},
     "output_type": "display_data"
    },
    {
     "data": {
      "text/markdown": [
       "travellers with symptoms have to self-isolate for 14 days"
      ],
      "text/plain": [
       "<IPython.core.display.Markdown object>"
      ]
     },
     "metadata": {},
     "output_type": "display_data"
    },
    {
     "data": {
      "text/markdown": [
       "If history of travel in the previous 14 days in China and other risk countries and with symptoms, home isolation for 14 days. Plus daily chekups"
      ],
      "text/plain": [
       "<IPython.core.display.Markdown object>"
      ]
     },
     "metadata": {},
     "output_type": "display_data"
    },
    {
     "data": {
      "text/markdown": [
       "travelers with minor symptoms from countries with more than 500 cases of COVID-19 have to self-isolate for 14 days; travelers with major symptoms from severly affected countries have to remain at an isolation site for testing an quarantine"
      ],
      "text/plain": [
       "<IPython.core.display.Markdown object>"
      ]
     },
     "metadata": {},
     "output_type": "display_data"
    },
    {
     "data": {
      "text/markdown": [
       "compulsory 14 day self-isolation period for all those coming from abroad"
      ],
      "text/plain": [
       "<IPython.core.display.Markdown object>"
      ]
     },
     "metadata": {},
     "output_type": "display_data"
    },
    {
     "data": {
      "text/markdown": [
       "fined and/or arrested, and sentenced to up to a year in prison. army ensures quarantine and self-isolation measures are respected."
      ],
      "text/plain": [
       "<IPython.core.display.Markdown object>"
      ]
     },
     "metadata": {},
     "output_type": "display_data"
    },
    {
     "data": {
      "text/markdown": [
       "All returning residents and citizens must isolate themselves for 14 days upon arrival inc NZ citizens from Tokelau, Cook Islands and Niue travelling to New Zealand"
      ],
      "text/plain": [
       "<IPython.core.display.Markdown object>"
      ]
     },
     "metadata": {},
     "output_type": "display_data"
    },
    {
     "data": {
      "text/markdown": [
       "everyone arriving into NZ would be screened, and those without self-isolation plans taken to approved facilities around the country. The MoH said campervans set up and on stand by at the ASB showgrounds in Greenlane were part of our precautionary approach to ensuring travellers returning to New Zealand could isolate. Campervans and hotels will be used in Auckland, Wellington and Christchurch as accommodation for people potentially returning to New Zealand from overseas during the Alert Level 4."
      ],
      "text/plain": [
       "<IPython.core.display.Markdown object>"
      ]
     },
     "metadata": {},
     "output_type": "display_data"
    },
    {
     "data": {
      "text/markdown": [
       "Managed isolation of new arrivals to New Zealand. All travellers entering NZ from 10 April 2020 are required to either go into 14 days of “managed isolation” in a government-provided facility (hotel), or if symptomatic to go intoIt is no longer possible to self-isolate at home, or to take a regional flight before the 14 day period is completed. a quarantine facility (separate hotel).  "
      ],
      "text/plain": [
       "<IPython.core.display.Markdown object>"
      ]
     },
     "metadata": {},
     "output_type": "display_data"
    },
    {
     "data": {
      "text/markdown": [
       "Visitors and Nigerien nationals arriving from countries affected by the COVID-19 pandemic must self-isolate for 14 day"
      ],
      "text/plain": [
       "<IPython.core.display.Markdown object>"
      ]
     },
     "metadata": {},
     "output_type": "display_data"
    },
    {
     "data": {
      "text/markdown": [
       "All travelers returning from these countries prior to the restriction will be supervised in self-isolation"
      ],
      "text/plain": [
       "<IPython.core.display.Markdown object>"
      ]
     },
     "metadata": {},
     "output_type": "display_data"
    },
    {
     "data": {
      "text/markdown": [
       "citizens entering from high or medium risk countries are ordered to self-isolate for 14 days"
      ],
      "text/plain": [
       "<IPython.core.display.Markdown object>"
      ]
     },
     "metadata": {},
     "output_type": "display_data"
    },
    {
     "data": {
      "text/markdown": [
       "People with close contact to a confirmed case need to self-quarantine; also rules around self-isolation were updated"
      ],
      "text/plain": [
       "<IPython.core.display.Markdown object>"
      ]
     },
     "metadata": {},
     "output_type": "display_data"
    },
    {
     "data": {
      "text/markdown": [
       "People who have tested positive for COVID-19 and do not need to be admitted to hospital, will stay in specialised shelters. This includes the those who would like to do so voluntarily; those in vulnerable situations whose accommodation is not suitable for self-isolation; those who have broken self-isolation; and those who have come from abroad and tested positive during their quarantine period."
      ],
      "text/plain": [
       "<IPython.core.display.Markdown object>"
      ]
     },
     "metadata": {},
     "output_type": "display_data"
    },
    {
     "data": {
      "text/markdown": [
       "Quarantine for those asymptomatic individuals arriving in Romania through land or air points of entry and originating from or transiting within the previous 14 days any country with at least 500 confirmed cases of COVID-19, must self-isolate at home for 14 days."
      ],
      "text/plain": [
       "<IPython.core.display.Markdown object>"
      ]
     },
     "metadata": {},
     "output_type": "display_data"
    },
    {
     "data": {
      "text/markdown": [
       "Visitors should self-isolate for 14 days if they are arriving from China, South Korea, Italy, Iran, France, Germany, and Spain. "
      ],
      "text/plain": [
       "<IPython.core.display.Markdown object>"
      ]
     },
     "metadata": {},
     "output_type": "display_data"
    },
    {
     "data": {
      "text/markdown": [
       "Moscow: From 30 March, all people (regardless of age) in the capital Moscow and the rest of the Moscow Oblast should self-isolate at home until further notice. All non-essential movement in the city will be banned although entering and exiting Moscow will still be possible, and walking pets at a distance may not exceed 100 meters from one’s residence"
      ],
      "text/plain": [
       "<IPython.core.display.Markdown object>"
      ]
     },
     "metadata": {},
     "output_type": "display_data"
    },
    {
     "data": {
      "text/markdown": [
       "Sobyanin signed a law imposing fines on Muscovites found to be violating the city's self-isolation orders. Individuals will be fined up to 4,000 rubles ($50) for first-time offenses and up to 5,000 rubles ($63) for repeat offenses. Businesses will be fined up to 40,000 rubles ($500) for violating the order. Legal entities will be fined up to 300,000 rubles ($3,800) for first-time offenses and up to 500,000 rubles ($6,300) for repeat offenses."
      ],
      "text/plain": [
       "<IPython.core.display.Markdown object>"
      ]
     },
     "metadata": {},
     "output_type": "display_data"
    },
    {
     "data": {
      "text/markdown": [
       "All travelers presenting one of the COVID-19 symptoms and coming from endemic countries will be taken for isolation at nearest hospital. "
      ],
      "text/plain": [
       "<IPython.core.display.Markdown object>"
      ]
     },
     "metadata": {},
     "output_type": "display_data"
    },
    {
     "data": {
      "text/markdown": [
       "Mandatory 14-day quarantine, including self-isolation for travelers who arrived within the past 14 days. "
      ],
      "text/plain": [
       "<IPython.core.display.Markdown object>"
      ]
     },
     "metadata": {},
     "output_type": "display_data"
    },
    {
     "data": {
      "text/markdown": [
       "as of 15 March, also Serbian citizens entering have to undergo self-isolation for 14 days"
      ],
      "text/plain": [
       "<IPython.core.display.Markdown object>"
      ]
     },
     "metadata": {},
     "output_type": "display_data"
    },
    {
     "data": {
      "text/markdown": [
       "All persons traveling to Slovakia, which means both Slovak and foreign nationals, obliged to be isolated in state quarantine centres for 14 days (exemptions on state centre isolation for vulnerable persons, including pregnant women and elderly)"
      ],
      "text/plain": [
       "<IPython.core.display.Markdown object>"
      ]
     },
     "metadata": {},
     "output_type": "display_data"
    },
    {
     "data": {
      "text/markdown": [
       "Voluntary isolation "
      ],
      "text/plain": [
       "<IPython.core.display.Markdown object>"
      ]
     },
     "metadata": {},
     "output_type": "display_data"
    },
    {
     "data": {
      "text/markdown": [
       "All travellers whether foreigners or returning residents arriving from COVID-19 most affected countries, will be subjected to mandatory isolation for 14 days at their own cost at designated facilities identified by the Government. After 14 days quarantine, passengers who have not developed symptoms of COVID-19 may leave the facilities and will be required to register personal information for future possible tracking purpose."
      ],
      "text/plain": [
       "<IPython.core.display.Markdown object>"
      ]
     },
     "metadata": {},
     "output_type": "display_data"
    },
    {
     "data": {
      "text/markdown": [
       "Introduction of isolation/quarentine procedures AMONG EXISTING PATIENTS. "
      ],
      "text/plain": [
       "<IPython.core.display.Markdown object>"
      ]
     },
     "metadata": {},
     "output_type": "display_data"
    },
    {
     "data": {
      "text/markdown": [
       "Any traveller to Tuvalu must spend 14-days of isolation in Fiji, Kiribati, Samoa, Tonga, Vanuatu or Solomon Islands before embarking for the country"
      ],
      "text/plain": [
       "<IPython.core.display.Markdown object>"
      ]
     },
     "metadata": {},
     "output_type": "display_data"
    },
    {
     "data": {
      "text/markdown": [
       "Asymptomatic travelers and in-hospital isolation requirements for all symptomatic travelers arriving in Uganda after recent stays (within 14 days of arrival) in several countries most seriously impacted"
      ],
      "text/plain": [
       "<IPython.core.display.Markdown object>"
      ]
     },
     "metadata": {},
     "output_type": "display_data"
    },
    {
     "data": {
      "text/markdown": [
       "forced isolation and self-isolation and liability for non-compliance with quarantine rules"
      ],
      "text/plain": [
       "<IPython.core.display.Markdown object>"
      ]
     },
     "metadata": {},
     "output_type": "display_data"
    },
    {
     "data": {
      "text/markdown": [
       "##### Psychological assistance and medical social work"
      ],
      "text/plain": [
       "<IPython.core.display.Markdown object>"
      ]
     },
     "metadata": {},
     "output_type": "display_data"
    },
    {
     "data": {
      "text/markdown": [
       "For patients and practitioners who are self-isolating or at high risk of COVID-19, Telehealth services are being offered. ‘Telehealth’ lets practitioners offer their services via different technologies such as Skype, phone calls, Zoom video conferencing and more."
      ],
      "text/plain": [
       "<IPython.core.display.Markdown object>"
      ]
     },
     "metadata": {},
     "output_type": "display_data"
    },
    {
     "data": {
      "text/markdown": [
       "##### Health screenings in airports and border crossings"
      ],
      "text/plain": [
       "<IPython.core.display.Markdown object>"
      ]
     },
     "metadata": {},
     "output_type": "display_data"
    },
    {
     "data": {
      "text/markdown": [
       "All passengers arriving in Brunei Darussalam through the Brunei International Airport  are required to do a 14-day isolation AT APPOINTED MONITORING CENTERS. The difference between this government measure and the previous one is that there are now government-mandated locations where self-isolation must occur. In the 20 March Statement by Brunei Darussalam Ministry of Health, more announcements were made regarding the price for citizens and non-citizens, etc."
      ],
      "text/plain": [
       "<IPython.core.display.Markdown object>"
      ]
     },
     "metadata": {},
     "output_type": "display_data"
    },
    {
     "data": {
      "text/markdown": [
       "Residents/Citizens returning from high risk countries will be subjected to intensive screening and are required to self isolate for a mandatory 14 days."
      ],
      "text/plain": [
       "<IPython.core.display.Markdown object>"
      ]
     },
     "metadata": {},
     "output_type": "display_data"
    },
    {
     "data": {
      "text/markdown": [
       "before disembarking, every passenger is required to complete a declaration form on his/her health status. You are also required to check in daily with the Ministry of Health, regardless of your point of origin. Additionally, you will be quarantined or isolated, if you become symptomatic during your stay."
      ],
      "text/plain": [
       "<IPython.core.display.Markdown object>"
      ]
     },
     "metadata": {},
     "output_type": "display_data"
    },
    {
     "data": {
      "text/markdown": [
       "National Ambulance Service (OMSZ) are checking travelers entering Hungary for coronavirus at six major border crossings across the country. Their temperature is being taken and those with a fever will be isolated"
      ],
      "text/plain": [
       "<IPython.core.display.Markdown object>"
      ]
     },
     "metadata": {},
     "output_type": "display_data"
    },
    {
     "data": {
      "text/markdown": [
       "All travelers entering the island with recent travel to China, France, Germany, Iran, Italy, Singapore, South Korea, Spain, and the United Kingdom may be denied entry or will be subject to immediate quarantine or isolation if symptomatic."
      ],
      "text/plain": [
       "<IPython.core.display.Markdown object>"
      ]
     },
     "metadata": {},
     "output_type": "display_data"
    },
    {
     "data": {
      "text/markdown": [
       "##### Testing policy"
      ],
      "text/plain": [
       "<IPython.core.display.Markdown object>"
      ]
     },
     "metadata": {},
     "output_type": "display_data"
    },
    {
     "data": {
      "text/markdown": [
       "5-shield system: checkpoints, medical observation and isolation at designated venues, community screening, fever clinics and treatment at hospitals,"
      ],
      "text/plain": [
       "<IPython.core.display.Markdown object>"
      ]
     },
     "metadata": {},
     "output_type": "display_data"
    },
    {
     "data": {
      "text/markdown": [
       "specimen will be taken from patient under the criteria for the COVID-19 patient under observation for laboratory test and the patient will be treated in an isolation room. The Specimen will be sent to the National Institute for Health Research and Development (Balitbangkes). The first test result will be completed within 24 hours after the specimen is received."
      ],
      "text/plain": [
       "<IPython.core.display.Markdown object>"
      ]
     },
     "metadata": {},
     "output_type": "display_data"
    },
    {
     "data": {
      "text/markdown": [
       "Updating of testing policy; those with symptoms and no other diagnosis, symptom and close contact with confirmed case, symptoms and hospitalisation, patient in home isolation with sustained high fever or age >65"
      ],
      "text/plain": [
       "<IPython.core.display.Markdown object>"
      ]
     },
     "metadata": {},
     "output_type": "display_data"
    },
    {
     "data": {
      "text/markdown": [
       "#### Social distancing"
      ],
      "text/plain": [
       "<IPython.core.display.Markdown object>"
      ]
     },
     "metadata": {},
     "output_type": "display_data"
    },
    {
     "data": {
      "text/markdown": [
       "##### Changes in prison-related policies"
      ],
      "text/plain": [
       "<IPython.core.display.Markdown object>"
      ]
     },
     "metadata": {},
     "output_type": "display_data"
    },
    {
     "data": {
      "text/markdown": [
       "Cacanda prison creates isolation rooms. the institution has already restricted all visits and meals from the inmates' relatives as preventive measures "
      ],
      "text/plain": [
       "<IPython.core.display.Markdown object>"
      ]
     },
     "metadata": {},
     "output_type": "display_data"
    },
    {
     "data": {
      "text/markdown": [
       "##### Public services closure"
      ],
      "text/plain": [
       "<IPython.core.display.Markdown object>"
      ]
     },
     "metadata": {},
     "output_type": "display_data"
    },
    {
     "data": {
      "text/markdown": [
       "Measures have been imposed until 12 April, including the banning of public events and closure of non-essential private businesses. Exceptions include restaurants operating on a delivery-only basis and stores selling food, medicines and essential items; foreigners who originate from ‘at-risk’ countries are required to register with authorities and self-isolate."
      ],
      "text/plain": [
       "<IPython.core.display.Markdown object>"
      ]
     },
     "metadata": {},
     "output_type": "display_data"
    },
    {
     "data": {
      "text/markdown": [
       "##### Limit public gatherings"
      ],
      "text/plain": [
       "<IPython.core.display.Markdown object>"
      ]
     },
     "metadata": {},
     "output_type": "display_data"
    },
    {
     "data": {
      "text/markdown": [
       "All persons shall be required to isolate at home unless for the purpose of purchasing or supplying essential consumer goods, obtaining medical supplies or seeking medical assistance, access to banking and financial services."
      ],
      "text/plain": [
       "<IPython.core.display.Markdown object>"
      ]
     },
     "metadata": {},
     "output_type": "display_data"
    },
    {
     "data": {
      "text/markdown": [
       "#### Movement restrictions"
      ],
      "text/plain": [
       "<IPython.core.display.Markdown object>"
      ]
     },
     "metadata": {},
     "output_type": "display_data"
    },
    {
     "data": {
      "text/markdown": [
       "##### Border closure"
      ],
      "text/plain": [
       "<IPython.core.display.Markdown object>"
      ]
     },
     "metadata": {},
     "output_type": "display_data"
    },
    {
     "data": {
      "text/markdown": [
       "From 9pm AEDT 20 March 2020, our borders are closed except for Australian citizens, residents and immediate family members. Arrivals must self isolate for 14 days"
      ],
      "text/plain": [
       "<IPython.core.display.Markdown object>"
      ]
     },
     "metadata": {},
     "output_type": "display_data"
    },
    {
     "data": {
      "text/markdown": [
       "##### Domestic travel restrictions"
      ],
      "text/plain": [
       "<IPython.core.display.Markdown object>"
      ]
     },
     "metadata": {},
     "output_type": "display_data"
    },
    {
     "data": {
      "text/markdown": [
       "South Australia and Western Australia will effectively close their borders on March 24 at 4pm anyone entering the state would be subject to a mandatory 14-day isolation period. Essential services, including the supply of food would not be affected. Tasmania and the Northern Territory already have such restrictions in place."
      ],
      "text/plain": [
       "<IPython.core.display.Markdown object>"
      ]
     },
     "metadata": {},
     "output_type": "display_data"
    },
    {
     "data": {
      "text/markdown": [
       "Anyone entering Queensland from the air or by road will be forced to isolate themselves for 14 days from Wednesday night 25 March "
      ],
      "text/plain": [
       "<IPython.core.display.Markdown object>"
      ]
     },
     "metadata": {},
     "output_type": "display_data"
    },
    {
     "data": {
      "text/markdown": [
       "the MOPH requested to identify people and patients living in the Bangkok Metropolitan Region and surrounding areas who visited risk areas i.e. boxing stadiums and entertainment spots (staff, officers, visitors and the audience) to refrain from traveling back to their hometowns and self-isolate."
      ],
      "text/plain": [
       "<IPython.core.display.Markdown object>"
      ]
     },
     "metadata": {},
     "output_type": "display_data"
    },
    {
     "data": {
      "text/markdown": [
       "##### Surveillance and monitoring"
      ],
      "text/plain": [
       "<IPython.core.display.Markdown object>"
      ]
     },
     "metadata": {},
     "output_type": "display_data"
    },
    {
     "data": {
      "text/markdown": [
       "ADF personnel will bolster local police efforts in visiting the homes and residences of Australians who are in mandatory isolation as directed by state and territory governments and will report to the local police whether the identified individual was at the residence."
      ],
      "text/plain": [
       "<IPython.core.display.Markdown object>"
      ]
     },
     "metadata": {},
     "output_type": "display_data"
    },
    {
     "data": {
      "text/markdown": [
       "Persons in self-isolation will be electronically monitored"
      ],
      "text/plain": [
       "<IPython.core.display.Markdown object>"
      ]
     },
     "metadata": {},
     "output_type": "display_data"
    },
    {
     "data": {
      "text/markdown": [
       "The Danish agency for patient safety has been given the right to test any person suspected of COVID-19; to demand them to go to a hospital or to isolate  them in a suitable facility; if necessary these can be implemented through police support"
      ],
      "text/plain": [
       "<IPython.core.display.Markdown object>"
      ]
     },
     "metadata": {},
     "output_type": "display_data"
    },
    {
     "data": {
      "text/markdown": [
       "Guatemala Ministry of Health has the authority to move any individuals, including foreigners, into quarantine or isolation if deemed medically necessary."
      ],
      "text/plain": [
       "<IPython.core.display.Markdown object>"
      ]
     },
     "metadata": {},
     "output_type": "display_data"
    },
    {
     "data": {
      "text/markdown": [
       "Police may receive access to a register of persons with COVID-19 to ensure strict self-isolation through health ministery"
      ],
      "text/plain": [
       "<IPython.core.display.Markdown object>"
      ]
     },
     "metadata": {},
     "output_type": "display_data"
    },
    {
     "data": {
      "text/markdown": [
       "App launched to monitor self-isolation and check symptoms + give advice"
      ],
      "text/plain": [
       "<IPython.core.display.Markdown object>"
      ]
     },
     "metadata": {},
     "output_type": "display_data"
    },
    {
     "data": {
      "text/markdown": [
       "Enforcement of self-isolation orders for people recently returned from aboard and their family members."
      ],
      "text/plain": [
       "<IPython.core.display.Markdown object>"
      ]
     },
     "metadata": {},
     "output_type": "display_data"
    },
    {
     "data": {
      "text/markdown": [
       "Monitoring / surveillance in travelers from Disease Infected Zones. Government officials have the power to take legal action immediately such as bringing suspected cases to be examined, isolated or quarantined at the designated locations. The officers can take action against those refusing to notify or not notifying within the time specified by law when finding suspected cases or suspected events."
      ],
      "text/plain": [
       "<IPython.core.display.Markdown object>"
      ]
     },
     "metadata": {},
     "output_type": "display_data"
    },
    {
     "data": {
      "text/markdown": [
       "##### Checkpoints within the country"
      ],
      "text/plain": [
       "<IPython.core.display.Markdown object>"
      ]
     },
     "metadata": {},
     "output_type": "display_data"
    },
    {
     "data": {
      "text/markdown": [
       "Authorities ban all entry into Greater Abidjan to isolate the economic capital.  Includes the District of Abidjan, Dabou, Azaguie, Bingerville, Grand-Bassam, Bonoua, Assinie and up to PK30 on the Abidjan-Yamoussoukro motorway. The decree provides an exemption for people transporting food supplies, medical and pharmaceutical products, medical evacuations, gas and fuel deliveries, as well as water, electricity, telephony and emergency services."
      ],
      "text/plain": [
       "<IPython.core.display.Markdown object>"
      ]
     },
     "metadata": {},
     "output_type": "display_data"
    },
    {
     "data": {
      "text/markdown": [
       "Checkpoints are used to monitor the movement of people. The checkpoints are at Khartoum Airport, Port Sudan Airport, and Port Sudan Port. In addition to four checkpoints in the Northern State and two isolation centers in Khartoum."
      ],
      "text/plain": [
       "<IPython.core.display.Markdown object>"
      ]
     },
     "metadata": {},
     "output_type": "display_data"
    },
    {
     "data": {
      "text/markdown": [
       "##### Visa restrictions"
      ],
      "text/plain": [
       "<IPython.core.display.Markdown object>"
      ]
     },
     "metadata": {},
     "output_type": "display_data"
    },
    {
     "data": {
      "text/markdown": [
       "Non-Sarawakian from Peninsular Malaysia, Sabah or foreign citizens are not allowed to enter Sarawak from 18 - 31 March 2020, unless they are employed in the essential services sector - they can enter but are subject to the 14 days self isolation rule"
      ],
      "text/plain": [
       "<IPython.core.display.Markdown object>"
      ]
     },
     "metadata": {},
     "output_type": "display_data"
    },
    {
     "data": {
      "text/markdown": [
       "##### Curfews"
      ],
      "text/plain": [
       "<IPython.core.display.Markdown object>"
      ]
     },
     "metadata": {},
     "output_type": "display_data"
    },
    {
     "data": {
      "text/markdown": [
       "On March 24, Panama's President announced that the public will need to quarantine and self-isolate themselves starting from 05:01 (local time) on Wednesday, March 25, to limit the spread of the coronavirus (COVID-19). Authorities did not specify how long the curfew measures will remain in place. Decree 504 established that people who break health regulations and quarantines could be fined​ between $50,000 to $100,000."
      ],
      "text/plain": [
       "<IPython.core.display.Markdown object>"
      ]
     },
     "metadata": {},
     "output_type": "display_data"
    },
    {
     "data": {
      "text/markdown": [
       "No ad-hoc decisions at regional level regarding curfew and isolating areas, President Instructs"
      ],
      "text/plain": [
       "<IPython.core.display.Markdown object>"
      ]
     },
     "metadata": {},
     "output_type": "display_data"
    },
    {
     "data": {
      "text/markdown": [
       "##### International flights suspension"
      ],
      "text/plain": [
       "<IPython.core.display.Markdown object>"
      ]
     },
     "metadata": {},
     "output_type": "display_data"
    },
    {
     "data": {
      "text/markdown": [
       "TC Harold response COVID-19 guidelines established: intl border restrictions remain.“People from countries with local transmission of COVID-19 are not allowed to enter the country. If they still want to come, they will have to go through isolation before entry,” he said.“ People from countries with no COVID-19 cases are allowed but only if a request is made through NDMO. The govt will only accept cargo or relief that is requested and facilitated by NDMO but not unsolicited donations. People and agencies with presence in the country to support the government respond to the COVID-19 crisis and other disasters like the category 5 cyclone that is battering the country."
      ],
      "text/plain": [
       "<IPython.core.display.Markdown object>"
      ]
     },
     "metadata": {},
     "output_type": "display_data"
    },
    {
     "data": {
      "text/markdown": [
       "#### Governance and socio-economic measures"
      ],
      "text/plain": [
       "<IPython.core.display.Markdown object>"
      ]
     },
     "metadata": {},
     "output_type": "display_data"
    },
    {
     "data": {
      "text/markdown": [
       "##### Emergency administrative structures activated or established"
      ],
      "text/plain": [
       "<IPython.core.display.Markdown object>"
      ]
     },
     "metadata": {},
     "output_type": "display_data"
    },
    {
     "data": {
      "text/markdown": [
       "Aust Defense Force (ADF) assistance will be provided under the Defence Assistance to the Civil Community arrangements. These new requirements will build on the existing support the Australian Defence Force is providing to the COVID-19 response, including:Assistance to the states and territories to support contact tracing efforts.Supporting industry with the production of surgical masks.Provision of planning and logistics support to Commonwealth, state and territory agencies.Provision of personnel to other agencies, including Services Australia.Supporting the NT Police with border control operations.Assisting states and territories to support the production of food hampers to supply to isolated civilians."
      ],
      "text/plain": [
       "<IPython.core.display.Markdown object>"
      ]
     },
     "metadata": {},
     "output_type": "display_data"
    },
    {
     "data": {
      "text/markdown": [
       "The Emergency Powers (COVID-19) Regulations, 2020 will put in place the legal powers for the Government to respond quickly and decisively to the COVID-19 crisis. Empowers the state in areas of health, social distancing, self-isolation, curfews, requisition of property and essential services, and procurement of goods and services.The emergency regulations also address the dissemination of false news. A provision exists in the regulations by which the Governor General may authorize international or regional military or police forces as may be requested by the Government to serve as peace officers and assist in: the storage, safe keeping or distribution of relief supplies; the provision of any essential services, and;the maintenance of public order. "
      ],
      "text/plain": [
       "<IPython.core.display.Markdown object>"
      ]
     },
     "metadata": {},
     "output_type": "display_data"
    },
    {
     "data": {
      "text/markdown": [
       "The Hospital Authority today announced that it will set up COVID-19 triage and test centres in some of its accident and emergency (A&E) departments in hospitals from this week to alleviate pressure on public hospitals’ in-patient isolation facilities."
      ],
      "text/plain": [
       "<IPython.core.display.Markdown object>"
      ]
     },
     "metadata": {},
     "output_type": "display_data"
    },
    {
     "data": {
      "text/markdown": [
       "Temporary shelters that meet the necessary hygiene standards will be identified for homeless people. Sites are also being identified for quarantine and self-isolation for people who cannot self-isolate at home."
      ],
      "text/plain": [
       "<IPython.core.display.Markdown object>"
      ]
     },
     "metadata": {},
     "output_type": "display_data"
    },
    {
     "data": {
      "text/markdown": [
       "Taliai Army Camp near Fua’amotu airport had been readied as an isolation centre for people who cannot be isolated at home"
      ],
      "text/plain": [
       "<IPython.core.display.Markdown object>"
      ]
     },
     "metadata": {},
     "output_type": "display_data"
    },
    {
     "data": {
      "text/markdown": [
       "##### Economic measures"
      ],
      "text/plain": [
       "<IPython.core.display.Markdown object>"
      ]
     },
     "metadata": {},
     "output_type": "display_data"
    },
    {
     "data": {
      "text/markdown": [
       " Ministry of Finance undertook to model assumptions on the likely impact of the Coronavirus over the next four-month period to mid-July 2020. Ran three scenarios – low, medium and high impact – based on assumptions of varying degrees of losses for tourist arrivals over a four-month period.Government has adopted a package of policy measures to deal with the tremendous economic impact of COVID-19 that is already starting to be felt as hotel occupancies have fallen, as cruise ship arrivals are on a 30-day hiatus, and as hotel workers are being asked to take unpaid or vacation leave. (Government Package of Policy Measures to Deal with Economic Impact of COVID-19).  $5 million government has already earmarked for healthcare response, and allocating up to an additional $11 million to cover detection, isolation, treatment and other COVID-19 mitigation activities. Government is allocating $10 million to provide for a temporary unemployment benefit, administered through the National Insurance Board, for self-employed persons working in the tourism industry. Government is making a special accommodation for those self-employed individuals in the tourism industry, given the unprecedented COVID-19 impact and will offer a sponsored unemployment assistance of $200 per week, for up to eight weeks. Individuals who are temporarily laid off because of the economic impacts of COVID-19 will be eligible for unemployment benefits, up to the regular 13-week period, if necessary"
      ],
      "text/plain": [
       "<IPython.core.display.Markdown object>"
      ]
     },
     "metadata": {},
     "output_type": "display_data"
    },
    {
     "data": {
      "text/markdown": [
       "NZ$12.1 billion package announced to support New Zealanders from the impact of COVID-19 comprising a wage subsidy scheme, leave and self-isolation support & business cash flow and tax measures. "
      ],
      "text/plain": [
       "<IPython.core.display.Markdown object>"
      ]
     },
     "metadata": {},
     "output_type": "display_data"
    },
    {
     "data": {
      "text/markdown": [
       "PhilHealth will cover all COVID 19 tests and cover the quarantine and isolation costs; additional funds were released to finance PhilHealth's response"
      ],
      "text/plain": [
       "<IPython.core.display.Markdown object>"
      ]
     },
     "metadata": {},
     "output_type": "display_data"
    },
    {
     "data": {
      "text/markdown": [
       "#### Lockdown"
      ],
      "text/plain": [
       "<IPython.core.display.Markdown object>"
      ]
     },
     "metadata": {},
     "output_type": "display_data"
    },
    {
     "data": {
      "text/markdown": [
       "##### Partial lockdown"
      ],
      "text/plain": [
       "<IPython.core.display.Markdown object>"
      ]
     },
     "metadata": {},
     "output_type": "display_data"
    },
    {
     "data": {
      "text/markdown": [
       "Towns of Cotonou, Abomey-Calavi, Allada, Ouidah, Sèmè-Podji, Porto-Novo, Akpro-Missérété and Adjarra are under lockdown and isolated from the rest of the country by checkpoints."
      ],
      "text/plain": [
       "<IPython.core.display.Markdown object>"
      ]
     },
     "metadata": {},
     "output_type": "display_data"
    },
    {
     "data": {
      "text/markdown": [
       "Extended SoE:The rules already enacted in the first period of state of emergency remain, including the duty of home isolation, leaving only for strictly necessary situations."
      ],
      "text/plain": [
       "<IPython.core.display.Markdown object>"
      ]
     },
     "metadata": {},
     "output_type": "display_data"
    },
    {
     "data": {
      "text/markdown": [
       "Tonga's Prime Minister Pohiva Tu'i'onetoa has declared a national lockdown for one week starting this Sunday 29 March at 1am and ending Sunday 5 April. The lock-down requires everyone to stay at home. The exception to the isolation order includes purchasing or supplying essential consumer goods, obtaining medical supplies or seeking medical assistance, access to banking and other financial services and attending work as a member of an essential service provider."
      ],
      "text/plain": [
       "<IPython.core.display.Markdown object>"
      ]
     },
     "metadata": {},
     "output_type": "display_data"
    },
    {
     "data": {
      "text/markdown": [
       "extension: self isolation regime extended until late april "
      ],
      "text/plain": [
       "<IPython.core.display.Markdown object>"
      ]
     },
     "metadata": {},
     "output_type": "display_data"
    },
    {
     "data": {
      "text/markdown": [
       "##### Lockdown of refugee/idp camps or other minorities"
      ],
      "text/plain": [
       "<IPython.core.display.Markdown object>"
      ]
     },
     "metadata": {},
     "output_type": "display_data"
    },
    {
     "data": {
      "text/markdown": [
       "One refugee camp with confirmed corona cases locked down and isolation ensured through police and partial military presence"
      ],
      "text/plain": [
       "<IPython.core.display.Markdown object>"
      ]
     },
     "metadata": {},
     "output_type": "display_data"
    },
    {
     "data": {
      "text/markdown": [
       "##### Full lockdown"
      ],
      "text/plain": [
       "<IPython.core.display.Markdown object>"
      ]
     },
     "metadata": {},
     "output_type": "display_data"
    },
    {
     "data": {
      "text/markdown": [
       "Continued: The areas in Colombo, Kalutara and Kandy which have been demarcated as isolated areas will remain in that status until further notice and no one is permitted to enter or leave these isolated villages until further notice."
      ],
      "text/plain": [
       "<IPython.core.display.Markdown object>"
      ]
     },
     "metadata": {},
     "output_type": "display_data"
    },
    {
     "data": {
      "text/markdown": [
       "the Atalogama village in Bandaragama in Kalutara district, which had been isolated since March 29 after finding coronavirus infected, has been re-opened after completing the isolation period."
      ],
      "text/plain": [
       "<IPython.core.display.Markdown object>"
      ]
     },
     "metadata": {},
     "output_type": "display_data"
    }
   ],
   "source": [
    "print_match_rows('isolat')"
   ]
  },
  {
   "cell_type": "markdown",
   "metadata": {},
   "source": [
    "No good data on asymptomatic case isolation."
   ]
  },
  {
   "cell_type": "markdown",
   "metadata": {},
   "source": [
    "## Business shutdowns"
   ]
  },
  {
   "cell_type": "code",
   "execution_count": 68,
   "metadata": {},
   "outputs": [
    {
     "name": "stderr",
     "output_type": "stream",
     "text": [
      "/Users/benjaminsmith/anaconda/lib/python3.6/site-packages/ipykernel_launcher.py:6: UserWarning: This pattern has match groups. To actually get the groups, use str.extract.\n",
      "  \n"
     ]
    },
    {
     "data": {
      "text/markdown": [
       "#### Public health measures"
      ],
      "text/plain": [
       "<IPython.core.display.Markdown object>"
      ]
     },
     "metadata": {},
     "output_type": "display_data"
    },
    {
     "data": {
      "text/markdown": [
       "##### General recommendations"
      ],
      "text/plain": [
       "<IPython.core.display.Markdown object>"
      ]
     },
     "metadata": {},
     "output_type": "display_data"
    },
    {
     "data": {
      "text/markdown": [
       "Prime Minister Scott Morrison has urged Australians to stay home except for essential trips, ordering more businesses to close to stop people gathering. On Tuesday, Mr Morrison told Australians to only leave the house when \"it is absolutely necessary you go out\". He said Australians should continue working but it was \"strongly encouraged to work from home\"."
      ],
      "text/plain": [
       "<IPython.core.display.Markdown object>"
      ]
     },
     "metadata": {},
     "output_type": "display_data"
    },
    {
     "data": {
      "text/markdown": [
       "All public places including shopping malls, markets and other trading places, restaurants, bars, bus stations, places of worship, schools, offices, and other congregate settings are mandated to ensure cleaning of surroundings and proper management of waste. Further, the public places MUST provide adequate and accessible facilities for hand hygiene and sanitation, failure to which they risk being closed."
      ],
      "text/plain": [
       "<IPython.core.display.Markdown object>"
      ]
     },
     "metadata": {},
     "output_type": "display_data"
    },
    {
     "data": {
      "text/markdown": [
       "All public places including shopping malls, markets and other trading places, restaurants, bars, bus stations, places of worship, schools, offices, and other congregate settings are mandated to ensure cleaning of surroundings and proper management of waste. Further, the public places MUST provide adequate and accessible facilities for hand hygiene and sanitation, failure to which they risk being closed."
      ],
      "text/plain": [
       "<IPython.core.display.Markdown object>"
      ]
     },
     "metadata": {},
     "output_type": "display_data"
    },
    {
     "data": {
      "text/markdown": [
       "#### Social distancing"
      ],
      "text/plain": [
       "<IPython.core.display.Markdown object>"
      ]
     },
     "metadata": {},
     "output_type": "display_data"
    },
    {
     "data": {
      "text/markdown": [
       "##### Public services closure"
      ],
      "text/plain": [
       "<IPython.core.display.Markdown object>"
      ]
     },
     "metadata": {},
     "output_type": "display_data"
    },
    {
     "data": {
      "text/markdown": [
       "majority of ministry of Foreign affairs working remotely. Overseas offices closed in London"
      ],
      "text/plain": [
       "<IPython.core.display.Markdown object>"
      ]
     },
     "metadata": {},
     "output_type": "display_data"
    },
    {
     "data": {
      "text/markdown": [
       "All businesses and activities not deemed essential should be closed during the lockdown"
      ],
      "text/plain": [
       "<IPython.core.display.Markdown object>"
      ]
     },
     "metadata": {},
     "output_type": "display_data"
    },
    {
     "data": {
      "text/markdown": [
       "extended until at least 17/4/2020: Private sector businesses except those which provide basic needs such as groceries, bakeries, gas stations, pharmacies, etc., will be closed."
      ],
      "text/plain": [
       "<IPython.core.display.Markdown object>"
      ]
     },
     "metadata": {},
     "output_type": "display_data"
    },
    {
     "data": {
      "text/markdown": [
       "Non-essential businesses in Suva closed under 2 week lockdown"
      ],
      "text/plain": [
       "<IPython.core.display.Markdown object>"
      ]
     },
     "metadata": {},
     "output_type": "display_data"
    },
    {
     "data": {
      "text/markdown": [
       "all non-essential businesses were also ordered closed, except for supermarkets, pharmacies, gas stations, hotels, banks, hospitals, and restaurants with drive-through or delivery services."
      ],
      "text/plain": [
       "<IPython.core.display.Markdown object>"
      ]
     },
     "metadata": {},
     "output_type": "display_data"
    },
    {
     "data": {
      "text/markdown": [
       "Prohibition of gatherings 10+ people, Public transportation is suspended, All institutions and business in the public and private sectors will be closed except for those deemed critical by the Government of Jordan."
      ],
      "text/plain": [
       "<IPython.core.display.Markdown object>"
      ]
     },
     "metadata": {},
     "output_type": "display_data"
    },
    {
     "data": {
      "text/markdown": [
       "All private medical offices, clinics, and laboratories are closed until further notice. Public and private hospitals, and private hospital clinics remain open."
      ],
      "text/plain": [
       "<IPython.core.display.Markdown object>"
      ]
     },
     "metadata": {},
     "output_type": "display_data"
    },
    {
     "data": {
      "text/markdown": [
       "All businesses will reportedly be closed except for supermarkets, pharmacies, banks, petrol stations, as well as healthcare centers. "
      ],
      "text/plain": [
       "<IPython.core.display.Markdown object>"
      ]
     },
     "metadata": {},
     "output_type": "display_data"
    },
    {
     "data": {
      "text/markdown": [
       "Closure of administrative offices for 2 weeks, but can be extended. All public services are closed except for health workers, the judiciary, public security, municipal sanitation and roadworks, JIRAMA, telecommunications and the media."
      ],
      "text/plain": [
       "<IPython.core.display.Markdown object>"
      ]
     },
     "metadata": {},
     "output_type": "display_data"
    },
    {
     "data": {
      "text/markdown": [
       "Under lockdown (Mar 24 - April 3), all government offices, businesses and shops closed "
      ],
      "text/plain": [
       "<IPython.core.display.Markdown object>"
      ]
     },
     "metadata": {},
     "output_type": "display_data"
    },
    {
     "data": {
      "text/markdown": [
       "Non-essential businesses must now close. All bars, restaurants, cafes, gyms, cinemas, pools, museums, libraries, playgrounds and any other place where the public congregate must close their face to face function."
      ],
      "text/plain": [
       "<IPython.core.display.Markdown object>"
      ]
     },
     "metadata": {},
     "output_type": "display_data"
    },
    {
     "data": {
      "text/markdown": [
       "From March 22, for at least 15 days, all non-essential businesses will be closed to customers, although restaurants will be allowed to provide takeaway services. Supermarkets, pharmacies, bakeries, petrol stations and banks will remain open but must implement capacity restrictions."
      ],
      "text/plain": [
       "<IPython.core.display.Markdown object>"
      ]
     },
     "metadata": {},
     "output_type": "display_data"
    },
    {
     "data": {
      "text/markdown": [
       "All commercial businesses and non-essential shops remain closed "
      ],
      "text/plain": [
       "<IPython.core.display.Markdown object>"
      ]
     },
     "metadata": {},
     "output_type": "display_data"
    },
    {
     "data": {
      "text/markdown": [
       "Restaurants are back in business but must close at 9.30pm while cinemas and night clubs are still closed."
      ],
      "text/plain": [
       "<IPython.core.display.Markdown object>"
      ]
     },
     "metadata": {},
     "output_type": "display_data"
    },
    {
     "data": {
      "text/markdown": [
       "All non-essential businesses will be closed. "
      ],
      "text/plain": [
       "<IPython.core.display.Markdown object>"
      ]
     },
     "metadata": {},
     "output_type": "display_data"
    },
    {
     "data": {
      "text/markdown": [
       "The following businesses are to remain closed until further notice: Public houses, Cinemas, Theatres, Nightclubs, Bingo halls, Concert halls, Museums and galleries, Casinos, Betting shops, Spas, Massage parlours, Indoor skating rinks, Indoor fitness studios, gyms, swimming pools or other indoor leisure centres"
      ],
      "text/plain": [
       "<IPython.core.display.Markdown object>"
      ]
     },
     "metadata": {},
     "output_type": "display_data"
    },
    {
     "data": {
      "text/markdown": [
       "#### Movement restrictions"
      ],
      "text/plain": [
       "<IPython.core.display.Markdown object>"
      ]
     },
     "metadata": {},
     "output_type": "display_data"
    },
    {
     "data": {
      "text/markdown": [
       "##### Curfews"
      ],
      "text/plain": [
       "<IPython.core.display.Markdown object>"
      ]
     },
     "metadata": {},
     "output_type": "display_data"
    },
    {
     "data": {
      "text/markdown": [
       "partial curfew will be in place for 14 days.  Individuals may only leave their residences to seek goods and services from essential personnel and businesses.  All public sector employees except for the police force, fire department, health, civil aviation, finance and similar services will be under administrative leave until March 27, 2020.  Private sector businesses except those which provide basic needs such as groceries, bakeries, gas stations, pharmacies, etc., will also be closed until at least March 27.  All business hours are restricted from 07:00 to 18:00."
      ],
      "text/plain": [
       "<IPython.core.display.Markdown object>"
      ]
     },
     "metadata": {},
     "output_type": "display_data"
    },
    {
     "data": {
      "text/markdown": [
       "#### Lockdown"
      ],
      "text/plain": [
       "<IPython.core.display.Markdown object>"
      ]
     },
     "metadata": {},
     "output_type": "display_data"
    },
    {
     "data": {
      "text/markdown": [
       "##### Partial lockdown"
      ],
      "text/plain": [
       "<IPython.core.display.Markdown object>"
      ]
     },
     "metadata": {},
     "output_type": "display_data"
    },
    {
     "data": {
      "text/markdown": [
       "All schools and non-essential businesses in the greater Lautoka area have been ordered closed, and the government has asked all who live in the area to stay in the area."
      ],
      "text/plain": [
       "<IPython.core.display.Markdown object>"
      ]
     },
     "metadata": {},
     "output_type": "display_data"
    },
    {
     "data": {
      "text/markdown": [
       "Movement Control Order (MCO) in place from March 18-31 in place under the Prevention and Control of Infectious Diseases Act 1988 and the Police Act 1967. Government and private offices apart from those providing essential services are closed. All shops other than businesses dealing with daily essentials – such as food and pharmaceutical stores are closed. The Chief Minister of Sarawak has announced that people will only be allowed to leave their homes in order to buy daily necessities, essential goods and services."
      ],
      "text/plain": [
       "<IPython.core.display.Markdown object>"
      ]
     },
     "metadata": {},
     "output_type": "display_data"
    },
    {
     "data": {
      "text/markdown": [
       "All people are told to remain at home and all but essential businessed are closed for a period of 14 days."
      ],
      "text/plain": [
       "<IPython.core.display.Markdown object>"
      ]
     },
     "metadata": {},
     "output_type": "display_data"
    },
    {
     "data": {
      "text/markdown": [
       "All people are told to remain at home and all but essential businessed are closed for a period of 14 days."
      ],
      "text/plain": [
       "<IPython.core.display.Markdown object>"
      ]
     },
     "metadata": {},
     "output_type": "display_data"
    },
    {
     "data": {
      "text/markdown": [
       "All people are told to remain at home and all but essential businessed are closed for a period of 14 days."
      ],
      "text/plain": [
       "<IPython.core.display.Markdown object>"
      ]
     },
     "metadata": {},
     "output_type": "display_data"
    },
    {
     "data": {
      "text/markdown": [
       "From March 28 – April 30, the Government of the Russian Federation has declared a \"holiday\" for all Russians in order to slow the spread of COVID-19. In Moscow, and many other cities, all businesses except for grocery stores and pharmacies will be temporarily closed.  Restaurants may provide delivery services only.  All individuals are strongly encouraged to stay home, except to obtain food, medication or emergency medical services."
      ],
      "text/plain": [
       "<IPython.core.display.Markdown object>"
      ]
     },
     "metadata": {},
     "output_type": "display_data"
    },
    {
     "data": {
      "text/markdown": [
       "The Ordinance sets out the business hours for grocery stores, which will begin no later than at 8:00 and end no earlier than at 20:00 every day. From 8:00 to 10:00, all vulnerable groups, which include disabled persons, retired persons and pregnant women, will be given priority in making purchases as well as entering a shop. All shops will be closed on Sundays and work-free days except petrol stations and pharmacies, which may operat"
      ],
      "text/plain": [
       "<IPython.core.display.Markdown object>"
      ]
     },
     "metadata": {},
     "output_type": "display_data"
    },
    {
     "data": {
      "text/markdown": [
       "#### Governance and socio-economic measures"
      ],
      "text/plain": [
       "<IPython.core.display.Markdown object>"
      ]
     },
     "metadata": {},
     "output_type": "display_data"
    },
    {
     "data": {
      "text/markdown": [
       "##### Economic measures"
      ],
      "text/plain": [
       "<IPython.core.display.Markdown object>"
      ]
     },
     "metadata": {},
     "output_type": "display_data"
    },
    {
     "data": {
      "text/markdown": [
       "Bbusinesses had no valid reason to increase their prices and profit unnessarily from shortages, an increase in demand due to disasters or unforeseen circumstances such as pandemic preparations. The Ministry said it would be keeping a close eye on businesses across Tonga, including the Niuas, ensuring no price gouging was occuring. Businesses risk potentially having their licence revoked, according to the Ministry."
      ],
      "text/plain": [
       "<IPython.core.display.Markdown object>"
      ]
     },
     "metadata": {},
     "output_type": "display_data"
    }
   ],
   "source": [
    "print_match_rows('((business|workplace|office).*close)')"
   ]
  },
  {
   "cell_type": "markdown",
   "metadata": {},
   "source": [
    "Some data on business closing."
   ]
  },
  {
   "cell_type": "code",
   "execution_count": 100,
   "metadata": {},
   "outputs": [
    {
     "name": "stderr",
     "output_type": "stream",
     "text": [
      "/Users/benjaminsmith/anaconda/lib/python3.6/site-packages/ipykernel_launcher.py:5: UserWarning: This pattern has match groups. To actually get the groups, use str.extract.\n",
      "  \"\"\"\n"
     ]
    },
    {
     "data": {
      "text/plain": [
       "18"
      ]
     },
     "execution_count": 100,
     "metadata": {},
     "output_type": "execute_result"
    }
   ],
   "source": [
    "\n",
    "set_data = source_data.loc[\n",
    "    (source_data.MEASURE=='Public services closure') |\n",
    "    (source_data.MEASURE=='General recommendations'),]\n",
    "match_rows = set_data.loc[set_data.COMMENTS.str.contains('((business|workplace|office).*close)', na=False),]\n",
    "\n",
    "\n",
    "#len(pd.concat([match_rows,measure_rows]).COUNTRY.unique())\n",
    "len(match_rows.COUNTRY.unique())"
   ]
  },
  {
   "cell_type": "markdown",
   "metadata": {},
   "source": [
    "## School closures"
   ]
  },
  {
   "cell_type": "code",
   "execution_count": 97,
   "metadata": {},
   "outputs": [
    {
     "name": "stdout",
     "output_type": "stream",
     "text": [
      "nan\n",
      "School closures until \"the end of the month\" (Afghanistan uses the Solar Hijri calendar) \n",
      "All schools are closed from March 10, 2020 until March 23, 2020\n",
      "until 5th April\n",
      "Public and private higher and general education institutions in Angola are since March 23 shut for a period of 15 days,which may be extended in view of the pandemic situation in the country.\n",
      "Angolan public television broadcasts school lessons\n",
      "All educational institutions closed until 27 March 2020 with possibility of extension\n",
      "For 2 weeks.\n",
      "all schools for 1 week\n",
      "All schools and Universities \n",
      "In Victoria, school holidays will also be brought forward to enable schools to close from Tuesday. Schools in Canberra will be open on Monday but move to online learning from Tuesday.\n",
      "Year 12 students will graduate with ATAR despite coronavirus disruption to schools, Education Minister Dan Tehan says\n",
      "schools and education institutions closed starting for secondary schools on 16 March and on 18 March for primary schools\n",
      "nan\n",
      "closure of all schools, both public and private, and educational institutions,\n",
      "2 weeks\n",
      "nan\n",
      "nan\n",
      "all schools will be closed for 14 days which will lead right into the Easter break.\n",
      "School holidays extended from 30ths of march to 13th of april.\n",
      "nan\n",
      "extended until furher notice \n",
      "nan\n",
      "Schools, universities and other educational establishments and organizations will cancel classes. Distance learning will replace regular classes where possible.\n",
      "\n",
      "Kindergartens and nurseries will be closed, as well as all forms of group work with children. (initially not included in school closures)\n",
      "The classes in schools and kindergartens should not be interrupted even in the areas with coronavirus cases, but strict disinfection and measures should be appllied.\n",
      "\n",
      "Students will be instructed daily about personal hygiene. Children and teachers with flu-like symptoms will not be admitted.\n",
      "\n",
      "If a coronavirus case is detected in an educational establishment, it will be closed. Student excursions are prohibited.\n",
      "Authorities announced  on 15 March the closure of schools and univerities in entire country to last from 16 March until 1 April\n",
      "Extension of school closure for 2 more weeks, until 14th of April.\n",
      "Schools remain closed until 17 April \n",
      "All private and public  education facility\n",
      "Some provinces have closed schools for a few weeks.\n",
      "All schools are closed for 15 days.\n",
      "All pre-schools and schools, until 30th of March.\n",
      "Schools will suspend classes from 16 March to 20 April\n",
      "For 30 days\n",
      "Until April 17\n",
      "All public and private education centres are closed.\n",
      "Schools (including pre-schools and universities) are closed for 30 days.\n",
      "Two week suspension of schools and universities starting 16 March\n",
      "nan\n",
      "extended until at least 30/4/2020\n",
      "All schools, universities, cultural institions are closed for the next 30 days. \n",
      "All public schools are closed for two weeks as 16 March.\n",
      "All schools and universities suspended.\n",
      "Extension: Schools will remain closed until end of april.\n",
      "All school and univerisies (until at least 28. march)\n",
      "Extended for an additional 2 weeks until 14. april \n",
      "all private and public schools have been canceled for 21 days from March 11\n",
      "The education sector has closed the doors of all primary, secondary and higher centres, both public and private\n",
      "Under 30 day Health State of Alarm: All academic activities at all levels in the national education system are suspended, in both public and private centres, together with sporting competitions.\n",
      "Schools are required to suspend regular classroom studies and switch over to remote and home studying; Universities and research institutions will continue their research and development activities; The decisions on whether to close kindergartens and childcare establishments and how to organise their work will be made by the local governments or other operators of kindergartens.\n",
      "Schools and tertiary insitiutions to be closed with immediate effect.\n",
      "Schools at all levels will be closed except higher education instituions\n",
      "Ethiopia closes all educational institutions with the exception of higher learning institutions\n",
      "School closure will be extended 2 weeks.\n",
      "The premises of schools, educational institutions, universities and universities of applied sciences as well as civic education and other liberal education institutes will be closed down, and contact teaching will be suspended. As an exception, however, pre-primary education organised in schools and contact teaching for grades 1–3 will continue for the children of parents working in sectors critical to the functioning of society\n",
      "Primary schools closed only parents with critical jobs can continue to send their kids to school\n",
      "Primary schools regulations are being released slightly; parents can now decide whether they send their kids to school (previously only parents with critical jobs were allowed to do so)\n",
      "Schools, creches, and univerisites to close from 16 March\n",
      "Until 1st of april.\n",
      "All schools, including universities, madrassas and daras or majlis will be closed for 21 days.\n",
      "state-based school and nursery closure in 12 states (as of 16/03), implementation dates vary but for most states closures start on 16 March\n",
      "All unversities, senior high schools and basic schools to close. However, BECE and WASSCE candidated will be allowed to attend school to prepare for exams, but will have to follow social distancing protocols.\n",
      "nan\n",
      "extended until april 27\n",
      "nan\n",
      "officials announced all schools and universities would close for three weeks\n",
      "All schools are closed for 14 days.\n",
      "All schools are closed until March 31, 2020.\n",
      "Schools have been closed until further notice\n",
      "Schools and university closed\n",
      "All schools are closed until March 26\n",
      "Elementary and high schools are closed from 16 March\n",
      "Universities will be temporarily closed. Education may be continued via e-learning.\n",
      "Students are forbidden to enter the premises of higher education institutions.\n",
      "all schools closure\n",
      "Extension: school closure for arly childhood education and care, primary and secondary education and vocational education and training extended until 13 May\n",
      "nan\n",
      "All schools and univerisities \n",
      "Until 24 of March\n",
      "All schools at all levels are closed until 29 March \n",
      "Junior certificate sttae exams will now be replaced by school-based exams and assessments which will take place early in the new school year. Leaving certificate state exams (university entrance determining exams) will will be moved to the last week of July or early August with a final decision on dates to be made subject to the public health advice in June.\n",
      "schools and education institutes will be closed as of 15 March\n",
      "In all municipalities that are affected (case >1) schools of any level will be closed\n",
      "schools that have been closed temporarily at the request of the government\n",
      "closure of all educational institutions for 2 weeks as of 15 March\n",
      "Primary, secondary, and private school closures starting 16 March.\n",
      "From Monday the 23/03/2020, primary schools will be shut down. Boarding schools are expected to send pupils back home by mid-week, while higher education institutions are to close by week’s end (27/03/2020).\n",
      "nan\n",
      "Initially for two weeks; On March 19, the government extended the closure of public schools, universities, and colleges through the beginning of August. \n",
      "Individual school closure for facilities with confirmed cases\n",
      "Schools generally remain open, but parents are required to provide document stating that there has been no known exposure to an infected person and that they have not been traveling abroad in the last 14 days\n",
      "closure of all schools\n",
      "All schools including pre-schools, primary, secondary and high schools, TVET and tertiary will close until at least April 20th.\n",
      "All schools, universities, colleges, and other institutions of learning are closed.\n",
      "closure of educational institutions for 2 weeks\n",
      "closure of all public and private education institutions\n",
      "For two weeks initially\n",
      "Extension: school closure until 27th April\n",
      "closure of all education facilities for 2 weeks starting 16 March\n",
      "Extension of measure: school closure extended until 3rd March\n",
      "Closure of all schools and universities. Set to last two weeks, but extendable.\n",
      "Extension of school closure until 19 april.\n",
      "Government has directed that all schools, colleges (including technical colleges), both public and private universities should be closed by Monday, March 23 2020.\n",
      "Under MCO, all Kindergartens, schools and universities are closed.\n",
      "All public and private schools are closed for 3 weeks.\n",
      "all schools and educational insitutions closed for a week as of 13 March\n",
      "Extension: school closure until end of June\n",
      "All schools and univeristies are closed until the 5th of April. \n",
      "All educational establishments will be closed from 19 March. \n",
      "Until 20th of April.\n",
      "All schools in Federated States of Micronesia have been closed\n",
      "All schools\n",
      "nan\n",
      "All educational institutions and kindergartens for at least 15 days \n",
      "Country-wide schools closure by 13 of March\n",
      "All private and public schools from kindergarten to university to be closed from Monday 23 March for 30 days\n",
      "from 1 April SoE: The suspension of all public and private schools classes, from pre-school to university education\n",
      "Education ministry gives classes over radio\n",
      "All schools closed in Namibia until the 14th of April.\n",
      "closure of schools and nurseries from 15 March to 6 April\n",
      "All schools and early childhood education (ECE) centres will be closed. The upcoming school term break will be brought forward to start on Monday, 30 March. For the remainder of this week and through the term break, schools will establish ways to deliver teaching online and remotely.\n",
      "Distance-learning education package for students. Every learner in New Zealand will have at least one way to access education, even if they do not have a device or an internet connection at home.\n",
      "All schools are closed for two weeks (renewable).\n",
      "Lagos closes all public and private schools.\n",
      "closure of schools, universities and kindergardens for 2 weeks\n",
      "closure of all schools, educational insititutions and childcare centres from 12 March until 26 March (extended to past Eastern on 24/03/2020)\n",
      "Extension until end of April\n",
      "Re-opening of Kindergartens on 20th April\n",
      "Re-opening of pre-schools (and partially for vocational schools, colleges and universities) on 27th April, under certain restrictions \n",
      "For one month\n",
      "All schools closed until 5 of April\n",
      "On Mar. 18, 2020 the Ministry of Education announced planned school closures from Mar. 23 - Apr. 3, 2020 to\n",
      "Schools remain closed to April 3rd\n",
      "The closure of schools had also been extended until 17 April.\n",
      "closure of all schools in Gaza\n",
      "nan\n",
      "Schools remain closed nationwide until April 7\n",
      "All schools closed from March 24\n",
      "MoE confirmed closure of schools will extend to the 24th of April. Public and private schools would provisionally resume for Term 2 on the 27th of April, subject to the status of the covid-19 situation in PNG.\n",
      "For 15 days\n",
      "Extension of school closure the 12th of April.\n",
      "Suspension of primary and secondary school classes through March 30.\n",
      "Suspension of classes at university and vocational educational institutions until 30th of March.\n",
      "Extension of school closure until 4th of May. Virtual virtual teaching will start from 6 April.\n",
      "In national capital region all school are closed\n",
      "Taguig pilots online classroom to engage students amid extended ECQ\n",
      "Until March 25th\n",
      "Extension until 26th April\n",
      "School and universities\n",
      "The Prime Minister announced today that for students up until the 9th year, the entire third period will continue with distance learning, with assessment, but without tests or exams.\n",
      "Suspended all public and private schools and universities indefintely\n",
      "Schools and higher education (public and private) to be closed\n",
      "Schools and places of worship are closed for 2 weeks\n",
      "nan\n",
      "All schools are to close until further notice.\n",
      "nan\n",
      "suspension of all schools, universities and other educational institutions\n",
      "nan\n",
      "nan\n",
      "All schools and universities are closed for the next three weeks\n",
      "closure of schools and introduction of online distance learning\n",
      "kindergartens, schools and universities are closed.\n",
      "All schools on Mahe will cease operations as of 16 March 2020 for 14 days. This comes after the announcement of the first confirmed case of COVID-19 in Seychelles. \n",
      "All schools closed until further notice\n",
      "Schools will be closed between 16 and 29 March 2020.\n",
      "Schools in the capital, Honiara, and the wider Guadalcanal province have been ordered closed\n",
      "The Solomon Islands government has extended a school closure notice, previously only for institutions in the capital Honiara and Guadalcanal, to the rest of the country with a tentative return date set for the 27th of April.\n",
      "Somalia has ordered the closure of all religious schools and madrasasa. \n",
      "All public schools closed as of 18 March until 13 April\n",
      "South Sudan announces suspension of all classes in all schools and universities for the next month.\n",
      "all levels\n",
      "schools closed from until 20 April\n",
      "closure of all schools and education institutions for one month\n",
      "Closure of most schools\n",
      "Extension of school closure, undefined period (exemption pre-schools and Kindergarten run by hospitals)\n",
      "schools closed on a federal level from 16 March to 4 April\n",
      "Suspension of all public and private schools and universities until April 2nd\n",
      "nan\n",
      "All universities and colleges across Tanzania to be closed\n",
      "All primary and secondary schools in Tanzania closed\n",
      "All educational institutions have been closed from 18 March until at least 1 April.\n",
      "All schools are closed for 3 weeks. \n",
      "Education Minister Siaosi Sovaleni said schools would close from 1pm Friday and remain so until 14 April.\n",
      " all schools resumed today\n",
      "1 week: all primary, middle and high schools closed, and teaching will resume via online channels. Universites will be closed for three weeks\n",
      "All schools closed, including pre-primary, primary, secondary, tertiary and universities. \n",
      "nan\n",
      "nan\n",
      "schools will be closed for 4 weeks\n",
      "Schools to close for all except the children of keyworkers and vulnerable children. Nurseries, private schools and sixth forms are also closing.\n",
      "The Bureau of Educational and Cultural Affairs (ECA) will temporarily pause all ECA-funded programs that involve travel to and from countries with heightened U.S. Centers for Disease Control and Prevention (CDC) Alert Level 2 (Practice Enhanced Precautions) and Warning Level 3 (Avoid Nonessential Travel) or heightened State Department COVID-19 related Travel Advisory Levels 3 (Reconsider Travel) and 4 (Do Not Travel).\n",
      "All schools are closed until further notice.\n",
      "973 rural schools to reopen.\n",
      "Remaining schools within Vanuatu to suspend operations\n",
      "schools in SHEFA and TAFEA Provinces can resume normal operation as of April 20  while maintaining good hygiene practices and physical distancing. Following the COM decision for school to resume classes, the caretaker Minister of Education, Jean Pierre Nirua has signed an order for all schools affected by cyclone Harold in TORBA, SANMA, MALAMPA, PENAMA, SHEFA and Luganville to remain close until further notice.\n",
      "nan\n",
      "All schools are closed.\n",
      "1 week \n",
      "The de facto Ministry of Education's decision to suspend schools and other educational facilities. until further notice\n",
      "The decision of The Supreme National Emergency Committee to suspend schools and other educational facilities. until 30/5/2020\n",
      "All schools, colleges and universities to be closed.\n",
      "Zimbabwe closes all schools.\n"
     ]
    }
   ],
   "source": [
    "measure_rows = source_data.loc[\n",
    "    source_data.MEASURE.isin([\n",
    "        'Schools closure' ]),]\n",
    "\n",
    "for ir, row in measure_rows.iterrows():\n",
    "    print(row['COMMENTS'])\n"
   ]
  },
  {
   "cell_type": "code",
   "execution_count": 98,
   "metadata": {},
   "outputs": [
    {
     "data": {
      "text/plain": [
       "145"
      ]
     },
     "execution_count": 98,
     "metadata": {},
     "output_type": "execute_result"
    }
   ],
   "source": [
    "len(measure_rows.COUNTRY.unique())"
   ]
  },
  {
   "cell_type": "code",
   "execution_count": 99,
   "metadata": {},
   "outputs": [
    {
     "data": {
      "text/plain": [
       "array(['Afghanistan', 'Albania', 'Algeria', 'Angola',\n",
       "       'Antigua and Barbuda', 'Argentina', 'Armenia', 'Australia',\n",
       "       'Austria', 'Azerbaijan', 'Bahamas', 'Bahrain', 'Barbados',\n",
       "       'Belgium', 'Belize', 'Benin', 'Bosnia and Herzegovina', 'Brazil',\n",
       "       'Brunei Darussalam', 'Bulgaria', 'Burkina Faso', 'Cabo Verde',\n",
       "       'Cameroon', 'Canada', 'Central African Republic', 'Chile',\n",
       "       'Colombia', 'Congo', 'Congo DR', 'Costa Rica', \"Côte d'Ivoire\",\n",
       "       'Croatia', 'Cyprus', 'Czech Republic', 'Denmark',\n",
       "       'Dominican Republic', 'Ecuador', 'Egypt', 'El Salvador',\n",
       "       'Equatorial Guinea', 'Estonia', 'Eswatini', 'Ethiopia', 'Finland',\n",
       "       'France', 'Gabon', 'Gambia', 'Germany', 'Ghana', 'Greece',\n",
       "       'Grenada', 'Guatemala', 'Guinea', 'Guinea-Bissau', 'Haiti',\n",
       "       'Honduras', 'Hungary', 'Iceland', 'Iran', 'Iraq', 'Ireland',\n",
       "       'Israel', 'Italy', 'Japan', 'Jordan', 'Kenya', 'Korea Republic of',\n",
       "       'Kuwait', 'Latvia', 'Lebanon', 'Lesotho', 'Liberia', 'Libya',\n",
       "       'Liechtenstein', 'Lithuania', 'Luxembourg', 'Madagascar', 'Malawi',\n",
       "       'Malaysia', 'Mali', 'Malta', 'Mauritania', 'Mauritius', 'Mexico',\n",
       "       'Micronesia', 'Moldova Republic of', 'Mongolia', 'Montenegro',\n",
       "       'Morocco', 'Mozambique', 'Namibia', 'Netherlands', 'New Zealand',\n",
       "       'Niger', 'Nigeria', 'North Macedonia Republic Of', 'Norway',\n",
       "       'Oman', 'Pakistan', 'Palau', 'Palestine', 'Panama',\n",
       "       'Papua New Guinea', 'Paraguay', 'Peru', 'Philippines', 'Poland',\n",
       "       'Portugal', 'Qatar', 'Rwanda', 'Saint Vincent and the Grenadines',\n",
       "       'Samoa', 'San Marino', 'Saudi Arabia', 'Senegal', 'Serbia',\n",
       "       'Seychelles', 'Slovakia', 'Slovenia', 'Solomon Islands', 'Somalia',\n",
       "       'South Africa', 'South Sudan', 'Spain', 'Sri Lanka', 'Sudan',\n",
       "       'Suriname', 'Switzerland', 'Syria', 'Tanzania', 'Thailand', 'Togo',\n",
       "       'Tonga', 'Turkey', 'Uganda', 'Ukraine', 'United Arab Emirates',\n",
       "       'United Kingdom', 'United States of America', 'Uruguay', 'Vanuatu',\n",
       "       'Venezuela', 'Yemen', 'Zambia', 'Zimbabwe'], dtype=object)"
      ]
     },
     "execution_count": 99,
     "metadata": {},
     "output_type": "execute_result"
    }
   ],
   "source": [
    "measure_rows.COUNTRY.unique()"
   ]
  },
  {
   "cell_type": "code",
   "execution_count": 61,
   "metadata": {},
   "outputs": [
    {
     "data": {
      "text/markdown": [
       "#### Public health measures"
      ],
      "text/plain": [
       "<IPython.core.display.Markdown object>"
      ]
     },
     "metadata": {},
     "output_type": "display_data"
    },
    {
     "data": {
      "text/markdown": [
       "##### Other public health measures enforced"
      ],
      "text/plain": [
       "<IPython.core.display.Markdown object>"
      ]
     },
     "metadata": {},
     "output_type": "display_data"
    },
    {
     "data": {
      "text/markdown": [
       "Order of the Minister responsible for health no. 105: taking hygienic-sanitary measures to prevent the spread of respiratory infections including COVID 19 in preschool institutions kindergartens and educational institutions"
      ],
      "text/plain": [
       "<IPython.core.display.Markdown object>"
      ]
     },
     "metadata": {},
     "output_type": "display_data"
    },
    {
     "data": {
      "text/markdown": [
       " GSuite App will be administered across the public school system for onliuen schooling from April 14th"
      ],
      "text/plain": [
       "<IPython.core.display.Markdown object>"
      ]
     },
     "metadata": {},
     "output_type": "display_data"
    },
    {
     "data": {
      "text/markdown": [
       "##### Psychological assistance and medical social work"
      ],
      "text/plain": [
       "<IPython.core.display.Markdown object>"
      ]
     },
     "metadata": {},
     "output_type": "display_data"
    },
    {
     "data": {
      "text/markdown": [
       "China implemented “measures to care for, protect and aid children left unattended after the virus outbreak. These measures cover children whose parents or other guardians are identified as confirmed or suspected cases of the COVID-19 or need to be quarantined for observation… Children in need should also have access to temporary financial aid, psychological counseling and remote schooling services, among others.”"
      ],
      "text/plain": [
       "<IPython.core.display.Markdown object>"
      ]
     },
     "metadata": {},
     "output_type": "display_data"
    },
    {
     "data": {
      "text/markdown": [
       "##### Requirement to wear protective gear in public"
      ],
      "text/plain": [
       "<IPython.core.display.Markdown object>"
      ]
     },
     "metadata": {},
     "output_type": "display_data"
    },
    {
     "data": {
      "text/markdown": [
       "Students shall always wear protective masks in the classroom as schools start to reopen"
      ],
      "text/plain": [
       "<IPython.core.display.Markdown object>"
      ]
     },
     "metadata": {},
     "output_type": "display_data"
    },
    {
     "data": {
      "text/markdown": [
       "##### Testing policy"
      ],
      "text/plain": [
       "<IPython.core.display.Markdown object>"
      ]
     },
     "metadata": {},
     "output_type": "display_data"
    },
    {
     "data": {
      "text/markdown": [
       "South China's Guangdong Province has demanded all school staff undergo nucleic acid tests before resuming work"
      ],
      "text/plain": [
       "<IPython.core.display.Markdown object>"
      ]
     },
     "metadata": {},
     "output_type": "display_data"
    },
    {
     "data": {
      "text/markdown": [
       "##### Awareness campaigns"
      ],
      "text/plain": [
       "<IPython.core.display.Markdown object>"
      ]
     },
     "metadata": {},
     "output_type": "display_data"
    },
    {
     "data": {
      "text/markdown": [
       "Specialists of the Republican Center for Health Promotion and Mass Communication under the KR MOH, together with specialists from FMCs and health promotion units carry out information and preventive measures for viral infections, including for prevention of coronavirus among the population across the republic. These events are being organized in secondary schools, kindergartens, secondary and higher educational institutions, local governments and other institutions."
      ],
      "text/plain": [
       "<IPython.core.display.Markdown object>"
      ]
     },
     "metadata": {},
     "output_type": "display_data"
    },
    {
     "data": {
      "text/markdown": [
       "Today, the Ministry of Public Health has organized a campaign to educate the public about COVID19, to provide knowledge on disease prevention. To strictly comply with the recommendations, “eat cooked food, use serving spoons, wash hands and wear hygienic masks\" have been taught to the people at [2 schools]. "
      ],
      "text/plain": [
       "<IPython.core.display.Markdown object>"
      ]
     },
     "metadata": {},
     "output_type": "display_data"
    },
    {
     "data": {
      "text/markdown": [
       "##### Strengthening the public health system"
      ],
      "text/plain": [
       "<IPython.core.display.Markdown object>"
      ]
     },
     "metadata": {},
     "output_type": "display_data"
    },
    {
     "data": {
      "text/markdown": [
       "The UN Relief and Works Agency (UNRWA) in the Gaza Strip began on March 18 placing patients with respiratory diseases in Gaza schools that the UNRWA converted into medical clinics. "
      ],
      "text/plain": [
       "<IPython.core.display.Markdown object>"
      ]
     },
     "metadata": {},
     "output_type": "display_data"
    },
    {
     "data": {
      "text/markdown": [
       "##### Introduction of isolation and quarantine policies"
      ],
      "text/plain": [
       "<IPython.core.display.Markdown object>"
      ]
     },
     "metadata": {},
     "output_type": "display_data"
    },
    {
     "data": {
      "text/markdown": [
       "Metropolitan Manila (with school closure included)"
      ],
      "text/plain": [
       "<IPython.core.display.Markdown object>"
      ]
     },
     "metadata": {},
     "output_type": "display_data"
    },
    {
     "data": {
      "text/markdown": [
       "##### General recommendations"
      ],
      "text/plain": [
       "<IPython.core.display.Markdown object>"
      ]
     },
     "metadata": {},
     "output_type": "display_data"
    },
    {
     "data": {
      "text/markdown": [
       "All public places including shopping malls, markets and other trading places, restaurants, bars, bus stations, places of worship, schools, offices, and other congregate settings are mandated to ensure cleaning of surroundings and proper management of waste. Further, the public places MUST provide adequate and accessible facilities for hand hygiene and sanitation, failure to which they risk being closed."
      ],
      "text/plain": [
       "<IPython.core.display.Markdown object>"
      ]
     },
     "metadata": {},
     "output_type": "display_data"
    },
    {
     "data": {
      "text/markdown": [
       "All public places including shopping malls, markets and other trading places, restaurants, bars, bus stations, places of worship, schools, offices, and other congregate settings are mandated to ensure cleaning of surroundings and proper management of waste. Further, the public places MUST provide adequate and accessible facilities for hand hygiene and sanitation, failure to which they risk being closed."
      ],
      "text/plain": [
       "<IPython.core.display.Markdown object>"
      ]
     },
     "metadata": {},
     "output_type": "display_data"
    },
    {
     "data": {
      "text/markdown": [
       "#### Governance and socio-economic measures"
      ],
      "text/plain": [
       "<IPython.core.display.Markdown object>"
      ]
     },
     "metadata": {},
     "output_type": "display_data"
    },
    {
     "data": {
      "text/markdown": [
       "##### Economic measures"
      ],
      "text/plain": [
       "<IPython.core.display.Markdown object>"
      ]
     },
     "metadata": {},
     "output_type": "display_data"
    },
    {
     "data": {
      "text/markdown": [
       "NSW Government would provide free pre-school for the next six months at a cost of around $50 million."
      ],
      "text/plain": [
       "<IPython.core.display.Markdown object>"
      ]
     },
     "metadata": {},
     "output_type": "display_data"
    },
    {
     "data": {
      "text/markdown": [
       "Distribution of Bs500 per child to families in need, and which childs are in primary of secondary schools."
      ],
      "text/plain": [
       "<IPython.core.display.Markdown object>"
      ]
     },
     "metadata": {},
     "output_type": "display_data"
    },
    {
     "data": {
      "text/markdown": [
       "Parents can now receive care allowance until the ban on school attendance is liften and more widely than under previous legislation"
      ],
      "text/plain": [
       "<IPython.core.display.Markdown object>"
      ]
     },
     "metadata": {},
     "output_type": "display_data"
    },
    {
     "data": {
      "text/markdown": [
       "Economic package for after-schools; and change in regulations for language schools to protect their incomes"
      ],
      "text/plain": [
       "<IPython.core.display.Markdown object>"
      ]
     },
     "metadata": {},
     "output_type": "display_data"
    },
    {
     "data": {
      "text/markdown": [
       " One month's advance salary payment to public officials. Employees in the textile sector to receive half of their monthly salary. Regular food rations will be provided for children who usually benefit from school feeding programmes."
      ],
      "text/plain": [
       "<IPython.core.display.Markdown object>"
      ]
     },
     "metadata": {},
     "output_type": "display_data"
    },
    {
     "data": {
      "text/markdown": [
       "The MHLW has set up a hotline for parents affected by school closures related to COVID-19. "
      ],
      "text/plain": [
       "<IPython.core.display.Markdown object>"
      ]
     },
     "metadata": {},
     "output_type": "display_data"
    },
    {
     "data": {
      "text/markdown": [
       "Federal government premises such as school canteens, nurseries, cafeteria and convenience stores exempted from rent for six months."
      ],
      "text/plain": [
       "<IPython.core.display.Markdown object>"
      ]
     },
     "metadata": {},
     "output_type": "display_data"
    },
    {
     "data": {
      "text/markdown": [
       "Compensation scheme for enterprises with reduced income due to the coronavirus – NOK 50 billion; Help for students who have lost work income – NOK 1 billion; Temporary benefit for apprentices – NOK 250 million; Compensation for reduced parental payment to after-school care (SFO) – NOK 1 billion; Skills development measures – NOK 190 million; NOK 3 million to simplify home-based instruction;  as well as a number of efforts to specific sectors"
      ],
      "text/plain": [
       "<IPython.core.display.Markdown object>"
      ]
     },
     "metadata": {},
     "output_type": "display_data"
    },
    {
     "data": {
      "text/markdown": [
       "Support through a food program for school children and vulnerable elderly"
      ],
      "text/plain": [
       "<IPython.core.display.Markdown object>"
      ]
     },
     "metadata": {},
     "output_type": "display_data"
    },
    {
     "data": {
      "text/markdown": [
       "The government will grant school fee exemption in 2020 in addition to other packages such as increasing internet capacity to schools for students to study online"
      ],
      "text/plain": [
       "<IPython.core.display.Markdown object>"
      ]
     },
     "metadata": {},
     "output_type": "display_data"
    },
    {
     "data": {
      "text/markdown": [
       "##### Emergency administrative structures activated or established"
      ],
      "text/plain": [
       "<IPython.core.display.Markdown object>"
      ]
     },
     "metadata": {},
     "output_type": "display_data"
    },
    {
     "data": {
      "text/markdown": [
       "Ministries of General Education and Information and Broadcasting Services, have launched a television channel to provide education services during the closure of schools as a result of the outbreak of the coronavirus"
      ],
      "text/plain": [
       "<IPython.core.display.Markdown object>"
      ]
     },
     "metadata": {},
     "output_type": "display_data"
    },
    {
     "data": {
      "text/markdown": [
       "#### Social distancing"
      ],
      "text/plain": [
       "<IPython.core.display.Markdown object>"
      ]
     },
     "metadata": {},
     "output_type": "display_data"
    },
    {
     "data": {
      "text/markdown": [
       "##### Public services closure"
      ],
      "text/plain": [
       "<IPython.core.display.Markdown object>"
      ]
     },
     "metadata": {},
     "output_type": "display_data"
    },
    {
     "data": {
      "text/markdown": [
       "The Royal Barbados Police Force (RBPF) advises members of the public that tours to police stations by groups and schools have been suspended, until further notice. Visits to public health care institutions have been suspended, and some facilities closed, as a result of the activation of Stage 1 of the Barbados National COVID-19 Preparedness Plan."
      ],
      "text/plain": [
       "<IPython.core.display.Markdown object>"
      ]
     },
     "metadata": {},
     "output_type": "display_data"
    },
    {
     "data": {
      "text/markdown": [
       "All schools and hotels (until at least 10. April). All workplaces excpet those providing basic needs and emergency services (untul at least 27. March). All non-essentials public facilites. limited in ppl allowed in places of essiatials (pharmicies, grocery stores etc)"
      ],
      "text/plain": [
       "<IPython.core.display.Markdown object>"
      ]
     },
     "metadata": {},
     "output_type": "display_data"
    },
    {
     "data": {
      "text/markdown": [
       "Day cares and primary schools to re-open "
      ],
      "text/plain": [
       "<IPython.core.display.Markdown object>"
      ]
     },
     "metadata": {},
     "output_type": "display_data"
    },
    {
     "data": {
      "text/markdown": [
       "RGTR traffic will be suspended every Sunday until further notice; the regular lines run according to the school holidays schedule during the other days of the week; suspension of a number of public busses in the cities"
      ],
      "text/plain": [
       "<IPython.core.display.Markdown object>"
      ]
     },
     "metadata": {},
     "output_type": "display_data"
    },
    {
     "data": {
      "text/markdown": [
       "The Maldives extends its closure of government offices, schools, colleges and universities for one more week. "
      ],
      "text/plain": [
       "<IPython.core.display.Markdown object>"
      ]
     },
     "metadata": {},
     "output_type": "display_data"
    },
    {
     "data": {
      "text/markdown": [
       "Government has decided to extend the closure of all government offices, schools, colleges and universities for another week as a precautionary measure against the COVID-19 pandemic."
      ],
      "text/plain": [
       "<IPython.core.display.Markdown object>"
      ]
     },
     "metadata": {},
     "output_type": "display_data"
    },
    {
     "data": {
      "text/markdown": [
       "The government team on the strategy to tackle the Corona epidemic decided to extend the suspension of working hours in schools and Universities until at least May 2, 2020"
      ],
      "text/plain": [
       "<IPython.core.display.Markdown object>"
      ]
     },
     "metadata": {},
     "output_type": "display_data"
    },
    {
     "data": {
      "text/markdown": [
       "##### Limit public gatherings"
      ],
      "text/plain": [
       "<IPython.core.display.Markdown object>"
      ]
     },
     "metadata": {},
     "output_type": "display_data"
    },
    {
     "data": {
      "text/markdown": [
       "Large public gatherings (of more than 50 people) to be suspended; schools, religious gatherings, customary, weddings, funerals, and all parades for uniformed forces to be suspended until further notice."
      ],
      "text/plain": [
       "<IPython.core.display.Markdown object>"
      ]
     },
     "metadata": {},
     "output_type": "display_data"
    },
    {
     "data": {
      "text/markdown": [
       "All employees must be provided with an opportunity to work from home where practicable, being 1. Employees aged 60 years+; 2. Employees with underlying medical conditions; 3. Employees affected by the unavailability of public transportation to travel to work; 4. Employees affected by the closure of schools and need to attend their children."
      ],
      "text/plain": [
       "<IPython.core.display.Markdown object>"
      ]
     },
     "metadata": {},
     "output_type": "display_data"
    },
    {
     "data": {
      "text/markdown": [
       "#### Lockdown"
      ],
      "text/plain": [
       "<IPython.core.display.Markdown object>"
      ]
     },
     "metadata": {},
     "output_type": "display_data"
    },
    {
     "data": {
      "text/markdown": [
       "##### Partial lockdown"
      ],
      "text/plain": [
       "<IPython.core.display.Markdown object>"
      ]
     },
     "metadata": {},
     "output_type": "display_data"
    },
    {
     "data": {
      "text/markdown": [
       "All schools and non-essential businesses in the greater Lautoka area have been ordered closed, and the government has asked all who live in the area to stay in the area."
      ],
      "text/plain": [
       "<IPython.core.display.Markdown object>"
      ]
     },
     "metadata": {},
     "output_type": "display_data"
    },
    {
     "data": {
      "text/markdown": [
       "##### Lockdown of refugee/idp camps or other minorities"
      ],
      "text/plain": [
       "<IPython.core.display.Markdown object>"
      ]
     },
     "metadata": {},
     "output_type": "display_data"
    },
    {
     "data": {
      "text/markdown": [
       "Aegean islands: lockdown for at least 14 days. No volunteers allowed in camps, and school classes for migrant children have been suspended. Entry will be allowed only to staff and there will be a compulsory temperature check for new arrivals."
      ],
      "text/plain": [
       "<IPython.core.display.Markdown object>"
      ]
     },
     "metadata": {},
     "output_type": "display_data"
    },
    {
     "data": {
      "text/markdown": [
       "##### Full lockdown"
      ],
      "text/plain": [
       "<IPython.core.display.Markdown object>"
      ]
     },
     "metadata": {},
     "output_type": "display_data"
    },
    {
     "data": {
      "text/markdown": [
       "Enhanced MCO for Kg Sungai Lui lifted except for tahfiz school and a house"
      ],
      "text/plain": [
       "<IPython.core.display.Markdown object>"
      ]
     },
     "metadata": {},
     "output_type": "display_data"
    },
    {
     "data": {
      "text/markdown": [
       "#### Movement restrictions"
      ],
      "text/plain": [
       "<IPython.core.display.Markdown object>"
      ]
     },
     "metadata": {},
     "output_type": "display_data"
    },
    {
     "data": {
      "text/markdown": [
       "##### Border closure"
      ],
      "text/plain": [
       "<IPython.core.display.Markdown object>"
      ]
     },
     "metadata": {},
     "output_type": "display_data"
    },
    {
     "data": {
      "text/markdown": [
       "FSM government is maintaining a prohibition on outbound travel by FSM citizens unless they obtain approval from the government for special circumstances, including returning to work abroad, their school, or for a family funeral."
      ],
      "text/plain": [
       "<IPython.core.display.Markdown object>"
      ]
     },
     "metadata": {},
     "output_type": "display_data"
    }
   ],
   "source": [
    "other_rows = source_data.loc[\n",
    "    source_data.MEASURE.isin([\n",
    "        'Schools closure' ])==False,]\n",
    "\n",
    "print_match_rows_for_dataset('school',other_rows)"
   ]
  },
  {
   "cell_type": "markdown",
   "metadata": {},
   "source": [
    "Good data on school closure."
   ]
  },
  {
   "cell_type": "markdown",
   "metadata": {},
   "source": [
    "## Gathering size limits "
   ]
  },
  {
   "cell_type": "code",
   "execution_count": 101,
   "metadata": {},
   "outputs": [
    {
     "name": "stdout",
     "output_type": "stream",
     "text": [
      "Nevruz festival cancelled\n",
      "all public gatherings banned\n",
      "People should avoid official and non-official protests (gatherings?) to prevent the spread of coronavirus. \n",
      "Until 3rd April\n",
      "1. Social, cultural or political gatherings, either in enclosed or open-air spaces, are banned and fined: 5 million lek (40,000 euros). 2. Television stations are banned from having more than two people on their talk shows in the same room and will be fined 1 million leks (8,300 euros) for any violations. 3. fines and three-year bans for car drivers if they breach restrictions on movement.\n",
      "only one person per household is allowed to go out to buy food or medicine at a time, for a maximum of 90 minutes; the ‘exit permit’ can be obtained by sending an SMS to 55155.\n",
      "Order of the Minister responsible for health no. 133: restricting the movement of patients' companions or relatives in hospitals\n",
      "nan\n",
      "Extended: All public gatherings in Algeria suspended until further notice (including religious prayers and protests).\n",
      "Prosecutor orders release of detainees in pre-trial detention\n",
      "35 markets closed countrywide\n",
      "National Statistics Institute (INE) suspended all data collection actions for households, companies and facilities, due to coronavirus pandemic.\n",
      "Government suspends marriages\n",
      "30 day ban on all parties and similar social events as a pre-emptive measure to prevent the contracting and spread of the coronavirus / covid-19.\n",
      "Measures implemented at water payment centers: Senior citizens given priority in customer queues; controlled lines at payment centers enforced; use of sanitation station required on entry to office; designated waiting area to facilitate social distancing \n",
      "no gatherings more than 25 people \n",
      "Restrict public gathering for sport events and closes cultural spaces\n",
      "Forbidding standing room passengers in public transports\n",
      "Prohibition of all events over 20 persons \n",
      "Mass gatherings of more than 500 banned\n",
      "Non-essential indoor gatherings of fewer than 100 people permitted if in a given occupied space, there must be a density of no more than one person per four square metres of floor space. The 4 square metre arrangements for venues will come into effect from 20 March 2020 and will be mandated through state and territory regulatory arrangements.\n",
      "Australian authorities closed Bondi beach and removed hundreds of people from other popular Sydney beaches on Saturday, citing the “irresponsible behaviour” of large crowds that had gathered in clear defiance of public health warnings of gatherings over 500 people.\n",
      "No non-essential gatherings of more than 500 people outside or more than 100 people inside. All non-essential indoor gatherings of less than 100 people must have no more than one person per 4sqm. All Australians should expect their local businesses to be following this rule.\n",
      "Funerals will be limited to 10 people - who must stand 1.5 meters away from each other. Weddings can also go ahead, but with a maximum of five people: the couple, the celebrant and two guests.\n",
      "Tasmania's Premier has warned the public they face fines of up to $16,800 if they gather in groups larger than 10 people in public or private from 6:00pm on Friday night, as part of the tightening of measures to address the coronavirus pandemic.\n",
      "Public gatherings, excluding household members, have been reduced to a maximum of two people.\n",
      "Meals will be delivered to elderly Australians to help them stay at home, thanks to nearly $60 million in federal government funding amid the coronavirus pandemic.\n",
      "ban of public gatherings over 5 people; closure of restaurants\n",
      "limit of public gatherings over 500 person outdoors and limit of indoor gatherings to 100 person\n",
      "Grocery stores are mandates to implement additional hygiene measures, including max. capacities, minimum distances, PPE use\n",
      "Formula 1 Azerbaijan Grand Prix 2020 is postponed; mass events and celebrations of the Novruz Festival have been cancelled; still just a suggestion to refrain from mass gathering not official rule \n",
      "No longer hosting  OAS General Assembly and National events postponed/cancelled (i.e track and field championships)\n",
      "Avoid large gatherings and comply with all hygienic protocols; High School Track and Field Championship scheduled to be held over 12th to 14th March, 2020, postponed\n",
      "all national sporting events postponed until further notice, permits for use of public open spaces suspended indefinitely\n",
      "Public gatherings will be restricted to 100 persons or less as soon as Barbados records its first case of COVID-19.\n",
      "All public gatherings such as sporting and cultural events or any event that attracts crowds will be restricted to 100 persons. \n",
      "non-essential gatherings are now limited to 25 persons.\n",
      "Includes sporting events with spectators. Essential government services are not affected.\n",
      "All including cafeterias restaurants etc.\n",
      "limit gatherings to 25. This limit does not apply to places of employment that should have business protocols for social distancing and business continuity plans in place.\n",
      "Effective immediately, social gatherings will be limited to 100 people. These include indoor and outdoor gatherings\n",
      "Cancelation of all large events. \n",
      "Banks, supermarkets, religious gathering, funerals, bar and restaurants are closed.\n",
      "Bars and nightclubs are closed, gatherings of more than 10 people are banned.\n",
      "Extension: religious centres will remain closed until the 19th of April. \n",
      "More than 1000 people\n",
      "Gathering of over 100 persons are prohibited.\n",
      "Only one person per household, aged between 18 and 65, can go shopping for essentials  once a week between 7am and 12am.\n",
      "nan\n",
      "Sports events cancelled or no visitors allowed \n",
      "The government has suspended all public gatherings of more than 100 people and recommended that all people keep a distance of 1-2metres between each other.\n",
      "All public gatherings of more than 10 people are prohibited. \n",
      "All international conferences for public officials, state owned entities and parastatals are cancelled. \n",
      "Max of 50 people allowed in public places with a distance of 1-2m between each.\n",
      "Visits to prisons is prohibited.\n",
      "Funerals & memorial services shall last no more than 2 hours and food shall not be provided.\n",
      "In Bahia, the authorities have banned gatherings of more than 50 people until 19 April.\n",
      "ban on gatherings of 30 or more people, and the cancellation of public events until at least April 30.\n",
      "nan\n",
      "\"All mass gatherings are temporarily prohibited.\"\n",
      "\"whomsoever has been found to breach or refuse any order that has been issued by the Ministry of Health such as hosting gatherings at any place that has been forbidden or leaving the place of quarantine at any point in the quarantine period, will have found to be in violation of the Infectious Diseases Act (Chapter 204) and is punishable with a fine of up to $10,000, or imprisonment for a term not exceeding six months, or both. The Ministry will not be hesitant in taking legal action against any individual who has gone against the directives that have been issued.\"\n",
      "Public gatherings and demonstrations banned until 30 April\n",
      "Limitation of religious gathering and priers\n",
      "Public gathering, including protest, gathering in bars, restaurants, cinema, clubs or theatres  and religious gathering are forbidden. \n",
      "Gathering of more than 50 people are forbidden.\n",
      "Reducing maximum capacity for public transports. \n",
      "Visits to public services and administrative offices are restricted.\n",
      "British Columbia, Alberta and Quebec have all banned events larger than 250 people. New Brunswick and Nova Scotia limiting 150. \n",
      "Quebec bans public gatherings of all sizes\n",
      "public gatherings are restricted\n",
      "Bars, clubs, restaurants, cafes, and refreshment stalls are closed for 15 days.\n",
      "Gathering of more than 15 people are forbidden.\n",
      "All religious ceremony (including weddings and mourning) are limited to  family members.\n",
      "Social distancing obligation of 1m between people.\n",
      "All restaurant, bars and non-food shops are closed.\n",
      "Measure to instaure social distancing for banking activities.\n",
      "Religious centers and mosques are closed. \n",
      "Public gathering of more than 50 people are prohibited. \n",
      "Bars, restaurants, clubs, cinema, theatres and cultural centres are closed. \n",
      "All sport, cultural and professional events are cancelled.\n",
      "All visits to old people's home are forbidden. \n",
      "all provincial-level regions on the Chinese mainland\n",
      "asked its residents to stay at home and avoid nonessential outings as the city works to prevent a rebound in the outbreak.\n",
      "Requirements on all catering business premises with food or drinks for consumption on site. From April 10-23Service area must not exceed 50% of normal seating capacity; Tables 1.5m apart or effectively partitioned; No more than 4 persons each table; Must wear mask except when eating/drinking; Screen body temperature; Provide hand sanitiser\n",
      "The prohibition on group gatherings of more than four people in public places will also remain in force until April 23.\n",
      "Group gatherings of more than four people in public places are prohibited, from midnight on March 29 for 14 days, until April 11. Twelve types of group gatherings are exempted, including group gatherings for the purposes of or related to transportation, performing any governmental function, at a place of work for the purposes of work, and of persons living in the same household. Offenders are liable to a maximum penalty of a $25,000 fine and imprisonment for six months.\n",
      "Clubs on private recreational leases were requested to close the recreational and sports facilities, changing rooms and children's playrooms on their premises to promote the reduction of social contact and gatherings.\n",
      "Public and private events restricted to 50 people maximum.\n",
      "Friday and collective prayers in mosques are prohibited. All mosques throughout the country will remain closed until the health situation is resolved.\n",
      "All public festivities (ie, weddings) and gatherings (election campaigns, rallies, concerts, entertainment, etc) are suspended until further notice.\n",
      "All sporting events will be played behind closed doors in all sports arenas.\n",
      "Moroni's markets to be closed on 11th and 12th of April.\n",
      "Closing of religious centers, restaurants, bars and club for 30 days.\n",
      "Gathering of more than 50 people are forbidden for 30 days.\n",
      "Gathering of more than 20 people are banned. \n",
      "Bars and restaurants are closed until further notice.\n",
      "Public gathering are not allowed in the streets.\n",
      "Bars, restaurants and clubs closed. \n",
      "Dance clubs, cinemas and theatre closed for at least 15 days.\n",
      "Gathering of more than 50 people are forbidden.\n",
      "Suspension of all international cultural and sport events.\n",
      "All restaurants are closed. \n",
      "Gatherings of more than 5 are banned\n",
      "50%  of restaurant closed. Campings, hotels, cinemas and theatres are closed. Measures taken by the government but described in public media. \n",
      "nan\n",
      "extended/enhanced until 30/4/2020: Gatherings of groups at homes are forbidden except for those living at the particular address.\n",
      "Extension of measures to protect elderly and vulnerable groups ie. Homes for the elderly and the disabled / Caregivers, as well as 24-hour care homes for People with Disabilities, both public and private, will not accept any visitors\n",
      "All public events with more than 30 people are banned. \n",
      "People are required to wear protective medical masks and keep a distance of 2m everywhere\n",
      "For the protection of elderly people, only people over 65 years or people with disability over 50 are allowed to enter grocery and drug stores from 7-9am (earlier set as 10-12am). Also, a support hotline for elderly to help them with their shopping was implemented\n",
      "Maximum of 2 people allowed in public spaces (families and people performing work are exempted)\n",
      "Policy for stores with special opening times for vulnerable people adapted: ll shops over 500 m2 are reserved from 8:00am to 10:00am for seniors and disabled persons above 50 years of age. In stores below 500 m2, employees are ordered to give priority to the above-mentioned persons.\n",
      "Closures of indoor cultural institutions and leisure facilities. Transportation limited.\n",
      "Prohibition of events, events, etc. with more than 10 people; provisionally valid until 30th March\n",
      "Closing of major centres, sports facilities, nightclubs, taverns, restaurants and cafes etc.; the take-out of food continues to be possible if hygiene restrictions are being followed; provisionally valid until 30th March\n",
      "Additional measures for social distancing implemented in the Copenhagen airport; controlled through additional police deployment\n",
      "Further development of a previously existing app to help homeless persons find a sleeping place or shelter\n",
      "7 day ban of gatherings, both inside and outside, of more than 10 persons; police has the right to disperse the assembly\n",
      "Companies may bring employees back from home office, under certain circumstances and with certain measures\n",
      "Suspension of all events, including international and national events, sports fixtures, bars, nightclubs and cultural events. Non-essential commercial activities suspended. Restaurants to only offer takeaway and delivery services.\n",
      "Social gatherings are prohibited in grocery stores (colmados),including the consumption of alcoholic beverages on their premises.\n",
      "When leaving domiciles, only one member of the family should do so and keep to social distancing standards (2 metres away from any other person).\n",
      "Extension: Large events remain suspended for april and may.\n",
      "Government Bans Religious Gatherings during Ramadan \n",
      "gatherings of more than 500 people are also prohibited\n",
      "During wakes and burials there can be no more than 20 people, who must keep the distance and preventive measures to avoid contagions\n",
      "Strengthening of quarantine measures: Journeys are authorises for travelling to work, either public or private, visits to health centres, chemist's, supermarkets for the purchase of food, shops selling essential products; these visits will have to be made individually. Private vehicles may be used to carry out the activities indicated above, but the occupancy of the vehicle must not exceed two persons.\n",
      "Strengthening of quarantine measures: With the aim of preventing massive contact, public transport for passengers via bus or minibus carrying out a town or inter-town service is prohibited. Furthermore, vehicles providing public transport taxi services are prohibited to carry more than one (1) passenger; likewise company vans for journeys of any nature may not exceed two (2) passengers.\n",
      "The gathering of ten or more people has been prohibited, and the doors of churches and places of worship are also closed.\n",
      "Under 30 day Health State of Alarm: a temporary suspension of all types of demonstration or gathering of over TEN (10) people in the same place, together with the celebration of parties, traditional weddings, wakes or funerals, burials, gaming rooms, beleles, parks, fairs and other similar events.\n",
      "Under 30 day Health State of Alarm: the faithful are temporary suspended from attending in person or in groups the religious events of Sundays or Holidays, while safeguarding, however, the pastoral, ministerial or priestly functions taking place behind closed doors.\n",
      "Under 30 day Health State of Alarm: suspension of collective transport by bus, whether public or private, and taxis may only carry one (1) passenger.\n",
      "2 churches officially disbanded for operating during state of national alarm: The agreement to disband, from this date, the following religious confessions, whose status as legal person in the Republic of Equatorial Guinea is, thus, fully and definitively extinguished: a) UNIVERSAL CHURCH OF THE KINGDOM OF GOD \"STOP SUFFERING\" and  b) MINISTRY OF LIBERATION, HEALTH AND PROPHECY\r\n",
      "\r\n",
      "\n",
      "Every person must avoid, in as much as this is possible, public gatherings.\n",
      "All public gatherings, sport and cultural events that assemble a crowd of more than 10 people are prohibited.  Cinemas and night-clubs will remain closed until further notice.  Social distancing must be heeded to in other commercial units and centers.\n",
      "Aggregation of more than 10 people at social events (funerals, weddings, mourning, baptism and other gatherings) is banned.\n",
      "All court sessions – at all levels – will be postponed until further notice.\n",
      "All public and private institutions that will continue their operations will have to strictly observe social-distancing and all other guidelines issued by the Ministry of Health.\n",
      "All public gatherings are prohobited per declaration of state of emergency\n",
      "Social welfare institutions, hospitals, and detention facilities will be subject to a visiting ban as defined per declaration of state of emergency\n",
      "Alcohol sale has been prohibited from 10pm to 10am to discourage meeting in public spaces; it applies to shops, restaurants and bars\n",
      "2+2 approach in all public spaces; max. 2 people out together (exception of families or same households) and minimum two meter distance at all times\n",
      "Shops are required to enact the maximum number of persons per shop by calculating their own limits and enforcing them\n",
      "All public and private gatherings of 50 or more people are suspended until further notice. These include conferences, funerals, weddings, entertainment, sporting activities, etc.\n",
      "Visits to hospitals are restricted.\n",
      "Public transport will onlt operate between 05:00-09:00 and 15:00-19:00 for the duration of the lockdown.\n",
      "All public transport vehicles will be expected to carry no more than 70% of their full capacity while private vehicles will be required to carry no more than 60%.\n",
      "All elderly grants will be paid electronically with immediate effect.\n",
      "Large gatherings banned, smaller need approval.\n",
      "Large gatherings, including sporting events have been banned, while small gatherings now require a clearance from the Health Ministry. Religious institutions and places of worship have been tasked to limit gatherings\n",
      "Government buses will be made available free of charge to help control crowding on public transport. \n",
      "Special buses will be designated to take public servants to work.\n",
      "Ethiopia cancels parliamentary polls.\n",
      "The government has banned gatherings of more than four people unless there is an absolute necessity, in which case permits need to be acquired from authorities. Handshakes are also not allowed.\n",
      "Public transport operators have to cut their seat occupancy by half, while hotels and restaurants are not allowed to have more than three customers on a table\n",
      "Gatherings of more than 20 people - including meetings and religious services - are now banned, and all nightclubs, gyms, cinemas, swimming pools and fitness centres have also been ordered closed.\n",
      "Ban on any gatherings of 20 or more people. Workplaces, banks, supermarkets, open-air markets, pharmacies and other areas where essential services are offered are okay for now, given you keep a safe distance apart.\n",
      "Effective April 3, social gatherings will be banned entirely, everywhere in Fiji. Our 20 person limit now applies only to the workplace. \n",
      "we are decentralising markets into satellite markets to prevent the sort of dangerous overcrowding that spurs the spread of the virus\n",
      "TC Harold - The National Disaster Management Office had activated more than 80 evacuation centres across the country with almost 2000 people sheltered there. NDMO director Vasiti Soko said they were monitoring the centres to ensure social distancing was observed\n",
      "TC Harold - more than 6000 people sheltering in 197 evacuation centres across the country. Health officials had visited the centres to check on the evacuees and ensure sanitation and social-distancing were observed.\n",
      "Easter services have been cancelled in Fiji although some churches were streaming their services online.\n",
      "Cancelling public events with more than 500 people until may 31\n",
      "Public gatherings are limited to no more than ten persons, and it is recommend to avoid spending unnecessary time in public places. Per state of emergency declaration\n",
      "Visits to housing services for the elderly and other at-risk groups will be prohibited and visits to care institutions, health care units and hospitals (with exeptions)\n",
      "Ski areas that were linked with recent cases are forced to close pre-end-of-season\n",
      "Extension: of government policies and guidances established on 16th March until 16th May\n",
      "No gatherings more than 100 people\n",
      "Ban of gatherings of more than 5000 people in confined spaces\n",
      "Ban of gatherings of more than 1000 people \n",
      "Paris has also limited sports activities to before 10 a.m. and after 7 p.m.\n",
      "Bars and clubs are closed. National cultural and sport events are cancelled.\n",
      "Gathering of more than 50 people are forbidden.\n",
      "International sport events to happen without audience.\n",
      "ordered all public and private institutions to minimise staff reporting  to work with immediate effect. \n",
      "prohibiting gatherings of more than ten people\n",
      "all gatherings over 1.000 members are cancelled\n",
      "Movement in public spaces is limited to two persons; or people co-living\n",
      "All events with more than 50 persons are banned\n",
      "The restrictions imposed on public gatherings, have been extended for a further period of two (2) weeks, with effect from 13th April, 2020\n",
      "nan\n",
      "All youth development, cultural, and sporting activities postponed due to the threat of COVID-19 Virus\n",
      "All gatherings of more than 100 people were prohibited\n",
      "Public transport in Conakri have a limit of 3 people per car, 1 per motorbike and 7 to 10 per minibus. \n",
      "Public gathering of more than 20 people are forbidden.\n",
      "All bars, cinema, theatre etc. are closed for 14 days. Large cultural/sports events are postponed. Religious centre are closed for 14 days.\n",
      "All workers who can must work from home. Strict social distancing rules apply for those who cannot work from home (limiting gathering, video-conferences, etc.). \n",
      "Government has announced the closure of markets, and cessation of concerts, shows, and religious and traditional ceremonies until March 31, 2020.\n",
      "movements are restricted to essential ones, while citizens are asked to stay at home.\n",
      "Events and gathering of more than 10 people are banned. \n",
      "Ban on sidewalk sales and a reduction in the opening hours of public markets in Pétionville, where now only food vendors are allowed to operate.\n",
      "all public events banned, regardless of the number of attendees for seven days from Mar 16\n",
      "Anyone who doesn’t comply with the covid-19 mitigation directives is subject to a jail sentence ranging from 6 months to 2 years.\n",
      "Public gatherings banned of more than 100 indoors and more than 500 outdoors.\n",
      "the Hungarian government has decided to cancel this weekend’s March 15 state national holiday celebrations due to the coronavirus.\n",
      "All indoor events larger than 100 and outdoor events above 500 will be prohibited. Gatherings of large groups will be banned to stop the spread of coronavirus. outdoor venues with an audience of more than 500 people are banned. Enforcing this restriction is the responsibility of the organizer or the venue operator.\n",
      "all events in Hungary will be banned starting at midnight on Monday, adding that sporting events should be held behind closed doors unless the organizers cancel those events altogether.\n",
      "limit of public gatherings to 100 people\n",
      "Ban on gatherings of more than 20 people\n",
      "Grocery stores may have up to 100 person in the store at the same time, if 2m safety distance can be kept\n",
      "Advisory against mass gatherings\n",
      "ban of religious gatherings and public gatherings as of 16 March \n",
      "Limit of more than 100 people gatherings indoor and more than 500 people outdoor. All state run cultural instituions are closed \n",
      "all hotels to limit occupancy to essential non-social and non-tourist reasons\n",
      "all cafes and restaurants are to limit supply to take away food or delivery\n",
      "all sporting events are cancelled, including those behind closed doors\n",
      "all playgrounds and holiday/caravan parks will close\n",
      "all places of worship are to restrict numbers entering at any one time to ensure adequate physical distancin\n",
      "all organised social indoor and outdoor events of any size are not to take place\n",
      " individuals should work from home unless attendance at workplace is absolutely essential.\n",
      "Social gatherings of individuals outdoors should be no more than four persons, unless all are from the same household.\n",
      "All non-essential indoor visits to other persons’ homes should be avoided.\n",
      "All crowded places, including public amenities, should be avoided.\n",
      "All visits to hospitals, residential healthcare centres, other residential settings are prisons are stopped with specific exemptions on compassionate grounds\n",
      "all public gatherings are limited to 10 persons, public establishments such as bars, restaurants, gyms, ritual baths are closed\n",
      "A mall and a shopping complex with 10 stores or more or the total area of the shops exceeding 3000 square meters, with the exception of stores which sell food, pharmacies, or stores which mainly sell hygiene products. an unincorporated shopping complex in which the total number of stores, excluding stores not listed in paragraph (2) below, does not exceed 10, will be able to continue its activity. lubs, bars, pubs, banquet halls, fitness centers, swimming pools, water parks, zoos, safaris, petting zoos, bathhouses, cinemas, theaters, cultural institutions, playgrounds, amusement parks, businesses for the non-medical care of the body, exhibition and concert halls, fairgrounds, public boats, cable-cars, museums, nature reserves, national parks, libraries, tourist attractions and heritage sites.\n",
      "Ban of public gatherings, e.g. sport or events (no maximum number specified)\n",
      "Closure of museums, cancelling of educational trips\n",
      "Specific shelters established for the homeless\n",
      "Ministry publishes clarification of public gathering measures, including limiting only one parent being able to go outside, clarification around ban of jogging and going outside with elderly\n",
      "Asks organizers of events to reconsider, or at least take measures to reduce the spread of infection. \n",
      "consider suspending, postponing, or reducing scale of large-scale events for the next 2-weeks (March 11) until the situation can be further reviewed\n",
      "nan\n",
      "consider suspending, postponing, or reducing scale of large-scale events for the next 10 days until the situation can be further reviewed\n",
      "consider suspending, postponing, or reducing scale of large-scale events\n",
      "With support from China and the ROK, Japan announced the postponement of the Tokoyo Olympic Games\n",
      "suspension of public and social events including weddings and prayer services\n",
      "extended until 15.4.2020 Prohibition on gatherings of more than ten people.\n",
      "Large international competitions have been canceled in Kazakhstan due to the coronavirus spread worldwide. (exceptions for athletes already abroad) \n",
      "Limiting hospital visits, churchs, meetings, weddings, etc\n",
      "Citizens are being asked to stay indoors unless travel is essential.\n",
      "Prison visits have been suspended for a further 30 days. \n",
      "Govt urged the public to minimise public gatherings and maintain social distances of 2 metres.\n",
      "Restrictions on gatherings \n",
      "Closure of public parks, shopping centres, religious centers, public transprot and alike (implemented either 13th or 14th March)\n",
      "Banning of many public gatherings, including weddings, receptions, etc. (both public and private)\n",
      "Medicines from pharmacies delivered directly to persons\n",
      "More than 50 people for privately organized events\n",
      "Stores were obliged (as part of a common meeting) to take further distancing measures and precautions\n",
      "All public events are banned\n",
      "Specific guidelines on safety measures for public catering businesses established\n",
      "Stricter physical distancing rules implemented: 2m rule everywhere, reduced working hours for some recreational facilities, any private activity that does not uphold the minimum distance banned\n",
      "suspension of public gatherings and closure of public establishments like restaurants, cinemas, theaters\n",
      "Public transport operators have been urged to strictly observe a reduced passenger loads and are expected to operate from 06:00 to 10:00 and 15:00 to 18:00.\n",
      "All social gatherings are banned except for funerals where not more than 50 people are expected to attend.\n",
      "Large gatherings including sporting activities and parties of more than 10 people are banned. Weddings and funerals will be allowed with no more than 10 people in attendance and people should keep a distance of 10 feet at all times.\n",
      "Taxis can carry no more than 2 passengers in the back and one in front; kehkens can carry only 2 passengers in the back and driver in front; motorbikes can carry only one passenger.\n",
      "All supermarkets and large stores will allow only 10 customers at a time, while observing 6 feet distance at all times. Those outside waiting must also be 6ft apart. All businesses are required to find ways to prmote social distancing.\n",
      "All health facilities and institutions, including pharmacies, will remain for routine services with social distancing practices. \n",
      "ban of public and social gatherings including restaurants or weddings\n",
      "Sisha bars and some other cafes that follow health regulations may stay open until 4pm\n",
      "Ban of funeral and wedding ceremonies.\n",
      "closure of restaurants and bars starting 16 March; no more gatherings with more than 5 persons\n",
      "closure of public baths\n",
      "Ban on 1000+ events\n",
      "In-door and out-door events prohibited\n",
      "Supermarkets are required to implement cautionary measures, including disinfection of baskets and minimum distances\n",
      "Inside events for the Independence day canceled \n",
      "Small creational boats continue to be allowed, though at a max of 2 persons except for immediate family members\n",
      "closure of public facilities such as bars, restaurants, public baths\n",
      "Events in confined spaces with more than 100 people are prohibited and events in non-confined spaces with more than 500 people are prohibited\n",
      "For vulnerable groups and online shop for essentials with home delivery was set up\n",
      "The deadlines within the legal system, which would require presence of a person, are being suspended across legal areas\n",
      "Extension of time limits for submitting reports to the Environmental Authorities\n",
      "Churches, event spaces, bars and restaurants are closed for 2 weeks. Measure extendable.\n",
      "Only one person per household may do the shopping.\n",
      "Complete ban on public gatherings throughout the country.\n",
      "Gathering of more than 50 people are forbidden.\n",
      "Government has suspended hosting of international meetings and banned public servants from attending both regional and international meetings being hosted by affected countries. The ban has been extended to all people travelling on other government-related activities such as sports.\n",
      "Government is restricting public gatherings to less than 100 people. This restriction applies to all gatherings including weddings, funerals, church, congregations, rallies, government meetings etc; The national security apparatus has been ordered into action to enforce these restrictions.\n",
      "In order to decongest work places, all offices shall work in shifts with the exception of those working in essential services.\n",
      "All formal meetings, gatherings and conferences are suspended forthwith\n",
      "All cultural events and activities are suspended; all sporting activities are suspended; all religious gathering are suspended.\n",
      "Weddings, engagement ceremonies, bridal showers, send offs and all gatherings of public and social nature are suspended.\n",
      "Funerals shall comply with social distance restrictions, and be attended by a maximum number of 50 people. Observation of COVID-19 sanitary and health measures is a requirement at all funerals.\n",
      "the Ministry has suspended all children gatherings with immediate effect. These include all Early Childhood Development Centres, Community Based Care Centres, Child Corners, gathering for religious purposes, learning, life skills activities and activities in child participation forums.\n",
      "All adult literacy classes have been suspended across the country to avoid the spread of the virus. \n",
      "nan\n",
      "All religious activities in mosques and surau will be suspended in line with the Special Muzakarah Council's decision on Sunday (March 15). He said that this includes Friday prayers.\n",
      "any public gathering involving more than 500 people should be postponed\n",
      "Annual Ramadan bazaars have been cancelled in Selangor, Negri Sembilan, Melaka and Terengganu have cancelled in light of the Covid-19 pandemic.\n",
      "nan\n",
      "All excursion activities from islands, tourist resorts, safairs, guest houses are banned throughout the country for a period of 10 days.\n",
      "Gatherings of more than 3 people in public is prohibited. Exceptions for key workers.\n",
      "Gatherings of more than 3 people in public is prohibited. Exceptions for key workers.\n",
      "Gatherings of more than 3 people in public is prohibited. Exceptions for key workers.\n",
      "large public gatherings are required to be avoided including the suspension of conferences, festivals etc.\n",
      "All groupings (conferences, meetings, etc.) are forbidden.\n",
      "Baptisms, funerals and weddings limited to 50 participants. \n",
      "Bar, restaurants and clubs are closed. \n",
      "Max 3 person, apart from those co-living allowed in groups outside; fines of 100EUR per person\n",
      "all large public gatherins are suspended\n",
      "All public gatherings are banned until further notice.\n",
      "Mauritanian government closed all public markets with the exception of those selling food.\n",
      "Mauritania has suspended Friday prayer until fourther notice to stop spread of covid-19.\n",
      "Events of more than 5000 people should be postponed or cancelled.\n",
      "Gatherings in assential sectors are limited to a maximum of 50 people. \n",
      "Mexican Tourism and Health officials instructed hotels to cancel new and existing reservations and close for non-essential business.\n",
      "nan\n",
      "extend the period of quarantine until 1 April in order to prevent the spread of the highly infectious coronavirus. During the period, Mongolia has cancelled all sports competitions, training, seminars, cultural festivals and public events.\n",
      " closure of shops, except food shops and pharmacies; closure of bars and restaurants; and no hotel services allowed, except to guests who are already checked in\n",
      "valid for 15days: prohibition of gathering in the facilities of accommodation for persons who are not members of the common family household. \n",
      "Limit public gatherings of more than 50 people\n",
      "Morocco will close eateries, cinemas, theaters, sports, public clubs, baths, and other entertainment venues \n",
      "Public or private gatherings of more than 50 people inc church services are banned, except those of national interest, such as parliament sessions.\n",
      "Gatherings of more than 50 people prohibited\n",
      "a ban on all types of public or private events “except for unavoidable state issues”\n",
      "from 1 April SoE:  all public and private events are banned. The operation of theatres, cinemas, gymnasiums and closed leisure spaces is forbidden;\n",
      "from 1 April SoE: Public and private institutions must not have more than 20 employees; The rotation of labour, that is, workers must rotate;\n",
      "from 1 April SoE: Funeral ceremonies can have a maximum of 20 participants, who must wear masks regardless of the cause of death;\n",
      "from 1 April SoE: Visitors to hospitals can number a maximum of two; Patients with Covid-19 cannot receive visits;\n",
      "Good Friday is day off, group religious worship banned – government\n",
      "The Maputo Municipal Council has banned the use of pick-up trucks (my-loves) and similar open vehicles for passenger transport. It has allowed the three-wheeled taxis, known as “txopelas” to continue, as long as they do not carry more than one passenger.\n",
      "Government lifts one-third limit on public transport, users must wear face masks – report\n",
      "suspension of public gatherings including ceremonies and festival from 13 March to 30 April\n",
      "Independence celebrations have been called off and the financial outlay for this will be used in the fight against covid-19. \n",
      "All big gatherings are suspended for a period of 30 days.\n",
      "Large public gatherings (of more than 50 people) to be suspended; schools, religious gatherings, customary, weddings, funerals, and all parades for uniformed forces to be suspended until further notice.\n",
      "Trade fairs, sports, events, and demonstrations to be postponed for 30 days.\n",
      "All big gatherings are suspended for a period of 30 days.\n",
      "Cancelation of large public events\n",
      "Nepalis advised not to gather in large groups\n",
      "limit of public gatherings to 100 persons until 31 March\n",
      "All gatherings are prohibited until 1 June, even gatherings of less than 100 people. This is a tightening of the existing ban (that applied up to 6 April). An exception is made for funerals and religious weddings.\n",
      "Gatherings of 3 or more people that do not keep a 1.5 meter distance are forbidden. This does not apply to children or to people in the same household, such as families.\n",
      "Public transport and shops are required to take measures to ensure that people keep a good distance. For instance, by limiting the number of people allowed in the shop at the same time.\n",
      "Limit the visitors at home to three visitors.\n",
      "Gatherings or events where 500 or more people are together in one place outdoors, or 100 people indoors, at one time should be cancelled. E\n",
      "People to start working from home if possible. If people cannot work remotely then employers should allow for shift work, physical distancing within the workplace, staggered meal breaks and flexible leave arrangements.\n",
      "Councils around the country are proactively closing community facilities including swimming pools, libraries, recreation centres, community centres, the City Gallery, museums and venues.\n",
      "From March 23, non-urgent routine General Practitioner (GP) appointments will increasingly be done by phone, email and video to help protect 'vulnerable patients' from coronavirus\n",
      "Physical distancing  in place - staff and the public stay 2 metres apart, hand hygiene and cleaning must be maintained. Keeping full details of guests, and keeping people away if they are sick is required.\n",
      "All indoor and outdoor events cannot proceed, these requirements apply to family and social gatherings such as birthdays, funerals, tangi or weddings. These gatherings can not go ahead. This does not include workplaces of people undertaking essential businesses.\r\n",
      "\n",
      "All gatherings of at least 50 people, including baptisms, ceremonies, workshops and seminars, are cancelled for two weeks. This is renewable.\n",
      "Closure of all bars, clubs, theatre and cinemas. \n",
      "No religious center with over 50 congregants will open for service in Lagos.\n",
      "suspension of public gatherings, restricted opening hours for restaurants and cafes\n",
      "closure of public facilities such as swimming pool\n",
      "Extension: ban of cultural and sporting events until 15th June\n",
      "to avoid sporting activities, cinema, public squares, for 30 days\n",
      "implement fines for anyone not adhering to closures and regulations on social distancing \n",
      "Gatherings discouraged of more than 50 people and social distancing of 6ft should be maintained\n",
      "Hamas bans gathering of more than 100 people\n",
      "closure of mosques and churches in all governorates of Palestine\n",
      "all public gatherings banned\n",
      "public gatherings of more than 50 people will be prohibited\n",
      " sporting events, concerts, and fairs which bring together large crowds of people have also been suspended until April 7\n",
      "Labor Minister will ease labor regulations so that companies can adapt the sessions to the nature of each establishment and said that he asked private companies to use telework to keep largest number of people home.\n",
      "Effective April 1, for 15 days. Women will be able to leave their homes for essential purchases only on Mondays, Wednesdays, and Fridays. Men will be free to do so on Tuesdays, Thursdays, and Saturdays. No one is permitted to leave their homes on Sundays.\n",
      "All national sporting facilities in Papua New Guinea have been closed for four weeks\n",
      "Easter: No public transport is to operate from 23.59, 9 April 06.00, 14 April. Taxis are limited to two passengers.\n",
      "Large public and private events are suspended.\n",
      "Ban on public gatherings\n",
      "People with TB will get 1 month supply of their medication to avoid exposing them unnecessarily\n",
      "Strong advice against participation in public gatherings; event organizers are mandated to take care of safety measures and potential costs for treatment arising if a transmission occured\n",
      "Ban on sale of alcohol implemented (as part of strict lock-down, border control and public service closures) across regions\n",
      "Support for elderly to do their shopping has been installed to protect them as vulnerable groups\n",
      "The government is strongly encouraging supermarkets and other establishments selling basic necessities to extend their store operations to a maximum of 12 hours to prevent crowding\n",
      "Marikina launches online medical consultation amid Covid-19\n",
      "Courts 'physically closed' until April 30: SC\n",
      "Until March 25th\n",
      " All public gatherings, events, and reunions are banned.  Groups of only two people will be allowed in public (except for families); fines up to 5000PLN\n",
      "Extension until further notice: All public gatherings, events, and reunions are banned. No gatherings of more than two people are allowed in public, except for family groups\n",
      ">1000 people\n",
      "closure of public institutions such as museums, pools\n",
      "The capacity of public transport will be reduced to one third of the maximum number of seats available and daily cleaning will have to be ensured, according to the government.\n",
      "The suspension of events with more than 100 people\n",
      "The closure of all beaches to groups of over 5 people.\n",
      "Extended SoE:In retail or service establishments that maintain activity, \"a minimum distance of two metres between people\" must be guaranteed.\n",
      "Extended SoE:Passenger vehicles have their capacity reduced to one third of the maximum number of seats available to “guarantee the adequate distance between transport users”.\n",
      "all social gatherings banned.\n",
      "Restricted gatherings of more than 50 \n",
      "Gatherings larger than 3 people who do not live in the same household have been banned.\n",
      "Public indoor events limited to no more than 50 people\n",
      "Subject to the decisions taken by the Operational Headquarters to prevent the importation and spread of new coronavirus infection in the territory of the Russian Federation, until April 30, 2020 all restrictions were extended, including the holding of international events. It was also recommended that federal executive bodies and executive bodies of the constituent entities of the Russian Federation reduce the number of public events, including business, sports, cultural and entertainment, and, if possible, conduct them in video format or without spectators, allowing only extremely important and urgent events to be held\n",
      "Large gatherings such as sporting events to be postponed\n",
      "all concerts and other public gathering that bring together many people eg. entertainment concerts, exhibitions, festivals, open-days, marching events among others are postponed from 8th March until further notice.\n",
      "effective immediately all bars will close at 21:00 each day in Kigali and other cities, and at 19:00 in rural areas.\n",
      "no public gatherings of more than ten \n",
      "There shall be no public gathering of more than 5 people at any public place.\n",
      "All employees must be provided with an opportunity to work from home where practicable, being 1. Employees aged 60 years+; 2. Employees with underlying medical conditions; 3. Employees affected by the unavailability of public transportation to travel to work; 4. Employees affected by the closure of schools and need to attend their children.\n",
      "Under lockdown, public gatherings restricted to no more than five people\n",
      "Closure of museums, cancelling of educational trips\n",
      "sporting events and competitions suspended (except for participant in the Olympic games or international events)\n",
      "suspension of sports competitions, closure of sport stadiums\n",
      "Public gatherings limited for at least one month\n",
      "Adjusting land transportation. 1 meter between passengers on public transportation. Limit number of passengers to half the number of seats available. Taxis that can hold 5 people are now limited to 3 people, including the driver. Number of passengers in 2-wheeled vehicles is limited to 1. Legal penalties for non compliance. \n",
      "nan\n",
      "A detailed risk/benefit analysis indicates that Seychelles is dependent on tourism and imports, and stands much to lose rather than benefit from additional travel restrictions. Withdrawal of flights into Seychelles will also adversely effect essential goods supplies, such as food, medicines, and vaccines. Therefore, public health measures (screening, awareness campaigns, quarantine policies) are in place, but they do not want to impose additional travel restrictions unless absolutely necessary. \n",
      "Announcement in French: Essentially, cancelling all in-person gatherings organized between 16 and 22 of March. Encouraging organizers to produce media content in its place. \n",
      "Additional advisory notices to limit public gatherings at faith-based organizations, sporting and entertainment activities, etc. \n",
      "All public gatherings are now strictly banned. Prior, it was just an advisory. \n",
      "bans all public gatherings of more than 100 people.\n",
      "All public gatherings have been banned, including sporting events and religious services. This includes theatres and cinemas, but not workplaces, supermarkets and pharmacies.\n",
      "For seniors over 65 years of age , special opening hours will also be set in shops from 9.00 to 12.00.\n",
      "Groceries, pharmacies, drugstores, newspaper and print kiosks, and shops with foodstuff for animals are to be closed every Sunday.\n",
      "prohibiting gatherings of people in education institutions and universities and independent higher education institutions,\n",
      "indoor public gatherings of more than 100 people are prohibited\n",
      "The inspection service of the Ministry of Health will establish a 24/7 on-call service, which will issue decisions to individuals violating the Order prohibiting gatherings at public events. All sporting and other events with more than 500 participants will be held without an audience.\n",
      "The assembly of more than 50 persons at premises where liquor is sold and consumed is prohibited. Any person who breaks this law and convenes such a gathering is guilty of an offence and, on conviction, liable to a fine or to imprisonment for a period not exceeding six months or to both such fine and imprisonment.\n",
      "Gatherings of more than 100 people prohibited & mass celebrations of upcoming national days, such as human rights day, will be cancelled. Where small gatherings are unaviodable organisers will need to put in place stringent measures of prevention and control.\n",
      "Uganda has banned the movement of all motorcycle taxis, called boda bodas \n",
      "ban of public gatherings\n",
      "South sudan suspends training of its military.\n",
      "Governmnet directs postponement of weddings, festivals and other religious and sporting events. \n",
      "Government directs that funeral gatherings be less than 5 people. \n",
      "all groupings are prohibited\n",
      "In Madrid, La Rioja, Vitoria and Labastida, as these are areas of significant transmission, activities in closed spaces that gather more than a thousand people are suspended.\n",
      "Cancellation of at-risk events; including large scale sport events such as soccer with a high chance of people attending from at risk areas \n",
      "The government of Sri Lanka has decided to declare a period of six working days from 20th to 27th of March for employees of the public and private sectors to work from home.\n",
      "All sports activities halted until April 20\n",
      "The Sri Lankan government has implemented a mechanism to deliver essential food items to people locked down at homes under an islandwide curfew imposed to prevent public gathering\n",
      "Work from Home period extended till April 20th\n",
      "the Government of Sudan has banned all bus transportation between cities and states.\n",
      "Max 10 person gatherings in public\n",
      "Gambling institutions and casinos to be closed\n",
      "Extension for two weeks: max 10 person gatherings\n",
      "limit of public gatherings to 500 persons\n",
      "Max 50 person gatherings in public\n",
      "Restaurants, bars and cafés throughout the entire country need to take special measures to reduce the risk of spreading COVID-19\n",
      "public or private gathers with more than 100 persons are suspended until 30 April on a federal level\n",
      "Limit of public gatherings to 1000 people from 28 Feb until 15 March\n",
      "Maximum 5 person gatherings are allowed\n",
      "Ban of gatherings of 5< people\n",
      "Companies are obliged to enable work from home or to implement sanitary measures where this is not possible; elevated care is required for finding solutions for persons at-risk\n",
      "Extension until 26th April: Ban of gatherings of 5< people\n",
      "The government also canceled traditional public festivities related to the upcoming Norouz celebrations in the capital, Dushanbe.\n",
      "All BRT buses will be required to carry passengers according to their operating license (nobody is allowed to be standing in DalaDalas etc.) \n",
      "All international events are suspended for 3 weeks.\n",
      "Gathering of more than 100 people are forbidden.\n",
      "International cultural and sports events suspended until further notice. Religious centres are closed for 1 month.\n",
      "Public gatherings restricted to a maximum of 20 people inside a building or 40 people outside, and people are to practice social distancing. Concerts, sports events, funerals, weddings and birthdays are also banned.\n",
      "Nightclubs, bars and kava clubs to be shut down from March 25.\n",
      "There will be a ban of all large gatherings at public facilities and funeral gatherings are to be restricted to a total of 10 people indoors and 20 people outdoors with an authorised officer present.\n",
      "All public facilities and gatherings are prohibited.\n",
      "All public facilities and gatherings are prohibited including marriages and birthday celebrations\n",
      "All persons shall be required to isolate at home unless for the purpose of purchasing or supplying essential consumer goods, obtaining medical supplies or seeking medical assistance, access to banking and financial services.\n",
      "A new restriction notice was made effective from 1:00am Sunday, April 12 to 8:00pm Friday, April 17. A national curfew from 8:00pm to 6:00am will continue and people are instructed to continue social distancing by 1.5 metres at all times.\n",
      "For funerals there is a restriction of only 10 people allowed inside a house and 20 outside. An official must be present to observe this rule.\n",
      "suspension of prayers in mosques, suspensions on certain social gatherings, restricted opening hours for cafes\n",
      "closure of restaurants, bars, night clubs starting on 16 March\n",
      "extension of the indefinite closure of bars and nightclubs to public spaces including restaurants, theaters, and sports centres\n",
      "All public gatherings of 10 or more people are banned.\n",
      "All court hearings and appearances are hereby suspended for the period of 32 days.\n",
      "Trading in non-food items at markets is suspended to scale down number of people in markets, also selling of cooked food on the streets is prohibited.\n",
      "Food market sellers may not return home during the 14 day lockdown, they must find accomodation close to their food stall (if they wish to continue to operate it).\n",
      "factory owners arrange for the crucial employees to camp around the factory area for the 14 days. If they cannot do that, let them suspend production for 14 days.\n",
      "Construction sites should continue if they can be able to encamp their workers for 14 days. Otherwise, they should suspend construction for the 14 days.\n",
      "Cargo transport by train, plane, lorry, pick-up, tuku-tukus, bodaboda and bicycle, within Uganda and between Uganda and the outside, must continue but only with minimum numbers\n",
      "Gatherings of more than 5 persons are hereby prohibited.\n",
      "Uganda has banned outdoor exercise.\n",
      "nan\n",
      "ban mass gatherings more than 200 ppl\n",
      "suspension of wedding venues, fitness clubs, cinemas and other public establishment from 16 to 31 March \n",
      "Only one person per household is permitted to visit supermarkets at one time;\n",
      "Social gatherings should be avoided \n",
      "People are directed to stay 2m away from one another\n",
      "All people should avoid gatherings and crowded places\n",
      "Britons are told to avoid pubs, clubs and theatres.\n",
      "Restaurants, cafes and bars are no longer permitted to sell food or drinks for consumption on the premises.\n",
      "All social events will be stopped excluding funerals\n",
      "Parks will be open but gatherings will be dispersed. \n",
      "All gatherings of more than two people in public will be stopped except when accompanied by people you live with.\n",
      " United States has decided to host the upcoming G7 ministerial virtually by video teleconference instead of gathering in Pittsburgh, March 24-25\n",
      "The public is no longer allowed to congregate or sit in kava bars, and they must close by 7:30 pm. Meanwhile, restaurants in the capital, Port Vila, will no longer be allowed to have dine-in customers. Takeaway food will still be available.\n",
      "Yesterday, the government relaxed its conditions in light of TC Harold as the country contends with dual emergencies, allowing people to travel to seek shelter, and to congregate in evacuation centres.\n",
      "nan\n",
      "All public gathering are forbidden and all indoors public space should be closed.\n",
      "The cabinet decision to postponement the implementation of all official and popular events, conferences, seminars, workshops and the reduction of gatherings, as well as the closing of events halls, public parks and traditional steam baths. \n",
      "The decision of Ministry of Planning and International cooperation to banning the implementation of all events, training courses and activities for organizations.  \n",
      "employees. reducing the number of employees with 80% and  preventing gathering of more than eight people in the public sector, and with regard to the private sector, the working hours are limited to the necessary operations, taking all precautionary measures. closing female hairdressing salons. 2 weeks then further reviewed.\n",
      "Restrictions on all public mass gathering and social distancing is mandated to prevent infections. Organisations within country have been requested to reschedule public events or use technology to advance their agenda. \n",
      "Discretionary travel to places such as shopping malls or social visits should be minimized\n",
      "Conferences, meetings and workshops involving large groups of people should not be held until further notice\n",
      "Institutions should take measures to ensure that there is no crowding at the service points or work stations\n",
      "All public gatherings should not exceed 50 persons. These include religious fellowship, weddings, conferences, workshops and funerals.\n",
      "Hospital visits have been reduced to one visit per day, involving one relative per patient.\n"
     ]
    }
   ],
   "source": [
    "measure_rows = source_data.loc[\n",
    "    source_data.MEASURE.isin([\n",
    "        'limit public gatherings','Limit public gatherings']),]\n",
    "\n",
    "for ir, row in measure_rows.iterrows():\n",
    "    print(row['COMMENTS'])\n"
   ]
  },
  {
   "cell_type": "code",
   "execution_count": 102,
   "metadata": {},
   "outputs": [
    {
     "data": {
      "text/plain": [
       "154"
      ]
     },
     "execution_count": 102,
     "metadata": {},
     "output_type": "execute_result"
    }
   ],
   "source": [
    "len(measure_rows.COUNTRY.unique())"
   ]
  },
  {
   "cell_type": "markdown",
   "metadata": {},
   "source": [
    "Very good data on public gatherings; however it is heterogenous and only distinguishes in text what level of limit is applied."
   ]
  },
  {
   "cell_type": "markdown",
   "metadata": {},
   "source": [
    "## General curfews"
   ]
  },
  {
   "cell_type": "code",
   "execution_count": 89,
   "metadata": {},
   "outputs": [
    {
     "name": "stdout",
     "output_type": "stream",
     "text": [
      "The Afghan Ministries of Public Health and Interior jointly announced that the city of Kabul would be placed on lockdown for 21 days due to spread of the COVID-19 coronavirus. Residents may only move outside their homes to obtain essential food and medicine; and provide caregiving. According to the government, vehicles carrying more than four passengers, as well as buses, are prohibited from traveling in and out of Kabul. \n",
      "All restricitive measures (curfew, public service close, limit gatherings etc.) are now indefiitnely suspended until further notice\n",
      "Modified (from original 16hour curfew on 23/3/2020) A full curfew is enforced on the weekends from 17.30 on Fridays to 05.00 on Mondays. *Exceptions are made for healthcare workers and for the transport of food items, supplies and medicine\n",
      "Bilda (complete confinement - all movement in and out is prohibited) and Algiers \n",
      "all wilayas have implemented a partial lockdown until at least 19 April.\n",
      "Blida extended until at least 19. april 2020\n",
      "Ain Defla, Bejaia, Medea, Oran, Setif, Tipaza, Tizi Ouzou and Tlemcen provinces: Curfew has been extended from 15.00 to 07.00 until at least 19 April.\n",
      "A 24 Hour curfew from Thursday, April 2 from 12:01 a.m. (immediately after Mid- Night Wednesday) to Thursday, April 9 (Mid-Night), 2020 has been imposed. This time period will be reviewed and may be extended. no movement during the day by non-essential workers except for food and emergency supplies. Private vehicles are limited to two occupants. Persons are confined to their places of residence during the 24-Hour curfew hours. Essential workers and others should continue to practice social distancing of six feet between persons. PERSONS IN CONTRAVENTION ARE LIABLE TO PAY A FINE OF $5, 000 OR TO IMPRISONMENT FOR SIX MONTHS OR TO BOTH FINE AND IMPRISONMENT THE POLICE AND DEFENCE FORCES WILL BE ON PATROL TO ENFORCE THE PROTOCOLS OF THE STATE OF EMERGENCY.\n",
      "\n",
      "extension of 24 hr curfew from until April 16 ; A person who fails to comply with these special measures commits an offence and is liable on summary conviction to a fine of five thousand ($5,000.00) dollars or to imprisonment for six (6) months or to both such fine and imprisonment.\n",
      "Until 31st of March included, travels are restricted excepted for valid reasons and population is forced to quarantine. Limited quarantine exemptions include movement to obtain food and medical care and travel to the international airport for ticketed passengers only. Enforced by the police. \n",
      "Lockdown and forced quarantine extended until 12th of april.\n",
      "only be allowed to leave their homes to buy food, receive medical care or exercise. until 31 march \n",
      "Armenia’s government has decided to extend a nationwide lockdown by at least ten days\n",
      "Australia goes into level 3 shutdown: Everyone should stay home unless you are: shopping for essentials, receiving medical care, exercising or travelling to work or education\n",
      "Citizens are suspend all non-essential activities outside their homes and stay in their homes for the duration for one week; ecemptions are essential work, for essential shopping or services, helping someone else, physical activity if alone or with co-living persons\n",
      "All municipalities in Tyrol are under quarantine with no movements in between municipalities\n",
      "Tyrol is aligning itself with the federal line, movement between municipalities is allowed again\n",
      "Cinemas, museums, theatres, entertainment centres and gyms in the country have stopped functioning ; The organisation of mass celebrations and meetings in restaurants and cafes has been prohibited.; Entrance to all boulevards and parks has been prohibited.\n",
      "Restaurants and cafes throughout the country have been closed \n",
      "Malls and large shopping centres have stopped functioning for a month effective from 23rd March.\n",
      "only allowed to leave place of residences under certain specific circumstances: employed as essentail workers; to seek medical assistance; go to grocery store, pharmacy, bank, postal service, attend funeral of close relative (BASED ON PERMISSION VIA SMS: send text to dedicated number with code for activity you want permission to go out for; different codes for citizens vs. foreigners currently in country. no need for permission in case of urgent life threatening matters; first from 24/03 then extended measures from 05/04. to last until 20/04 \n",
      " 24-hour curfew, with some exceptions for essential workers and movement. March 24-31 \n",
      "All residents will be placed on a 24-hour curfew and are to remain at home to avoid contact outside of their family, except for those who have been deemed essential workers, or have special permission from the Commissioner of Police.\n",
      "Residents can leave their homes for essential travel to the doctor, grocery store, bank, pharmacy or to refuel; as well as for outside exercise, not exceeding an hour and a half per day between the hours of 5 a.m. to 9 p.m.\n",
      "Proper social distancing guidelines of at least six feet (6ft.) must be followed at all times while outside the home.\n",
      "All public beaches, markets and docks will be closed, and no vehicles are permitted on any public or private roads for any purpose other than stated above.\n",
      " Emergency Order remains in effect until Wednesday, April 8\n",
      " curfew in place from Saturday, March 28, until Tuesday, April 14, from 8:00 p.m. to 6:00 a.m. for all residents, except those who are part of the essential services. Persons are confined to their places of residence during curfew hours; Limited movement during the day; Continue to practise physical distancing of six feet between persons.  a fine of $50,000, or one year in prison, or both, for anyone found guilty of breaking the curfew. Applies to businesses (including street vendors) too. Agricultural workers employed in areas which require them to be on the road during restricted hours, must be in possession of an emergency pass.\n",
      "All employees of businesses not deemed essential services are asked to work from home over the curfew period Saturday, March 28, to Tuesday, April 14.\n",
      "24-hour curfew from 6:00 p.m. on Friday, April 3 until further notice \n",
      "Police enforced general lock-down limiting the leaving of ones home only for emergencies, helping others and essential errands. Gathering and meetings are prohibited. Companies required to organize telework where possible, without exeption. Measures set to last until 5th April.\n",
      "Towns of Cotonou, Abomey-Calavi, Allada, Ouidah, Sèmè-Podji, Porto-Novo, Akpro-Missérété and Adjarra are under lockdown and isolated from the rest of the country by checkpoints.\n",
      "Forced quarantine. Discotheques, bars, movie theaters, sporting events, large gatherings, gyms, amusement parks, night-time activities at event halls are closed. \n",
      "All public and private actvities are suspended until 15th of April, with few exceptions.\n",
      "Extension of the lockdown to april 15th.\n",
      "The city of Montero is under lockdown, with all travel in and out the city strictly restricted.\n",
      "All individuals across the country will be expected to adhere to a more severe form of social distancing where movement out of the home is only restricted to those performing essential services and transporting essential goods. Those involved will be permitted to travel using the COVID-19 TRAVEL PERMIT that will be issued by Government.\n",
      "28 day extreme social distancing will occur where people may only leave the home to perform essential services or for collecting social protection packages, purchase of usual household or agricultural supplies, and seeking emergency, lifesaving or chronic medical attention. Forms will be necessary to prove ones reaosn to leave the home. \n",
      "A new form is now required for anyone leaving their homes during the lockdown, this form applies for every individual including key workers (previously 2 forms existed, one for key workers and one for others).\n",
      "extended a statewide quarantine until at least April 22\n",
      "All cinemas closed. \n",
      "School closures for one week starting Monday.\n",
      "Kindergartens, however, continue to operate.\n",
      "Closing of public places - galleries, cinemas, halls, all kinds of clubs (for children, pensioners, entertainment).\n",
      "Expanding the activities of social patronage with the possibility of delivering medicines and foodstuffs to the homes of elderly people.\n",
      "Closing of all periodic and temporary markets (Dolni Bogrov, Malashevtsi, etc.).\n",
      "Maximize the opportunities for remote work.\n",
      "Provision and organization of an awareness campaign and additional disinfection in Roma neighbourhoods.\n",
      "Extension of enhanced measures for disinfection of all spaces and institutions.\n",
      "Suspension of night public transport.It is planned that the evening and drinking establishments will be closed for two weeks, but the restaurants and fast food establishments will continue to work. NON COMPLIANCE: Offenders will face \"sanctions\"\n",
      "7-day quarantine for the following neighborhoods (comunas) in Santiago: Santiago Centro, Independencia, Providencia, Ñuñoa, Las Condes, Vitacura, and Lo Barnechea.\n",
      "All habitants from Chilian and Chilian Viejo are obligated to remain at home for 7 days.\n",
      "All habitants from Osorno are obligated to remain at home for 7 days.\n",
      "All habitants from Temuco and Padre Las Casas are obligated to remain at home for 7 days.\n",
      "Extension: Lo Barnechea, Las Condes, Vitacura, Providencia, Ñuñoa and Santiago remain under lockdown until 13th of April. Parts of the Puente Alto is also under lockdown until 13th of April. Lockdown in Punta Arenas is extended until the 15th of April. Lockdown in Temuco y Padre las Casas is extended until 16th of April.\n",
      "Extension: Las Condes, North of Santiago, North of Ñuñoa and Half of Puente Alto remain under quarantine until further notice.\n",
      "End of the lockdown in Lo Barnechea, Las Condes, Vitacura, Providencia, Ñuñoa-South and Santiago-South.\n",
      "nightly curfew as of 16 March from 7pm until 6am in Córdoba, Meta and Santander Departments\n",
      "National forced quarantine and confinment until 12th of april.\n",
      "Extension of the obligatory preventive quarantine (partial lockdown) until the 26th of April. \n",
      "New quarantine regulations applying to Bogota until 27th of April. On odd calendar days, males are allowed to perform limited activities outside the home excepted in the decree and listed below. On even calendar days (e.g. April 18), females are allowed to perform the listed activities. Dog walking and assisting children or the elderly is an exception to these even/odd days and either gender can do these limited activities when necessary.\n",
      "Extension of the partial lockdown until 26th of April. One individual per household allowed to buy food, go to the pharmacy, walk a pet for 20 minutes, access emergency services, attend a necessary medical appointment and access financial services.\n",
      "The entire population must confine at home for 30 days, with exception made for essential travels (buying food or medical transportation). All non essential shops are closed.\n",
      "All residents of Kinshasa, apart from essential workers such as medical staff, would have to stay at home for four days minimum. Update 03/04/2020, the measure has been postponed but is expected to be implemented for 14 days.\n",
      "The Gombe neighborhood of Kinshasa, as well as the city of Goma, are under a 14-day confinement until April 20.\n",
      "Obligatory quarantine for vulnerable population (elderly and people with chronic illnesses).\n",
      "The municipalities of Turiguanó (Moron) and Limpios Grandes (Florencia) are under quarantine.\n",
      "A national lockdown will be enforced from 24 March to at least 13 April. All residents and citizens are required to stay home.\n",
      "Nationwide quarantine from 16 March until 24 March, except for essential needs, helping others and necessary trips to famillies; extended to last until 11th April\n",
      "Stict confinement with a curfew from 9pm to 5am.\n",
      "Business day remain suspended until 12th of april. From 13th of april, each province will be subject to a different level of confinement, between green, orange and red. Movement restrictions have been extended until end of april.\n",
      "The President of El Salvador implemented a 48-hour cordón sanitario for the entire municipality of Metapan following the first confirmed case of Covid-19.   Movement in and out of Metapan is restricted.\n",
      "The President of El Salvador declared a 30-day nationwide quarantine on Wednesday, March 11\n",
      "From March 22, the Government of El Salvador issued a mandatory 30-day home quarantine period for individuals in #ElSalvador. Some exceptions to the quarantine include medical & police services, journalists, food delivery, grocery shopping (1 person per family), and banking.\n",
      "Under the March 22 lockdown, only 1 person per household is allowed out to shop for basic necessities\n",
      "All citizens are compelled to stay at home for the next 21 days except those engaged in indispensable developmental and security tasks. People may only leave their homes for the purpose of buying essential food items during the day (with no more than 2 people going together) and for emergency medical treatment. Citizens in the rural areas engaged in farming and animal husbandry will continue to engage in their vital developmental tasks. Punitive legal measures will be taken on any individual who violates current and previous Government guidelines.\n",
      "The people living on the islands have to stay at home. It is allowed to go to the grocery store, the pharmacy and the doctor. It is only allowed to go to work if it is not possible to do distance work; fines up to 2000 EUR for non-compliance\n",
      "Partial lock-down specified and now also applied to persons living in homeless shelters; they are not allowed to leave the shelter apart for acknowledged reasons\n",
      "Partial lockdown to be enforced for 20 days.\n",
      "All schools and non-essential businesses in the greater Lautoka area have been ordered closed, and the government has asked all who live in the area to stay in the area.\n",
      "Soldiers had been brought in to help police monitor the restricted zone in Lautoka. 12 people appeared in court on Tuesday for illegally entering and leaving the confined area in Lautoka.\n",
      "Extension of lockdown in Lautoka to April 7\n",
      "Suva locked down for 2 weeks from April 3. More than 300,000 people will be confined to their homes. The entire urban area within Delainavesi Bridge, Queens Road, Sawani junction, and the Rewa River bridge would be sealed off and manned by police and military checkpoints, with no one allowed in or out. \"If you're in the boundary you're in, if you're out of the boundary you're out,\" said police commission Sitiveni Qiliho. \"I can not make it any clearer, you will not cross.\"\n",
      "The lockdown of the Greater Lautoka Area (Western division) was lifted on the morning of 7 April.\n",
      "further restrictions of movement, all people requested to remain at home unless for essential purposes starting 17 March to last until 15th April\n",
      " 15-day period of confinement for Libreville, Owendo, Akanda, Ntoum, and Pointe Dénis. During the period of confinement, residents may leave their homes only to perform necessary tasks such as securing food, water, or medicine or if their job involves performing a service that the government has deemed essential.  Individuals should remain in their own communes when they leave their homes to procure essential goods. \n",
      "quarantine order for Marneuli and Bolnisi, two neighboring municipalities one hour south of Tbilisi. Cargo and personal movement within the municipalities will continue, but no one will be allowed to enter or exit the areas. \n",
      "Nationwide lockdown\n",
      "Freiburg started, with ongoing discussions on federal level, a partial lock-down\n",
      "Only essential trips, including for work are still allowed and with more stringent public movement rules\n",
      "Movement of people has been restricted except to get essential items and use public bathrooms, and there shall be no inter-city movement of commerical and private vehicles/aircrafts excpet to deliver essential goods. \n",
      "Movement of people has been restricted except to get essential items and use public bathrooms, and there shall be no inter-city movement of commerical and private vehicles/aircrafts excpet to deliver essential goods. \n",
      "Lockdown instated on the 30/03 will be extended for another week beginning the 13th april, subject to review\n",
      "Lockdown instated on the 30/03 will be extended for another week beginning the 13th april, subject to review\n",
      "Nation wide until further notice. People are only allowed to go out for essential work, health reasons, short walks or to acquire essential supplies. They must carry ID, and the reason for their movements has to be confirmed by their employer or by themselves. Those found violating the rules will receive a 150 euro on-the-spot fine.\n",
      "Citizens must stay at home and limit movement to essential only\n",
      "Extension of the partial lockdown. Food production enterprises continue to operate with staff turnover. Other industrial sectors are closed for 15 days. \n",
      "From April 6 – 12, all municipalities in the Dept of Cortes and the municipality of El Progreso, Yoro are under an absolute curfew. The only exemptions that will apply are for personnel involved in managing the emergency, high government officers, health care workers, first responders, national security and defense personnel, personnel with customs, migration, ports and airports and essential public services, including personnel that works with private power plants; hospitals, medical service centers and laboratories; the maquilas making protective masks and biomedical equipment/supplies needed for the emergency; the agricultural/food sector to guarantee production and distribution of food; gas stations to serve only the sectors authorized in this exemption; public transportation for health purposes and those contracted by businesses to mobilize their personnel; the telecommunications sector, including internet providers and the media – radio, television, newspapers and cable providers; the cargo industry – air, sea and land – for imports, exports, supplies and ports; and, private security service providers. \n",
      "shops and restaurants (excluding food stores and pharmacies) must close at 3 p.m. due to the coronavirus epidemic does not apply to post offices. Post offices will receive customers during the opening hours stated at the entrance. It is important that this regulation does not yet apply to the services sector – such as nail parlors, hairdressers and gymnasiums – meaning that they may remain open beyond 3 p.m. At the same time, we strongly advise everyone to comply with disease control precautions.\n",
      "closure of selected public institutions such as museums (incl. Taj Mahal) until March 31 and postponement of several local elections\n",
      "Partial shutdown of some factories, transportation industry, etc. \n",
      "“The main parts of the government are closed today, but some parts cannot be shut down,”\n",
      "lockdown for 7 days in Najaf governorate as of March 11\n",
      "Imposition of complete lockdown across the Kurdistan Region for 48 hours starting at 12:00 midday on 04/04/2020. Shops, bakeries and all other services will also be shut except for a limited number of pharmacies. Pedestrian traffic is prohibited except for running daily errands and cases of illness. Violators would be prosecuted under the law.  *United Nations agencies and organisations, the international coalition and the commercial movement have been excluded from the curfews between provinces.\n",
      "Ireland has enforced a partial lockdown. People may only leave their homes for 3 reasons: to travel to or from work if you are providing an essential service; to shop for food; to collect medical prescriptions and medical supplies and attend medical appointments; to carry out vital services like caring (including family carers); for brief individual exercise - within 2 kilometres of your house keeping 2 metres away from others for social distancing; for farming.\n",
      "All public health measures introduced which were due to end the 12th of April, will be extended until a further 3 weeks, until the 5th of May.\n",
      "mandatory lockdown: do not go outside unless absolutely necessary. \n",
      " further reducing entry to the public space, imposing responsibility on employers, closing non-essential stores and imposing restrictions on public transport.\n",
      "social distancing, leave home only for specified reasons: getting to/from work, purchasing essential food, medicine, other essential products/services; medical treatment; blood donation; demonstration; legal processes; sports activity (alone or with members of same household); going out for short periods alone or with household only; going for religious ceremony (up to 10 people with 2 meters distance; going to provide assistance to someone with another medical problem/ needs support; essential purposes \n",
      "Northern Italian regions (NUTS2) officially locked down\n",
      "Limitations extended with public parks and playgrounds closing and more restrictions on being outside \n",
      "All production will be closed and strictly only those services remain open that are essential (e.g. pharmacies, health facilities, banks, grocery stores, ...); later extended to 13th April\n",
      "Nationally, the movement between municipalities is banned (apart for essential reasons);  later extended to 13th April\n",
      "General lockdown across component of everyday life; businesses can continue if they implement safety measures\n",
      "Extension: of full lock-down until 3rd May\n",
      "Some exemptions added to essential business continuation, including book stores and children clothes stores, forestry work\n",
      "Government imposes Defense law. All public and private offices shut down for two weeks.  Movement between cities and towns is stritcly prohibilited.  Military is deployed to enforce regulations\n",
      "Korean government will restrict the operation of some facilities, such as religious facilities, indoor sports, and entertainment facilities which are at high risk of infection.\n",
      "Food, water, and basic necessities being available for distribution to residents\n",
      "Lesotho goes into lockdown until the 21st of April. Residents will still be permitted to buy food and seek medical care during this period. Emergency responders, health workers, and security service staff are exempt from the lockdown measures. \n",
      "Liberia announces 3 week partial lockdown. During this period, residents may leave home only for essential journeys like reasons of health and food which should be restricted to your local communities and be limited to a single person per household for a maximum of one hour. The emergency law will last for three weeks and is renewable “until the threat to Liberia from the Covid-19 virus no longer exists\".\n",
      "People residing in this counties are to stay at home for the next 14 days beginning 11:59, Friday 10th March.\n",
      "People residing in this counties are to stay at home for the next 14 days beginning 11:59, Friday 10th March.\n",
      "People residing in this counties are to stay at home for the next 14 days beginning 11:59, Friday 10th March.\n",
      "People residing in this counties are to stay at home for the next 14 days beginning 11:59, Friday 10th March.\n",
      "Only health personell and officials are allowed to leave their home for a week\n",
      "traffic is limited to essential trips only \n",
      "Leaving is allowed for essentials, to get fresh air and work (if home office is not applicable)\n",
      "Strict confinement measures are in place, only those with valid authorization are allowed to move around outside.  Only one person per family is allowed to go to the store at a time.\n",
      "Stay-at-home order is extended.\n",
      "Malawi declares a 21 day lockdown 19th april to midnight 9th May: With the exception of law enforcement officers and providers of essential goods and services, people will need to seek permission to leave the area around their homes. local markets will be allowed to open between 05:00 and 18:00 local time. There is a ban on buying alcohol.\n",
      "Movement Control Order (MCO) in place from March 18-31 in place under the Prevention and Control of Infectious Diseases Act 1988 and the Police Act 1967. Government and private offices apart from those providing essential services are closed. All shops other than businesses dealing with daily essentials – such as food and pharmaceutical stores are closed. The Chief Minister of Sarawak has announced that people will only be allowed to leave their homes in order to buy daily necessities, essential goods and services.\n",
      "From 18 - 31 March 2020, Sarawakians entering the state are subject to the 14-day Stay Home Notice, issued by the State Department of Health and they are not allowed to travel out of Sarawak throughout the 14-day MCO period.\n",
      "All markets, supermarkets, coffee shops and restaurants in Sarawak can only open from 7am to 7pm starting Tuesday (March 24), says the state disaster management committee. Supermarkets, hypermarkets, markets, pharmacies and private clinics were now required to practise social distancing in their premises. \"The police will check the implementation randomly,\"\n",
      "Enhanced MCO: Residents of two areas will not be able to leave their homes for 2weeks when the govt implements an enhanced movement control (MCO) order from 12.01am Friday (March 27). The enhanced order involves 3,570 locals from 650 families and will take effect from March 27 to April 9.\n",
      "On Wednesday (March 25), Prime Minister Tan Sri Muhyiddin Yassin announced that the MCO would be extended by two weeks until April 14 . The first phase of the 14-day MCO is in force from March 18 to 31.\n",
      "Seven Hulu Langat villages under enhanced MCO as 71 tahfiz residents test positive. \"The eMCO will involve 3,918 residents comprising 700 houses. This includes seven villages – two orang asli villages and five Malay villages. \"This order is in effect from midnight today until April 13,\" he said in a statement on Sunday (March 29).\n",
      "second phase of the MCO in effect 1-14 April \n",
      "KL condo put under enhanced movement control order Mar 31- Apr 13. The enhanced MCO will affect 3,200 residents in the 502 condominium units and business premises in the tower.\n",
      "Govts of foreign nationals affected by enhanced MCO in apartment complexes to be notified\n",
      "MCO extended until April 28, PM announces (updated)\n",
      "Masjid India area placed under enhanced MCO\n",
      "Enhanced MCO for Kg Sungai Lui lifted except for tahfiz school and a house\n",
      "Lockdown (“confinement”) beginning 0600 on 20 March and for 2 weeks (until April 4). A later post on their FB page clarified “Confinement means Stay Home”. \n",
      "All non-essential activities in the public, private and social sector are suspended until 30th of April. Mexicans aged bellow 60 are encouraged to self-quarantine whereas those aged above 60, pregnant women and people with health conditions are forced to self-quarantine. The lockdown must be implemented following a 'strict respect' for human rights. \n",
      "the army will be deployed to enforce restriction measures.\n",
      "extension from April 1 to April 30th \n",
      "People may only leave their homes if they are exempt to the lockdown rules (keyworkers), to buy essential items, for medical reasons, or for some exercise in groups of no more than 3. Breaking the lockdown will result in a spot fine or arrest.\n",
      "People may only leave their homes if they are exempt to the lockdown rules (keyworkers), to buy essential items, for medical reasons, or for some exercise in groups of no more than 3. Breaking the lockdown will result in a spot fine or arrest.\n",
      "the Nepal government decided to lockdown the whole country from 24 March at 6AM for one week till 31 March 6AM. This would be a much stricter stay-at-home order that would bring all movement to a halt and also close all government offices, businesses and shops. \n",
      "The Nepal government decided on Sunday to extend its national lockdown by another week till midnight 7 April\n",
      "Extension of lockdown period to April 15\n",
      "Nepal extends coronavirus lockdown until April 27. Tuesday's decision came hours after India extended nationwide lockdown until May 3. Landlocked Nepal shares an 1,800-kilometer (1,118-mile) open border with India.\n",
      "At 11.59pm on Wednesday 25th March, New Zealand will go into full lockdown for 4 weeks as we move into Covid-19 alert level 4. New Zealanders who are outside of essential services must stay at home and stop all interactions with others outside of those in your households.\n",
      "All people are told to remain at home and all but essential businessed are closed for a period of 14 days.\n",
      "All people are told to remain at home and all but essential businessed are closed for a period of 14 days.\n",
      "All people are told to remain at home and all but essential businessed are closed for a period of 14 days.\n",
      "Lockdown due to end on the 13th of april extended for a further 14 days. \n",
      "Lockdown due to end on the 13th of april extended for a further 14 days. \n",
      "Lockdown due to end on the 13th of april extended for a further 14 days. \n",
      "Bethlehem in lockdown after cases confirmed \n",
      " extended the lockdown by one month\n",
      "Panamanians required to stay at home on April 11 and 12\n",
      "14 day national lockdown starting tomorrow March 24\n",
      "2 week lockdown ends\n",
      "PNG's East New Britain under lockdown restrictions for the next 21 days\n",
      "Government of Paraguay has ordered all persons in Paraguay to remain in their homes until april 12, except for necessary travel to obtain food, medicine, medical care, or cleaning supplies. \n",
      "Reinforcement of the partial lockdown: delivery of food and pharmaceutical is only allowed between 5am and 11pm, agro-production is limited to food and beverage.\n",
      "Forced quarantine for two weeks, travels are regulated and limited to buying basic food and pharmaceuticals.\n",
      "Extension of the obligatory quarantine, until 12th of April.\n",
      "Extension of the obligatory quarantine, until 26th of April.\n",
      "On Mondays, Wednesday and Fridays, only men will be allowed out of their homes. On Tuesdays, Thursdays and Saturdays, only women will be allowed out of their homes. On Sundays, no one will be allowed out of their homes.\n",
      "Gender-specific restrictions on movement will be lifted from 13 April, after which men and women will be allowed to leave home for urgent issues on any day Monday - Saturday. The Sunday curfew remains.\n",
      "Full-day curfew for both men and women on 9th and 10th of April. People will not be allowed out of their homes or accommodation on these days.\n",
      "Full lock-down of the multiple regions with only essential services remaining and people allowed to leave their home for those; some include restrictions on leaving the municipality\n",
      "Only grocery shopping and medical purposes legitimate reason for leaving house\n",
      "Duterte approves Luzon-wide ECQ extension until April 30. The entire Luzon is currently under an enhanced community quarantine from which strictly requires residents to stay indoors and limits movement to accessing basic necessities and heightens the presence of uniformed personnel.\n",
      "Mayor orders lockdown of four barangays after one resident positive of the Coronavirus disease today. \"I am ordering a lock down of Upper and Lower Dagsian, Hillside and Scout Barrio in view of this new infection. Only essential travels will be allowed,\" the mayor said. He also directed concerned barangay officials of Upper Dagsian to undergo quarantine.\n",
      "People are not allowed to leave their home, apart for essential matters, including any kind of work\n",
      "Extended SoE:The rules already enacted in the first period of state of emergency remain, including the duty of home isolation, leaving only for strictly necessary situations.\n",
      "Migrant Worker Camps has been put in full lockdown and guarded by police. it is the area of 32.1 sq.km in the Industrial Area of Doha.\n",
      "Suceava (Suceava county) was placed under strict lockdown. No travel to and from the city will be permitted as well as no movement within the city. The military has been deployed to ensure strict abidance by the confinement rules. Neighbouring villages of Adancata, Bosanci, Ipotesti, Mitocu Dragomirnei, Moara, Salcea, Scheia and Patrauti (all Suceava county) have also been closed. Extension of the entire county has not been ruled out by authorities.\n",
      "the commune of Tandarei (Ialomita county) has also been placed under lockdown, enforced by the same security apparatus.\n",
      "From March 28 – April 30, the Government of the Russian Federation has declared a \"holiday\" for all Russians in order to slow the spread of COVID-19. In Moscow, and many other cities, all businesses except for grocery stores and pharmacies will be temporarily closed.  Restaurants may provide delivery services only.  All individuals are strongly encouraged to stay home, except to obtain food, medication or emergency medical services.\n",
      "Announcement of lockdown for the country of Rwanda for a period of 2 weeks. Preventative measures for the next 2 weeks: non-essential movement outside the home is not permitted, all employees shall work from home except those providing essential services, non-essential shops and markets are closed, all bars are closed, and motos/restaurants/cafes may only provide take-away/delivery services.\n",
      "Partial scale down of all non-essential economic and social activities for a two-week period commencing from date *until April 5\n",
      "extension of lockdown from  the period of quarantine which was to end on April 5, will be extended to April 14. \n",
      "All persons of the age of 60 and above are to remain at home and must not move out and about in public, unless he or she is seeking medical attention at any health facility.\n",
      "Samoa under 2 week lockdown -effective midnight Mar 25 - April 8\n",
      "lockdown in Makkah, Madinah and Riyadh – no residents are allowed to enter or leave these cities – with immediate effect from 25 March; as well as a lockdown on circulation between the kingdom’s 13 regions\n",
      "Authorities have imposed a 24-hour curfew on 7 neighbourhoods in Jeddah. The curfew, which effective as of 15.00 on 4 April, will apply to the following neighbourhoods: Al-Mahjar, Al-Qurayyat, Ghulail, Kilo 13, Kilo 14 North, Kilo 14 South and Petromin. Entrance to and exit from these seven neighbourhoods in the Jeddah governorate is forbidden but residents can leave their homes to receive health care and buy food in their area between 06.00 and 15:00.\n",
      "authorities announced a total curfew in six districts in Medina (Medina province) until further notice: Al Jomaa, Al-Sherbat, Bani Dhafar, Qurban, and some areas of Al-Iskan and Bani Khidrah.\n",
      "until 8. April 2020. police deployed \n",
      "Sierra Leone announces 72 hour lockdown 5th, 6th, 7th of april are dyas where everyone is to stay at home.\n",
      "The Ordinance sets out the business hours for grocery stores, which will begin no later than at 8:00 and end no earlier than at 20:00 every day. From 8:00 to 10:00, all vulnerable groups, which include disabled persons, retired persons and pregnant women, will be given priority in making purchases as well as entering a shop. All shops will be closed on Sundays and work-free days except petrol stations and pharmacies, which may operat\n",
      "All of South Africa will go into total lockdown from the midight 26th March until 16th of April . This means individuals will not be allowed to leave their homes except for strict reasons (aside from essential workers in the response). Detention and/or fine will be punishment for breaking the rules.\n",
      "South Africa has decided to extend its inital 21 day lockdown (which was due to end on the 16th April) for a further two weeks.\n",
      "Some villages\n",
      "Movement only allowed for: travel to make essential purchases (food, hygiene, health, first necessity), in strict compliance with basic precautionary measures; travel to his place of work and return to his usual place of residence; travel to access banking services; travel to provide care and assistance to vulnerable people; travel in cases of force majeure.; fines from 100 to 600.000 EUR\n",
      "Country-wide lock-down with only essential workplaces remaining open, set to last until April 9th\n",
      "Some sectors, including construction and manufacturing were allowed to go back to work\n",
      "Two villages sealed off after COVID-19 patients found\n",
      "Continued: The areas in Colombo, Kalutara and Kandy which have been demarcated as isolated areas will remain in that status until further notice and no one is permitted to enter or leave these isolated villages until further notice.\n",
      "Cheena Koratuwa and Pannila areas In Beruwala Isolated\n",
      "the Atalogama village in Bandaragama in Kalutara district, which had been isolated since March 29 after finding coronavirus infected, has been re-opened after completing the isolation period.\n",
      "Khartoum will from Saturday go on a three-week lockdown to curb the spread of coronavirus.\n",
      "Omdurman will from Saturday go on a three-week lockdown to curb the spread of coronavirus.\n",
      "The closure of all non-essential work, including private companies irrespective of health measures implemented as done for the rest of CH\n",
      "Extension until 26th April: Reasons for leaving home are for groceries, health, help someone and work\n",
      "Some areas have been subject to total lockdowns including in Mneen, rural Damascus, and alSit Zaynab, an area of pilgrimage, also in Rural Damascus, until further notice, in addition to Al-Tay neighbourhood in Qamishli city. \n",
      "authorities in NES continue to implement curfew restrictions until at least 21 April, as well as closure of all non-essential public and private facilities, offices and shops. All gatherings and events remain cancelled. A decree released by local authorities stated that fines will be imposed (ranging from SYP 5,000-45,000) for curfew violation. \n",
      "Governor of Bangkok and provincial governors in surrounding zones ordered the temporary closure of high-risk places. \n",
      "From 3 April a daily curfew is in place nationwide from 22.00 to 04.00. Essential services are exempted from this restriction.\n",
      "Pattaya city (Chon Buri Province) is under lockdown from 9-30 April. Non-residents are barred from entry.\n",
      "Lomé, Tsévié, Kpalimé et Sokodé under lockdown.\n",
      "The cities of Lomé, Tsévié, Kpalimé and Sododé are under lockdown.\n",
      "Tonga's Prime Minister Pohiva Tu'i'onetoa has declared a national lockdown for one week starting this Sunday 29 March at 1am and ending Sunday 5 April. The lock-down requires everyone to stay at home. The exception to the isolation order includes purchasing or supplying essential consumer goods, obtaining medical supplies or seeking medical assistance, access to banking and other financial services and attending work as a member of an essential service provider.\n",
      "extension to the national lockdown to Sunday 12 April\n",
      "A two-day curfew has been renewed on  31 of the country’s 81 provinces, namely Adana, Ankara, Antalya, Aydin, Balikesir, Bursa, Denizli, Diyarbakir, Erzurum, Eskisehir, Gaziantep, Hatay, Istanbul, Izmir, Kahramanmaras, Kayseri, Kocaeli, Konya, Malatya, Manisa, Mardin, Mersin, Mugla, Ordu, Sakarya, Samsun, Sanliurfa, Tekirdag, Trabzon, Van and Zonguldak. This affects the capital Ankara and the commercial capital Istanbul (Istanbul province). The curfew will operate from 00.00, 18 April - 00.00, 20 April.\n",
      "14 day lockdown announced. All people to people movement by everybody including those using their private vehicles, bodabodas, tuk-tuks, etc is prohibited.\n",
      "Uganda extends lockdown which was due to end on the midnight April 14th for further 21 days. All control guidelines previously announced will remain in place. This includes closure of national borders, a dusk-to-dawn curfew, and a ban on public transport.\n",
      "Namibia's lockdown, due to end on the 17th of April, will be extended to midnight on the 4th of May.  \n",
      "Only pharmacies, grocery stores should remain open: Ukraine's health chief on minimizing Covid-19 spread\n",
      "extension: self isolation regime extended until late april \n",
      "national sanitation programme declared effective for 24 hours a day until 4 April. Individuals are prohibited from leaving their homes during the cleaning and disinfection programme, except for essential purposes or if they work in a vital sector.\n",
      "in Dubai, \"national sanitation programme\" extended until at least 18. april 2020\n",
      "n the Dubai emirate, a 24 hour remain-at-home directive has been imposed. Exceptions are for those travelling to acquire groceries or medicines. Only one person from each household is permitted to conduct these moves\n",
      "General lockdown in UK of immediate effect. People are only permitted to leave home for 3 reasons: shoppig for basic necessities as infrequently as possible, one for of exercise a day (alone or with members of your household), any medical need, and travelling to and from work but only where this is absolutely necessary and cannot be done at home. \n",
      "65+ are asked to remain at home. \n",
      "Construction sector to start working again.\n",
      "Aneityum Island and the small, adjoining Mystery Island, are now \"under temporary lockdown\" after a passenger reportedly infected while onboard the cruise ship, Voyager of the Seas, visited the island\n",
      "Partial quarantine expanded to entire country.\n",
      "Zimbabwe will go into lockdown for three weeks from Monday. All will be required to stay at home, except to buy food and access vital health services. Security agents will be deployed to enforce it. Only State and health workers and those who maintain key infrastructure such as power, water and sanitation, among others, will be exempted from the lockdown. Alcohol sale will be banned during this period.\n"
     ]
    }
   ],
   "source": [
    "measure_rows = source_data.loc[\n",
    "    source_data.MEASURE.isin([\n",
    "        'Partial lockdown', 'Full lockdown']),]\n",
    "\n",
    "for ir, row in measure_rows.iterrows():\n",
    "    print(row['COMMENTS'])\n"
   ]
  },
  {
   "cell_type": "code",
   "execution_count": 90,
   "metadata": {},
   "outputs": [
    {
     "data": {
      "text/plain": [
       "101"
      ]
     },
     "execution_count": 90,
     "metadata": {},
     "output_type": "execute_result"
    }
   ],
   "source": [
    "len(measure_rows.COUNTRY.unique())"
   ]
  },
  {
   "cell_type": "code",
   "execution_count": null,
   "metadata": {
    "collapsed": true
   },
   "outputs": [],
   "source": []
  },
  {
   "cell_type": "code",
   "execution_count": 69,
   "metadata": {},
   "outputs": [
    {
     "name": "stdout",
     "output_type": "stream",
     "text": [
      "16-hour curfew. Individuals are only allowed to leave their homes from 05:00 to 13:00. All movement is prohibited outside of those windows, including both vehicular traffic and pedestrian movement. Exceptions are made for healthcare workers and for the transport of food items, supplies and medicine. Grocery stores and banks are only permitted to open from 05:00 to 13:00.\n",
      "Modified (from original 16 hour curfew on 23/3/2020). Individuals are now only allowed to leave their homes on weekdays from 05.00 to 17.30 to visit grocery stores, pharmacies and banks. All movement is prohibited outside of those windows, including both vehicular traffic and pedestrian movement. *Exceptions are made for healthcare workers and for the transport of food items, supplies and medicine\n",
      "Bilda and Algiers from 7 pm to 7 am.\n",
      "expanded to include provences: Algiers, Batna, Tizi Ouzou, Setif, Tipaza, Constantine, Medea Oran, El Oued, Boumerdes, Bejaia, Ain Defla, Mostaganem and Bordj Bou Arreridj from 7 pm to 7 am.\n",
      "all wilayas have implemented a curfew from 19.00 to 07.00 (local time) until at least 19 April.\n",
      "curfew from 8pm to 6 am beginning March 28 to end April 11; defense force will patrol streets to ensure compliance (\"persons in contravention are liable to pay a fine of $5,000.00 or imprisomnment for 6 months or both fine and imprisonment \n",
      "Curfew 18.00 to 05.00 - Police enforced. \n",
      "curfew for all nonessential workers from march 28 to april 14 from 6pm to 6 am\n",
      "extended to May 3. Government will be putting measures in place to facilitate fruit and vegetable vendors during the curfew period\n",
      "General curfew from 17:00-6:00\n",
      "Financial institutions and stores are only allowed to open between 8am and 12am.\n",
      "Movement from 6pm to 5am banned\n",
      "24 hours curfew for those 65+ and a general curfew of 2000 to 0500 \n",
      "Temporary easing of the curfew for those aged 65+ from April 6 through Friday, April 10, from 8am to 12pm; including general recommendation to public to limit movement during those times\n",
      "From 1900 to 0500\n",
      "Some essential serices are subject to opening hours, namely: Catering services can maintain their respective activities, exclusively for the purpose of home delivery between 10 am and 9 pm;\r\n",
      "Home delivery e-commerce services can maintain their activity between 8 am and 9:30 pm;\r\n",
      "Services for the supply, distribution, sale and supply of food, including bakeries, hygiene and cleaning goods and other essential goods, can maintain their activity until 8 pm.\n",
      "Curfews placed on essential service home delivery catering firms, e-commerce firms and services for the supply, distribution, sale and supply of food, including bakeries, hygiene and cleaning goods and other essential goods\n",
      "Curfew on bars and restaurant from 6pm.\n",
      "Mandatory curfew in several provinces bordering Cameroon between 7pm and 6am for at least two weeks. \n",
      "Extension of the mandatory curfew between 7pm and 6am to the cities of Mandella, Logone-Gana and N'Djamena-Farah.\n",
      " Nationwide curfew between the hours of 2200 and 0500 until further notice.\n",
      "Extension of the curfew to 2pm - 5am.\n",
      "National curfew from 8pm to 5am, during 30 days.\n",
      "National curfew between 2100 and 0500.\n",
      "partial curfew will be in place for 14 days.  Individuals may only leave their residences to seek goods and services from essential personnel and businesses.  All public sector employees except for the police force, fire department, health, civil aviation, finance and similar services will be under administrative leave until March 27, 2020.  Private sector businesses except those which provide basic needs such as groceries, bakeries, gas stations, pharmacies, etc., will also be closed until at least March 27.  All business hours are restricted from 07:00 to 18:00.\n",
      "Curfew between 09.00 and 06.00 every night. The fine for those found disobeying the ban on movement has been doubled to €300. *exceptions those who need to be at work during those hours, who will have to carry a confirmation form signed by their employer (Form A). People are only allowed to leave their homes once a day and only if they receive permission after sending a text message to 8998. Only those over 65 will be allowed to fill out the printed form (Form B). ****One of the measures under consideration is an ankle bracelet usually used for persons under house arrest so that their movements can be monitored.****\n",
      "extended until 30/4/2020: A curfew is in effect from 21:00 to 06:00 except for people holding a relevant employee movement certificate.\n",
      "extended until at least 17/4/2020: general curfew is in effect from 21:00 to 06:0. Individuals may only leave their residences to seek goods and services from essential personnel and businesses.\n",
      "Evening curfew implemented from 20 March until 3 April between the hours of 8pm and 6am. Applies to all persons in the country, except those with specific exemptions. \n",
      "Change to curfew time: new curfew between the hours of 5pm and 6am (local time)\n",
      "Change in curfew times: 7pm to 5am.\n",
      "Curfew in Guayas province is from 4 p.m. to 5 a.m\n",
      "Changes in curfew time: 2pm to 5am.\n",
      "two weeks the Government of Egypt will begin enforcing a nighttime curfew from 7:00 p.m. to 6:00 a.m. Anyone who violates the curfew could face a 4000 EGP fine or possible imprisonment.\n",
      "Restaurants and dining rooms which provide prepared food services must close at 21:00h.\n",
      "Under 30 day Health State of Alarm: All stores selling clothes, various materials, supermarkets, general stores, pharmacies, hair salons, and stores selling electrical goods, electrical goods, household goods and utensils must remain open in a timetable that may not extend beyond 20:00h.\n",
      "Fiji will be under a nationwide curfew from 10pm to 5am daily from Mar 30 because Fijians were not taking seriously the advice to restrict movement.\n",
      "Nationwide, the nightime curfew is extended. Previously 10pm to 5am, it will now begin at 8pm.\n",
      "TC Harold - The restriction of movement has been eased with businesses open but the government said Covid-19 restrictions and the curfew which starts at 8pm tonight, remained in force.\n",
      "Country-wide curfew between the hours of 7:30 p.m. and 6:00 a.m.\n",
      "between 21.00 and 06.00.\n",
      "A curfew is in effect March 23 – April 6 throughout Greece.  Violators will be fined 150 Euros per violation.  You must carry your passport or other identification at all times and have a valid reason to be out.  Follow instructions on the Greek authority’s website.  Type A movement is for work (contact your employer), Type B is an essential personal movement (supermarket, pharmacy, etc. as defined on the form).\n",
      "effective Sunday, March 22, a nationwide curfew will take effect. The curfew is from 4:00 p.m. to 4:00 a.m. and is scheduled to be in effect until March 29. Everyone in Guatemala, including foreigners, is expected to remain in their homes during curfew hours. The only exceptions are for police, private security, medical professionals and ambulances, food delivery drivers, and certain other essential personnel. While food delivery service will continue during the curfew, grocery stores are expected to close before the curfew takes effect. The Guatemalan police and security forces will enforce the curfew.\n",
      "On March 28, Guatemala extended their curfew through to April 12.\n",
      "Under curfew extension - The curfew lasts from 4:00 p.m. to 4:00 a.m. each day. Every individual in Guatemala — including U.S. citizens — is required to remain inside their domicile during curfew hours (with exceptions for health and security).\n",
      "Under curfew extension - grocery and restaurant delivery services are no longer allowed to operate between 4:00 p.m. and 4:00 a.m.\n",
      "National curfew from 21:00 to 05:00 \n",
      "Circulation and trade of goods are only restricted from 07am - 11am\n",
      "National curfew between 8pm and 5am. Factories are closed until further notice.\n",
      "On March 16, 2020, the Government of Honduras announced a total curfew in Tegucigalpa, Choluteca and La Ceiba, which was later extended to the entire country until Sunday, March 29, and could potentially be extended after this time. This curfew severely limits the movement of the general population. According to the announcement, individuals encountered outside without a legitimate reason, such as a medical emergency, risk arrest by police.\n",
      "According to the PCM 021-2020 executive agreement, this curfew measure will be in force throughout the national territory until next Sunday, March 29 at 3:00 p.m. \n",
      "The Government of Honduras announced the extension of a total curfew through Sunday April 12, 2020 for the entire country. Security forces have been deployed to enforce this curfew. \n",
      "To obtain food, medical and fuel supplies and to access banking services, a system has been set for orderly circulation. The population will be segmented and allowed to circulate according to the ending number of their national ID, passport or resident ID. On Monday – those whose ID, passport, or resident ID end in 1, 2, and 3 are allowed to circulate. Wednesday – those whose ID, passport, or resident ID end in 4, 5, and 6. Friday – those whose ID, passport, or resident ID end in 7, 8, 9, and 0. No circulation is allowed Tuesday, Thursday, Saturday, and Sunday, other than the exemptions established in Executive Order PCM-021-2020 and showing letter of safe passage if required by authorities.\n",
      "From 7:00 to 9:00 a.m., the authorized establishments (supermarkets, pharmacies, banks and gas stations) will serve only customers over 60, pregnant women and the disabled (Monday, Wednesday, and Friday and according to the end number of the ID).\n",
      "Only 2 persons per vehicle are allowed and only one of those persons is allowed in the establishments. Non-compliance with this measure is subject to the confiscation of the vehicle for the duration of this emergency, as well as the detention of the persons on board for up to 24 hours, as established by law.\n",
      "Supermarkets, pharmacies, banks and gas stations will open Monday, Wednesday and Friday from 9:00 a.m. to 3:00 p.m.\n",
      "Heavy machinery, persons with letter of safe passage, producers of the food chain, and SINAGER staff are allowed to circulate during the emergency, justifying their work, subject to biosecurity measures established by their institutions.\n",
      "During April 6-12, pharmacies will be allowed to make home deliveries between 7:00 a.m. and 5:00 p.m in the municipalities in the Dept of Cortes and the municipality of El Progreso, Yoro \n",
      "Members of the media are allowed to circulate without restriction as long as they can justify to the authorities  that they are on assignment, show their media’s ID or their press ID. They should also comply with biosecurity measures – wear protective masks, use anti-bacterial gel and other protective measures.\n",
      "The Government of Honduras has extended the curfew until 3:00 p.m. April 19, 2020.\n",
      "Tomorrow only, Friday, April 10, only people whose identification number ends in 7 or 8 will be able to shop and do other essential errands. Saturday April 11 only, people whose identification number ends in 9 and 0 will be permitted to shop and do other essential errands. Thereafter, on Saturdays and Sundays nobody will be allowed to circulate, with the exception of those exempt from the circulation restrictions – including U.S. citizens carrying their “salvoconducto” letters.\n",
      "From April 6 through Tuesday, April 21, all municipalities in the Department of Cortés and the municipality of El Progreso, Yoro are under an absolute curfew.\n",
      "From Saturday April 11 at 12:00 am through Tuesday April 21, all municipalities in the Department of Colón are under an absolute curfew.\n",
      "Courfew in the city of Baghdad for at least one week\n",
      "24-hr curfew in Baghdad  and Kurdish region \"IKR\"(until at least 24. March)\n",
      "extended a 24-hour curfew in Baghdad and kurdish regions from March 17-28, 2020. The curfew excludes: pharmacies, medical stores, grocery stores, bakeries, and gas stations.  Additionally, it excludes medical, security, and media personnel, and the staff of internet service providers.\n",
      "Extension of total curfew across the Kurdistan Region staring from 01 April to 10 April. Drivers in violation would be penalized according to the previous regulations. (The curfew, first imposed at 12:00 midnight on 13 March until 12:00 midnight 15 March, then extended until 12:00 midnight 18 March inside the cities of Erbil and Sulaymaniyah, and extended across the Kurdistan Region until 01 April.)  No government employee, officer or civil servant who work in other parts of Iraq is allowed to return to the Kurdistan Region until 1 April 2020, even if they are residents of the Kurdistan Region. Provincial and district energy and electricity officials will become members of the Operation Rooms to coordinate the supply of electricity, staff movement and delivery of fuel to power stations. People must stay in their homes to allow medical teams to carry out their mission. Upon any suspicion, you are advised to call 122 and suspected cases must stay put until medical teams reach you.*United Nations agencies and organisations, the international coalition and the commercial movement have been excluded from the curfews between provinces.\n",
      "daily: 8:00 P.M. to 6:00 A.M. island curfew. The curfew will run for seven days and is scheduled to end at 6:00 A.M. on April 8, 2020.\n",
      "indefinite countrywide curfew. All domestic movement is prohibited and all shops, including those that sell food and medicines, are closed until further notice. Exceptions for movement restrictions will be made for emergencies, but require special permission. Authorities stated that on 24 March, they will announce regulations for shop openings as to allow patrons to obtain goods.\n",
      "As of 25 March, the authorities have arrested over 1,600 people for breaking the curfew. In addition, the government has announced that people caught breaking rules would be quarantined for 14 days and could also face up to one year of jail time.\n",
      "48 hrs from 23.59 on Thursday 2 April until 10.00 on Saturday 4 April.\n",
      "extended nationwide curfew (began March 21) now until April 15. The curfew prohibits the movement of people and closes most shops\n",
      "Population aged 16-60 years allowed outside between 10am-6pm to go to small local shops.*Small shops allowed to open during these times\n",
      "Kenya is instating a curfew from 7pm - 5am for all citizens. Only medical professionals and critical and essential service providers will be exempt from the curfew. Kenyatta also announced a series of tax breaks to assist residents affected by the outbreak. \n",
      "Nationwide curfew from 5:00pm until 4:00am; violations fined by 10,000KD and imprisoned for up to three years. Foreign nationals found in violation of the curfew order also risk deportation.\n",
      "Curfew from 19.00 to 05.00.\n",
      "Syrian refugees: At least 21 Lebanese municipalities have introduced discriminatory restrictions on Syrian refugees that do not apply to Lebanese residents. ex: at least eight municipalities, citing COVID-19 concerns, implemented curfews that restrict the movement of Syrian refugees to certain times. The municipalities introduced these measures before the government called for a nationwide curfew, and the restrictions on Syrians exceed those that the government has imposed on the general population. \n",
      "Curfew set from 6pm to 6am, extended on 23rd March for 10 days\n",
      "6pm to 6am curfew set by government; adapted on 30.03.2020 to 14.00 to 07.00 and work hours limited from 9.00-12.00\n",
      "A curfew is in place from 20:00 to 05:00.\n",
      "Curfews from 8pm to 5am is extended.\n",
      "A jobless man was sentenced to 9 months' jail for slapping a guard at a supermarket which was closed during the movement control order (MCO) period on March 25.\n",
      "Sarawakians must remain indoors from 7pm to 7am until March 31 (updated)\n",
      "Ismail Sabri: Eateries, supermarkets, petrol stations and food delivery services to only operate from 8am to 8pm from April 1\n",
      "Between 17:00 and 20:00 all must stay at home and there are restrictions on all road traffic (including pedestrians). There is suspesion of all public transport during these hours. Exceptions for key workers.\n",
      "Between 17:00 and 20:00 all must stay at home and there are restrictions on all road traffic (including pedestrians). There is suspesion of all public transport during these hours. Exceptions for key workers.\n",
      "Between 17:00 and 20:00 all must stay at home and there are restrictions on all road traffic (including pedestrians). There is suspesion of all public transport during these hours. Exceptions for key workers.\n",
      "National curfew between 9pm and 5am.\n",
      "Mauritania has announced a nationawide curfew of 8pm - 6am\n",
      "Curfew imposed from 23 March at 20:00 until 2 April at 20:00. Only those providing essential services and who have a permit will be able to travel. Workplace Access Permits required during curfew, as enforced by the Mauritius Police. Implementing restricted areas. \n",
      "Handicap individuals and persons over 60 years of age will now be the only ones allowed in supermarkets between 0900 and 1000 hrs. Adjusted (read: shorter) hours on the opening hours of other facilities open during confinement. \n",
      "Supermarkets, stores, and cafes will be closed from 25 March to 31 March. If you break curfew, you have to pay 500 roupie and 6 months in prison. \n",
      "Announced that the curfew (lockdown) will be extended until 15 April at 20:00 hrs. \n",
      "valid for 15days: ban on leaving the housing facility for citizens, from Monday to Friday, from 7pm to 5am the following day, and Saturday from 1pm to 5am on Monday. Exceptionally, for the duration of this ban, persons who take their pets out for a walk may stay in the public place for up to 60 minutes. This prohibition does not apply to persons who carry out regular tasks and provide services of public interest, and are an indispensable condition of life and work of citizens (health, inspection bodies, police, military, fire services, utilities, media - including persons coming to media shows, agricultural activities on farms, etc.), as evidenced by a certificate issued by the employer\n",
      "valid for 15days: ban on being outdoor in an open public place, from 5am to 7pm hours for children under the 12 years of age, without the presence of one parent, guardian, adoptive parent, breadwinner or other adult member of the family household, with the obligation to observe the prescribed distance measure from other persons for at least two meters\n",
      "from 1 April SoE: Formal and informal markets must operate from 6 am to 5 pm only;\n",
      "A curfew is in effect from 7 p.m. to 6 a.m. in the city of Niamey.\n",
      "people under 18 will be able to go outside only between 12.00 and 21.00 and people over 67 between 05.00 and 11.00.\n",
      "nationwide: between 21.00 and 05.00, effective from 22 March. On Saturdays and Sundays the curfew is in effect from 4 p.m. to 5 a.m. On Mondays through Fridays the curfew is in effect from 9 p.m. to 5 a.m.  People in need of emergency medical assistance are exempted. Within the villages, agricultural related activity is exempted from the curfew.\n",
      "people under 18 will be able to go outside only between 12.00 and 21.00 and people over 67 between 05.00 and 11.00.\n",
      "Curfew on minors implemented indicates that all people under the age of 18 must remain indoors from 19.00 to 06.00. The introduction of the curfew is based on Article 2 of the Civil Defence Law 21/1979.\n",
      "Effective March 18, the government of Panama has announced there will be an indefinite nationwide curfew between the hours of 9:00 p.m. and 5:00 a.m.\n",
      "nationwide curfew from 9:00 p.m. to 5:00 a.m.  There are some exemptions:  public services, hospitals, airports/ports, pharmacies, gas stations, supermarkets, food delivery services, the energy sector, and emergency services, among others\n",
      "Effective Tuesday, March 24, The Government of Panama will expand a nationwide curfew from the current times of 9:00 p.m. to 5:00 a.m. to 5:00 p.m. to 5:00 a.m.\n",
      "On March 24, Panama's President announced that the public will need to quarantine and self-isolate themselves starting from 05:01 (local time) on Wednesday, March 25, to limit the spread of the coronavirus (COVID-19). Authorities did not specify how long the curfew measures will remain in place. Decree 504 established that people who break health regulations and quarantines could be fined​ between $50,000 to $100,000.\n",
      "Curfew instaured from 8pm to 4am.\n",
      "National curfew between 8pm and 5am.\n",
      "Nationwide curfew between the hours of 18:00 to 05:00. \n",
      "Curfew between the hours of 16:00 to 05:00. \n",
      "National curfew from from 6:00 p.m. – 5:00 a.m. for most of Peru (including Lima and Cusco).\n",
      "Mandatory daily curfew from 4:00 p.m. – 5:00 a.m. for Tumbes, Piura, Lambayeque, La Libertad and Loreto regions.\n",
      "Many local government units (including in Metro Manila) have announced overnight curfews (most commonly between 2000 and 0500)\n",
      "Full 24h curfew for students and elderly \n",
      "In Davao region, a daily curfew has been imposed between 21.00 and 05.00 since 4 April. Work from home is being enforced except for those in essential services\n",
      "In Davao City, daily curfew timing will be adjusted to 18.00-06.00 from 7 April. Residents can only leave the house with a Food and Medicine (FM) pass. Work from home is being enforced except for those in essential services\n",
      "Minors under age 18 are not allowed outside on their own without a parent or guardian\n",
      "A curfew is in place between 22.00 and 06.00. The purpose of movement must be documented with a letter from the employer or the individual’s statement under oath. The statement must include the individual’s name, date of birth, address, place of work, reason for movement, date of statement and signature. \n",
      "as of Monday, March 30, a curfew will be in effect from 8 p.m. to 5 a.m.\n",
      "21 days. A night curfew between 19.00 and 06.00 will be imposed for 21 days starting from 23 March. BUT curfew will begin at 15.00 instead of 19.00 in the three cities of Riyadh, Mecca and Medina. **exceptions: apply to those in vital public and private sectors such as security, military and media. Those who work in health services are also excluded from the curfew.\n",
      "A night curfew between 15.00 and 06.00 will be imposed from 8 April until further notice. The ministry said curfew exemptions still apply to those in vital public and private sectors such as security, military and media. Those who work in health services are also excluded from the curfew. The recently imposed curfew will begin at 15.00 instead of 19.00 in the cities of Dammam, Mecca, Medina, Riyadh and Taif, and Qatif governorate until further notice.\n",
      "A 24-hour curfew is in effect in the capital Riyadh, Tabuk (Tabuk province), Jeddah, Taif (both Mecca province), Dammam, Dhahran, Qatif, Khobar (all Eastern province), and Hofuf until further notice \n",
      "A 24-hour curfew is in effect in  Mecca, Medina until further notice.\n",
      "24 hour curfew for residents over 65 in urban areas and 70 in rural areas, except on Saturday from 3 a.m. to 8 a.m. for the purpose of buying groceries.\n",
      "Curfew instated from 9pm to 6am in the country.\n",
      "curfew exercise in the capital Honiara from 8pm to 5pm Friday night and Saturday as part of preparations for a potential outbreak of Covid-19. During that time, residents of Honiara city are called on to remain in their homes. Shops and businesses are also not expected to open during the curfew hours.\n",
      "Government of Somalia imposes night curfew in Moghadishu starting at 8pm April 15, from 8:00pm and 5:00am local time. No date has been set for lifting the curfew. It will not affect shops that are selling dry foods, hospitals and pharmacies, officials say. \n",
      "South sudan has curfew from 8pm to 6am.\n",
      " Sri Lanka Navy arrests 20 people for violating police curfew\n",
      "Indefinite curfew imposed in the Puttalam, Chilaw and Negombo Police Divisions\n",
      "Island wide curfew 6.00 pm today (March 20) until 6.00 am on Monday (March 23). imposed to stop the spread of Corona – quarantine centres increased to 22\n",
      "The Police have arrested 30 persons for violating curfew\n",
      "nearly 45,000 police officers have been deployed in the country for official duties. The police officers have been deployed to take immediate action against the curfew violators.Steps will be taken to seal the immovable property of the violators and seize the movable property\n",
      "The Police Media Spokesman SP Jaliya Senaratne warned the public not to step out of their homes other than for a very urgent requirement, adding that those who do so could be arrested even without a warrant. During the past 24 hours, 420 persons who violated the curfew had been arrested together with 97 vehicles, SP Senaratne stated. In total, the police had arrested 2682 persons so far for violating curfew and 706 vehicles have been taken into police custody.\n",
      "The curfew which was lifted at 6.00 am today (24) in the Colombo, Gampaha, Kalutara, Puttalam, Mannar, Vavuniya, Mulaithivu, Killinochchi and Jaffna was re-imposed at 2.00 pm.\n",
      "Curfew declared for Colombo, Gampaha, and Kalutara districts at present will be in effect until further notice. The curfew which was lifted at 6.00 am today (24) in the Colombo, Gampaha, Kalutara, Puttalam, Mannar, Vavuniya, Mulaithivu, Killinochchi and Jaffna was re-imposed at 2.00 pm.\n",
      "Curfew, which is in force at present for Puttalam, Vavuniya, Mannar, Kilinochchi, Mullaitive and Jaffna districts, will be lifted at 06.00 a.m. March 27 and will be imposed again with effect from 12.00 noon on the same day.\n",
      "Curfew imposed for the remaining districts of the Island will be tifted at 06.00 am. tomorrow (26th) and will be imposed once again with effect from 12.00 noon on the same day.\n",
      "B/w 20-27 Mar, Police arrest 4,018 for violating curfew. Police also seized 1,033 vehicles including three-wheelers, motorbikes and other motor vehicles used during the curfew.\n",
      "Police Deputy Inspector General (DIG) Ajith Rohana says that those arrested for violating curfew will no longer receive police bail. He further said that the violators will be produced before courts and remanded.\n",
      "Curfew to continue in six districts until further notice. In all other districts, curfew will be lifted at 6.00am tomorrow (30th Monday) and will be re-imposed at 2.00pm on the same day. Traveling to and from all districts is completely prohibited except for the purpose of providing essential services.\n",
      "Bandarawela Police Superintendent Athula de Silva has stated that although curfew will be lifted tomorrow (30) in Badulla district, steps have been taken to close four major towns of the district in order to prevent the spread of COVID-19 coronavirus. SP Athula de Silva told Lankadeepa it was announced by loudspeakers that Welimada, Bandarawela, Haputale and Diyatalawa towns are closed and asked people not to visit the four towns.\n",
      "Curfew to continue in six districts until further notice, will be lifted in others on April 1. The curfew in force in the districts of Colombo, Gampaha, Kalutara, Puttalam, Kandy and Jaffna will continue until further notice, President’s Media Division announced. In all other districts, the curfew re-imposed at 2:00 pm Monday will be lifted at 6:00 am Wednesday, April 01.\n",
      "No ad-hoc decisions at regional level regarding curfew and isolating areas, President Instructs\n",
      "Roadblocks set up in Sri Lankan capital Colombo to prevent spread of COVID-19\n",
      "Sri Lanka utility regulator to provide solutions for electrical and plumbing issues of households during curfew\n",
      "To facilitate the pensioners who are senior citizens of this country to draw their pensions, the Army during past two days, including today (3) provided transport services to take them to their banks from their homes\n",
      "In 19 districts curfew will be lifted at 6am (6th) and will be re-imposed at 2pm on the same day. The re-imposed curfew will continue until further notice.\n",
      "The curfew currently in force in the districts of Colombo, Gampaha, Kalutara, Puttalam, Kandy and Jaffna which have been identified as High Risk Zones in the wake of COVID–19 pandemic will be in effect until further notice.\n",
      "Postal Department to assist home delivery of essential goods\n",
      "there is no restriction placed on the farmers and small tea estates and export crop manufacturing processes in any district and they can engage in their work.\n",
      "The curfew imposed in the districts of Colombo, Gampaha, Kalutara, Puttalam, Kandy and Jaffna which have been identified as High Risk Zones will continue until further notice.\n",
      "In all other districts, curfew has been extended till 6.00am on Thursday, the 16th April. Curfew in these areas will be lifted at 6.00 am on Thursday, the 16th April and will be re-imposed at 4.00 pm on the same day.\n",
      "Curfew of 8pm - 6am.\n",
      "The government increased the curfew to 6pm-6am (was 8pm-6am).\n",
      " the authorities introduced a curfew between 8 p.m. and 6 a.m. in effect until April 12. This measure is renewable.\n",
      "Extension for two weeks: curfews from 8pm to 6am\n",
      "Curfew from 1800 to 0600\n",
      "a weekend curfew commenced, from 12pm to 6am every Friday and Saturday.\n",
      "All residents and tourists are to remain in their residence from 20.00 to 03.00.\n",
      "Mae Hong Son: daily curfew prohibiting anyone from leaving their residence from 10 pm to 4 am.  \n",
      "Phitsanulok Province requested that anyone in the province stay at home from 11 pm to 5 am beginning April 1.\n",
      "National curfew from 8pm to 6am.\n",
      "Curfew extended in Tchaoudjo from 8pm to 6am.\n",
      "Under the lockdown, night-time curfews will be in place from 8pm to 6am and will be enforced by the Police, the Armed Forces and other authorised officers.\n",
      "Night time curfews will apply during the lockdown period, from 8:00pm to 6:00am to be enforced by Tonga Police and His Majesty's Armed Forces.\n",
      "Partial curfew on citizens aged over 65 or with chronic diseases; groups have been created to meet their needs.\n",
      "Curfew imposed on 4 April for individuals younger than 20.\n",
      "There will be a curfew throughout the whole of Uganda from 19:00-06:30 with the exception of the movement of cargo planes, lorries, pick-ups and trains.\n",
      "Curfew between 4pm and 10am.\n",
      "The Security Belt Forces (which usually answers to the Southern Transitional Council and not necessarily the Internationally Recognized Government/IRG) have imposed a curfew in Aden from 22:00-06:00. until further notice\n"
     ]
    }
   ],
   "source": [
    "measure_rows = source_data.loc[\n",
    "    source_data.MEASURE.isin([\n",
    "        'Curfews']),]\n",
    "\n",
    "for ir, row in measure_rows.iterrows():\n",
    "    print(row['COMMENTS'])\n"
   ]
  },
  {
   "cell_type": "markdown",
   "metadata": {},
   "source": [
    "Excellent data on general curfews. Not always distinguished from partial lockdowns using the same border that EF draws."
   ]
  },
  {
   "cell_type": "markdown",
   "metadata": {},
   "source": [
    "## Healthcare specialisation"
   ]
  },
  {
   "cell_type": "code",
   "execution_count": 72,
   "metadata": {},
   "outputs": [
    {
     "data": {
      "text/markdown": [
       "#### Public health measures"
      ],
      "text/plain": [
       "<IPython.core.display.Markdown object>"
      ]
     },
     "metadata": {},
     "output_type": "display_data"
    },
    {
     "data": {
      "text/markdown": [
       "##### Strengthening the public health system"
      ],
      "text/plain": [
       "<IPython.core.display.Markdown object>"
      ]
     },
     "metadata": {},
     "output_type": "display_data"
    },
    {
     "data": {
      "text/markdown": [
       "the ministry has prepared 100 bed to control this virus in Kabul and 200 others in the province hospital with all the facilities needed in the country."
      ],
      "text/plain": [
       "<IPython.core.display.Markdown object>"
      ]
     },
     "metadata": {},
     "output_type": "display_data"
    },
    {
     "data": {
      "text/markdown": [
       "The Ministry of public health has created the special part of the control of the \"Corona\" virus in the Afghan-Japan hospital. This section has a hundred bed filled with all facilities."
      ],
      "text/plain": [
       "<IPython.core.display.Markdown object>"
      ]
     },
     "metadata": {},
     "output_type": "display_data"
    },
    {
     "data": {
      "text/markdown": [
       "A COVID-19 lab is opened using Government of Afghanistan funds.  The hospital is expected to be completed on or about April 7."
      ],
      "text/plain": [
       "<IPython.core.display.Markdown object>"
      ]
     },
     "metadata": {},
     "output_type": "display_data"
    },
    {
     "data": {
      "text/markdown": [
       "Private hospitals that refuse to offer their capacities when required can be fined by up to 5 million leks (40,000 euros)."
      ],
      "text/plain": [
       "<IPython.core.display.Markdown object>"
      ]
     },
     "metadata": {},
     "output_type": "display_data"
    },
    {
     "data": {
      "text/markdown": [
       "Central hospital installs new ventilators. The Antonio Agostinho Neto Central Hospital of Lubango, in Huíla province, was reinforced, on Thursday, with two ventilating devices for intensive care beds, in an effort to fight the COVID-19 pandemic, which affects the country."
      ],
      "text/plain": [
       "<IPython.core.display.Markdown object>"
      ]
     },
     "metadata": {},
     "output_type": "display_data"
    },
    {
     "data": {
      "text/markdown": [
       "Five hundred doctors, in the province of Luanda, started this Monday in Multiperfil Clinic, in Luanda, an intensive medicine course, to reinforce the hospital units in the framework of the prevention and combat to Covid-19."
      ],
      "text/plain": [
       "<IPython.core.display.Markdown object>"
      ]
     },
     "metadata": {},
     "output_type": "display_data"
    },
    {
     "data": {
      "text/markdown": [
       "isolation centers and designated hospitals est."
      ],
      "text/plain": [
       "<IPython.core.display.Markdown object>"
      ]
     },
     "metadata": {},
     "output_type": "display_data"
    },
    {
     "data": {
      "text/markdown": [
       "Construction of 8 temporary hospitals"
      ],
      "text/plain": [
       "<IPython.core.display.Markdown object>"
      ]
     },
     "metadata": {},
     "output_type": "display_data"
    },
    {
     "data": {
      "text/markdown": [
       "Non-urgent elective surgeries in Australia's public and private hospitals will be banned from midnight in a bid to preserve the healthcare system to respond to the coronavirus pandemic."
      ],
      "text/plain": [
       "<IPython.core.display.Markdown object>"
      ]
     },
     "metadata": {},
     "output_type": "display_data"
    },
    {
     "data": {
      "text/markdown": [
       "State and territory governments committed to urgently finalise arrangements with private hospitals under the COVID-19 National Partnership Agreement by 29 March 2020, to ensure sufficient and viable capacity exists within the private hospital sector both through the COVID-19 response and on an ongoing basis in supporting the acute and intensive care needs of infected Australians together with other continuing urgent care needs. The capacity of the private system for non COVID cases and for overflow, particularly from ICU facilities, may be critical to Australia’s response."
      ],
      "text/plain": [
       "<IPython.core.display.Markdown object>"
      ]
     },
     "metadata": {},
     "output_type": "display_data"
    },
    {
     "data": {
      "text/markdown": [
       "Restricted access to the Princess Margaret Hospital. Public advised that only emergency cases will be handled at this time. Restrictions on hospital visitation. Advise to call hotline not report to hospital emergency room if exhibiting symptoms "
      ],
      "text/plain": [
       "<IPython.core.display.Markdown object>"
      ]
     },
     "metadata": {},
     "output_type": "display_data"
    },
    {
     "data": {
      "text/markdown": [
       "Temporary quarantine center set up and ready to be deployed. Meanwhile, a permanent quarantine facility being prepared at the St. Lucy District Hospital.  Preparations include the transfer of the residents of the hospital to the Geriatric Hospital, and the residents of the Elayne Scantlebury Centre, which is also on the River Bay, St. Lucy compound, to the Psychiatric Hospital."
      ],
      "text/plain": [
       "<IPython.core.display.Markdown object>"
      ]
     },
     "metadata": {},
     "output_type": "display_data"
    },
    {
     "data": {
      "text/markdown": [
       "Financial aid package of 1 billion for hospitals to cover loss of income and oustanding COVID-19 measures"
      ],
      "text/plain": [
       "<IPython.core.display.Markdown object>"
      ]
     },
     "metadata": {},
     "output_type": "display_data"
    },
    {
     "data": {
      "text/markdown": [
       "Additional funds for five hospitals released"
      ],
      "text/plain": [
       "<IPython.core.display.Markdown object>"
      ]
     },
     "metadata": {},
     "output_type": "display_data"
    },
    {
     "data": {
      "text/markdown": [
       "Construction of first makeshift hospital. First patients admitted February 5. "
      ],
      "text/plain": [
       "<IPython.core.display.Markdown object>"
      ]
     },
     "metadata": {},
     "output_type": "display_data"
    },
    {
     "data": {
      "text/markdown": [
       "10 new makeshift hospital opened. 5,600 patients admitted. "
      ],
      "text/plain": [
       "<IPython.core.display.Markdown object>"
      ]
     },
     "metadata": {},
     "output_type": "display_data"
    },
    {
     "data": {
      "text/markdown": [
       "16 makeshift hospitals total. 13,000 beds available. "
      ],
      "text/plain": [
       "<IPython.core.display.Markdown object>"
      ]
     },
     "metadata": {},
     "output_type": "display_data"
    },
    {
     "data": {
      "text/markdown": [
       "Military industry 'Indumil' to produce medical equipment beds and medical furniture for hospitals."
      ],
      "text/plain": [
       "<IPython.core.display.Markdown object>"
      ]
     },
     "metadata": {},
     "output_type": "display_data"
    },
    {
     "data": {
      "text/markdown": [
       "Federal government to provide 6 temporary hospital and 57.352 testing kits to regions."
      ],
      "text/plain": [
       "<IPython.core.display.Markdown object>"
      ]
     },
     "metadata": {},
     "output_type": "display_data"
    },
    {
     "data": {
      "text/markdown": [
       "The capacities of hospitals across Croatia are increased and the decision made to establish a digital platform ensuring interoperability and coordination across actors to monitor the outbreak"
      ],
      "text/plain": [
       "<IPython.core.display.Markdown object>"
      ]
     },
     "metadata": {},
     "output_type": "display_data"
    },
    {
     "data": {
      "text/markdown": [
       "Development of health camp outside of main hospital "
      ],
      "text/plain": [
       "<IPython.core.display.Markdown object>"
      ]
     },
     "metadata": {},
     "output_type": "display_data"
    },
    {
     "data": {
      "text/markdown": [
       "All hospitals are asked to create spaces for patient triage"
      ],
      "text/plain": [
       "<IPython.core.display.Markdown object>"
      ]
     },
     "metadata": {},
     "output_type": "display_data"
    },
    {
     "data": {
      "text/markdown": [
       "Streamlining of public health information system with guidance for all hospitals "
      ],
      "text/plain": [
       "<IPython.core.display.Markdown object>"
      ]
     },
     "metadata": {},
     "output_type": "display_data"
    },
    {
     "data": {
      "text/markdown": [
       "Guidelines for patient's discharge from the hospital established"
      ],
      "text/plain": [
       "<IPython.core.display.Markdown object>"
      ]
     },
     "metadata": {},
     "output_type": "display_data"
    },
    {
     "data": {
      "text/markdown": [
       "8 fever clinics now open. Eight fever clinics are now operating around the country as part of the COVID-19 response plan. Six clinics are now running in Nasinu, Labasa, Savusavu, and Nabouwalu. Two others have been running in Lautoka since last week. Fever clinics are an important part of our response to the virus, as they give Fijians the ability to seek treatment without going to a hospital. They also protect our hospitals from the spread of the virus."
      ],
      "text/plain": [
       "<IPython.core.display.Markdown object>"
      ]
     },
     "metadata": {},
     "output_type": "display_data"
    },
    {
     "data": {
      "text/markdown": [
       "The NZ government has provided 40 high-flow oxygen machines worth $US218,000 to assist Fiji fight Covid-19. The equipment was part of a Hospital Preparedness package and would be used in hospitals, said Jonathan Curr."
      ],
      "text/plain": [
       "<IPython.core.display.Markdown object>"
      ]
     },
     "metadata": {},
     "output_type": "display_data"
    },
    {
     "data": {
      "text/markdown": [
       "Special provisions implemented to support people with disabilities, including special monitoring, continuity of care, hospital planning"
      ],
      "text/plain": [
       "<IPython.core.display.Markdown object>"
      ]
     },
     "metadata": {},
     "output_type": "display_data"
    },
    {
     "data": {
      "text/markdown": [
       "all non-essential surgeries in hospitals will be postponed indefinitely starting 16 March"
      ],
      "text/plain": [
       "<IPython.core.display.Markdown object>"
      ]
     },
     "metadata": {},
     "output_type": "display_data"
    },
    {
     "data": {
      "text/markdown": [
       "Financial packages for hospitals and service providers in health have been drafted to cover their current extraordinary economic expenses"
      ],
      "text/plain": [
       "<IPython.core.display.Markdown object>"
      ]
     },
     "metadata": {},
     "output_type": "display_data"
    },
    {
     "data": {
      "text/markdown": [
       ", hospitals are suspending elective surgeries and examinations due to the coronavirus infection; only emergency interventions will be carried out. The delivery of test results has also been suspended. The results of diagnostic procedures can be downloaded in the Electronic Health Care Service . , BEK’s hospital at Királyhágó út will be turned into a disease control hospital in the next few days. They have also provided for the immediate procurement of twenty anaesthetic machines capable of long-term ventilation. Screening tests, including lung X-rays and outpatient care at the physiotherapy department, have been temporarily suspended. The therapeutic treatment of oncology patients continues, the local oncology team decides about the urgency of surgery, while patients treated at the department whose treatment can continue at home are being released. \n",
       "\n"
      ],
      "text/plain": [
       "<IPython.core.display.Markdown object>"
      ]
     },
     "metadata": {},
     "output_type": "display_data"
    },
    {
     "data": {
      "text/markdown": [
       "Chief medical officer Cecília Müller said the number of test laboratories has been “significantly increased” Several hospitals to be designated as quarantine centers\n"
      ],
      "text/plain": [
       "<IPython.core.display.Markdown object>"
      ]
     },
     "metadata": {},
     "output_type": "display_data"
    },
    {
     "data": {
      "text/markdown": [
       "List of coronavirus referral hospitals in Indonesia "
      ],
      "text/plain": [
       "<IPython.core.display.Markdown object>"
      ]
     },
     "metadata": {},
     "output_type": "display_data"
    },
    {
     "data": {
      "text/markdown": [
       "Private hospitals will operate effectively as public hospitals under Section 38 of the Health Act for the duration of the Emergency thus adding over two thousand beds."
      ],
      "text/plain": [
       "<IPython.core.display.Markdown object>"
      ]
     },
     "metadata": {},
     "output_type": "display_data"
    },
    {
     "data": {
      "text/markdown": [
       "PhilHealth to release P30 billion to hospitals to fight CoViD-19"
      ],
      "text/plain": [
       "<IPython.core.display.Markdown object>"
      ]
     },
     "metadata": {},
     "output_type": "display_data"
    },
    {
     "data": {
      "text/markdown": [
       "Capacities increased by postponing non essential surgeries and adding capacities at hospitals; drive-through testing implemented"
      ],
      "text/plain": [
       "<IPython.core.display.Markdown object>"
      ]
     },
     "metadata": {},
     "output_type": "display_data"
    },
    {
     "data": {
      "text/markdown": [
       "The Sarawak Disaster Management Committee has opened a new respiratory clinic to treat non-Covid-19 cases and ease congestion in government hospitals. He said it was different from the Covid-19 screening facility at the Youth and Sports Complex. \"We want to separate the cases and prevent the virus from spreading,\""
      ],
      "text/plain": [
       "<IPython.core.display.Markdown object>"
      ]
     },
     "metadata": {},
     "output_type": "display_data"
    },
    {
     "data": {
      "text/markdown": [
       "The first shipment of 28 ICU beds, specially ordered from China, has arrived in Malaysia and since been distributed to government hospitals"
      ],
      "text/plain": [
       "<IPython.core.display.Markdown object>"
      ]
     },
     "metadata": {},
     "output_type": "display_data"
    },
    {
     "data": {
      "text/markdown": [
       "Final shipment of ICU beds arrive in Malaysia, all 100 now in local hospitals"
      ],
      "text/plain": [
       "<IPython.core.display.Markdown object>"
      ]
     },
     "metadata": {},
     "output_type": "display_data"
    },
    {
     "data": {
      "text/markdown": [
       "New hospital will start accepting patients who test positive for COVID-19. "
      ],
      "text/plain": [
       "<IPython.core.display.Markdown object>"
      ]
     },
     "metadata": {},
     "output_type": "display_data"
    },
    {
     "data": {
      "text/markdown": [
       "Increased capacity due to added hospitals, medical equipments and vehicules from the military."
      ],
      "text/plain": [
       "<IPython.core.display.Markdown object>"
      ]
     },
     "metadata": {},
     "output_type": "display_data"
    },
    {
     "data": {
      "text/markdown": [
       "Nepal government has arranged 100 isolation beds in several hospitals in Kathmandu and instructed provincial hospitals to make arrangements for isolation wards."
      ],
      "text/plain": [
       "<IPython.core.display.Markdown object>"
      ]
     },
     "metadata": {},
     "output_type": "display_data"
    },
    {
     "data": {
      "text/markdown": [
       "Increase capacity of hospital, hiring of 1500 health workers."
      ],
      "text/plain": [
       "<IPython.core.display.Markdown object>"
      ]
     },
     "metadata": {},
     "output_type": "display_data"
    },
    {
     "data": {
      "text/markdown": [
       "Ramallah: PA a new dedicated Department at major hospital to diagnosis and Treatment of COVID-19"
      ],
      "text/plain": [
       "<IPython.core.display.Markdown object>"
      ]
     },
     "metadata": {},
     "output_type": "display_data"
    },
    {
     "data": {
      "text/markdown": [
       "Construction of 2 emergency  hospitals. Reception of external aid in the form of health and hospital equipment."
      ],
      "text/plain": [
       "<IPython.core.display.Markdown object>"
      ]
     },
     "metadata": {},
     "output_type": "display_data"
    },
    {
     "data": {
      "text/markdown": [
       "Philippine Charity Sweepstakes Office (PCSO) to release P447-M to gov’t hospitals for Covid-19 efforts"
      ],
      "text/plain": [
       "<IPython.core.display.Markdown object>"
      ]
     },
     "metadata": {},
     "output_type": "display_data"
    },
    {
     "data": {
      "text/markdown": [
       "All community hospitals and medical care centers through Serbia have opened COVID-19 clinics with dedicated phone numbers"
      ],
      "text/plain": [
       "<IPython.core.display.Markdown object>"
      ]
     },
     "metadata": {},
     "output_type": "display_data"
    },
    {
     "data": {
      "text/markdown": [
       "Assign three hospitals across the country specifically to deal with COVID; postponing of preventative health services and interventions"
      ],
      "text/plain": [
       "<IPython.core.display.Markdown object>"
      ]
     },
     "metadata": {},
     "output_type": "display_data"
    },
    {
     "data": {
      "text/markdown": [
       "The Sri Lanka Transport Board (SLTB) has so far deployed over 275 buses to provide free transport facilities for the health sector personnel initiated from the start of the imposed curfew on the request made by hospitals"
      ],
      "text/plain": [
       "<IPython.core.display.Markdown object>"
      ]
     },
     "metadata": {},
     "output_type": "display_data"
    },
    {
     "data": {
      "text/markdown": [
       "Post offices to keep opened for two hours when curfew lifted for essential activities and to deliver the medicines issued by the clinics in government hospitals to the houses of the patients on the instructions of the Coronavirus Control Task Force"
      ],
      "text/plain": [
       "<IPython.core.display.Markdown object>"
      ]
     },
     "metadata": {},
     "output_type": "display_data"
    },
    {
     "data": {
      "text/markdown": [
       "Government hospitals introduced to care for suspected Coronavirus patients"
      ],
      "text/plain": [
       "<IPython.core.display.Markdown object>"
      ]
     },
     "metadata": {},
     "output_type": "display_data"
    },
    {
     "data": {
      "text/markdown": [
       "private health institutions may be requested by cantonal authorities to accept patients; all health institutions are required to postpone non-urgent procedures; hospitals are required to communicate their capacities "
      ],
      "text/plain": [
       "<IPython.core.display.Markdown object>"
      ]
     },
     "metadata": {},
     "output_type": "display_data"
    },
    {
     "data": {
      "text/markdown": [
       "Al Hol field hospital introduces COVID-19 preventative measures. Al Hol camp is a striking example of the humanitarian challenges - around 66,000 people live there in dire conditions, the majority are children and women."
      ],
      "text/plain": [
       "<IPython.core.display.Markdown object>"
      ]
     },
     "metadata": {},
     "output_type": "display_data"
    },
    {
     "data": {
      "text/markdown": [
       "“Please refer suspected patients to the hospital or call the DDC Hotline 1422.”"
      ],
      "text/plain": [
       "<IPython.core.display.Markdown object>"
      ]
     },
     "metadata": {},
     "output_type": "display_data"
    },
    {
     "data": {
      "text/markdown": [
       "Thailand has accelerated the development of a network of laboratories to cope with emergency outbreaks in 14 provinces nationwide. By starting at the 13 medical science centers… it will expand to regional/general hospitals (at least one laboratory in each province) throughout the country."
      ],
      "text/plain": [
       "<IPython.core.display.Markdown object>"
      ]
     },
     "metadata": {},
     "output_type": "display_data"
    },
    {
     "data": {
      "text/markdown": [
       "CHR Lomé-Commune dedicated to infectious illnesses, patients with other conditions should be directed to other hospitals. "
      ],
      "text/plain": [
       "<IPython.core.display.Markdown object>"
      ]
     },
     "metadata": {},
     "output_type": "display_data"
    },
    {
     "data": {
      "text/markdown": [
       "hospitals designated for taking covid patients "
      ],
      "text/plain": [
       "<IPython.core.display.Markdown object>"
      ]
     },
     "metadata": {},
     "output_type": "display_data"
    },
    {
     "data": {
      "text/markdown": [
       "The Defense Department will massively expand medical resources, making 5 million respirator masks and 2,000 ventilators available for use\n",
       "FEMA is now activated in every region of the country and at the highest level\n",
       "Navy hospital ships are being deployed to impacted areas"
      ],
      "text/plain": [
       "<IPython.core.display.Markdown object>"
      ]
     },
     "metadata": {},
     "output_type": "display_data"
    },
    {
     "data": {
      "text/markdown": [
       "Distribution of 3500 protection kits for the health workers of 5 hospitals. Measure taken by the government of Juan Guaido, which disputes presidency with that of Nicolas Maduro."
      ],
      "text/plain": [
       "<IPython.core.display.Markdown object>"
      ]
     },
     "metadata": {},
     "output_type": "display_data"
    },
    {
     "data": {
      "text/markdown": [
       "9 millions $ to buy medicines and equipment for hospital. Measure taken by the government of Juan Guaido, which disputes presidency with that of Nicolas Maduro."
      ],
      "text/plain": [
       "<IPython.core.display.Markdown object>"
      ]
     },
     "metadata": {},
     "output_type": "display_data"
    },
    {
     "data": {
      "text/markdown": [
       "##### Awareness campaigns"
      ],
      "text/plain": [
       "<IPython.core.display.Markdown object>"
      ]
     },
     "metadata": {},
     "output_type": "display_data"
    },
    {
     "data": {
      "text/markdown": [
       "Print, publishing and sending advertising materials about health services. Publishing messages in hospitals, building video guidance at ports of entry, making a clear part of the passengers's location, creating a clear section on the ministry's website to publish the content related to coronavirus. "
      ],
      "text/plain": [
       "<IPython.core.display.Markdown object>"
      ]
     },
     "metadata": {},
     "output_type": "display_data"
    },
    {
     "data": {
      "text/markdown": [
       "MoH met in press conference to discuss readiness to respond and prepped meetings with local hospitals, Ministry of Tourism, Ministry of Maritime Affairs, and Blue Economy. Have protocols they are prepared to mobilize from past Ebola and SARS outbreaks. "
      ],
      "text/plain": [
       "<IPython.core.display.Markdown object>"
      ]
     },
     "metadata": {},
     "output_type": "display_data"
    },
    {
     "data": {
      "text/markdown": [
       "The Queen Elizabeth Hospital (QEH) has set up a help desk to advise the public about the changes in the hospital’s operations, in response to the COVID-19 global pandemic.being manned on a 24-hour basis by personnel who will answer queries specifically related to the new arrangements in place at the hospital (via phone)."
      ],
      "text/plain": [
       "<IPython.core.display.Markdown object>"
      ]
     },
     "metadata": {},
     "output_type": "display_data"
    },
    {
     "data": {
      "text/markdown": [
       "awareness campaigns in hospitals and for public"
      ],
      "text/plain": [
       "<IPython.core.display.Markdown object>"
      ]
     },
     "metadata": {},
     "output_type": "display_data"
    },
    {
     "data": {
      "text/markdown": [
       "##### Other public health measures enforced"
      ],
      "text/plain": [
       "<IPython.core.display.Markdown object>"
      ]
     },
     "metadata": {},
     "output_type": "display_data"
    },
    {
     "data": {
      "text/markdown": [
       "no visitation to designated hospitals or geriatric centers"
      ],
      "text/plain": [
       "<IPython.core.display.Markdown object>"
      ]
     },
     "metadata": {},
     "output_type": "display_data"
    },
    {
     "data": {
      "text/markdown": [
       "mbulances are to access the hospital via the Maternity Entrance\n",
       "Patients and Visitors are asked to enter the hospital through the new Critical Care Block entrance where they will be directed appropriately. All Maternity patients including maternity day cases are asked to access the hospital via the Maternity Entrance.\n",
       "Only Dialysis patients will be permitted to use the Medical Block entrance. Dialysis patients are asked to present for service at their designated time.\n",
       "All staff are asked to access the hospital via the hospital Legacy entrance. Staff are required to wear their ID badge at all times."
      ],
      "text/plain": [
       "<IPython.core.display.Markdown object>"
      ]
     },
     "metadata": {},
     "output_type": "display_data"
    },
    {
     "data": {
      "text/markdown": [
       "Interdiction to visits to hospitals and old people retreats"
      ],
      "text/plain": [
       "<IPython.core.display.Markdown object>"
      ]
     },
     "metadata": {},
     "output_type": "display_data"
    },
    {
     "data": {
      "text/markdown": [
       "Visit to hospital are restricted. "
      ],
      "text/plain": [
       "<IPython.core.display.Markdown object>"
      ]
     },
     "metadata": {},
     "output_type": "display_data"
    },
    {
     "data": {
      "text/markdown": [
       "Limitation of visits to hospitals, nursing homes, housing, etc.; relatives are only able to visit a dying or critically ill person; provisionally until 30th March"
      ],
      "text/plain": [
       "<IPython.core.display.Markdown object>"
      ]
     },
     "metadata": {},
     "output_type": "display_data"
    },
    {
     "data": {
      "text/markdown": [
       "Egyptian authorities closed several hospitals on Sunday, March 29, to disinfect facilities after staff became infected with COVID-19. The affected hospitals include al-Salam hospital, the Alexandria University Hospital (north), and al-Shorouk Hospital in Cairo. "
      ],
      "text/plain": [
       "<IPython.core.display.Markdown object>"
      ]
     },
     "metadata": {},
     "output_type": "display_data"
    },
    {
     "data": {
      "text/markdown": [
       "##### Introduction of isolation and quarantine policies"
      ],
      "text/plain": [
       "<IPython.core.display.Markdown object>"
      ]
     },
     "metadata": {},
     "output_type": "display_data"
    },
    {
     "data": {
      "text/markdown": [
       "Tasmania closes two hospitals to 'stamp out' coronavirus outbreak in the north-west"
      ],
      "text/plain": [
       "<IPython.core.display.Markdown object>"
      ]
     },
     "metadata": {},
     "output_type": "display_data"
    },
    {
     "data": {
      "text/markdown": [
       "\"Amendments to the Infectious Disease Act (Chapter 204) and its Regulations i.e. Infectious Diseases (Amendment of Schedule) Notification, 2020 dan Infectious Diseases (Quarantine) (Amendment) Regulations, 2020 have gazetted. Under the Act, anyone who, or suspected to be, a case, carrier or contact of an infectious disease may be required to undergo medical examination or medical treatment either in hospital or any other place as determined by the Director-General Ministry of Health. Failure to comply to this provision is an offence under this Law and the person may be ordered to be transferred to a hospital or another place where he can be detained and, if necessary, isolated until examination or treatment has been undertaken...   As such, the person may be fined to up to $10,000 or imprisoned for a period of not more than 6 months or both (first offence). For a second offence, may be fined to up to $20,000 or imprisoned for a period of not more than one year or both.\""
      ],
      "text/plain": [
       "<IPython.core.display.Markdown object>"
      ]
     },
     "metadata": {},
     "output_type": "display_data"
    },
    {
     "data": {
      "text/markdown": [
       "All travelers entering the DRC who have a fever will be tested, and any persons positive for COVID-19 will be hospitalized at DRC government expense. Both categories will be subject to a mandatory 14-day quarantine.  All persons traveling domestically from Kinshasa to other provinces will be subject to preventative screening."
      ],
      "text/plain": [
       "<IPython.core.display.Markdown object>"
      ]
     },
     "metadata": {},
     "output_type": "display_data"
    },
    {
     "data": {
      "text/markdown": [
       "14 day home quarantine for anyone returning from highrisk areas in past 2 weeks - anyone with symptoms/postivie: hospital quarantine "
      ],
      "text/plain": [
       "<IPython.core.display.Markdown object>"
      ]
     },
     "metadata": {},
     "output_type": "display_data"
    },
    {
     "data": {
      "text/markdown": [
       "People displaying mild symptoms must remain in stay-at-home quarantine.\n",
       " People with severe symptoms, those who fall into any of the high-risk groups and those who require hospital care will naturally be hospitalized."
      ],
      "text/plain": [
       "<IPython.core.display.Markdown object>"
      ]
     },
     "metadata": {},
     "output_type": "display_data"
    },
    {
     "data": {
      "text/markdown": [
       "passengers arriving with symptoms have to quarantine for 14 days in a hospital in Amman"
      ],
      "text/plain": [
       "<IPython.core.display.Markdown object>"
      ]
     },
     "metadata": {},
     "output_type": "display_data"
    },
    {
     "data": {
      "text/markdown": [
       "stronger entry procedures will be implemented from 22 March for persons traveling from Europe. All persons arriving from Europe will be required to answer a questionnaire on their health condition, get checked for fever, and get tested after being escorted to an appropriate facility — quarantine facility for persons with symptoms and designated temporary living facilities for those without symptoms. Those whose test comes out positive will either be moved a hospital or a Life Treatment Center based on the severity level assessed for each case. In principle, Korean citizens or resident aliens who test negative go into self-quarantine at their place of residence. Those without a place of residence in Korea will be quarantined at a facility. Foreigners who are temporarily staying in Korea for a short time will subject to active monitoring during their stay in Korea."
      ],
      "text/plain": [
       "<IPython.core.display.Markdown object>"
      ]
     },
     "metadata": {},
     "output_type": "display_data"
    },
    {
     "data": {
      "text/markdown": [
       "All Myanmar nationals who have been to high-risk areas (such as Hubei in China & Daegu and Gyeongbuk in Korea) in the past 14 days shall be subjected to 14-day facility quarantine upon arrival. Facility quarantine is defined as “public buildings or/and hospitals”. All incoming travelers who have been to the Republic of Korea outside high-risk areas in the past 14 days shall be subjected to 14-day home quarantine upon arrival. All incoming travelers from Italy, Iran, France, Spain ad Germany subject to 14-day facility quarantine. "
      ],
      "text/plain": [
       "<IPython.core.display.Markdown object>"
      ]
     },
     "metadata": {},
     "output_type": "display_data"
    },
    {
     "data": {
      "text/markdown": [
       "People who have tested positive for COVID-19 and do not need to be admitted to hospital, will stay in specialised shelters. This includes the those who would like to do so voluntarily; those in vulnerable situations whose accommodation is not suitable for self-isolation; those who have broken self-isolation; and those who have come from abroad and tested positive during their quarantine period."
      ],
      "text/plain": [
       "<IPython.core.display.Markdown object>"
      ]
     },
     "metadata": {},
     "output_type": "display_data"
    },
    {
     "data": {
      "text/markdown": [
       "All travelers presenting one of the COVID-19 symptoms and coming from endemic countries will be taken for isolation at nearest hospital. "
      ],
      "text/plain": [
       "<IPython.core.display.Markdown object>"
      ]
     },
     "metadata": {},
     "output_type": "display_data"
    },
    {
     "data": {
      "text/markdown": [
       "Mandatory quarantine measures applying to British nationals arriving in Sierra Leone from Monday 16 March 2020 from the UK and other countries with more than 50 confirmed cases of coronavirus (COVID-19). If travel history to China the quarantine is in one of the designated hospitals."
      ],
      "text/plain": [
       "<IPython.core.display.Markdown object>"
      ]
     },
     "metadata": {},
     "output_type": "display_data"
    },
    {
     "data": {
      "text/markdown": [
       "Asymptomatic travelers and in-hospital isolation requirements for all symptomatic travelers arriving in Uganda after recent stays (within 14 days of arrival) in several countries most seriously impacted"
      ],
      "text/plain": [
       "<IPython.core.display.Markdown object>"
      ]
     },
     "metadata": {},
     "output_type": "display_data"
    },
    {
     "data": {
      "text/markdown": [
       "##### Testing policy"
      ],
      "text/plain": [
       "<IPython.core.display.Markdown object>"
      ]
     },
     "metadata": {},
     "output_type": "display_data"
    },
    {
     "data": {
      "text/markdown": [
       " visitors to the hospital will be required to submit to a temperature check and sign in at the main entrance"
      ],
      "text/plain": [
       "<IPython.core.display.Markdown object>"
      ]
     },
     "metadata": {},
     "output_type": "display_data"
    },
    {
     "data": {
      "text/markdown": [
       "5-shield system: checkpoints, medical observation and isolation at designated venues, community screening, fever clinics and treatment at hospitals,"
      ],
      "text/plain": [
       "<IPython.core.display.Markdown object>"
      ]
     },
     "metadata": {},
     "output_type": "display_data"
    },
    {
     "data": {
      "text/markdown": [
       "Testing all symptomatic contacts of laboratory confirmed cases, symptomatic health care workers, and all hospitalized patients with Severe Acute Respiratory Illness. "
      ],
      "text/plain": [
       "<IPython.core.display.Markdown object>"
      ]
     },
     "metadata": {},
     "output_type": "display_data"
    },
    {
     "data": {
      "text/markdown": [
       "testing of all health workers & medical staff including those in private hospitals, rapid response teams & staff "
      ],
      "text/plain": [
       "<IPython.core.display.Markdown object>"
      ]
     },
     "metadata": {},
     "output_type": "display_data"
    },
    {
     "data": {
      "text/markdown": [
       "Updating of testing policy; those with symptoms and no other diagnosis, symptom and close contact with confirmed case, symptoms and hospitalisation, patient in home isolation with sustained high fever or age >65"
      ],
      "text/plain": [
       "<IPython.core.display.Markdown object>"
      ]
     },
     "metadata": {},
     "output_type": "display_data"
    },
    {
     "data": {
      "text/markdown": [
       "People with respiratory tract infections who do not require hospital treatment will no longer be tested, and the situation will be assessed based on the number of those infected. "
      ],
      "text/plain": [
       "<IPython.core.display.Markdown object>"
      ]
     },
     "metadata": {},
     "output_type": "display_data"
    },
    {
     "data": {
      "text/markdown": [
       "The Ministry of Public Health confirmed that foreign nationals are required to pay for any treatment for the COVID-19 virus received after the March 22 requirement for non-Thai citizens entering Thailand to present virus-free medical certificate and health insurance. Payment is required for treatment at both public and private hospitals."
      ],
      "text/plain": [
       "<IPython.core.display.Markdown object>"
      ]
     },
     "metadata": {},
     "output_type": "display_data"
    },
    {
     "data": {
      "text/markdown": [
       "##### testing policy"
      ],
      "text/plain": [
       "<IPython.core.display.Markdown object>"
      ]
     },
     "metadata": {},
     "output_type": "display_data"
    },
    {
     "data": {
      "text/markdown": [
       "The specific recommendations from the National Board of Health are now: 1) Anyone with moderate to severe COVID-19 suspicion that is suspected following a clinical evaluation in a hospital COVID-19 assessment unit should be tested. 2) Maternal women who have been visited for childbirth in a maternity ward and where COVID-19 is suspected must be tested on a precautionary basis. 3) Newborn babies should be tested if they have symptoms. 4) Persons with mild to moderate symptoms who perform critical functions in the health care sector, the elderly, work with socially disadvantaged or other very important key functions in the community can be referred if the employer finds it expedient to promptly report. It is the practitioner who refers to common principles. 5) There should be a special attention and lower threshold for vulnerable groups for assessment and testing. "
      ],
      "text/plain": [
       "<IPython.core.display.Markdown object>"
      ]
     },
     "metadata": {},
     "output_type": "display_data"
    },
    {
     "data": {
      "text/markdown": [
       "##### strengthening the public health system"
      ],
      "text/plain": [
       "<IPython.core.display.Markdown object>"
      ]
     },
     "metadata": {},
     "output_type": "display_data"
    },
    {
     "data": {
      "text/markdown": [
       "Decentralisation of tests with responsibilities for some procedures being moved from hospitals to primary care physicians"
      ],
      "text/plain": [
       "<IPython.core.display.Markdown object>"
      ]
     },
     "metadata": {},
     "output_type": "display_data"
    },
    {
     "data": {
      "text/markdown": [
       "Field hospitals to be exempted from building permit requirement due to COVID-19"
      ],
      "text/plain": [
       "<IPython.core.display.Markdown object>"
      ]
     },
     "metadata": {},
     "output_type": "display_data"
    },
    {
     "data": {
      "text/markdown": [
       "##### General recommendations"
      ],
      "text/plain": [
       "<IPython.core.display.Markdown object>"
      ]
     },
     "metadata": {},
     "output_type": "display_data"
    },
    {
     "data": {
      "text/markdown": [
       "public is asked to adhere to one guardian per patient rule in hospitals."
      ],
      "text/plain": [
       "<IPython.core.display.Markdown object>"
      ]
     },
     "metadata": {},
     "output_type": "display_data"
    },
    {
     "data": {
      "text/markdown": [
       "Despite the demand for information about the hospitals and the resources available to deal with the coronavirus pandemic, Sáenz said that citizens must go to any of the 19 regional hospitals in the country and assured that the Minsa has “enough mechanical ventilators in hospitals” without giving an exact figure"
      ],
      "text/plain": [
       "<IPython.core.display.Markdown object>"
      ]
     },
     "metadata": {},
     "output_type": "display_data"
    },
    {
     "data": {
      "text/markdown": [
       "Non-essential hospital and dr appointments should be rescheduled if possible"
      ],
      "text/plain": [
       "<IPython.core.display.Markdown object>"
      ]
     },
     "metadata": {},
     "output_type": "display_data"
    },
    {
     "data": {
      "text/markdown": [
       "##### Health screenings in airports and border crossings"
      ],
      "text/plain": [
       "<IPython.core.display.Markdown object>"
      ]
     },
     "metadata": {},
     "output_type": "display_data"
    },
    {
     "data": {
      "text/markdown": [
       "The MOPH has expanded surveillance for active case finding by 2) elevating levels of guest screening at International Communicable Disease Control Office and hospitals for people travelling from China, the Hong Kong Special Administrative Region, Macao Special Administrative Region of the People’s Republic of China, Taipei, Japan, Singapore and reported outbreak countries, community outbreak areas are also included, "
      ],
      "text/plain": [
       "<IPython.core.display.Markdown object>"
      ]
     },
     "metadata": {},
     "output_type": "display_data"
    },
    {
     "data": {
      "text/markdown": [
       "In the case of suspected COVID-19 cases detected on flights to Montevideo or at the Carrasco International airport, the individuals will be transported by a disease control group via ambulance to a hospital, clinic, or home quarantine."
      ],
      "text/plain": [
       "<IPython.core.display.Markdown object>"
      ]
     },
     "metadata": {},
     "output_type": "display_data"
    },
    {
     "data": {
      "text/markdown": [
       "#### Governance and socio-economic measures"
      ],
      "text/plain": [
       "<IPython.core.display.Markdown object>"
      ]
     },
     "metadata": {},
     "output_type": "display_data"
    },
    {
     "data": {
      "text/markdown": [
       "##### Emergency administrative structures activated or established"
      ],
      "text/plain": [
       "<IPython.core.display.Markdown object>"
      ]
     },
     "metadata": {},
     "output_type": "display_data"
    },
    {
     "data": {
      "text/markdown": [
       "review list of equipment, medical requirements for health facilities and increase of supplies, the list of health staff and services of the Afghan-Japan hospital and the order list of the necessary items. "
      ],
      "text/plain": [
       "<IPython.core.display.Markdown object>"
      ]
     },
     "metadata": {},
     "output_type": "display_data"
    },
    {
     "data": {
      "text/markdown": [
       "The Hospital Authority today announced that it will set up COVID-19 triage and test centres in some of its accident and emergency (A&E) departments in hospitals from this week to alleviate pressure on public hospitals’ in-patient isolation facilities."
      ],
      "text/plain": [
       "<IPython.core.display.Markdown object>"
      ]
     },
     "metadata": {},
     "output_type": "display_data"
    },
    {
     "data": {
      "text/markdown": [
       "Attorney General affirms that freedom of expression is not subordinated to government decrees. The attorney for Human Rights, José Apolonio Tobar, assured that he will be vigilant that the liberties of the population are respected and that appropriate care is given in hospitals and containment centers."
      ],
      "text/plain": [
       "<IPython.core.display.Markdown object>"
      ]
     },
     "metadata": {},
     "output_type": "display_data"
    },
    {
     "data": {
      "text/markdown": [
       "Operations Center, “CO-COVID19”, has been set up as the hub from which the government will coordinate its fight against COVID-19. The centre is stocked with medication found to be effective in China and other countries, emergency medical kits, personal protective equipment for medical staff, and hospital medical equipment."
      ],
      "text/plain": [
       "<IPython.core.display.Markdown object>"
      ]
     },
     "metadata": {},
     "output_type": "display_data"
    },
    {
     "data": {
      "text/markdown": [
       "New rules for hospitality sector under Covid-19. People going to bars, restaurants and casinos will be expected to stay at least a metre away from each other, and venues will have to do head counts to make sure there are not >100 people indoors. A register of guest details will also have to be kept for four weeks, including full name, address and contact phone and email details."
      ],
      "text/plain": [
       "<IPython.core.display.Markdown object>"
      ]
     },
     "metadata": {},
     "output_type": "display_data"
    },
    {
     "data": {
      "text/markdown": [
       "to deal with some unavoidable health issues like mothers in child birth or very sick people, permission can be sought from the RDC to use private transport to take such a person to hospital."
      ],
      "text/plain": [
       "<IPython.core.display.Markdown object>"
      ]
     },
     "metadata": {},
     "output_type": "display_data"
    },
    {
     "data": {
      "text/markdown": [
       "##### Military deployment"
      ],
      "text/plain": [
       "<IPython.core.display.Markdown object>"
      ]
     },
     "metadata": {},
     "output_type": "display_data"
    },
    {
     "data": {
      "text/markdown": [
       "Deployment of military hospital to strengthen public health system capacity. Measures taken by the government but described in public media."
      ],
      "text/plain": [
       "<IPython.core.display.Markdown object>"
      ]
     },
     "metadata": {},
     "output_type": "display_data"
    },
    {
     "data": {
      "text/markdown": [
       "##### Economic measures"
      ],
      "text/plain": [
       "<IPython.core.display.Markdown object>"
      ]
     },
     "metadata": {},
     "output_type": "display_data"
    },
    {
     "data": {
      "text/markdown": [
       "Different economic measures including: 2% reduction of interest rates by banks, and the granting by banks of a 6 months moratorium of principle repayments to entities in the airline and hospitality indistries. "
      ],
      "text/plain": [
       "<IPython.core.display.Markdown object>"
      ]
     },
     "metadata": {},
     "output_type": "display_data"
    },
    {
     "data": {
      "text/markdown": [
       "Hungary is continuing to do everything possible to assure continuous freight shipments\n",
       "“We are continuing to do everything possible to assure continuous and unhindered freight transport, because this is necessary for the security of people’s supply, and for the functioning of countries’ economies,” the foreign minister said. baby loans and student loans do not need to be repaid before December 31, and the APR on consumer loans can be no more 5.9 percent. Furthermore, in the tourism, hospitality, entertainment, gambling, film, event and sports service sectors, leases for non-residential premises may not be terminated until June 30, 2020. "
      ],
      "text/plain": [
       "<IPython.core.display.Markdown object>"
      ]
     },
     "metadata": {},
     "output_type": "display_data"
    },
    {
     "data": {
      "text/markdown": [
       "Chairman of the Association of Banks in Lebanon (ABL) Salim Sfeir announced plans to donate $6 million to government hospitals battling coronavirus *despite insolvency"
      ],
      "text/plain": [
       "<IPython.core.display.Markdown object>"
      ]
     },
     "metadata": {},
     "output_type": "display_data"
    },
    {
     "data": {
      "text/markdown": [
       "An economic impact committee has been established to assess the impact of the shutdowns in various sectors including tourism, hospitality and aquaculture."
      ],
      "text/plain": [
       "<IPython.core.display.Markdown object>"
      ]
     },
     "metadata": {},
     "output_type": "display_data"
    },
    {
     "data": {
      "text/markdown": [
       "government will provide a wage subsidy to aid businesses in retaining jobs in the tourism, hospitality, travel and aviation and construction sectors."
      ],
      "text/plain": [
       "<IPython.core.display.Markdown object>"
      ]
     },
     "metadata": {},
     "output_type": "display_data"
    },
    {
     "data": {
      "text/markdown": [
       "Free treatment of patients confirmed positive for COVID 19 in hospital and healthcare."
      ],
      "text/plain": [
       "<IPython.core.display.Markdown object>"
      ]
     },
     "metadata": {},
     "output_type": "display_data"
    },
    {
     "data": {
      "text/markdown": [
       " Six-month moratorium on contribution payments for Hospitality Sector Employers in the hospitality sector will be permitted to postpone their contributions payments for the six-month period January to June 2020 to be payable only in July 2020. "
      ],
      "text/plain": [
       "<IPython.core.display.Markdown object>"
      ]
     },
     "metadata": {},
     "output_type": "display_data"
    },
    {
     "data": {
      "text/markdown": [
       "#### Movement restrictions"
      ],
      "text/plain": [
       "<IPython.core.display.Markdown object>"
      ]
     },
     "metadata": {},
     "output_type": "display_data"
    },
    {
     "data": {
      "text/markdown": [
       "##### Surveillance and monitoring"
      ],
      "text/plain": [
       "<IPython.core.display.Markdown object>"
      ]
     },
     "metadata": {},
     "output_type": "display_data"
    },
    {
     "data": {
      "text/markdown": [
       "Monitoring and surveillance increased at nationwide hospitals to improve the quality of health services"
      ],
      "text/plain": [
       "<IPython.core.display.Markdown object>"
      ]
     },
     "metadata": {},
     "output_type": "display_data"
    },
    {
     "data": {
      "text/markdown": [
       "The Danish agency for patient safety has been given the right to test any person suspected of COVID-19; to demand them to go to a hospital or to isolate  them in a suitable facility; if necessary these can be implemented through police support"
      ],
      "text/plain": [
       "<IPython.core.display.Markdown object>"
      ]
     },
     "metadata": {},
     "output_type": "display_data"
    },
    {
     "data": {
      "text/markdown": [
       "established a 24-hour call center for Japanese returnees and potential contacts.  Establish the surveillance system to grasp the epidemic situation in Japan, while switching to use of PCR test for the confirmation of diagnosis necessary to treat pneumonia patients who require hospitalization, in communities where the number of patients continues to increase."
      ],
      "text/plain": [
       "<IPython.core.display.Markdown object>"
      ]
     },
     "metadata": {},
     "output_type": "display_data"
    },
    {
     "data": {
      "text/markdown": [
       "The MOPH has expanded surveillance for active case finding by 3) a special stepping up of surveillance in hospitals for people who have travel history from countries with reported cases of local transmission."
      ],
      "text/plain": [
       "<IPython.core.display.Markdown object>"
      ]
     },
     "metadata": {},
     "output_type": "display_data"
    },
    {
     "data": {
      "text/markdown": [
       "the Ministry of Public Health, Thailand has updated the definition of patients under investigation (PUI) to include clusters of patients (more than 5 persons) with respiratory illnesses for patients found in the same area, in the same week. Expanding the definition of PUI will increase the sensitivity of community infection detection. For surveillance in hospitals, if patients with pneumonia who were treated and have not improved, have unknown cause of illness, are in critical condition, or are fatal cases with unknown causes, they will be tested for COVID-19 infection ."
      ],
      "text/plain": [
       "<IPython.core.display.Markdown object>"
      ]
     },
     "metadata": {},
     "output_type": "display_data"
    },
    {
     "data": {
      "text/markdown": [
       "##### Checkpoints within the country"
      ],
      "text/plain": [
       "<IPython.core.display.Markdown object>"
      ]
     },
     "metadata": {},
     "output_type": "display_data"
    },
    {
     "data": {
      "text/markdown": [
       "Police controls implemented at hospital entrances due to attacks on health workers"
      ],
      "text/plain": [
       "<IPython.core.display.Markdown object>"
      ]
     },
     "metadata": {},
     "output_type": "display_data"
    },
    {
     "data": {
      "text/markdown": [
       "##### Curfews"
      ],
      "text/plain": [
       "<IPython.core.display.Markdown object>"
      ]
     },
     "metadata": {},
     "output_type": "display_data"
    },
    {
     "data": {
      "text/markdown": [
       "nationwide curfew from 9:00 p.m. to 5:00 a.m.  There are some exemptions:  public services, hospitals, airports/ports, pharmacies, gas stations, supermarkets, food delivery services, the energy sector, and emergency services, among others"
      ],
      "text/plain": [
       "<IPython.core.display.Markdown object>"
      ]
     },
     "metadata": {},
     "output_type": "display_data"
    },
    {
     "data": {
      "text/markdown": [
       "Government of Somalia imposes night curfew in Moghadishu starting at 8pm April 15, from 8:00pm and 5:00am local time. No date has been set for lifting the curfew. It will not affect shops that are selling dry foods, hospitals and pharmacies, officials say. "
      ],
      "text/plain": [
       "<IPython.core.display.Markdown object>"
      ]
     },
     "metadata": {},
     "output_type": "display_data"
    },
    {
     "data": {
      "text/markdown": [
       "#### Social distancing"
      ],
      "text/plain": [
       "<IPython.core.display.Markdown object>"
      ]
     },
     "metadata": {},
     "output_type": "display_data"
    },
    {
     "data": {
      "text/markdown": [
       "##### Limit public gatherings"
      ],
      "text/plain": [
       "<IPython.core.display.Markdown object>"
      ]
     },
     "metadata": {},
     "output_type": "display_data"
    },
    {
     "data": {
      "text/markdown": [
       "Order of the Minister responsible for health no. 133: restricting the movement of patients' companions or relatives in hospitals"
      ],
      "text/plain": [
       "<IPython.core.display.Markdown object>"
      ]
     },
     "metadata": {},
     "output_type": "display_data"
    },
    {
     "data": {
      "text/markdown": [
       "Social welfare institutions, hospitals, and detention facilities will be subject to a visiting ban as defined per declaration of state of emergency"
      ],
      "text/plain": [
       "<IPython.core.display.Markdown object>"
      ]
     },
     "metadata": {},
     "output_type": "display_data"
    },
    {
     "data": {
      "text/markdown": [
       "Visits to hospitals are restricted."
      ],
      "text/plain": [
       "<IPython.core.display.Markdown object>"
      ]
     },
     "metadata": {},
     "output_type": "display_data"
    },
    {
     "data": {
      "text/markdown": [
       "Visits to housing services for the elderly and other at-risk groups will be prohibited and visits to care institutions, health care units and hospitals (with exeptions)"
      ],
      "text/plain": [
       "<IPython.core.display.Markdown object>"
      ]
     },
     "metadata": {},
     "output_type": "display_data"
    },
    {
     "data": {
      "text/markdown": [
       "All visits to hospitals, residential healthcare centres, other residential settings are prisons are stopped with specific exemptions on compassionate grounds"
      ],
      "text/plain": [
       "<IPython.core.display.Markdown object>"
      ]
     },
     "metadata": {},
     "output_type": "display_data"
    },
    {
     "data": {
      "text/markdown": [
       "Limiting hospital visits, churchs, meetings, weddings, etc"
      ],
      "text/plain": [
       "<IPython.core.display.Markdown object>"
      ]
     },
     "metadata": {},
     "output_type": "display_data"
    },
    {
     "data": {
      "text/markdown": [
       "from 1 April SoE: Visitors to hospitals can number a maximum of two; Patients with Covid-19 cannot receive visits;"
      ],
      "text/plain": [
       "<IPython.core.display.Markdown object>"
      ]
     },
     "metadata": {},
     "output_type": "display_data"
    },
    {
     "data": {
      "text/markdown": [
       "##### Public services closure"
      ],
      "text/plain": [
       "<IPython.core.display.Markdown object>"
      ]
     },
     "metadata": {},
     "output_type": "display_data"
    },
    {
     "data": {
      "text/markdown": [
       "visits to geriatric and district hospitals restricted"
      ],
      "text/plain": [
       "<IPython.core.display.Markdown object>"
      ]
     },
     "metadata": {},
     "output_type": "display_data"
    },
    {
     "data": {
      "text/markdown": [
       "Visiting patients in hospitals will not be allowed."
      ],
      "text/plain": [
       "<IPython.core.display.Markdown object>"
      ]
     },
     "metadata": {},
     "output_type": "display_data"
    },
    {
     "data": {
      "text/markdown": [
       "all non-essential businesses were also ordered closed, except for supermarkets, pharmacies, gas stations, hotels, banks, hospitals, and restaurants with drive-through or delivery services."
      ],
      "text/plain": [
       "<IPython.core.display.Markdown object>"
      ]
     },
     "metadata": {},
     "output_type": "display_data"
    },
    {
     "data": {
      "text/markdown": [
       "Visiting restrictions put in place at hospitals and homes for the elderly"
      ],
      "text/plain": [
       "<IPython.core.display.Markdown object>"
      ]
     },
     "metadata": {},
     "output_type": "display_data"
    },
    {
     "data": {
      "text/markdown": [
       "All private medical offices, clinics, and laboratories are closed until further notice. Public and private hospitals, and private hospital clinics remain open."
      ],
      "text/plain": [
       "<IPython.core.display.Markdown object>"
      ]
     },
     "metadata": {},
     "output_type": "display_data"
    },
    {
     "data": {
      "text/markdown": [
       "Visits to hospitals, elderly homes and alike banned (with exceptions)"
      ],
      "text/plain": [
       "<IPython.core.display.Markdown object>"
      ]
     },
     "metadata": {},
     "output_type": "display_data"
    },
    {
     "data": {
      "text/markdown": [
       "All bottle stores, pubs, bars and clubs are closed, including in all hospitality facilities."
      ],
      "text/plain": [
       "<IPython.core.display.Markdown object>"
      ]
     },
     "metadata": {},
     "output_type": "display_data"
    },
    {
     "data": {
      "text/markdown": [
       "Fast food outlets, restaurants and public eating places will be closed to the public except for take away services. All residents in hospitality facilities shall be served in their rooms."
      ],
      "text/plain": [
       "<IPython.core.display.Markdown object>"
      ]
     },
     "metadata": {},
     "output_type": "display_data"
    },
    {
     "data": {
      "text/markdown": [
       "Public projects that are not related to health (i.e. hospitals) are suspended."
      ],
      "text/plain": [
       "<IPython.core.display.Markdown object>"
      ]
     },
     "metadata": {},
     "output_type": "display_data"
    },
    {
     "data": {
      "text/markdown": [
       "One of Moscow’s leading cancer hospitals, the Blokhin Cancer Center, has stopped admitting patients to chemotherapy sessions after one of the department's medics tested positive for coronavirus. All of the chemotherapy department's employees have been quarantined and its patients are under special supervision, the hospital said."
      ],
      "text/plain": [
       "<IPython.core.display.Markdown object>"
      ]
     },
     "metadata": {},
     "output_type": "display_data"
    },
    {
     "data": {
      "text/markdown": [
       "Day care centres are closed; limitations to visits in hospitals are implemented"
      ],
      "text/plain": [
       "<IPython.core.display.Markdown object>"
      ]
     },
     "metadata": {},
     "output_type": "display_data"
    },
    {
     "data": {
      "text/markdown": [
       "##### Schools closure"
      ],
      "text/plain": [
       "<IPython.core.display.Markdown object>"
      ]
     },
     "metadata": {},
     "output_type": "display_data"
    },
    {
     "data": {
      "text/markdown": [
       "Extension of school closure, undefined period (exemption pre-schools and Kindergarten run by hospitals)"
      ],
      "text/plain": [
       "<IPython.core.display.Markdown object>"
      ]
     },
     "metadata": {},
     "output_type": "display_data"
    },
    {
     "data": {
      "text/markdown": [
       "#### Lockdown"
      ],
      "text/plain": [
       "<IPython.core.display.Markdown object>"
      ]
     },
     "metadata": {},
     "output_type": "display_data"
    },
    {
     "data": {
      "text/markdown": [
       "##### Full lockdown"
      ],
      "text/plain": [
       "<IPython.core.display.Markdown object>"
      ]
     },
     "metadata": {},
     "output_type": "display_data"
    },
    {
     "data": {
      "text/markdown": [
       "From April 6 – 12, all municipalities in the Dept of Cortes and the municipality of El Progreso, Yoro are under an absolute curfew. The only exemptions that will apply are for personnel involved in managing the emergency, high government officers, health care workers, first responders, national security and defense personnel, personnel with customs, migration, ports and airports and essential public services, including personnel that works with private power plants; hospitals, medical service centers and laboratories; the maquilas making protective masks and biomedical equipment/supplies needed for the emergency; the agricultural/food sector to guarantee production and distribution of food; gas stations to serve only the sectors authorized in this exemption; public transportation for health purposes and those contracted by businesses to mobilize their personnel; the telecommunications sector, including internet providers and the media – radio, television, newspapers and cable providers; the cargo industry – air, sea and land – for imports, exports, supplies and ports; and, private security service providers. "
      ],
      "text/plain": [
       "<IPython.core.display.Markdown object>"
      ]
     },
     "metadata": {},
     "output_type": "display_data"
    }
   ],
   "source": [
    "print_match_rows('hospital')"
   ]
  },
  {
   "cell_type": "markdown",
   "metadata": {},
   "source": [
    "Good data taht describes some kind of helathcare specialisation, but scale varies widely - anywhere from new hospitals built to buying extra ventilators."
   ]
  },
  {
   "cell_type": "code",
   "execution_count": 103,
   "metadata": {},
   "outputs": [
    {
     "name": "stdout",
     "output_type": "stream",
     "text": [
      "41\n"
     ]
    }
   ],
   "source": [
    "relevant_categories = source_data.loc[\n",
    "    source_data.MEASURE.isin([\n",
    "        'Strengthening the public health system' ])==True,]\n",
    "\n",
    "relevant_rows = relevant_categories.loc[\n",
    "    relevant_categories.COMMENTS.str.contains('hospital', na=False),:]\n",
    "\n",
    "print(len(relevant_rows.COUNTRY.unique()))"
   ]
  },
  {
   "cell_type": "code",
   "execution_count": 104,
   "metadata": {},
   "outputs": [
    {
     "data": {
      "text/html": [
       "<div>\n",
       "<style>\n",
       "    .dataframe thead tr:only-child th {\n",
       "        text-align: right;\n",
       "    }\n",
       "\n",
       "    .dataframe thead th {\n",
       "        text-align: left;\n",
       "    }\n",
       "\n",
       "    .dataframe tbody tr th {\n",
       "        vertical-align: top;\n",
       "    }\n",
       "</style>\n",
       "<table border=\"1\" class=\"dataframe\">\n",
       "  <thead>\n",
       "    <tr style=\"text-align: right;\">\n",
       "      <th></th>\n",
       "      <th>ID</th>\n",
       "      <th>COUNTRY</th>\n",
       "      <th>ISO</th>\n",
       "      <th>ADMIN_LEVEL_NAME</th>\n",
       "      <th>PCODE</th>\n",
       "      <th>REGION</th>\n",
       "      <th>LOG_TYPE</th>\n",
       "      <th>CATEGORY</th>\n",
       "      <th>MEASURE</th>\n",
       "      <th>TARGETED_POP_GROUP</th>\n",
       "      <th>COMMENTS</th>\n",
       "      <th>NON_COMPLIANCE</th>\n",
       "      <th>DATE_IMPLEMENTED</th>\n",
       "      <th>SOURCE</th>\n",
       "      <th>SOURCE_TYPE</th>\n",
       "      <th>LINK</th>\n",
       "      <th>ENTRY_DATE</th>\n",
       "      <th>Alternative source</th>\n",
       "      <th>ADMIN_LEVEL_NAME_MERGEABLE</th>\n",
       "    </tr>\n",
       "  </thead>\n",
       "  <tbody>\n",
       "    <tr>\n",
       "      <th>15</th>\n",
       "      <td>4249</td>\n",
       "      <td>Afghanistan</td>\n",
       "      <td>AFG</td>\n",
       "      <td>Kabul</td>\n",
       "      <td>NaN</td>\n",
       "      <td>Asia</td>\n",
       "      <td>Introduction / extension of measures</td>\n",
       "      <td>Public health measures</td>\n",
       "      <td>Strengthening the public health system</td>\n",
       "      <td>Yes</td>\n",
       "      <td>the ministry has prepared 100 bed to control t...</td>\n",
       "      <td>NaN</td>\n",
       "      <td>02/02/2020</td>\n",
       "      <td>Afghanistan MoPH</td>\n",
       "      <td>Government</td>\n",
       "      <td>https://www.facebook.com/af.moph/posts/1011701...</td>\n",
       "      <td>07/04/2020</td>\n",
       "      <td>NaN</td>\n",
       "      <td>Kabul</td>\n",
       "    </tr>\n",
       "    <tr>\n",
       "      <th>18</th>\n",
       "      <td>4252</td>\n",
       "      <td>Afghanistan</td>\n",
       "      <td>AFG</td>\n",
       "      <td>NaN</td>\n",
       "      <td>NaN</td>\n",
       "      <td>Asia</td>\n",
       "      <td>Introduction / extension of measures</td>\n",
       "      <td>Public health measures</td>\n",
       "      <td>Strengthening the public health system</td>\n",
       "      <td>No</td>\n",
       "      <td>The Ministry of public health has created the ...</td>\n",
       "      <td>NaN</td>\n",
       "      <td>04/02/2020</td>\n",
       "      <td>Afghanistan MoPH</td>\n",
       "      <td>Government</td>\n",
       "      <td>https://www.facebook.com/af.moph/posts/1013057...</td>\n",
       "      <td>07/04/2020</td>\n",
       "      <td>NaN</td>\n",
       "      <td></td>\n",
       "    </tr>\n",
       "    <tr>\n",
       "      <th>48</th>\n",
       "      <td>4282</td>\n",
       "      <td>Afghanistan</td>\n",
       "      <td>AFG</td>\n",
       "      <td>Kandahar Province</td>\n",
       "      <td>NaN</td>\n",
       "      <td>Asia</td>\n",
       "      <td>Introduction / extension of measures</td>\n",
       "      <td>Public health measures</td>\n",
       "      <td>Strengthening the public health system</td>\n",
       "      <td>No</td>\n",
       "      <td>A COVID-19 lab is opened using Government of A...</td>\n",
       "      <td>NaN</td>\n",
       "      <td>07/04/2020</td>\n",
       "      <td>Afghanistan MoPH</td>\n",
       "      <td>Government</td>\n",
       "      <td>https://www.facebook.com/af.moph/posts/1060980...</td>\n",
       "      <td>07/04/2020</td>\n",
       "      <td>https://af.usembassy.gov/covid-19-information/</td>\n",
       "      <td>Kandahar Province</td>\n",
       "    </tr>\n",
       "    <tr>\n",
       "      <th>66</th>\n",
       "      <td>2003</td>\n",
       "      <td>Albania</td>\n",
       "      <td>ALB</td>\n",
       "      <td>NaN</td>\n",
       "      <td>NaN</td>\n",
       "      <td>Europe</td>\n",
       "      <td>Introduction / extension of measures</td>\n",
       "      <td>Public health measures</td>\n",
       "      <td>Strengthening the public health system</td>\n",
       "      <td>Yes</td>\n",
       "      <td>Private hospitals that refuse to offer their c...</td>\n",
       "      <td>Fines</td>\n",
       "      <td>22/03/2020</td>\n",
       "      <td>BalkaninSight</td>\n",
       "      <td>Media</td>\n",
       "      <td>https://balkaninsight.com/2020/03/16/albania-m...</td>\n",
       "      <td>24/03/2020</td>\n",
       "      <td>NaN</td>\n",
       "      <td></td>\n",
       "    </tr>\n",
       "    <tr>\n",
       "      <th>140</th>\n",
       "      <td>2774</td>\n",
       "      <td>Angola</td>\n",
       "      <td>AGO</td>\n",
       "      <td>Lubango</td>\n",
       "      <td>NaN</td>\n",
       "      <td>Africa</td>\n",
       "      <td>Introduction / extension of measures</td>\n",
       "      <td>Public health measures</td>\n",
       "      <td>Strengthening the public health system</td>\n",
       "      <td>Yes</td>\n",
       "      <td>Central hospital installs new ventilators. The...</td>\n",
       "      <td>Not applicable</td>\n",
       "      <td>26/03/2020</td>\n",
       "      <td>ANGOP</td>\n",
       "      <td>Media</td>\n",
       "      <td>http://www.angop.ao/angola/en_us/noticias/saud...</td>\n",
       "      <td>27/03/2020</td>\n",
       "      <td>NaN</td>\n",
       "      <td>Lubango</td>\n",
       "    </tr>\n",
       "    <tr>\n",
       "      <th>182</th>\n",
       "      <td>5271</td>\n",
       "      <td>Angola</td>\n",
       "      <td>AGO</td>\n",
       "      <td>NaN</td>\n",
       "      <td>NaN</td>\n",
       "      <td>Africa</td>\n",
       "      <td>Introduction / extension of measures</td>\n",
       "      <td>Public health measures</td>\n",
       "      <td>Strengthening the public health system</td>\n",
       "      <td>Yes</td>\n",
       "      <td>Five hundred doctors, in the province of Luand...</td>\n",
       "      <td>Not applicable</td>\n",
       "      <td>13/04/2020</td>\n",
       "      <td>ANGOP</td>\n",
       "      <td>Media</td>\n",
       "      <td>http://www.angop.ao/angola/en_us/noticias/saud...</td>\n",
       "      <td>14/04/2020</td>\n",
       "      <td>NaN</td>\n",
       "      <td></td>\n",
       "    </tr>\n",
       "    <tr>\n",
       "      <th>192</th>\n",
       "      <td>4652</td>\n",
       "      <td>Antigua and Barbuda</td>\n",
       "      <td>ATG</td>\n",
       "      <td>NaN</td>\n",
       "      <td>NaN</td>\n",
       "      <td>Americas</td>\n",
       "      <td>Introduction / extension of measures</td>\n",
       "      <td>Public health measures</td>\n",
       "      <td>Strengthening the public health system</td>\n",
       "      <td>Yes</td>\n",
       "      <td>isolation centers and designated hospitals est.</td>\n",
       "      <td>Not applicable</td>\n",
       "      <td>17/03/2020</td>\n",
       "      <td>AB Govt.</td>\n",
       "      <td>Government</td>\n",
       "      <td>https://ab.gov.ag/pdf/Coronavirus%20%20FAQ%20f...</td>\n",
       "      <td>10/04/2020</td>\n",
       "      <td>NaN</td>\n",
       "      <td></td>\n",
       "    </tr>\n",
       "    <tr>\n",
       "      <th>218</th>\n",
       "      <td>877</td>\n",
       "      <td>Argentina</td>\n",
       "      <td>ARG</td>\n",
       "      <td>NaN</td>\n",
       "      <td>NaN</td>\n",
       "      <td>Americas</td>\n",
       "      <td>Introduction / extension of measures</td>\n",
       "      <td>Public health measures</td>\n",
       "      <td>Strengthening the public health system</td>\n",
       "      <td>No</td>\n",
       "      <td>Construction of 8 temporary hospitals</td>\n",
       "      <td>Not applicable</td>\n",
       "      <td>18/03/2020</td>\n",
       "      <td>Ministry of Health — Argentina</td>\n",
       "      <td>Government</td>\n",
       "      <td>https://www.argentina.gob.ar/coronavirus/medid...</td>\n",
       "      <td>20/03/2020</td>\n",
       "      <td>NaN</td>\n",
       "      <td></td>\n",
       "    </tr>\n",
       "    <tr>\n",
       "      <th>298</th>\n",
       "      <td>2256</td>\n",
       "      <td>Australia</td>\n",
       "      <td>AUS</td>\n",
       "      <td>NaN</td>\n",
       "      <td>NaN</td>\n",
       "      <td>Pacific</td>\n",
       "      <td>Introduction / extension of measures</td>\n",
       "      <td>Public health measures</td>\n",
       "      <td>Strengthening the public health system</td>\n",
       "      <td>Yes</td>\n",
       "      <td>Non-urgent elective surgeries in Australia's p...</td>\n",
       "      <td>Not applicable</td>\n",
       "      <td>25/03/2020</td>\n",
       "      <td>ABC News</td>\n",
       "      <td>Media</td>\n",
       "      <td>https://www.abc.net.au/news/2020-03-25/coronav...</td>\n",
       "      <td>25/03/2020</td>\n",
       "      <td>NaN</td>\n",
       "      <td></td>\n",
       "    </tr>\n",
       "    <tr>\n",
       "      <th>310</th>\n",
       "      <td>2808</td>\n",
       "      <td>Australia</td>\n",
       "      <td>AUS</td>\n",
       "      <td>NaN</td>\n",
       "      <td>NaN</td>\n",
       "      <td>Pacific</td>\n",
       "      <td>Introduction / extension of measures</td>\n",
       "      <td>Public health measures</td>\n",
       "      <td>Strengthening the public health system</td>\n",
       "      <td>Yes</td>\n",
       "      <td>State and territory governments committed to u...</td>\n",
       "      <td>Not applicable</td>\n",
       "      <td>29/03/2020</td>\n",
       "      <td>Australia MoH</td>\n",
       "      <td>Government</td>\n",
       "      <td>https://www.pm.gov.au/media/update-coronavirus...</td>\n",
       "      <td>27/03/2020</td>\n",
       "      <td>NaN</td>\n",
       "      <td></td>\n",
       "    </tr>\n",
       "    <tr>\n",
       "      <th>481</th>\n",
       "      <td>1060</td>\n",
       "      <td>Bahamas</td>\n",
       "      <td>BHS</td>\n",
       "      <td>NaN</td>\n",
       "      <td>NaN</td>\n",
       "      <td>Americas</td>\n",
       "      <td>Introduction / extension of measures</td>\n",
       "      <td>Public health measures</td>\n",
       "      <td>Strengthening the public health system</td>\n",
       "      <td>Yes</td>\n",
       "      <td>Restricted access to the Princess Margaret Hos...</td>\n",
       "      <td>NaN</td>\n",
       "      <td>16/03/2020</td>\n",
       "      <td>Public Hospitals Authority</td>\n",
       "      <td>Government</td>\n",
       "      <td>http://www.bahamas.gov.bs/wps/portal/public/go...</td>\n",
       "      <td>20/03/2020</td>\n",
       "      <td>NaN</td>\n",
       "      <td></td>\n",
       "    </tr>\n",
       "    <tr>\n",
       "      <th>549</th>\n",
       "      <td>1525</td>\n",
       "      <td>Barbados</td>\n",
       "      <td>BRB</td>\n",
       "      <td>NaN</td>\n",
       "      <td>NaN</td>\n",
       "      <td>Americas</td>\n",
       "      <td>Introduction / extension of measures</td>\n",
       "      <td>Public health measures</td>\n",
       "      <td>Strengthening the public health system</td>\n",
       "      <td>No</td>\n",
       "      <td>Temporary quarantine center set up and ready t...</td>\n",
       "      <td>NaN</td>\n",
       "      <td>14/02/2020</td>\n",
       "      <td>MoH</td>\n",
       "      <td>Government</td>\n",
       "      <td>https://gisbarbados.gov.bb/blog/temporary-quar...</td>\n",
       "      <td>22/03/2020</td>\n",
       "      <td>NaN</td>\n",
       "      <td></td>\n",
       "    </tr>\n",
       "    <tr>\n",
       "      <th>665</th>\n",
       "      <td>898</td>\n",
       "      <td>Belgium</td>\n",
       "      <td>BEL</td>\n",
       "      <td>NaN</td>\n",
       "      <td>NaN</td>\n",
       "      <td>Europe</td>\n",
       "      <td>Introduction / extension of measures</td>\n",
       "      <td>Public health measures</td>\n",
       "      <td>Strengthening the public health system</td>\n",
       "      <td>No</td>\n",
       "      <td>Financial aid package of 1 billion for hospita...</td>\n",
       "      <td>Not applicable</td>\n",
       "      <td>20/03/2020</td>\n",
       "      <td>Government</td>\n",
       "      <td>Government</td>\n",
       "      <td>https://www.health.belgium.be/nl/news/covid-19...</td>\n",
       "      <td>20/03/2020</td>\n",
       "      <td>NaN</td>\n",
       "      <td></td>\n",
       "    </tr>\n",
       "    <tr>\n",
       "      <th>777</th>\n",
       "      <td>2762</td>\n",
       "      <td>Bosnia and Herzegovina</td>\n",
       "      <td>BIH</td>\n",
       "      <td>NaN</td>\n",
       "      <td>NaN</td>\n",
       "      <td>Europe</td>\n",
       "      <td>Introduction / extension of measures</td>\n",
       "      <td>Public health measures</td>\n",
       "      <td>Strengthening the public health system</td>\n",
       "      <td>No</td>\n",
       "      <td>Additional funds for five hospitals released</td>\n",
       "      <td>Not applicable</td>\n",
       "      <td>22/03/2020</td>\n",
       "      <td>Government</td>\n",
       "      <td>Government</td>\n",
       "      <td>http://www.fbihvlada.gov.ba/bosanski/aktuelno_...</td>\n",
       "      <td>27/03/2020</td>\n",
       "      <td>NaN</td>\n",
       "      <td></td>\n",
       "    </tr>\n",
       "    <tr>\n",
       "      <th>1091</th>\n",
       "      <td>1211</td>\n",
       "      <td>China</td>\n",
       "      <td>CHN</td>\n",
       "      <td>NaN</td>\n",
       "      <td>NaN</td>\n",
       "      <td>Asia</td>\n",
       "      <td>Introduction / extension of measures</td>\n",
       "      <td>Public health measures</td>\n",
       "      <td>Strengthening the public health system</td>\n",
       "      <td>No</td>\n",
       "      <td>Construction of first makeshift hospital. Firs...</td>\n",
       "      <td>NaN</td>\n",
       "      <td>03/02/2020</td>\n",
       "      <td>NHC of the PRC</td>\n",
       "      <td>Government</td>\n",
       "      <td>http://en.nhc.gov.cn/2020-03/17/c_77834.htm</td>\n",
       "      <td>20/03/2020</td>\n",
       "      <td>NaN</td>\n",
       "      <td></td>\n",
       "    </tr>\n",
       "    <tr>\n",
       "      <th>1092</th>\n",
       "      <td>1212</td>\n",
       "      <td>China</td>\n",
       "      <td>CHN</td>\n",
       "      <td>NaN</td>\n",
       "      <td>NaN</td>\n",
       "      <td>Asia</td>\n",
       "      <td>Introduction / extension of measures</td>\n",
       "      <td>Public health measures</td>\n",
       "      <td>Strengthening the public health system</td>\n",
       "      <td>No</td>\n",
       "      <td>10 new makeshift hospital opened. 5,600 patien...</td>\n",
       "      <td>NaN</td>\n",
       "      <td>13/02/2020</td>\n",
       "      <td>NHC of the PRC</td>\n",
       "      <td>Government</td>\n",
       "      <td>http://en.nhc.gov.cn/2020-03/17/c_77834.htm</td>\n",
       "      <td>21/03/2020</td>\n",
       "      <td>NaN</td>\n",
       "      <td></td>\n",
       "    </tr>\n",
       "    <tr>\n",
       "      <th>1093</th>\n",
       "      <td>1213</td>\n",
       "      <td>China</td>\n",
       "      <td>CHN</td>\n",
       "      <td>NaN</td>\n",
       "      <td>NaN</td>\n",
       "      <td>Asia</td>\n",
       "      <td>Introduction / extension of measures</td>\n",
       "      <td>Public health measures</td>\n",
       "      <td>Strengthening the public health system</td>\n",
       "      <td>No</td>\n",
       "      <td>16 makeshift hospitals total. 13,000 beds avai...</td>\n",
       "      <td>NaN</td>\n",
       "      <td>27/02/2020</td>\n",
       "      <td>NHC of the PRC</td>\n",
       "      <td>Government</td>\n",
       "      <td>http://en.nhc.gov.cn/2020-03/17/c_77834.htm</td>\n",
       "      <td>21/03/2020</td>\n",
       "      <td>NaN</td>\n",
       "      <td></td>\n",
       "    </tr>\n",
       "    <tr>\n",
       "      <th>1202</th>\n",
       "      <td>5033</td>\n",
       "      <td>Colombia</td>\n",
       "      <td>COL</td>\n",
       "      <td>NaN</td>\n",
       "      <td>NaN</td>\n",
       "      <td>Americas</td>\n",
       "      <td>Introduction / extension of measures</td>\n",
       "      <td>Public health measures</td>\n",
       "      <td>Strengthening the public health system</td>\n",
       "      <td>No</td>\n",
       "      <td>Military industry 'Indumil' to produce medical...</td>\n",
       "      <td>Not applicable</td>\n",
       "      <td>01/04/2020</td>\n",
       "      <td>Government — Colombia</td>\n",
       "      <td>Government</td>\n",
       "      <td>https://coronaviruscolombia.gov.co/Covid19/acc...</td>\n",
       "      <td>12/04/2020</td>\n",
       "      <td>NaN</td>\n",
       "      <td></td>\n",
       "    </tr>\n",
       "    <tr>\n",
       "      <th>1204</th>\n",
       "      <td>5035</td>\n",
       "      <td>Colombia</td>\n",
       "      <td>COL</td>\n",
       "      <td>NaN</td>\n",
       "      <td>NaN</td>\n",
       "      <td>Americas</td>\n",
       "      <td>Introduction / extension of measures</td>\n",
       "      <td>Public health measures</td>\n",
       "      <td>Strengthening the public health system</td>\n",
       "      <td>No</td>\n",
       "      <td>Federal government to provide 6 temporary hosp...</td>\n",
       "      <td>Not applicable</td>\n",
       "      <td>02/04/2020</td>\n",
       "      <td>Government — Colombia</td>\n",
       "      <td>Government</td>\n",
       "      <td>https://coronaviruscolombia.gov.co/Covid19/acc...</td>\n",
       "      <td>12/04/2020</td>\n",
       "      <td>NaN</td>\n",
       "      <td></td>\n",
       "    </tr>\n",
       "    <tr>\n",
       "      <th>1303</th>\n",
       "      <td>948</td>\n",
       "      <td>Croatia</td>\n",
       "      <td>HRV</td>\n",
       "      <td>NaN</td>\n",
       "      <td>NaN</td>\n",
       "      <td>Europe</td>\n",
       "      <td>Introduction / extension of measures</td>\n",
       "      <td>Public health measures</td>\n",
       "      <td>Strengthening the public health system</td>\n",
       "      <td>No</td>\n",
       "      <td>The capacities of hospitals across Croatia are...</td>\n",
       "      <td>Not applicable</td>\n",
       "      <td>19/03/2020</td>\n",
       "      <td>Government</td>\n",
       "      <td>Government</td>\n",
       "      <td>https://vlada.gov.hr/news/treatment-centres-an...</td>\n",
       "      <td>20/03/2020</td>\n",
       "      <td>NaN</td>\n",
       "      <td></td>\n",
       "    </tr>\n",
       "    <tr>\n",
       "      <th>1309</th>\n",
       "      <td>2929</td>\n",
       "      <td>Croatia</td>\n",
       "      <td>HRV</td>\n",
       "      <td>NaN</td>\n",
       "      <td>NaN</td>\n",
       "      <td>Europe</td>\n",
       "      <td>Introduction / extension of measures</td>\n",
       "      <td>Public health measures</td>\n",
       "      <td>Strengthening the public health system</td>\n",
       "      <td>No</td>\n",
       "      <td>Development of health camp outside of main hos...</td>\n",
       "      <td>Not applicable</td>\n",
       "      <td>20/03/2020</td>\n",
       "      <td>Government</td>\n",
       "      <td>Government</td>\n",
       "      <td>https://vlada.gov.hr/news/plenkovic-commends-s...</td>\n",
       "      <td>28/03/2020</td>\n",
       "      <td>NaN</td>\n",
       "      <td></td>\n",
       "    </tr>\n",
       "    <tr>\n",
       "      <th>1416</th>\n",
       "      <td>2948</td>\n",
       "      <td>Czech Republic</td>\n",
       "      <td>CZE</td>\n",
       "      <td>NaN</td>\n",
       "      <td>NaN</td>\n",
       "      <td>Europe</td>\n",
       "      <td>Introduction / extension of measures</td>\n",
       "      <td>Public health measures</td>\n",
       "      <td>Strengthening the public health system</td>\n",
       "      <td>No</td>\n",
       "      <td>All hospitals are asked to create spaces for p...</td>\n",
       "      <td>Not applicable</td>\n",
       "      <td>26/03/2020</td>\n",
       "      <td>Ministry of Health</td>\n",
       "      <td>Government</td>\n",
       "      <td>https://koronavirus.mzcr.cz/ministerstvo-zdrav...</td>\n",
       "      <td>28/03/2020</td>\n",
       "      <td>NaN</td>\n",
       "      <td></td>\n",
       "    </tr>\n",
       "    <tr>\n",
       "      <th>1418</th>\n",
       "      <td>2950</td>\n",
       "      <td>Czech Republic</td>\n",
       "      <td>CZE</td>\n",
       "      <td>NaN</td>\n",
       "      <td>NaN</td>\n",
       "      <td>Europe</td>\n",
       "      <td>Introduction / extension of measures</td>\n",
       "      <td>Public health measures</td>\n",
       "      <td>Strengthening the public health system</td>\n",
       "      <td>No</td>\n",
       "      <td>Streamlining of public health information syst...</td>\n",
       "      <td>Not applicable</td>\n",
       "      <td>26/03/2020</td>\n",
       "      <td>Ministry of Health</td>\n",
       "      <td>Government</td>\n",
       "      <td>https://koronavirus.mzcr.cz/o-kazdem-pacientov...</td>\n",
       "      <td>28/03/2020</td>\n",
       "      <td>NaN</td>\n",
       "      <td></td>\n",
       "    </tr>\n",
       "    <tr>\n",
       "      <th>1453</th>\n",
       "      <td>2961</td>\n",
       "      <td>Denmark</td>\n",
       "      <td>DNK</td>\n",
       "      <td>NaN</td>\n",
       "      <td>NaN</td>\n",
       "      <td>Europe</td>\n",
       "      <td>Introduction / extension of measures</td>\n",
       "      <td>Public health measures</td>\n",
       "      <td>Strengthening the public health system</td>\n",
       "      <td>No</td>\n",
       "      <td>Guidelines for patient's discharge from the ho...</td>\n",
       "      <td>Not applicable</td>\n",
       "      <td>27/03/2020</td>\n",
       "      <td>Danish Health Authority</td>\n",
       "      <td>Government</td>\n",
       "      <td>https://www.sst.dk/da/Nyheder/2020/Hvordan-sik...</td>\n",
       "      <td>29/03/2020</td>\n",
       "      <td>NaN</td>\n",
       "      <td></td>\n",
       "    </tr>\n",
       "    <tr>\n",
       "      <th>1815</th>\n",
       "      <td>1989</td>\n",
       "      <td>Fiji</td>\n",
       "      <td>FJI</td>\n",
       "      <td>NaN</td>\n",
       "      <td>NaN</td>\n",
       "      <td>Pacific</td>\n",
       "      <td>Introduction / extension of measures</td>\n",
       "      <td>Public health measures</td>\n",
       "      <td>Strengthening the public health system</td>\n",
       "      <td>No</td>\n",
       "      <td>8 fever clinics now open. Eight fever clinics ...</td>\n",
       "      <td>Not applicable</td>\n",
       "      <td>22/03/2020</td>\n",
       "      <td>Fiji MoH</td>\n",
       "      <td>Government</td>\n",
       "      <td>http://www.health.gov.fj/media-release-eight-f...</td>\n",
       "      <td>24/03/2020</td>\n",
       "      <td>NaN</td>\n",
       "      <td></td>\n",
       "    </tr>\n",
       "    <tr>\n",
       "      <th>1839</th>\n",
       "      <td>4944</td>\n",
       "      <td>Fiji</td>\n",
       "      <td>FJI</td>\n",
       "      <td>NaN</td>\n",
       "      <td>NaN</td>\n",
       "      <td>Pacific</td>\n",
       "      <td>Introduction / extension of measures</td>\n",
       "      <td>Public health measures</td>\n",
       "      <td>Strengthening the public health system</td>\n",
       "      <td>No</td>\n",
       "      <td>The NZ government has provided 40 high-flow ox...</td>\n",
       "      <td>Not applicable</td>\n",
       "      <td>06/04/2020</td>\n",
       "      <td>RNZ</td>\n",
       "      <td>Media</td>\n",
       "      <td>https://www.rnz.co.nz/international/pacific-ne...</td>\n",
       "      <td>12/04/2020</td>\n",
       "      <td>NaN</td>\n",
       "      <td></td>\n",
       "    </tr>\n",
       "    <tr>\n",
       "      <th>1916</th>\n",
       "      <td>3891</td>\n",
       "      <td>France</td>\n",
       "      <td>FRA</td>\n",
       "      <td>NaN</td>\n",
       "      <td>NaN</td>\n",
       "      <td>Europe</td>\n",
       "      <td>Introduction / extension of measures</td>\n",
       "      <td>Public health measures</td>\n",
       "      <td>Strengthening the public health system</td>\n",
       "      <td>Yes</td>\n",
       "      <td>Special provisions implemented to support peop...</td>\n",
       "      <td>Not applicable</td>\n",
       "      <td>04/04/2020</td>\n",
       "      <td>Ministry of Solidarity and Health</td>\n",
       "      <td>Government</td>\n",
       "      <td>https://solidarites-sante.gouv.fr/actualites/p...</td>\n",
       "      <td>05/04/2020</td>\n",
       "      <td>NaN</td>\n",
       "      <td></td>\n",
       "    </tr>\n",
       "    <tr>\n",
       "      <th>1995</th>\n",
       "      <td>368</td>\n",
       "      <td>Germany</td>\n",
       "      <td>DEU</td>\n",
       "      <td>NaN</td>\n",
       "      <td>NaN</td>\n",
       "      <td>Europe</td>\n",
       "      <td>Introduction / extension of measures</td>\n",
       "      <td>Public health measures</td>\n",
       "      <td>Strengthening the public health system</td>\n",
       "      <td>No</td>\n",
       "      <td>all non-essential surgeries in hospitals will ...</td>\n",
       "      <td>Not applicable</td>\n",
       "      <td>16/03/2020</td>\n",
       "      <td>Government</td>\n",
       "      <td>Government</td>\n",
       "      <td>https://www.bundesregierung.de/breg-de/themen/...</td>\n",
       "      <td>15/03/2020</td>\n",
       "      <td>NaN</td>\n",
       "      <td></td>\n",
       "    </tr>\n",
       "    <tr>\n",
       "      <th>2014</th>\n",
       "      <td>3068</td>\n",
       "      <td>Germany</td>\n",
       "      <td>DEU</td>\n",
       "      <td>NaN</td>\n",
       "      <td>NaN</td>\n",
       "      <td>Europe</td>\n",
       "      <td>Introduction / extension of measures</td>\n",
       "      <td>Public health measures</td>\n",
       "      <td>Strengthening the public health system</td>\n",
       "      <td>No</td>\n",
       "      <td>Financial packages for hospitals and service p...</td>\n",
       "      <td>Not applicable</td>\n",
       "      <td>25/03/2020</td>\n",
       "      <td>Ministry of Health</td>\n",
       "      <td>Government</td>\n",
       "      <td>https://www.bundesgesundheitsministerium.de/pr...</td>\n",
       "      <td>30/03/2020</td>\n",
       "      <td>NaN</td>\n",
       "      <td></td>\n",
       "    </tr>\n",
       "    <tr>\n",
       "      <th>2280</th>\n",
       "      <td>2464</td>\n",
       "      <td>Hungary</td>\n",
       "      <td>HUN</td>\n",
       "      <td>NaN</td>\n",
       "      <td>NaN</td>\n",
       "      <td>Europe</td>\n",
       "      <td>Introduction / extension of measures</td>\n",
       "      <td>Public health measures</td>\n",
       "      <td>Strengthening the public health system</td>\n",
       "      <td>Yes</td>\n",
       "      <td>, hospitals are suspending elective surgeries ...</td>\n",
       "      <td>Not applicable</td>\n",
       "      <td>17/03/2020</td>\n",
       "      <td>Official Website</td>\n",
       "      <td>Government</td>\n",
       "      <td>http://abouthungary.hu/news-in-brief/coronavir...</td>\n",
       "      <td>25/03/2020</td>\n",
       "      <td>NaN</td>\n",
       "      <td></td>\n",
       "    </tr>\n",
       "    <tr>\n",
       "      <th>2289</th>\n",
       "      <td>2473</td>\n",
       "      <td>Hungary</td>\n",
       "      <td>HUN</td>\n",
       "      <td>NaN</td>\n",
       "      <td>NaN</td>\n",
       "      <td>Europe</td>\n",
       "      <td>Introduction / extension of measures</td>\n",
       "      <td>Public health measures</td>\n",
       "      <td>Strengthening the public health system</td>\n",
       "      <td>Yes</td>\n",
       "      <td>Chief medical officer Cecília Müller said the ...</td>\n",
       "      <td>Not applicable</td>\n",
       "      <td>18/03/2020</td>\n",
       "      <td>Official Website</td>\n",
       "      <td>Government</td>\n",
       "      <td>http://abouthungary.hu/news-in-brief/coronavir...</td>\n",
       "      <td>25/03/2020</td>\n",
       "      <td>http://abouthungary.hu/news-in-brief/coronavir...</td>\n",
       "      <td></td>\n",
       "    </tr>\n",
       "    <tr>\n",
       "      <th>2396</th>\n",
       "      <td>3176</td>\n",
       "      <td>Indonesia</td>\n",
       "      <td>IDN</td>\n",
       "      <td>NaN</td>\n",
       "      <td>NaN</td>\n",
       "      <td>Asia</td>\n",
       "      <td>Introduction / extension of measures</td>\n",
       "      <td>Public health measures</td>\n",
       "      <td>Strengthening the public health system</td>\n",
       "      <td>No</td>\n",
       "      <td>List of coronavirus referral hospitals in Indo...</td>\n",
       "      <td>NaN</td>\n",
       "      <td>30/03/2020</td>\n",
       "      <td>Indonesia MoH</td>\n",
       "      <td>Government</td>\n",
       "      <td>https://kemlu.go.id/portal/en/read/1126/siaran...</td>\n",
       "      <td>31/03/2020</td>\n",
       "      <td>NaN</td>\n",
       "      <td></td>\n",
       "    </tr>\n",
       "    <tr>\n",
       "      <th>2467</th>\n",
       "      <td>2142</td>\n",
       "      <td>Ireland</td>\n",
       "      <td>IRL</td>\n",
       "      <td>NaN</td>\n",
       "      <td>NaN</td>\n",
       "      <td>Europe</td>\n",
       "      <td>Introduction / extension of measures</td>\n",
       "      <td>Public health measures</td>\n",
       "      <td>Strengthening the public health system</td>\n",
       "      <td>No</td>\n",
       "      <td>Private hospitals will operate effectively as ...</td>\n",
       "      <td>NaN</td>\n",
       "      <td>24/03/2020</td>\n",
       "      <td>Department of the Taoiseach</td>\n",
       "      <td>Government</td>\n",
       "      <td>https://www.gov.ie/en/speech/d162df-speech-of-...</td>\n",
       "      <td>24/03/2020</td>\n",
       "      <td>NaN</td>\n",
       "      <td></td>\n",
       "    </tr>\n",
       "    <tr>\n",
       "      <th>2518</th>\n",
       "      <td>2175</td>\n",
       "      <td>Israel</td>\n",
       "      <td>ISR</td>\n",
       "      <td>NaN</td>\n",
       "      <td>NaN</td>\n",
       "      <td>Middle East</td>\n",
       "      <td>Introduction / extension of measures</td>\n",
       "      <td>Public health measures</td>\n",
       "      <td>Strengthening the public health system</td>\n",
       "      <td>No</td>\n",
       "      <td>PhilHealth to release P30 billion to hospitals...</td>\n",
       "      <td>Not applicable</td>\n",
       "      <td>18/03/2020</td>\n",
       "      <td>PhilHealth</td>\n",
       "      <td>Government</td>\n",
       "      <td>https://www.philhealth.gov.ph/news/2020/fight_...</td>\n",
       "      <td>24/03/2020</td>\n",
       "      <td>NaN</td>\n",
       "      <td></td>\n",
       "    </tr>\n",
       "    <tr>\n",
       "      <th>2927</th>\n",
       "      <td>1949</td>\n",
       "      <td>Liechtenstein</td>\n",
       "      <td>LIE</td>\n",
       "      <td>NaN</td>\n",
       "      <td>NaN</td>\n",
       "      <td>Europe</td>\n",
       "      <td>Introduction / extension of measures</td>\n",
       "      <td>Public health measures</td>\n",
       "      <td>Strengthening the public health system</td>\n",
       "      <td>No</td>\n",
       "      <td>Capacities increased by postponing non essenti...</td>\n",
       "      <td>Not applicable</td>\n",
       "      <td>23/03/2020</td>\n",
       "      <td>Government</td>\n",
       "      <td>Government</td>\n",
       "      <td>https://www.regierung.li/media/attachments/140...</td>\n",
       "      <td>24/03/2020</td>\n",
       "      <td>NaN</td>\n",
       "      <td></td>\n",
       "    </tr>\n",
       "    <tr>\n",
       "      <th>3139</th>\n",
       "      <td>2591</td>\n",
       "      <td>Malaysia</td>\n",
       "      <td>MYS</td>\n",
       "      <td>Kuching</td>\n",
       "      <td>NaN</td>\n",
       "      <td>Asia</td>\n",
       "      <td>Introduction / extension of measures</td>\n",
       "      <td>Public health measures</td>\n",
       "      <td>Strengthening the public health system</td>\n",
       "      <td>Yes</td>\n",
       "      <td>The Sarawak Disaster Management Committee has ...</td>\n",
       "      <td>Not available</td>\n",
       "      <td>24/03/2020</td>\n",
       "      <td>The Star</td>\n",
       "      <td>Media</td>\n",
       "      <td>https://www.thestar.com.my/news/nation/2020/03...</td>\n",
       "      <td>26/03/2020</td>\n",
       "      <td>NaN</td>\n",
       "      <td>Kuching</td>\n",
       "    </tr>\n",
       "    <tr>\n",
       "      <th>3169</th>\n",
       "      <td>4616</td>\n",
       "      <td>Malaysia</td>\n",
       "      <td>MYS</td>\n",
       "      <td>NaN</td>\n",
       "      <td>NaN</td>\n",
       "      <td>Asia</td>\n",
       "      <td>Introduction / extension of measures</td>\n",
       "      <td>Public health measures</td>\n",
       "      <td>Strengthening the public health system</td>\n",
       "      <td>Yes</td>\n",
       "      <td>The first shipment of 28 ICU beds, specially o...</td>\n",
       "      <td>Not applicable</td>\n",
       "      <td>06/04/2020</td>\n",
       "      <td>The Star</td>\n",
       "      <td>Media</td>\n",
       "      <td>https://www.thestar.com.my/news/nation/2020/04...</td>\n",
       "      <td>09/04/2020</td>\n",
       "      <td>NaN</td>\n",
       "      <td></td>\n",
       "    </tr>\n",
       "    <tr>\n",
       "      <th>3182</th>\n",
       "      <td>5324</td>\n",
       "      <td>Malaysia</td>\n",
       "      <td>MYS</td>\n",
       "      <td>NaN</td>\n",
       "      <td>NaN</td>\n",
       "      <td>Asia</td>\n",
       "      <td>Introduction / extension of measures</td>\n",
       "      <td>Public health measures</td>\n",
       "      <td>Strengthening the public health system</td>\n",
       "      <td>Yes</td>\n",
       "      <td>Final shipment of ICU beds arrive in Malaysia,...</td>\n",
       "      <td>Not applicable</td>\n",
       "      <td>12/04/2020</td>\n",
       "      <td>The Star</td>\n",
       "      <td>Media</td>\n",
       "      <td>https://www.thestar.com.my/news/nation/2020/04...</td>\n",
       "      <td>14/04/2020</td>\n",
       "      <td>NaN</td>\n",
       "      <td></td>\n",
       "    </tr>\n",
       "    <tr>\n",
       "      <th>3336</th>\n",
       "      <td>3364</td>\n",
       "      <td>Mauritius</td>\n",
       "      <td>MUS</td>\n",
       "      <td>NaN</td>\n",
       "      <td>NaN</td>\n",
       "      <td>Africa</td>\n",
       "      <td>Introduction / extension of measures</td>\n",
       "      <td>Public health measures</td>\n",
       "      <td>Strengthening the public health system</td>\n",
       "      <td>No</td>\n",
       "      <td>New hospital will start accepting patients who...</td>\n",
       "      <td>NaN</td>\n",
       "      <td>28/03/2020</td>\n",
       "      <td>Mauritius MoHW Coronavirus Moris FB page</td>\n",
       "      <td>Government</td>\n",
       "      <td>https://www.facebook.com/coronavirusmoris/phot...</td>\n",
       "      <td>04/01/2020</td>\n",
       "      <td>NaN</td>\n",
       "      <td></td>\n",
       "    </tr>\n",
       "    <tr>\n",
       "      <th>3350</th>\n",
       "      <td>5572</td>\n",
       "      <td>Mexico</td>\n",
       "      <td>MEX</td>\n",
       "      <td>NaN</td>\n",
       "      <td>NaN</td>\n",
       "      <td>Americas</td>\n",
       "      <td>Introduction / extension of measures</td>\n",
       "      <td>Public health measures</td>\n",
       "      <td>Strengthening the public health system</td>\n",
       "      <td>No</td>\n",
       "      <td>Increased capacity due to added hospitals, med...</td>\n",
       "      <td>Not applicable</td>\n",
       "      <td>24/03/2020</td>\n",
       "      <td>MoH — Mexico</td>\n",
       "      <td>Government</td>\n",
       "      <td>https://www.gob.mx/salud/prensa/095-inicia-fas...</td>\n",
       "      <td>16/04/2020</td>\n",
       "      <td>NaN</td>\n",
       "      <td></td>\n",
       "    </tr>\n",
       "    <tr>\n",
       "      <th>3595</th>\n",
       "      <td>1263</td>\n",
       "      <td>Nepal</td>\n",
       "      <td>NPL</td>\n",
       "      <td>NaN</td>\n",
       "      <td>NaN</td>\n",
       "      <td>Asia</td>\n",
       "      <td>Introduction / extension of measures</td>\n",
       "      <td>Public health measures</td>\n",
       "      <td>Strengthening the public health system</td>\n",
       "      <td>No</td>\n",
       "      <td>Nepal government has arranged 100 isolation be...</td>\n",
       "      <td>Not applicable</td>\n",
       "      <td>09/03/2020</td>\n",
       "      <td>The Diplomat</td>\n",
       "      <td>Media</td>\n",
       "      <td>https://thediplomat.com/2020/03/nepal-takes-st...</td>\n",
       "      <td>21/03/2020</td>\n",
       "      <td>NaN</td>\n",
       "      <td></td>\n",
       "    </tr>\n",
       "    <tr>\n",
       "      <th>3721</th>\n",
       "      <td>3233</td>\n",
       "      <td>Niger</td>\n",
       "      <td>NER</td>\n",
       "      <td>NaN</td>\n",
       "      <td>NaN</td>\n",
       "      <td>Africa</td>\n",
       "      <td>Introduction / extension of measures</td>\n",
       "      <td>Public health measures</td>\n",
       "      <td>Strengthening the public health system</td>\n",
       "      <td>No</td>\n",
       "      <td>Increase capacity of hospital, hiring of 1500 ...</td>\n",
       "      <td>Not applicable</td>\n",
       "      <td>27/03/2020</td>\n",
       "      <td>President — Niger</td>\n",
       "      <td>Government</td>\n",
       "      <td>http://www.lesahel.org/index.php/2020/03/27/me...</td>\n",
       "      <td>31/03/2020</td>\n",
       "      <td>NaN</td>\n",
       "      <td></td>\n",
       "    </tr>\n",
       "    <tr>\n",
       "      <th>3859</th>\n",
       "      <td>332</td>\n",
       "      <td>Palestine</td>\n",
       "      <td>PSE</td>\n",
       "      <td>NaN</td>\n",
       "      <td>NaN</td>\n",
       "      <td>Middle East</td>\n",
       "      <td>Introduction / extension of measures</td>\n",
       "      <td>Public health measures</td>\n",
       "      <td>Strengthening the public health system</td>\n",
       "      <td>No</td>\n",
       "      <td>Ramallah: PA a new dedicated Department at maj...</td>\n",
       "      <td>Not applicable</td>\n",
       "      <td>11/03/2020</td>\n",
       "      <td>Minstry of Health</td>\n",
       "      <td>Government</td>\n",
       "      <td>http://site.moh.ps/index/ArticleView/ArticleId...</td>\n",
       "      <td>15/03/2020</td>\n",
       "      <td>NaN</td>\n",
       "      <td></td>\n",
       "    </tr>\n",
       "    <tr>\n",
       "      <th>3975</th>\n",
       "      <td>3240</td>\n",
       "      <td>Paraguay</td>\n",
       "      <td>PRY</td>\n",
       "      <td>NaN</td>\n",
       "      <td>NaN</td>\n",
       "      <td>Americas</td>\n",
       "      <td>Introduction / extension of measures</td>\n",
       "      <td>Public health measures</td>\n",
       "      <td>Strengthening the public health system</td>\n",
       "      <td>No</td>\n",
       "      <td>Construction of 2 emergency  hospitals. Recept...</td>\n",
       "      <td>NaN</td>\n",
       "      <td>24/03/2020</td>\n",
       "      <td>Moh — Paraguay</td>\n",
       "      <td>Government</td>\n",
       "      <td>https://www.mspbs.gov.py/que-esta-haciendo-el-...</td>\n",
       "      <td>31/03/2020</td>\n",
       "      <td>NaN</td>\n",
       "      <td></td>\n",
       "    </tr>\n",
       "    <tr>\n",
       "      <th>4078</th>\n",
       "      <td>3559</td>\n",
       "      <td>Philippines</td>\n",
       "      <td>PHL</td>\n",
       "      <td>NaN</td>\n",
       "      <td>NaN</td>\n",
       "      <td>Asia</td>\n",
       "      <td>Introduction / extension of measures</td>\n",
       "      <td>Public health measures</td>\n",
       "      <td>Strengthening the public health system</td>\n",
       "      <td>No</td>\n",
       "      <td>Philippine Charity Sweepstakes Office (PCSO) t...</td>\n",
       "      <td>Not applicable</td>\n",
       "      <td>31/03/2020</td>\n",
       "      <td>Philippine News Agency</td>\n",
       "      <td>Government</td>\n",
       "      <td>https://www.pna.gov.ph/articles/1098421</td>\n",
       "      <td>02/04/2020</td>\n",
       "      <td>NaN</td>\n",
       "      <td></td>\n",
       "    </tr>\n",
       "    <tr>\n",
       "      <th>4486</th>\n",
       "      <td>3963</td>\n",
       "      <td>Serbia</td>\n",
       "      <td>SRB</td>\n",
       "      <td>NaN</td>\n",
       "      <td>NaN</td>\n",
       "      <td>Europe</td>\n",
       "      <td>Introduction / extension of measures</td>\n",
       "      <td>Public health measures</td>\n",
       "      <td>Strengthening the public health system</td>\n",
       "      <td>No</td>\n",
       "      <td>All community hospitals and medical care cente...</td>\n",
       "      <td>Not applicable</td>\n",
       "      <td>03/04/2020</td>\n",
       "      <td>US Embassy</td>\n",
       "      <td>Government</td>\n",
       "      <td>https://rs.usembassy.gov/covid-19-information/</td>\n",
       "      <td>06/04/2020</td>\n",
       "      <td>NaN</td>\n",
       "      <td></td>\n",
       "    </tr>\n",
       "    <tr>\n",
       "      <th>4556</th>\n",
       "      <td>2366</td>\n",
       "      <td>Slovakia</td>\n",
       "      <td>SVK</td>\n",
       "      <td>NaN</td>\n",
       "      <td>NaN</td>\n",
       "      <td>Europe</td>\n",
       "      <td>Introduction / extension of measures</td>\n",
       "      <td>Public health measures</td>\n",
       "      <td>Strengthening the public health system</td>\n",
       "      <td>No</td>\n",
       "      <td>Assign three hospitals across the country spec...</td>\n",
       "      <td>Not applicable</td>\n",
       "      <td>24/03/2020</td>\n",
       "      <td>Ministry of Health</td>\n",
       "      <td>Government</td>\n",
       "      <td>https://www.health.gov.sk/Clanok?covid-19-24-3...</td>\n",
       "      <td>25/03/2020</td>\n",
       "      <td>NaN</td>\n",
       "      <td></td>\n",
       "    </tr>\n",
       "    <tr>\n",
       "      <th>4780</th>\n",
       "      <td>2182</td>\n",
       "      <td>Sri Lanka</td>\n",
       "      <td>LKA</td>\n",
       "      <td>NaN</td>\n",
       "      <td>NaN</td>\n",
       "      <td>Asia</td>\n",
       "      <td>Introduction / extension of measures</td>\n",
       "      <td>Public health measures</td>\n",
       "      <td>Strengthening the public health system</td>\n",
       "      <td>Yes</td>\n",
       "      <td>The Sri Lanka Transport Board (SLTB) has so fa...</td>\n",
       "      <td>Not applicable</td>\n",
       "      <td>25/03/2020</td>\n",
       "      <td>News.lk</td>\n",
       "      <td>Government</td>\n",
       "      <td>https://news.lk/news/political-current-affairs...</td>\n",
       "      <td>25/03/2020</td>\n",
       "      <td>NaN</td>\n",
       "      <td></td>\n",
       "    </tr>\n",
       "    <tr>\n",
       "      <th>4788</th>\n",
       "      <td>3270</td>\n",
       "      <td>Sri Lanka</td>\n",
       "      <td>LKA</td>\n",
       "      <td>NaN</td>\n",
       "      <td>NaN</td>\n",
       "      <td>Asia</td>\n",
       "      <td>Introduction / extension of measures</td>\n",
       "      <td>Public health measures</td>\n",
       "      <td>Strengthening the public health system</td>\n",
       "      <td>Yes</td>\n",
       "      <td>Post offices to keep opened for two hours when...</td>\n",
       "      <td>Not applicable</td>\n",
       "      <td>27/03/2020</td>\n",
       "      <td>Colombo Page</td>\n",
       "      <td>Media</td>\n",
       "      <td>http://www.colombopage.com/archive_20A/Mar27_1...</td>\n",
       "      <td>31/03/2020</td>\n",
       "      <td>NaN</td>\n",
       "      <td></td>\n",
       "    </tr>\n",
       "    <tr>\n",
       "      <th>4834</th>\n",
       "      <td>4090</td>\n",
       "      <td>Sri Lanka</td>\n",
       "      <td>LKA</td>\n",
       "      <td>NaN</td>\n",
       "      <td>NaN</td>\n",
       "      <td>Asia</td>\n",
       "      <td>Introduction / extension of measures</td>\n",
       "      <td>Public health measures</td>\n",
       "      <td>Strengthening the public health system</td>\n",
       "      <td>Yes</td>\n",
       "      <td>Government hospitals introduced to care for su...</td>\n",
       "      <td>Not applicable</td>\n",
       "      <td>01/04/2020</td>\n",
       "      <td>news.lk</td>\n",
       "      <td>Government</td>\n",
       "      <td>https://news.lk/news/political-current-affairs...</td>\n",
       "      <td>07/04/2020</td>\n",
       "      <td>NaN</td>\n",
       "      <td></td>\n",
       "    </tr>\n",
       "    <tr>\n",
       "      <th>4950</th>\n",
       "      <td>830</td>\n",
       "      <td>Switzerland</td>\n",
       "      <td>CHE</td>\n",
       "      <td>NaN</td>\n",
       "      <td>NaN</td>\n",
       "      <td>Europe</td>\n",
       "      <td>Introduction / extension of measures</td>\n",
       "      <td>Public health measures</td>\n",
       "      <td>Strengthening the public health system</td>\n",
       "      <td>No</td>\n",
       "      <td>private health institutions may be requested b...</td>\n",
       "      <td>Not applicable</td>\n",
       "      <td>19/03/2020</td>\n",
       "      <td>Government of Switzerland</td>\n",
       "      <td>Government</td>\n",
       "      <td>https://www.bag.admin.ch/bag/de/home/krankheit...</td>\n",
       "      <td>20/03/2020</td>\n",
       "      <td>NaN</td>\n",
       "      <td></td>\n",
       "    </tr>\n",
       "    <tr>\n",
       "      <th>5006</th>\n",
       "      <td>5164</td>\n",
       "      <td>Syria</td>\n",
       "      <td>SYR</td>\n",
       "      <td>NaN</td>\n",
       "      <td>NaN</td>\n",
       "      <td>Middle East</td>\n",
       "      <td>Introduction / extension of measures</td>\n",
       "      <td>Public health measures</td>\n",
       "      <td>Strengthening the public health system</td>\n",
       "      <td>Yes</td>\n",
       "      <td>Al Hol field hospital introduces COVID-19 prev...</td>\n",
       "      <td>Not applicable</td>\n",
       "      <td>03/04/2020</td>\n",
       "      <td>Reliefweb</td>\n",
       "      <td>Other organisations</td>\n",
       "      <td>https://reliefweb.int/report/syrian-arab-repub...</td>\n",
       "      <td>14/04/2020</td>\n",
       "      <td>NaN</td>\n",
       "      <td></td>\n",
       "    </tr>\n",
       "    <tr>\n",
       "      <th>5048</th>\n",
       "      <td>2785</td>\n",
       "      <td>Thailand</td>\n",
       "      <td>THA</td>\n",
       "      <td>NaN</td>\n",
       "      <td>NaN</td>\n",
       "      <td>Asia</td>\n",
       "      <td>Introduction / extension of measures</td>\n",
       "      <td>Public health measures</td>\n",
       "      <td>Strengthening the public health system</td>\n",
       "      <td>No</td>\n",
       "      <td>“Please refer suspected patients to the hospit...</td>\n",
       "      <td>NaN</td>\n",
       "      <td>18/01/2020</td>\n",
       "      <td>Thailand MoPH</td>\n",
       "      <td>Government</td>\n",
       "      <td>https://ddc.moph.go.th/viralpneumonia/eng/file...</td>\n",
       "      <td>27/03/2020</td>\n",
       "      <td>NaN</td>\n",
       "      <td></td>\n",
       "    </tr>\n",
       "    <tr>\n",
       "      <th>5073</th>\n",
       "      <td>2832</td>\n",
       "      <td>Thailand</td>\n",
       "      <td>THA</td>\n",
       "      <td>NaN</td>\n",
       "      <td>NaN</td>\n",
       "      <td>Asia</td>\n",
       "      <td>Introduction / extension of measures</td>\n",
       "      <td>Public health measures</td>\n",
       "      <td>Strengthening the public health system</td>\n",
       "      <td>No</td>\n",
       "      <td>Thailand has accelerated the development of a ...</td>\n",
       "      <td>NaN</td>\n",
       "      <td>21/02/2020</td>\n",
       "      <td>Thailand MoPH</td>\n",
       "      <td>Government</td>\n",
       "      <td>https://ddc.moph.go.th/viralpneumonia/eng/file...</td>\n",
       "      <td>27/03/2020</td>\n",
       "      <td>NaN</td>\n",
       "      <td></td>\n",
       "    </tr>\n",
       "    <tr>\n",
       "      <th>5146</th>\n",
       "      <td>2050</td>\n",
       "      <td>Togo</td>\n",
       "      <td>TGO</td>\n",
       "      <td>NaN</td>\n",
       "      <td>NaN</td>\n",
       "      <td>Africa</td>\n",
       "      <td>Introduction / extension of measures</td>\n",
       "      <td>Public health measures</td>\n",
       "      <td>Strengthening the public health system</td>\n",
       "      <td>No</td>\n",
       "      <td>CHR Lomé-Commune dedicated to infectious illne...</td>\n",
       "      <td>Not applicable</td>\n",
       "      <td>21/03/2020</td>\n",
       "      <td>Government — Togo</td>\n",
       "      <td>Government</td>\n",
       "      <td>https://covid19.gouv.tg/</td>\n",
       "      <td>24/03/2020</td>\n",
       "      <td>NaN</td>\n",
       "      <td></td>\n",
       "    </tr>\n",
       "    <tr>\n",
       "      <th>5295</th>\n",
       "      <td>3988</td>\n",
       "      <td>Ukraine</td>\n",
       "      <td>UKR</td>\n",
       "      <td>NaN</td>\n",
       "      <td>NaN</td>\n",
       "      <td>Europe</td>\n",
       "      <td>Introduction / extension of measures</td>\n",
       "      <td>Public health measures</td>\n",
       "      <td>Strengthening the public health system</td>\n",
       "      <td>Yes</td>\n",
       "      <td>hospitals designated for taking covid patients</td>\n",
       "      <td>Not applicable</td>\n",
       "      <td>24/02/2020</td>\n",
       "      <td>UNIAN news</td>\n",
       "      <td>Media</td>\n",
       "      <td>https://www.unian.info/society/10888211-prime-...</td>\n",
       "      <td>06/04/2020</td>\n",
       "      <td>NaN</td>\n",
       "      <td></td>\n",
       "    </tr>\n",
       "    <tr>\n",
       "      <th>5401</th>\n",
       "      <td>2650</td>\n",
       "      <td>United States of America</td>\n",
       "      <td>USA</td>\n",
       "      <td>NaN</td>\n",
       "      <td>NaN</td>\n",
       "      <td>Americas</td>\n",
       "      <td>Introduction / extension of measures</td>\n",
       "      <td>Public health measures</td>\n",
       "      <td>Strengthening the public health system</td>\n",
       "      <td>Yes</td>\n",
       "      <td>The Defense Department will massively expand m...</td>\n",
       "      <td>Not applicable</td>\n",
       "      <td>18/03/2020</td>\n",
       "      <td>White House</td>\n",
       "      <td>Government</td>\n",
       "      <td>https://www.whitehouse.gov/articles/together-a...</td>\n",
       "      <td>26/03/2020</td>\n",
       "      <td>NaN</td>\n",
       "      <td></td>\n",
       "    </tr>\n",
       "    <tr>\n",
       "      <th>5480</th>\n",
       "      <td>3312</td>\n",
       "      <td>Venezuela</td>\n",
       "      <td>VEN</td>\n",
       "      <td>NaN</td>\n",
       "      <td>NaN</td>\n",
       "      <td>Americas</td>\n",
       "      <td>Introduction / extension of measures</td>\n",
       "      <td>Public health measures</td>\n",
       "      <td>Strengthening the public health system</td>\n",
       "      <td>No</td>\n",
       "      <td>Distribution of 3500 protection kits for the h...</td>\n",
       "      <td>Not applicable</td>\n",
       "      <td>17/03/2020</td>\n",
       "      <td>Government — Venezuela</td>\n",
       "      <td>Government</td>\n",
       "      <td>https://presidenciave.com/coronavirus-mensaje/</td>\n",
       "      <td>31/03/2020</td>\n",
       "      <td>NaN</td>\n",
       "      <td></td>\n",
       "    </tr>\n",
       "    <tr>\n",
       "      <th>5483</th>\n",
       "      <td>4597</td>\n",
       "      <td>Venezuela</td>\n",
       "      <td>VEN</td>\n",
       "      <td>NaN</td>\n",
       "      <td>NaN</td>\n",
       "      <td>Americas</td>\n",
       "      <td>Introduction / extension of measures</td>\n",
       "      <td>Public health measures</td>\n",
       "      <td>Strengthening the public health system</td>\n",
       "      <td>No</td>\n",
       "      <td>9 millions $ to buy medicines and equipment fo...</td>\n",
       "      <td>Not applicable</td>\n",
       "      <td>03/04/2020</td>\n",
       "      <td>Government — Venezuela</td>\n",
       "      <td>Government</td>\n",
       "      <td>https://presidenciave.com/presidencia/presiden...</td>\n",
       "      <td>09/04/2020</td>\n",
       "      <td>NaN</td>\n",
       "      <td></td>\n",
       "    </tr>\n",
       "  </tbody>\n",
       "</table>\n",
       "</div>"
      ],
      "text/plain": [
       "        ID                   COUNTRY  ISO   ADMIN_LEVEL_NAME  PCODE  \\\n",
       "15    4249               Afghanistan  AFG              Kabul    NaN   \n",
       "18    4252               Afghanistan  AFG                NaN    NaN   \n",
       "48    4282               Afghanistan  AFG  Kandahar Province    NaN   \n",
       "66    2003                   Albania  ALB                NaN    NaN   \n",
       "140   2774                    Angola  AGO            Lubango    NaN   \n",
       "182   5271                    Angola  AGO                NaN    NaN   \n",
       "192   4652       Antigua and Barbuda  ATG                NaN    NaN   \n",
       "218    877                 Argentina  ARG                NaN    NaN   \n",
       "298   2256                 Australia  AUS                NaN    NaN   \n",
       "310   2808                 Australia  AUS                NaN    NaN   \n",
       "481   1060                   Bahamas  BHS                NaN    NaN   \n",
       "549   1525                  Barbados  BRB                NaN    NaN   \n",
       "665    898                   Belgium  BEL                NaN    NaN   \n",
       "777   2762    Bosnia and Herzegovina  BIH                NaN    NaN   \n",
       "1091  1211                     China  CHN                NaN    NaN   \n",
       "1092  1212                     China  CHN                NaN    NaN   \n",
       "1093  1213                     China  CHN                NaN    NaN   \n",
       "1202  5033                  Colombia  COL                NaN    NaN   \n",
       "1204  5035                  Colombia  COL                NaN    NaN   \n",
       "1303   948                   Croatia  HRV                NaN    NaN   \n",
       "1309  2929                   Croatia  HRV                NaN    NaN   \n",
       "1416  2948            Czech Republic  CZE                NaN    NaN   \n",
       "1418  2950            Czech Republic  CZE                NaN    NaN   \n",
       "1453  2961                   Denmark  DNK                NaN    NaN   \n",
       "1815  1989                      Fiji  FJI                NaN    NaN   \n",
       "1839  4944                      Fiji  FJI                NaN    NaN   \n",
       "1916  3891                    France  FRA                NaN    NaN   \n",
       "1995   368                   Germany  DEU                NaN    NaN   \n",
       "2014  3068                   Germany  DEU                NaN    NaN   \n",
       "2280  2464                   Hungary  HUN                NaN    NaN   \n",
       "2289  2473                   Hungary  HUN                NaN    NaN   \n",
       "2396  3176                 Indonesia  IDN                NaN    NaN   \n",
       "2467  2142                   Ireland  IRL                NaN    NaN   \n",
       "2518  2175                    Israel  ISR                NaN    NaN   \n",
       "2927  1949             Liechtenstein  LIE                NaN    NaN   \n",
       "3139  2591                  Malaysia  MYS            Kuching    NaN   \n",
       "3169  4616                  Malaysia  MYS                NaN    NaN   \n",
       "3182  5324                  Malaysia  MYS                NaN    NaN   \n",
       "3336  3364                 Mauritius  MUS                NaN    NaN   \n",
       "3350  5572                    Mexico  MEX                NaN    NaN   \n",
       "3595  1263                     Nepal  NPL                NaN    NaN   \n",
       "3721  3233                     Niger  NER                NaN    NaN   \n",
       "3859   332                 Palestine  PSE                NaN    NaN   \n",
       "3975  3240                  Paraguay  PRY                NaN    NaN   \n",
       "4078  3559               Philippines  PHL                NaN    NaN   \n",
       "4486  3963                    Serbia  SRB                NaN    NaN   \n",
       "4556  2366                  Slovakia  SVK                NaN    NaN   \n",
       "4780  2182                 Sri Lanka  LKA                NaN    NaN   \n",
       "4788  3270                 Sri Lanka  LKA                NaN    NaN   \n",
       "4834  4090                 Sri Lanka  LKA                NaN    NaN   \n",
       "4950   830               Switzerland  CHE                NaN    NaN   \n",
       "5006  5164                     Syria  SYR                NaN    NaN   \n",
       "5048  2785                  Thailand  THA                NaN    NaN   \n",
       "5073  2832                  Thailand  THA                NaN    NaN   \n",
       "5146  2050                      Togo  TGO                NaN    NaN   \n",
       "5295  3988                   Ukraine  UKR                NaN    NaN   \n",
       "5401  2650  United States of America  USA                NaN    NaN   \n",
       "5480  3312                 Venezuela  VEN                NaN    NaN   \n",
       "5483  4597                 Venezuela  VEN                NaN    NaN   \n",
       "\n",
       "           REGION                              LOG_TYPE  \\\n",
       "15           Asia  Introduction / extension of measures   \n",
       "18           Asia  Introduction / extension of measures   \n",
       "48           Asia  Introduction / extension of measures   \n",
       "66         Europe  Introduction / extension of measures   \n",
       "140        Africa  Introduction / extension of measures   \n",
       "182        Africa  Introduction / extension of measures   \n",
       "192      Americas  Introduction / extension of measures   \n",
       "218      Americas  Introduction / extension of measures   \n",
       "298       Pacific  Introduction / extension of measures   \n",
       "310       Pacific  Introduction / extension of measures   \n",
       "481      Americas  Introduction / extension of measures   \n",
       "549      Americas  Introduction / extension of measures   \n",
       "665        Europe  Introduction / extension of measures   \n",
       "777        Europe  Introduction / extension of measures   \n",
       "1091         Asia  Introduction / extension of measures   \n",
       "1092         Asia  Introduction / extension of measures   \n",
       "1093         Asia  Introduction / extension of measures   \n",
       "1202     Americas  Introduction / extension of measures   \n",
       "1204     Americas  Introduction / extension of measures   \n",
       "1303       Europe  Introduction / extension of measures   \n",
       "1309       Europe  Introduction / extension of measures   \n",
       "1416       Europe  Introduction / extension of measures   \n",
       "1418       Europe  Introduction / extension of measures   \n",
       "1453       Europe  Introduction / extension of measures   \n",
       "1815      Pacific  Introduction / extension of measures   \n",
       "1839      Pacific  Introduction / extension of measures   \n",
       "1916       Europe  Introduction / extension of measures   \n",
       "1995       Europe  Introduction / extension of measures   \n",
       "2014       Europe  Introduction / extension of measures   \n",
       "2280       Europe  Introduction / extension of measures   \n",
       "2289       Europe  Introduction / extension of measures   \n",
       "2396         Asia  Introduction / extension of measures   \n",
       "2467       Europe  Introduction / extension of measures   \n",
       "2518  Middle East  Introduction / extension of measures   \n",
       "2927       Europe  Introduction / extension of measures   \n",
       "3139         Asia  Introduction / extension of measures   \n",
       "3169         Asia  Introduction / extension of measures   \n",
       "3182         Asia  Introduction / extension of measures   \n",
       "3336       Africa  Introduction / extension of measures   \n",
       "3350     Americas  Introduction / extension of measures   \n",
       "3595         Asia  Introduction / extension of measures   \n",
       "3721       Africa  Introduction / extension of measures   \n",
       "3859  Middle East  Introduction / extension of measures   \n",
       "3975     Americas  Introduction / extension of measures   \n",
       "4078         Asia  Introduction / extension of measures   \n",
       "4486       Europe  Introduction / extension of measures   \n",
       "4556       Europe  Introduction / extension of measures   \n",
       "4780         Asia  Introduction / extension of measures   \n",
       "4788         Asia  Introduction / extension of measures   \n",
       "4834         Asia  Introduction / extension of measures   \n",
       "4950       Europe  Introduction / extension of measures   \n",
       "5006  Middle East  Introduction / extension of measures   \n",
       "5048         Asia  Introduction / extension of measures   \n",
       "5073         Asia  Introduction / extension of measures   \n",
       "5146       Africa  Introduction / extension of measures   \n",
       "5295       Europe  Introduction / extension of measures   \n",
       "5401     Americas  Introduction / extension of measures   \n",
       "5480     Americas  Introduction / extension of measures   \n",
       "5483     Americas  Introduction / extension of measures   \n",
       "\n",
       "                    CATEGORY                                 MEASURE  \\\n",
       "15    Public health measures  Strengthening the public health system   \n",
       "18    Public health measures  Strengthening the public health system   \n",
       "48    Public health measures  Strengthening the public health system   \n",
       "66    Public health measures  Strengthening the public health system   \n",
       "140   Public health measures  Strengthening the public health system   \n",
       "182   Public health measures  Strengthening the public health system   \n",
       "192   Public health measures  Strengthening the public health system   \n",
       "218   Public health measures  Strengthening the public health system   \n",
       "298   Public health measures  Strengthening the public health system   \n",
       "310   Public health measures  Strengthening the public health system   \n",
       "481   Public health measures  Strengthening the public health system   \n",
       "549   Public health measures  Strengthening the public health system   \n",
       "665   Public health measures  Strengthening the public health system   \n",
       "777   Public health measures  Strengthening the public health system   \n",
       "1091  Public health measures  Strengthening the public health system   \n",
       "1092  Public health measures  Strengthening the public health system   \n",
       "1093  Public health measures  Strengthening the public health system   \n",
       "1202  Public health measures  Strengthening the public health system   \n",
       "1204  Public health measures  Strengthening the public health system   \n",
       "1303  Public health measures  Strengthening the public health system   \n",
       "1309  Public health measures  Strengthening the public health system   \n",
       "1416  Public health measures  Strengthening the public health system   \n",
       "1418  Public health measures  Strengthening the public health system   \n",
       "1453  Public health measures  Strengthening the public health system   \n",
       "1815  Public health measures  Strengthening the public health system   \n",
       "1839  Public health measures  Strengthening the public health system   \n",
       "1916  Public health measures  Strengthening the public health system   \n",
       "1995  Public health measures  Strengthening the public health system   \n",
       "2014  Public health measures  Strengthening the public health system   \n",
       "2280  Public health measures  Strengthening the public health system   \n",
       "2289  Public health measures  Strengthening the public health system   \n",
       "2396  Public health measures  Strengthening the public health system   \n",
       "2467  Public health measures  Strengthening the public health system   \n",
       "2518  Public health measures  Strengthening the public health system   \n",
       "2927  Public health measures  Strengthening the public health system   \n",
       "3139  Public health measures  Strengthening the public health system   \n",
       "3169  Public health measures  Strengthening the public health system   \n",
       "3182  Public health measures  Strengthening the public health system   \n",
       "3336  Public health measures  Strengthening the public health system   \n",
       "3350  Public health measures  Strengthening the public health system   \n",
       "3595  Public health measures  Strengthening the public health system   \n",
       "3721  Public health measures  Strengthening the public health system   \n",
       "3859  Public health measures  Strengthening the public health system   \n",
       "3975  Public health measures  Strengthening the public health system   \n",
       "4078  Public health measures  Strengthening the public health system   \n",
       "4486  Public health measures  Strengthening the public health system   \n",
       "4556  Public health measures  Strengthening the public health system   \n",
       "4780  Public health measures  Strengthening the public health system   \n",
       "4788  Public health measures  Strengthening the public health system   \n",
       "4834  Public health measures  Strengthening the public health system   \n",
       "4950  Public health measures  Strengthening the public health system   \n",
       "5006  Public health measures  Strengthening the public health system   \n",
       "5048  Public health measures  Strengthening the public health system   \n",
       "5073  Public health measures  Strengthening the public health system   \n",
       "5146  Public health measures  Strengthening the public health system   \n",
       "5295  Public health measures  Strengthening the public health system   \n",
       "5401  Public health measures  Strengthening the public health system   \n",
       "5480  Public health measures  Strengthening the public health system   \n",
       "5483  Public health measures  Strengthening the public health system   \n",
       "\n",
       "     TARGETED_POP_GROUP                                           COMMENTS  \\\n",
       "15                  Yes  the ministry has prepared 100 bed to control t...   \n",
       "18                   No  The Ministry of public health has created the ...   \n",
       "48                   No  A COVID-19 lab is opened using Government of A...   \n",
       "66                  Yes  Private hospitals that refuse to offer their c...   \n",
       "140                 Yes  Central hospital installs new ventilators. The...   \n",
       "182                 Yes  Five hundred doctors, in the province of Luand...   \n",
       "192                 Yes    isolation centers and designated hospitals est.   \n",
       "218                  No              Construction of 8 temporary hospitals   \n",
       "298                 Yes  Non-urgent elective surgeries in Australia's p...   \n",
       "310                 Yes  State and territory governments committed to u...   \n",
       "481                 Yes  Restricted access to the Princess Margaret Hos...   \n",
       "549                  No  Temporary quarantine center set up and ready t...   \n",
       "665                  No  Financial aid package of 1 billion for hospita...   \n",
       "777                  No       Additional funds for five hospitals released   \n",
       "1091                 No  Construction of first makeshift hospital. Firs...   \n",
       "1092                 No  10 new makeshift hospital opened. 5,600 patien...   \n",
       "1093                 No  16 makeshift hospitals total. 13,000 beds avai...   \n",
       "1202                 No  Military industry 'Indumil' to produce medical...   \n",
       "1204                 No  Federal government to provide 6 temporary hosp...   \n",
       "1303                 No  The capacities of hospitals across Croatia are...   \n",
       "1309                 No  Development of health camp outside of main hos...   \n",
       "1416                 No  All hospitals are asked to create spaces for p...   \n",
       "1418                 No  Streamlining of public health information syst...   \n",
       "1453                 No  Guidelines for patient's discharge from the ho...   \n",
       "1815                 No  8 fever clinics now open. Eight fever clinics ...   \n",
       "1839                 No  The NZ government has provided 40 high-flow ox...   \n",
       "1916                Yes  Special provisions implemented to support peop...   \n",
       "1995                 No  all non-essential surgeries in hospitals will ...   \n",
       "2014                 No  Financial packages for hospitals and service p...   \n",
       "2280                Yes  , hospitals are suspending elective surgeries ...   \n",
       "2289                Yes  Chief medical officer Cecília Müller said the ...   \n",
       "2396                 No  List of coronavirus referral hospitals in Indo...   \n",
       "2467                 No  Private hospitals will operate effectively as ...   \n",
       "2518                 No  PhilHealth to release P30 billion to hospitals...   \n",
       "2927                 No  Capacities increased by postponing non essenti...   \n",
       "3139                Yes  The Sarawak Disaster Management Committee has ...   \n",
       "3169                Yes  The first shipment of 28 ICU beds, specially o...   \n",
       "3182                Yes  Final shipment of ICU beds arrive in Malaysia,...   \n",
       "3336                 No  New hospital will start accepting patients who...   \n",
       "3350                 No  Increased capacity due to added hospitals, med...   \n",
       "3595                 No  Nepal government has arranged 100 isolation be...   \n",
       "3721                 No  Increase capacity of hospital, hiring of 1500 ...   \n",
       "3859                 No  Ramallah: PA a new dedicated Department at maj...   \n",
       "3975                 No  Construction of 2 emergency  hospitals. Recept...   \n",
       "4078                 No  Philippine Charity Sweepstakes Office (PCSO) t...   \n",
       "4486                 No  All community hospitals and medical care cente...   \n",
       "4556                 No  Assign three hospitals across the country spec...   \n",
       "4780                Yes  The Sri Lanka Transport Board (SLTB) has so fa...   \n",
       "4788                Yes  Post offices to keep opened for two hours when...   \n",
       "4834                Yes  Government hospitals introduced to care for su...   \n",
       "4950                 No  private health institutions may be requested b...   \n",
       "5006                Yes  Al Hol field hospital introduces COVID-19 prev...   \n",
       "5048                 No  “Please refer suspected patients to the hospit...   \n",
       "5073                 No  Thailand has accelerated the development of a ...   \n",
       "5146                 No  CHR Lomé-Commune dedicated to infectious illne...   \n",
       "5295                Yes    hospitals designated for taking covid patients    \n",
       "5401                Yes  The Defense Department will massively expand m...   \n",
       "5480                 No  Distribution of 3500 protection kits for the h...   \n",
       "5483                 No  9 millions $ to buy medicines and equipment fo...   \n",
       "\n",
       "      NON_COMPLIANCE DATE_IMPLEMENTED  \\\n",
       "15               NaN       02/02/2020   \n",
       "18               NaN       04/02/2020   \n",
       "48               NaN       07/04/2020   \n",
       "66             Fines       22/03/2020   \n",
       "140   Not applicable       26/03/2020   \n",
       "182   Not applicable       13/04/2020   \n",
       "192   Not applicable       17/03/2020   \n",
       "218   Not applicable       18/03/2020   \n",
       "298   Not applicable       25/03/2020   \n",
       "310   Not applicable       29/03/2020   \n",
       "481              NaN       16/03/2020   \n",
       "549              NaN       14/02/2020   \n",
       "665   Not applicable       20/03/2020   \n",
       "777   Not applicable       22/03/2020   \n",
       "1091             NaN       03/02/2020   \n",
       "1092             NaN       13/02/2020   \n",
       "1093             NaN       27/02/2020   \n",
       "1202  Not applicable       01/04/2020   \n",
       "1204  Not applicable       02/04/2020   \n",
       "1303  Not applicable       19/03/2020   \n",
       "1309  Not applicable       20/03/2020   \n",
       "1416  Not applicable       26/03/2020   \n",
       "1418  Not applicable       26/03/2020   \n",
       "1453  Not applicable       27/03/2020   \n",
       "1815  Not applicable       22/03/2020   \n",
       "1839  Not applicable       06/04/2020   \n",
       "1916  Not applicable       04/04/2020   \n",
       "1995  Not applicable       16/03/2020   \n",
       "2014  Not applicable       25/03/2020   \n",
       "2280  Not applicable       17/03/2020   \n",
       "2289  Not applicable       18/03/2020   \n",
       "2396             NaN       30/03/2020   \n",
       "2467             NaN       24/03/2020   \n",
       "2518  Not applicable       18/03/2020   \n",
       "2927  Not applicable       23/03/2020   \n",
       "3139   Not available       24/03/2020   \n",
       "3169  Not applicable       06/04/2020   \n",
       "3182  Not applicable       12/04/2020   \n",
       "3336             NaN       28/03/2020   \n",
       "3350  Not applicable       24/03/2020   \n",
       "3595  Not applicable       09/03/2020   \n",
       "3721  Not applicable       27/03/2020   \n",
       "3859  Not applicable       11/03/2020   \n",
       "3975             NaN       24/03/2020   \n",
       "4078  Not applicable       31/03/2020   \n",
       "4486  Not applicable       03/04/2020   \n",
       "4556  Not applicable       24/03/2020   \n",
       "4780  Not applicable       25/03/2020   \n",
       "4788  Not applicable       27/03/2020   \n",
       "4834  Not applicable       01/04/2020   \n",
       "4950  Not applicable       19/03/2020   \n",
       "5006  Not applicable       03/04/2020   \n",
       "5048             NaN       18/01/2020   \n",
       "5073             NaN       21/02/2020   \n",
       "5146  Not applicable       21/03/2020   \n",
       "5295  Not applicable       24/02/2020   \n",
       "5401  Not applicable       18/03/2020   \n",
       "5480  Not applicable       17/03/2020   \n",
       "5483  Not applicable       03/04/2020   \n",
       "\n",
       "                                        SOURCE          SOURCE_TYPE  \\\n",
       "15                            Afghanistan MoPH           Government   \n",
       "18                            Afghanistan MoPH           Government   \n",
       "48                            Afghanistan MoPH           Government   \n",
       "66                               BalkaninSight                Media   \n",
       "140                                      ANGOP                Media   \n",
       "182                                      ANGOP                Media   \n",
       "192                                   AB Govt.           Government   \n",
       "218             Ministry of Health — Argentina           Government   \n",
       "298                                   ABC News                Media   \n",
       "310                              Australia MoH           Government   \n",
       "481                 Public Hospitals Authority           Government   \n",
       "549                                        MoH           Government   \n",
       "665                                 Government           Government   \n",
       "777                                 Government           Government   \n",
       "1091                            NHC of the PRC           Government   \n",
       "1092                            NHC of the PRC           Government   \n",
       "1093                            NHC of the PRC           Government   \n",
       "1202                     Government — Colombia           Government   \n",
       "1204                     Government — Colombia           Government   \n",
       "1303                                Government           Government   \n",
       "1309                                Government           Government   \n",
       "1416                        Ministry of Health           Government   \n",
       "1418                        Ministry of Health           Government   \n",
       "1453                   Danish Health Authority           Government   \n",
       "1815                                  Fiji MoH           Government   \n",
       "1839                                       RNZ                Media   \n",
       "1916         Ministry of Solidarity and Health           Government   \n",
       "1995                                Government           Government   \n",
       "2014                        Ministry of Health           Government   \n",
       "2280                          Official Website           Government   \n",
       "2289                          Official Website           Government   \n",
       "2396                             Indonesia MoH           Government   \n",
       "2467               Department of the Taoiseach           Government   \n",
       "2518                                PhilHealth           Government   \n",
       "2927                                Government           Government   \n",
       "3139                                  The Star                Media   \n",
       "3169                                  The Star                Media   \n",
       "3182                                  The Star                Media   \n",
       "3336  Mauritius MoHW Coronavirus Moris FB page           Government   \n",
       "3350                              MoH — Mexico           Government   \n",
       "3595                              The Diplomat                Media   \n",
       "3721                         President — Niger           Government   \n",
       "3859                         Minstry of Health           Government   \n",
       "3975                            Moh — Paraguay           Government   \n",
       "4078                    Philippine News Agency           Government   \n",
       "4486                               US Embassy            Government   \n",
       "4556                        Ministry of Health           Government   \n",
       "4780                                   News.lk           Government   \n",
       "4788                              Colombo Page                Media   \n",
       "4834                                   news.lk           Government   \n",
       "4950                 Government of Switzerland           Government   \n",
       "5006                                 Reliefweb  Other organisations   \n",
       "5048                             Thailand MoPH           Government   \n",
       "5073                             Thailand MoPH           Government   \n",
       "5146                         Government — Togo           Government   \n",
       "5295                                UNIAN news                Media   \n",
       "5401                               White House           Government   \n",
       "5480                    Government — Venezuela           Government   \n",
       "5483                    Government — Venezuela           Government   \n",
       "\n",
       "                                                   LINK  ENTRY_DATE  \\\n",
       "15    https://www.facebook.com/af.moph/posts/1011701...  07/04/2020   \n",
       "18    https://www.facebook.com/af.moph/posts/1013057...  07/04/2020   \n",
       "48    https://www.facebook.com/af.moph/posts/1060980...  07/04/2020   \n",
       "66    https://balkaninsight.com/2020/03/16/albania-m...  24/03/2020   \n",
       "140   http://www.angop.ao/angola/en_us/noticias/saud...  27/03/2020   \n",
       "182   http://www.angop.ao/angola/en_us/noticias/saud...  14/04/2020   \n",
       "192   https://ab.gov.ag/pdf/Coronavirus%20%20FAQ%20f...  10/04/2020   \n",
       "218   https://www.argentina.gob.ar/coronavirus/medid...  20/03/2020   \n",
       "298   https://www.abc.net.au/news/2020-03-25/coronav...  25/03/2020   \n",
       "310   https://www.pm.gov.au/media/update-coronavirus...  27/03/2020   \n",
       "481   http://www.bahamas.gov.bs/wps/portal/public/go...  20/03/2020   \n",
       "549   https://gisbarbados.gov.bb/blog/temporary-quar...  22/03/2020   \n",
       "665   https://www.health.belgium.be/nl/news/covid-19...  20/03/2020   \n",
       "777   http://www.fbihvlada.gov.ba/bosanski/aktuelno_...  27/03/2020   \n",
       "1091        http://en.nhc.gov.cn/2020-03/17/c_77834.htm  20/03/2020   \n",
       "1092        http://en.nhc.gov.cn/2020-03/17/c_77834.htm  21/03/2020   \n",
       "1093        http://en.nhc.gov.cn/2020-03/17/c_77834.htm  21/03/2020   \n",
       "1202  https://coronaviruscolombia.gov.co/Covid19/acc...  12/04/2020   \n",
       "1204  https://coronaviruscolombia.gov.co/Covid19/acc...  12/04/2020   \n",
       "1303  https://vlada.gov.hr/news/treatment-centres-an...  20/03/2020   \n",
       "1309  https://vlada.gov.hr/news/plenkovic-commends-s...  28/03/2020   \n",
       "1416  https://koronavirus.mzcr.cz/ministerstvo-zdrav...  28/03/2020   \n",
       "1418  https://koronavirus.mzcr.cz/o-kazdem-pacientov...  28/03/2020   \n",
       "1453  https://www.sst.dk/da/Nyheder/2020/Hvordan-sik...  29/03/2020   \n",
       "1815  http://www.health.gov.fj/media-release-eight-f...  24/03/2020   \n",
       "1839  https://www.rnz.co.nz/international/pacific-ne...  12/04/2020   \n",
       "1916  https://solidarites-sante.gouv.fr/actualites/p...  05/04/2020   \n",
       "1995  https://www.bundesregierung.de/breg-de/themen/...  15/03/2020   \n",
       "2014  https://www.bundesgesundheitsministerium.de/pr...  30/03/2020   \n",
       "2280  http://abouthungary.hu/news-in-brief/coronavir...  25/03/2020   \n",
       "2289  http://abouthungary.hu/news-in-brief/coronavir...  25/03/2020   \n",
       "2396  https://kemlu.go.id/portal/en/read/1126/siaran...  31/03/2020   \n",
       "2467  https://www.gov.ie/en/speech/d162df-speech-of-...  24/03/2020   \n",
       "2518  https://www.philhealth.gov.ph/news/2020/fight_...  24/03/2020   \n",
       "2927  https://www.regierung.li/media/attachments/140...  24/03/2020   \n",
       "3139  https://www.thestar.com.my/news/nation/2020/03...  26/03/2020   \n",
       "3169  https://www.thestar.com.my/news/nation/2020/04...  09/04/2020   \n",
       "3182  https://www.thestar.com.my/news/nation/2020/04...  14/04/2020   \n",
       "3336  https://www.facebook.com/coronavirusmoris/phot...  04/01/2020   \n",
       "3350  https://www.gob.mx/salud/prensa/095-inicia-fas...  16/04/2020   \n",
       "3595  https://thediplomat.com/2020/03/nepal-takes-st...  21/03/2020   \n",
       "3721  http://www.lesahel.org/index.php/2020/03/27/me...  31/03/2020   \n",
       "3859  http://site.moh.ps/index/ArticleView/ArticleId...  15/03/2020   \n",
       "3975  https://www.mspbs.gov.py/que-esta-haciendo-el-...  31/03/2020   \n",
       "4078            https://www.pna.gov.ph/articles/1098421  02/04/2020   \n",
       "4486     https://rs.usembassy.gov/covid-19-information/  06/04/2020   \n",
       "4556  https://www.health.gov.sk/Clanok?covid-19-24-3...  25/03/2020   \n",
       "4780  https://news.lk/news/political-current-affairs...  25/03/2020   \n",
       "4788  http://www.colombopage.com/archive_20A/Mar27_1...  31/03/2020   \n",
       "4834  https://news.lk/news/political-current-affairs...  07/04/2020   \n",
       "4950  https://www.bag.admin.ch/bag/de/home/krankheit...  20/03/2020   \n",
       "5006  https://reliefweb.int/report/syrian-arab-repub...  14/04/2020   \n",
       "5048  https://ddc.moph.go.th/viralpneumonia/eng/file...  27/03/2020   \n",
       "5073  https://ddc.moph.go.th/viralpneumonia/eng/file...  27/03/2020   \n",
       "5146                           https://covid19.gouv.tg/  24/03/2020   \n",
       "5295  https://www.unian.info/society/10888211-prime-...  06/04/2020   \n",
       "5401  https://www.whitehouse.gov/articles/together-a...  26/03/2020   \n",
       "5480     https://presidenciave.com/coronavirus-mensaje/  31/03/2020   \n",
       "5483  https://presidenciave.com/presidencia/presiden...  09/04/2020   \n",
       "\n",
       "                                     Alternative source  \\\n",
       "15                                                  NaN   \n",
       "18                                                  NaN   \n",
       "48      https://af.usembassy.gov/covid-19-information/    \n",
       "66                                                  NaN   \n",
       "140                                                 NaN   \n",
       "182                                                 NaN   \n",
       "192                                                 NaN   \n",
       "218                                                 NaN   \n",
       "298                                                 NaN   \n",
       "310                                                 NaN   \n",
       "481                                                 NaN   \n",
       "549                                                 NaN   \n",
       "665                                                 NaN   \n",
       "777                                                 NaN   \n",
       "1091                                                NaN   \n",
       "1092                                                NaN   \n",
       "1093                                                NaN   \n",
       "1202                                                NaN   \n",
       "1204                                                NaN   \n",
       "1303                                                NaN   \n",
       "1309                                                NaN   \n",
       "1416                                                NaN   \n",
       "1418                                                NaN   \n",
       "1453                                                NaN   \n",
       "1815                                                NaN   \n",
       "1839                                                NaN   \n",
       "1916                                                NaN   \n",
       "1995                                                NaN   \n",
       "2014                                                NaN   \n",
       "2280                                                NaN   \n",
       "2289  http://abouthungary.hu/news-in-brief/coronavir...   \n",
       "2396                                                NaN   \n",
       "2467                                                NaN   \n",
       "2518                                                NaN   \n",
       "2927                                                NaN   \n",
       "3139                                                NaN   \n",
       "3169                                                NaN   \n",
       "3182                                                NaN   \n",
       "3336                                                NaN   \n",
       "3350                                                NaN   \n",
       "3595                                                NaN   \n",
       "3721                                                NaN   \n",
       "3859                                                NaN   \n",
       "3975                                                NaN   \n",
       "4078                                                NaN   \n",
       "4486                                                NaN   \n",
       "4556                                                NaN   \n",
       "4780                                                NaN   \n",
       "4788                                                NaN   \n",
       "4834                                                NaN   \n",
       "4950                                                NaN   \n",
       "5006                                                NaN   \n",
       "5048                                                NaN   \n",
       "5073                                                NaN   \n",
       "5146                                                NaN   \n",
       "5295                                                NaN   \n",
       "5401                                                NaN   \n",
       "5480                                                NaN   \n",
       "5483                                                NaN   \n",
       "\n",
       "     ADMIN_LEVEL_NAME_MERGEABLE  \n",
       "15                        Kabul  \n",
       "18                               \n",
       "48            Kandahar Province  \n",
       "66                               \n",
       "140                     Lubango  \n",
       "182                              \n",
       "192                              \n",
       "218                              \n",
       "298                              \n",
       "310                              \n",
       "481                              \n",
       "549                              \n",
       "665                              \n",
       "777                              \n",
       "1091                             \n",
       "1092                             \n",
       "1093                             \n",
       "1202                             \n",
       "1204                             \n",
       "1303                             \n",
       "1309                             \n",
       "1416                             \n",
       "1418                             \n",
       "1453                             \n",
       "1815                             \n",
       "1839                             \n",
       "1916                             \n",
       "1995                             \n",
       "2014                             \n",
       "2280                             \n",
       "2289                             \n",
       "2396                             \n",
       "2467                             \n",
       "2518                             \n",
       "2927                             \n",
       "3139                    Kuching  \n",
       "3169                             \n",
       "3182                             \n",
       "3336                             \n",
       "3350                             \n",
       "3595                             \n",
       "3721                             \n",
       "3859                             \n",
       "3975                             \n",
       "4078                             \n",
       "4486                             \n",
       "4556                             \n",
       "4780                             \n",
       "4788                             \n",
       "4834                             \n",
       "4950                             \n",
       "5006                             \n",
       "5048                             \n",
       "5073                             \n",
       "5146                             \n",
       "5295                             \n",
       "5401                             \n",
       "5480                             \n",
       "5483                             "
      ]
     },
     "execution_count": 104,
     "metadata": {},
     "output_type": "execute_result"
    }
   ],
   "source": [
    "relevant_rows"
   ]
  },
  {
   "cell_type": "code",
   "execution_count": 105,
   "metadata": {},
   "outputs": [
    {
     "data": {
      "text/plain": [
       "array(['Afghanistan', 'Albania', 'Angola', 'Antigua and Barbuda',\n",
       "       'Argentina', 'Australia', 'Bahamas', 'Barbados', 'Belgium',\n",
       "       'Bosnia and Herzegovina', 'China', 'Colombia', 'Croatia',\n",
       "       'Czech Republic', 'Denmark', 'Fiji', 'France', 'Germany',\n",
       "       'Hungary', 'Indonesia', 'Ireland', 'Israel', 'Liechtenstein',\n",
       "       'Malaysia', 'Mauritius', 'Mexico', 'Nepal', 'Niger', 'Palestine',\n",
       "       'Paraguay', 'Philippines', 'Serbia', 'Slovakia', 'Sri Lanka',\n",
       "       'Switzerland', 'Syria', 'Thailand', 'Togo', 'Ukraine',\n",
       "       'United States of America', 'Venezuela'], dtype=object)"
      ]
     },
     "execution_count": 105,
     "metadata": {},
     "output_type": "execute_result"
    }
   ],
   "source": [
    "relevant_rows.COUNTRY.unique()"
   ]
  },
  {
   "cell_type": "code",
   "execution_count": null,
   "metadata": {
    "collapsed": true
   },
   "outputs": [],
   "source": []
  }
 ],
 "metadata": {
  "kernelspec": {
   "display_name": "Python 3",
   "language": "python",
   "name": "python3"
  },
  "language_info": {
   "codemirror_mode": {
    "name": "ipython",
    "version": 3
   },
   "file_extension": ".py",
   "mimetype": "text/x-python",
   "name": "python",
   "nbconvert_exporter": "python",
   "pygments_lexer": "ipython3",
   "version": "3.6.8"
  }
 },
 "nbformat": 4,
 "nbformat_minor": 2
}
